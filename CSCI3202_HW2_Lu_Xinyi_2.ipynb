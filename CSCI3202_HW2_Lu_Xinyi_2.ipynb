{
 "cells": [
  {
   "cell_type": "markdown",
   "metadata": {},
   "source": [
    "---\n",
    "\n",
    "# CSCI 3202, Fall 2022\n",
    "# Homework 2: MDP & Reinforcement Learning\n",
    "# Due: Friday September 9, 2022 at 6:00 PM\n",
    "\n",
    "<br> \n",
    "\n",
    "### Your name: Xinyi Lu\n",
    "\n",
    "<br> "
   ]
  },
  {
   "cell_type": "code",
   "execution_count": 1,
   "metadata": {},
   "outputs": [],
   "source": [
    "import pandas as pd\n",
    "import numpy as np\n",
    "import scipy.stats as stats\n",
    "import matplotlib.pyplot as plt\n",
    "from collections import defaultdict\n",
    "\n",
    "# added packages\n",
    "import heapq\n",
    "from matplotlib import colors"
   ]
  },
  {
   "cell_type": "markdown",
   "metadata": {},
   "source": [
    "\n",
    "\n",
    "---\n",
    "\n",
    "Consider a **cube** state space defined by $0 \\le x, y, z \\le L$. Suppose you are piloting/programming a drone to learn how to land on a platform at the center of the $z=0$ surface (the bottom). Some assumptions:\n",
    "* In this discrete world, if the drone is at $(x,y,z)$ it means that the box is centered at $(x,y,z)$. There are boxes (states) centered at $(x,y,z)$ for all $0 \\le x,y,z \\le L$. Each state is a 1 unit cube. \n",
    "* In this world, $L$ is always an even value.\n",
    "* All of the states with $z=0$ are terminal states.\n",
    "* The state at the center of the bottom of the cubic state space is the landing pad. For example, when $L=4$, the landing pad is at $(x,y,z) = (2,2,0)$.\n",
    "* All terminal states ***except*** the landing pad have a reward of -1. The landing pad has a reward of +1.\n",
    "* All non-terminal states have a living reward of -0.01.\n",
    "* The drone takes up exactly 1 cubic unit, and begins in a random non-terminal state.\n",
    "* The available actions in non-terminal states include moving exactly 1 unit Up (+z), Down (-z), North (+y), South (-y), East (+x) or West (-x). In a terminal state, the training episode should end."
   ]
  },
  {
   "cell_type": "markdown",
   "metadata": {},
   "source": [
    "#### Part A\n",
    "How many states would be in the discrete state space if $L=2$? Explain your reasoning."
   ]
  },
  {
   "cell_type": "markdown",
   "metadata": {},
   "source": [
    "*Your answer here:* 27. \n",
    "For each direction, there are 3 possible values: 0, 1, 2. \n",
    "Since there are 3 directions, we will get 3 x 3 x 3 = 27 for the number of states. "
   ]
  },
  {
   "cell_type": "markdown",
   "metadata": {},
   "source": [
    "#### Part B\n",
    "Write a class `MDPLanding` to represent the Markov decision process for this drone. Include methods for:\n",
    "1. `actions(state)`, which should return a list of all actions available from the given state\n",
    "2. `reward(state)`, which should return the reward for the given state\n",
    "3. `result(state, action)`, which should return the resulting state of doing the given action in the given state\n",
    "\n",
    "and attributes for:\n",
    "1. `states`, a list of all the states in the state space, where each state is represented as an $(x,y,z)$ tuple\n",
    "2. `terminal_states`, a dictionary where keys are the terminal state tuples and the values are the rewards associated with those terminal states\n",
    "3. `default_reward`, a scalar for the reward associated with non-terminal states\n",
    "4. `all_actions`, a list of all possible actions (Up, Down, North, South, East, West)\n",
    "5. `discount`, the discount factor (use $\\gamma = 0.999$ for this entire problem)\n",
    "\n",
    "How you feed arguments/information into the class constructor is up to you.\n",
    "\n",
    "Note that actions are *deterministic* here.  The drone does not need to include transition probabilities for outcomes of particular actions. What the drone does need to learn, however, is where the landing pad is, and how to get there from any initial state.\n",
    "\n",
    "Before moving on to Part C, we recommend that you test that your MDPLanding code is set up correctly. Write unit tests that display the actions for a given state, rewards, results, etc. This will help you identify errors in your implementation and save you a lot of debugging time later."
   ]
  },
  {
   "cell_type": "code",
   "execution_count": 2,
   "metadata": {},
   "outputs": [],
   "source": [
    "# Solution:\n",
    "class MDPLanding:\n",
    "    def __init__(self, L):\n",
    "        self.states = []\n",
    "        self.terminal_states = {}\n",
    "        self.default_reward = -0.01\n",
    "        self.discount = 0.999\n",
    "        for x in range(L+1):\n",
    "            for y in range(L+1):\n",
    "                if (x == L/2) and (y == L/2):\n",
    "                    self.terminal_states[(x, y, 0)] = 1\n",
    "                else:\n",
    "                    self.terminal_states[(x, y, 0)] = -1\n",
    "                for z in range(L+1):\n",
    "                    new = (x, y, z)\n",
    "                    self.states.append(new)\n",
    "        self.all_actions = [(1, 0, 0), (-1, 0, 0), (0, 1, 0), (0, -1, 0), (0, 0, 1), (0, 0, -1)]\n",
    "    \n",
    "    def actions(self, state):\n",
    "        # return a list of all actions available from the given state\n",
    "        current_x = state[0]\n",
    "        current_y = state[1]\n",
    "        current_z = state[2]\n",
    "        if current_z == 0:\n",
    "            return []\n",
    "        new_actions = self.all_actions.copy()\n",
    "        L = max([x for (x, y, z) in self.states])\n",
    "        if current_x == L: #if current x is the maximum, remove (1, 0, 0) action\n",
    "            new_actions.remove((1, 0, 0))\n",
    "        elif current_x == 0:\n",
    "            new_actions.remove((-1, 0, 0))\n",
    "        if current_y == L: #if current y is the maximum, remove (0, 1, 0) action\n",
    "            new_actions.remove((0, 1, 0))\n",
    "        elif current_y == 0:\n",
    "            new_actions.remove((0, -1, 0))\n",
    "        if current_z == L:\n",
    "            new_actions.remove((0, 0, 1))\n",
    "        elif current_z == 0:\n",
    "            new_actions.remove((0, 0, -1))\n",
    "        return new_actions\n",
    "    \n",
    "    def reward(self, state):\n",
    "        # return the reward for the given state\n",
    "        if state in self.terminal_states:\n",
    "            return self.terminal_states[state]\n",
    "        return self.default_reward\n",
    "    \n",
    "    def result(self, state, action):\n",
    "        # return the resulting state of doing the given action in the given state\n",
    "        # check if state is terminal state\n",
    "        if (state in self.terminal_states) or (action is None) :\n",
    "            return state\n",
    "        new_x = state[0] + action[0]\n",
    "        new_y = state[1] + action[1]\n",
    "        new_z = state[2] + action[2]\n",
    "        return (new_x, new_y, new_z)"
   ]
  },
  {
   "cell_type": "code",
   "execution_count": 3,
   "metadata": {},
   "outputs": [
    {
     "data": {
      "text/plain": [
       "(0, 1, 2)"
      ]
     },
     "execution_count": 3,
     "metadata": {},
     "output_type": "execute_result"
    }
   ],
   "source": [
    "a = MDPLanding(2)\n",
    "a.result((0, 1, 1), (0, 0, 1))"
   ]
  },
  {
   "cell_type": "code",
   "execution_count": 4,
   "metadata": {},
   "outputs": [
    {
     "name": "stdout",
     "output_type": "stream",
     "text": [
      "(0, 0, 0)\n",
      "(0, 1, 0)\n",
      "(0, 2, 0)\n",
      "(1, 0, 0)\n",
      "(1, 1, 0)\n",
      "(1, 2, 0)\n",
      "(2, 0, 0)\n",
      "(2, 1, 0)\n",
      "(2, 2, 0)\n"
     ]
    }
   ],
   "source": [
    "for state in a.terminal_states:\n",
    "    print(state)"
   ]
  },
  {
   "cell_type": "markdown",
   "metadata": {
    "collapsed": true
   },
   "source": [
    "#### Part C\n",
    "Write a function to implement **policy iteration** for this drone landing MDP. Create an MDP environment to represent the $L=4$ case.\n",
    "\n",
    "Use your function to find an optimal policy for your new MDP environment. Check (by printing to screen) that the policy for the following states are what you expect, and **comment on the results**:\n",
    "1. $(2,2,1)$\n",
    "1. $(0,2,1)$\n",
    "1. $(2,0,1)$\n",
    "\n",
    "The policy for each of these states is the action that the agent should take in that state. "
   ]
  },
  {
   "cell_type": "code",
   "execution_count": 5,
   "metadata": {},
   "outputs": [],
   "source": [
    "import random\n",
    "def expected_utility(a, s, U, mdp):\n",
    "    #the expected utility of doing a in state s, according to the MDP and U\n",
    "    s2 = mdp.result(s, a)\n",
    "    return U[s2]\n",
    "\n",
    "def policy_evaluation(policy, utility, mdp):\n",
    "    # do a handful of value iteration updates of the input utility, under the given policy\n",
    "    for s1 in policy:\n",
    "        action = policy[s1]\n",
    "        s2 = mdp.result(s1, action)\n",
    "        r = mdp.reward(s2)\n",
    "        utility[s2] = r + mdp.discount*utility[s1]\n",
    "    return utility# updated utility\n",
    "\n",
    "def policy_iteration(mdp):\n",
    "    U = {s: 0 for s in mdp.states} # initialize utility for all states\n",
    "#     pi = {s: random.choice(mdp.actions(s)) for s in mdp.states if mdp.actions(s) != []} # initialize a policy for each state, being a random action\n",
    "    pi = {s: random.choice(mdp.actions(s)) if mdp.actions(s) != [] else None for s in mdp.states}\n",
    "    # iterate:\n",
    "    while True:\n",
    "        U = policy_evaluation(pi, U, mdp)\n",
    "        unchanged = True\n",
    "        for s in mdp.states:\n",
    "            if (mdp.actions(s) == []):\n",
    "                continue\n",
    "            a = max(mdp.actions(s), key=lambda a: expected_utility(a, s, U, mdp)) # among the possible actions, which yields the maximum expected utility?\n",
    "            if a != pi[s]: #if the best action choice is not currently the policy for s, update it\n",
    "                pi[s] = a\n",
    "                unchanged = False #if non of the actions have changed for any state, policy does not change\n",
    "        # if no policy values are changed, break!\n",
    "        if unchanged:\n",
    "            return pi"
   ]
  },
  {
   "cell_type": "code",
   "execution_count": 6,
   "metadata": {},
   "outputs": [],
   "source": [
    "b = MDPLanding(4)\n",
    "optimal = policy_iteration(b)"
   ]
  },
  {
   "cell_type": "code",
   "execution_count": 7,
   "metadata": {},
   "outputs": [
    {
     "name": "stdout",
     "output_type": "stream",
     "text": [
      "(0, 0, -1)\n",
      "(1, 0, 0)\n",
      "(1, 0, 0)\n"
     ]
    }
   ],
   "source": [
    "print(optimal[(2, 2, 1)])\n",
    "print(optimal[(0, 2, 1)])\n",
    "print(optimal[(2, 0, 1)])"
   ]
  },
  {
   "cell_type": "markdown",
   "metadata": {},
   "source": [
    "The policy for \n",
    "(2, 2, 1): (0, 0, -1) - This is reasonable as moving Down by 1 unit results in the state (2, 2, 0), which is the landing pad.\n",
    "\n",
    "(0, 2, 1): (1, 0, 0) - This is reasonable as moving East by 1 unit results in the state (1, 2, 1), which brings it closer to the landing pad. \n",
    "\n",
    "(2, 0, 1): (1, 0, 0) - This is not reasonable as moving East by 1 unit results in the state (3, 0, 1), which is not optimal as the landing pad has an x value of 2. So, it would be more optimal to move North or Down. "
   ]
  },
  {
   "cell_type": "markdown",
   "metadata": {},
   "source": [
    "#### Part D\n",
    "Provide an example of a non-deterministic transition that could be included in your code in Part C. Describe the function. How would you modify your code to handle a non-deterministic transition function?"
   ]
  },
  {
   "cell_type": "markdown",
   "metadata": {},
   "source": [
    "It can be included in the expected_utility function. The new expected_utility function will return the sum of [p*U[s1] for (p, s1) in mdp.T(s, a)]. We will need to add another method in the MDPLanding class, T(state, action) that will return a list of tuples containing probability and transition states. "
   ]
  },
  {
   "cell_type": "markdown",
   "metadata": {},
   "source": [
    "#### Part E\n",
    "Describe the main differences between **policy iteration** and **value iteration**? How would your code change in Part C to convert it to **value iteration**?"
   ]
  },
  {
   "cell_type": "markdown",
   "metadata": {},
   "source": [
    "Value iteration keeps track of utilities and terminates when updates < threshold. Policy iteration also stores policies and terminates when no policy changes. \n",
    "\n",
    "Replace policy with the value function. Instead of having a policy evaluation and update, in the value iteration, we take a maximum over the utility function for all possible actions. "
   ]
  },
  {
   "cell_type": "markdown",
   "metadata": {},
   "source": [
    "#### Part F\n",
    "\n",
    "Code up a **Q-learning** agent/algorithm to learn how to land the drone. You can do this however you like, as long as you use the MDP class structure defined above.  \n",
    "\n",
    "Your code should include some kind of a wrapper to run many trials to train the agent and learn the Q values.  You also do not need to have a separate function for the actual \"agent\"; your code can just be a \"for\" loop within which you are refining your estimate of the Q values.\n",
    "\n",
    "From each training trial, save the cumulative discounted reward (utility) over the course of that episode. That is, add up all of $\\gamma^t R(s_t)$ where the drone is in state $s_t$ during time step $t$, for the entire sequence. We refer to this as \"cumulative reward\" because we usually refer to \"utility\" as the utility *under an optimal policy*.\n",
    "\n",
    "Some guidelines:\n",
    "* The drone should initialize in a random non-terminal state for each new training episode.\n",
    "* The training episodes should be limited to 50 time steps, even if the drone has not yet landed. If the drone lands (in a terminal state), the training episode is over.\n",
    "* You may use whatever learning rate $\\alpha$ you decide is appropriate, and gives good results.\n",
    "* There are many forms of Q-learning. You can use whatever you would like, subject to the reliability targets below.\n",
    "* Your code should return:\n",
    "  * The learned Q values associated with each state-action pair.\n",
    "  * The cumulative reward for each training trial. \n",
    "  * Anything else that might be useful in the ensuing analysis."
   ]
  },
  {
   "cell_type": "code",
   "execution_count": 8,
   "metadata": {},
   "outputs": [],
   "source": [
    "# Solution:\n",
    "# Q-learning: estimate the value of doing action a in state s\n",
    "# Q(s, a) = expected value of doing action a in state s\n",
    "# return learned Q values associated with each state-action pair\n",
    "# cumulative reward for each training trial\n",
    "from itertools import combinations\n",
    "def Greedy(mdp, epsilon, state, q, rewards):\n",
    "    prob = random.random()\n",
    "    if prob < epsilon:\n",
    "        return random.choice(mdp.actions(state))\n",
    "    return max(mdp.actions(state), key=lambda a: q[(state, a)])\n",
    "\n",
    "def QLearning(mdp, num_episodes, learning_rate, epsilon):\n",
    "    states = mdp.states\n",
    "    states_actions = []\n",
    "    for s in states:\n",
    "        actions = mdp.actions(s)\n",
    "        if actions != []:\n",
    "            for a in actions:\n",
    "                states_actions.append((s, a))\n",
    "        else:\n",
    "            states_actions.append((s, ()))\n",
    "                \n",
    "    #init policy, Q, rewards            \n",
    "    q = dict(zip(states_actions, [0]*len(states_actions)))\n",
    "    rewards = {s: 0 for s in mdp.states}\n",
    "     \n",
    "    all_rewards = []\n",
    "    for i in range(num_episodes):\n",
    "        s1 = random.choice(states)\n",
    "        cum_rewards = 0\n",
    "        \n",
    "        for j in range(50):\n",
    "            if s1 in mdp.terminal_states:\n",
    "                rewards[s1] += mdp.terminal_states[s1]\n",
    "                cum_rewards += (mdp.discount**j)*mdp.terminal_states[s1]\n",
    "\n",
    "                break\n",
    "            else:\n",
    "                a1 = Greedy(mdp, epsilon, s1, q, rewards)\n",
    "                rewards[s1] += mdp.reward(s1)\n",
    "                cum_rewards += (mdp.discount**j)*mdp.reward(s1)\n",
    "                s2 = mdp.result(s1, a1)\n",
    "                if mdp.actions(s2) == []:\n",
    "                    a2 = ()\n",
    "                else:\n",
    "                    a2 = max(mdp.actions(s2), key = lambda a: q[(s2, a)] - q[(s1, a1)])\n",
    "                Q_new = q[(s1, a1)] + learning_rate*(mdp.reward(s1) + mdp.discount*(q[(s2, a2)] - q[(s1, a1)]))\n",
    "                q[(s1, a1)] = Q_new\n",
    "        all_rewards.append(cum_rewards)\n",
    "    return q, all_rewards  "
   ]
  },
  {
   "cell_type": "markdown",
   "metadata": {},
   "source": [
    "#### Part G\n",
    "\n",
    "Initialize the $L=10$ environment (so that the landing pad is at $(5,5,0)$). Run some number of training trials to train the drone.\n",
    "\n",
    "**How do I know if my drone is learned enough?**  If you take the mean cumulative reward across the last 5000 training trials, it should be around 0.80. This means at least about 10,000 (but probably more) training episodes will be necessary. It will take a few seconds on your computer, so start small to test your code.\n",
    "\n",
    "**Then:** Compute block means of cumulative reward from all of your training trials. Use blocks of 500 training trials. This means you need to create some kind of array-like structure such that its first element is the mean of the first 500 trials' cumulative rewards; its second element is the mean of the 501-1000th trials' cumulative rewards; and so on. Make a plot of the block mean rewards as the training progresses. It should increase from about -0.5 initially to somewhere around +0.8.\n",
    "\n",
    "**And:** Print to the screen the mean of the last 5000 trials' cumulative rewards, to verify that it is indeed about 0.80."
   ]
  },
  {
   "cell_type": "code",
   "execution_count": 17,
   "metadata": {},
   "outputs": [],
   "source": [
    "# Solution:\n",
    "new = MDPLanding(10)\n",
    "new_q = QLearning(new, 20000, 0.0001, 0.7)"
   ]
  },
  {
   "cell_type": "code",
   "execution_count": 18,
   "metadata": {},
   "outputs": [
    {
     "data": {
      "text/plain": [
       "-0.53497941979129"
      ]
     },
     "execution_count": 18,
     "metadata": {},
     "output_type": "execute_result"
    }
   ],
   "source": [
    "np.mean(new_q[1][-5000:])"
   ]
  },
  {
   "cell_type": "code",
   "execution_count": 19,
   "metadata": {},
   "outputs": [],
   "source": [
    "ls = []\n",
    "rewards = new_q[1]\n",
    "for i in range(0, 20000, 500):\n",
    "    block_avg = np.mean(rewards[i:i+500])\n",
    "    ls.append(block_avg)    "
   ]
  },
  {
   "cell_type": "code",
   "execution_count": 20,
   "metadata": {},
   "outputs": [
    {
     "data": {
      "text/plain": [
       "[<matplotlib.lines.Line2D at 0x1f57d8c0730>]"
      ]
     },
     "execution_count": 20,
     "metadata": {},
     "output_type": "execute_result"
    },
    {
     "data": {
      "image/png": "[encoded data removed]",
      "text/plain": [
       "<Figure size 432x288 with 1 Axes>"
      ]
     },
     "metadata": {
      "needs_background": "light"
     },
     "output_type": "display_data"
    }
   ],
   "source": [
    "x_values = np.arange(0, 20000, 500)\n",
    "plt.plot(x_values, ls)"
   ]
  },
  {
   "cell_type": "markdown",
   "metadata": {},
   "source": [
    "#### Part H\n",
    "\n",
    "**Question 1:** Why does the cumulative reward start off around -0.5 at the beginning of the training?\n",
    "\n",
    "**Question 2:** Why will it be difficult for us to train the drone to reliably obtain rewards much greater than about 0.8?"
   ]
  },
  {
   "cell_type": "markdown",
   "metadata": {},
   "source": [
    "Q1) This is because non-terminal states have a reward of -0.01 and there are 50 steps in a single training episode. Assuming that at the beginning of the training, the drone does not reach terminal state, the reward is approximately -0.01 * 50. \n",
    "\n",
    "<br>\n",
    "\n",
    "Q2) To have rewards > 0.8, \n",
    "assuming that the drone lands on the training pad on the 50th step, \n",
    "previous rewards + 1 > 0.8\n",
    "previous rewards > -0.2\n",
    "-0.01n > -0.2\n",
    "n < 20. \n",
    "This means that the drone should reach the training pad in 20 steps maximum. \n",
    "This is difficult for an L = 10 environment as there are 11 x 11 x 11 = 1331 states."
   ]
  },
  {
   "cell_type": "code",
   "execution_count": null,
   "metadata": {},
   "outputs": [],
   "source": []
  }
 ],
 "metadata": {
  "kernelspec": {
   "display_name": "Python 3",
   "language": "python",
   "name": "python3"
  },
  "language_info": {
   "codemirror_mode": {
    "name": "ipython",
    "version": 3
   },
   "file_extension": ".py",
   "mimetype": "text/x-python",
   "name": "python",
   "nbconvert_exporter": "python",
   "pygments_lexer": "ipython3",
   "version": "3.8.3"
  },
  "vscode": {
   "interpreter": {
    "hash": "0ef7b7e23f7454f6b455fdce397c82e23b7f66ae406c1ae198116c95ae8d7fcf"
   }
  }
 },
 "nbformat": 4,
 "nbformat_minor": 2
}
