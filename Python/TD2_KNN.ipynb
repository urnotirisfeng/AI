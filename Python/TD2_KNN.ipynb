{
  "cells": [
    {
      "cell_type": "code",
      "execution_count": 3,
      "id": "6b3ce168",
      "metadata": {
        "id": "6b3ce168"
      },
      "outputs": [],
      "source": [
        "import numpy as np #导入NumPy库，简称np\n",
        "# 用于科学计算，主要提供多维数组\n",
        "\n",
        "import pandas as pd #导入pandas库，简称pd\n",
        "# 主要用于数据处理，提供DataFrame等表格数据结构，Excel，CSV等数据\n",
        "\n",
        "import matplotlib.pyplot as plt #导入matplotlib.pyplot库，简称plt\n",
        "# 是最基础的数据可视化库，提供了类似Matlab的绘图接口，可以绘制折线图，散点图等\n"
      ]
    },
    {
      "cell_type": "markdown",
      "id": "4bb0c5ca",
      "metadata": {
        "id": "4bb0c5ca"
      },
      "source": [
        "# Introduction : Présentation de l'exercice\n",
        "## 学习如何加载，可视化，归一化数据，并且手动实现KNN算法\n",
        "Dans cet exercice, vous allez explorer les données IRIS, un dataset classique utilisé en apprentissage automatique.  Vous apprendrez à charger, visualiser, normaliser les données et à implémenter votre propre algorithme des K plus proches voisins (KNN) sous forme de classe. Vous serez également guidés pour évaluer la performance de votre modèle et interpréter les résultats.\n",
        "Les objectifs principaux sont :\n",
        "1. Comprendre les étapes de prétraitement des données.\n",
        "2. Apprendre à visualiser les données en utilisant Matplotlib.\n",
        "3. Implémenter un modèle KNN simple sans utiliser de bibliothèques externes.\n",
        "4. Évaluer la performance de votre modèle en utilisant des métriques comme la précision."
      ]
    },
    {
      "cell_type": "markdown",
      "id": "745d9365",
      "metadata": {
        "id": "745d9365"
      },
      "source": [
        "# Étape 1 : Chargement du dataset IRIS\n",
        "1. Importez le module `load_iris` depuis `sklearn.datasets`.\n",
        "2. Chargez le dataset IRIS en appelant la fonction `load_iris()` et stockez-le dans une variable (par exemple, `iris`).\n",
        "3. Extraire les données des caractéristiques (features) sous forme de DataFrame pandas et les stocker dans une variable `X`. Les colonnes du DataFrame doivent correspondre aux noms des caractéristiques disponibles dans `iris['feature_names']`.\n",
        "4. Extraire les cibles (targets) sous forme de Série pandas et les stocker dans une variable `y`. Assurez-vous que la Série a un nom explicite, par exemple, \"target\".\n",
        "5. Affichez un aperçu des données de `X` et `y` en utilisant les méthodes `.head()`."
      ]
    },
    {
      "cell_type": "code",
      "source": [
        "# Pandans DataFrame 标准封装是\n",
        "# import pandas as pd\n",
        "# df = pd.DataFrame(data, columns=column_names)\n",
        "# data 必须是二维数组（如 NumPy 数组、列表列表、字典等）。\n",
        "# columns 必须是列名列表，长度与 data 列数相同。"
      ],
      "metadata": {
        "id": "g3tSB5eGmybf"
      },
      "id": "g3tSB5eGmybf",
      "execution_count": 4,
      "outputs": []
    },
    {
      "cell_type": "code",
      "execution_count": 9,
      "id": "fb24cab7",
      "metadata": {
        "colab": {
          "base_uri": "https://localhost:8080/"
        },
        "id": "fb24cab7",
        "outputId": "206a958f-d4bf-4951-837a-a2cb8b608f7d"
      },
      "outputs": [
        {
          "output_type": "stream",
          "name": "stdout",
          "text": [
            "Head Features:\n",
            "   sepal length (cm)  sepal width (cm)  petal length (cm)  petal width (cm)\n",
            "0                5.1               3.5                1.4               0.2\n",
            "1                4.9               3.0                1.4               0.2\n",
            "2                4.7               3.2                1.3               0.2\n",
            "3                4.6               3.1                1.5               0.2\n",
            "4                5.0               3.6                1.4               0.2\n",
            "Target:\n",
            "0    0\n",
            "1    0\n",
            "2    0\n",
            "3    0\n",
            "4    0\n",
            "Name: target, dtype: int64\n"
          ]
        }
      ],
      "source": [
        "# skearn.datasets是Scikit-learn库中的一个数据集模块，用于加载内部和外部的数据集\n",
        "from sklearn.datasets import load_iris\n",
        "# iris是一个库里面已经有的datasets\n",
        "iris = load_iris() #加载iris库，并赋值给iris，以方便后续调用\n",
        "\n",
        "# 使用Pandas进行封装，变成一张表\n",
        "# features_name 就是指调用是iris每个features的名字\n",
        "X = pd.DataFrame(iris.data, columns=iris.feature_names)\n",
        "\n",
        "# Series 是pandas中的一种结构，每个数据都有一个index，支持不同数据类型\n",
        "# 就是把原数据转换成，0 - 数据1， 1- 数据2的形式\n",
        "y = pd.Series(iris.target,name = \"target\")\n",
        "\n",
        "print('Head Features:')\n",
        "print(X.head())\n",
        "\n",
        "print('Target:')\n",
        "print(y.head())"
      ]
    },
    {
      "cell_type": "markdown",
      "id": "00acd42e",
      "metadata": {
        "id": "00acd42e"
      },
      "source": [
        "# Étape 2 : Préparation des données\n",
        "## 归一化数据处理，使得数据归化到[0,1]之间\n",
        "Instructions pour les étudiants :\n",
        "1. Normalisez les données des caractéristiques pour que leurs valeurs soient comprises entre 0 et 1.\n",
        "2. Suivez les étapes suivantes pour normaliser :\n",
        "    - Calculez la valeur minimale de chaque caractéristique en utilisant `X.min()`.\n",
        "    - Calculez la valeur maximale de chaque caractéristique en utilisant `X.max()`.\n",
        "    - Appliquez la formule de normalisation pour chaque caractéristique :\n",
        "    normalized_value = (value - min) / (max - min)\n",
        "    - Remplacez les valeurs de `X` par leurs valeurs normalisées.\n",
        "3. Une fois la normalisation terminée, affichez un aperçu des données normalisées de `X` en utilisant `.head()`."
      ]
    },
    {
      "cell_type": "code",
      "execution_count": 19,
      "id": "66ccb61e",
      "metadata": {
        "colab": {
          "base_uri": "https://localhost:8080/"
        },
        "id": "66ccb61e",
        "outputId": "525f4217-58ab-407f-d671-b840775f94b3"
      },
      "outputs": [
        {
          "output_type": "stream",
          "name": "stdout",
          "text": [
            "After normalisation:\n",
            "   sepal length (cm)  sepal width (cm)  petal length (cm)  petal width (cm)\n",
            "0           0.222222          0.625000           0.067797          0.041667\n",
            "1           0.166667          0.416667           0.067797          0.041667\n",
            "2           0.111111          0.500000           0.050847          0.041667\n",
            "3           0.083333          0.458333           0.084746          0.041667\n",
            "4           0.194444          0.666667           0.067797          0.041667\n"
          ]
        }
      ],
      "source": [
        "# 归一化步骤：\n",
        "# 计算每列最小值和最大值\n",
        "X_min = X.min()\n",
        "X_max = X.max()\n",
        "# 归一化公式：(X - X_min) / (X_max - X_min)\n",
        "X = (X -X_min) / (X_max - X_min)\n",
        "\n",
        "print('After normalisation:')\n",
        "print(X.head())"
      ]
    },
    {
      "cell_type": "markdown",
      "id": "9da6563e",
      "metadata": {
        "id": "9da6563e"
      },
      "source": [
        "Utiliser de la fonction"
      ]
    },
    {
      "cell_type": "code",
      "execution_count": null,
      "id": "b27de43a",
      "metadata": {
        "id": "b27de43a"
      },
      "outputs": [],
      "source": []
    },
    {
      "cell_type": "markdown",
      "id": "80b73eb9",
      "metadata": {
        "id": "80b73eb9"
      },
      "source": [
        "# Étape 3 : Visualisation des données avec Matplotlib\n",
        "Vous allez utiliser Matplotlib pour visualiser la distribution des données. Suivez les étapes ci-dessous :\n",
        "1. Créez une nouvelle fonction appelée `plot_scatter` qui accepte les paramètres suivants :\n",
        "    - X : les données d'entrée (features).\n",
        "    - y : les cibles (targets).\n",
        "    - feature_x : l'indice de la première caractéristique à tracer.\n",
        "    - feature_y : l'indice de la seconde caractéristique à tracer.\n",
        "    - feature_names : la liste des noms des caractéristiques.\n",
        "    - target_names : la liste des noms des classes cibles.\n",
        "    - colors : une liste de couleurs correspondant à chaque classe cible.\n",
        "    - title : le titre du graphique.\n",
        "2. Utilisez plt.figure pour définir la taille du graphique.\n",
        "3. Parcourez chaque classe cible (0, 1, 2) et :\n",
        "    - Sélectionnez les lignes de X où y correspond à la classe actuelle.\n",
        "    - Tracez un nuage de points (scatter) pour les deux caractéristiques sélectionnées, en utilisant une couleur spécifique pour chaque classe.\n",
        "4. Ajoutez des étiquettes pour les axes x et y en utilisant plt.xlabel et plt.ylabel.\n",
        "5. Ajoutez un titre avec plt.title et une légende avec plt.legend.\n",
        "6. Affichez le graphique en utilisant plt.show."
      ]
    },
    {
      "cell_type": "code",
      "execution_count": null,
      "id": "b2db1bf7",
      "metadata": {
        "id": "b2db1bf7"
      },
      "outputs": [],
      "source": []
    },
    {
      "cell_type": "markdown",
      "id": "4c950823",
      "metadata": {
        "id": "4c950823"
      },
      "source": [
        "Créez la liste des couleurs, des noms de caractéristiques et des noms des classes"
      ]
    },
    {
      "cell_type": "code",
      "execution_count": null,
      "id": "3568820a",
      "metadata": {
        "id": "3568820a"
      },
      "outputs": [],
      "source": []
    },
    {
      "cell_type": "markdown",
      "id": "573ff503",
      "metadata": {
        "id": "573ff503"
      },
      "source": [
        "Visualisation de \"sepal length (cm)\" vs \"sepal width (cm)\""
      ]
    },
    {
      "cell_type": "code",
      "execution_count": null,
      "id": "9849c984",
      "metadata": {
        "id": "9849c984"
      },
      "outputs": [],
      "source": []
    },
    {
      "cell_type": "markdown",
      "id": "86586c35",
      "metadata": {
        "id": "86586c35"
      },
      "source": [
        "Visualisation de \"petal length (cm)\" vs \"petal width (cm)\""
      ]
    },
    {
      "cell_type": "code",
      "execution_count": null,
      "id": "6241d431",
      "metadata": {
        "id": "6241d431"
      },
      "outputs": [],
      "source": []
    },
    {
      "cell_type": "markdown",
      "id": "b095e8ca",
      "metadata": {
        "id": "b095e8ca"
      },
      "source": [
        "Visualisation croisée de \"sepal length (cm)\" vs \"petal length (cm)\""
      ]
    },
    {
      "cell_type": "code",
      "execution_count": null,
      "id": "ba0aa846",
      "metadata": {
        "id": "ba0aa846"
      },
      "outputs": [],
      "source": []
    },
    {
      "cell_type": "markdown",
      "id": "fc1d3e51",
      "metadata": {
        "id": "fc1d3e51"
      },
      "source": [
        "Visualisation croisée de \"sepal width (cm)\" vs \"petal width (cm)\""
      ]
    },
    {
      "cell_type": "code",
      "execution_count": null,
      "id": "28a828c1",
      "metadata": {
        "id": "28a828c1"
      },
      "outputs": [],
      "source": []
    },
    {
      "cell_type": "markdown",
      "id": "3a3e33c6",
      "metadata": {
        "id": "3a3e33c6"
      },
      "source": [
        "# Étape 4 : Visualisation des histogrammes par caractéristique et par classe\n",
        "Vous allez implémenter une fonction appelée `plot_histograms_by_target` qui affiche un histogramme de la distribution des valeurs pour chaque caractéristique, groupées par classe cible. Suivez les étapes ci-dessous :\n",
        "1. Créez une fonction nommée plot_histograms_by_target acceptant les arguments suivants :\n",
        "    - X : un DataFrame contenant les caractéristiques.\n",
        "    - y : une Série ou un tableau contenant les cibles.\n",
        "    - feature_names : une liste des noms des caractéristiques.\n",
        "    - target_names : une liste des noms des classes cibles.\n",
        "    - colors : une liste des couleurs associées à chaque classe.\n",
        "2. Dans la fonction, pour chaque caractéristique (parcourue à l'aide de feature_names) :\n",
        "    - Créez une figure avec plt.figure.\n",
        "    - Parcourez chaque classe cible et :\n",
        "      - Sélectionnez les lignes de X correspondant à cette classe.\n",
        "      - Tracez un histogramme pour la caractéristique courante avec plt.hist, en utilisant une couleur spécifique.\n",
        "    - Ajoutez des étiquettes pour les axes, un titre pour l'histogramme, et une légende pour indiquer les classes.\n",
        "3. Appelez cette fonction avec les données fournies pour générer les histogrammes."
      ]
    },
    {
      "cell_type": "code",
      "execution_count": null,
      "id": "e7638903",
      "metadata": {
        "id": "e7638903"
      },
      "outputs": [],
      "source": []
    },
    {
      "cell_type": "markdown",
      "id": "f8adea2e",
      "metadata": {
        "id": "f8adea2e"
      },
      "source": [
        "Apeller de la fonction pour tracer les histogrammes"
      ]
    },
    {
      "cell_type": "code",
      "execution_count": null,
      "id": "299cb92f",
      "metadata": {
        "id": "299cb92f"
      },
      "outputs": [],
      "source": []
    },
    {
      "cell_type": "markdown",
      "id": "6571be78",
      "metadata": {
        "id": "6571be78"
      },
      "source": [
        "# Étape 5 : Implémentation de l'algorithme des KNN sous forme de classe\n",
        "Implémentez une classe `KNNClassifier` qui inclut les méthodes suivantes :\n",
        "- __init__(self, k) : pour initialiser le nombre de voisins k.\n",
        "- fit(self, X_train, y_train) : pour stocker les données d'entraînement.\n",
        "- predict(self, X_test) : pour prédire les classes des données test en suivant ces étapes :\n",
        "   1. Pour chaque point de test, calculer la distance à chaque point d'entraînement.\n",
        "      Cette distance doit être calculée à l'aide d'une méthode privée comme suit :\n",
        "      distance = sqrt((x1 - x2)^2 + (y1 - y2)^2 + ...).\n",
        "   2. Identifier les k voisins les plus proches en triant les distances.\n",
        "   3. Déterminer la classe majoritaire parmi les k voisins et l'assigner au point de test."
      ]
    },
    {
      "cell_type": "code",
      "execution_count": null,
      "id": "fae509c1",
      "metadata": {
        "id": "fae509c1"
      },
      "outputs": [],
      "source": []
    },
    {
      "cell_type": "markdown",
      "id": "8b08dc34",
      "metadata": {
        "id": "8b08dc34"
      },
      "source": [
        "# Étape 6 : Utilisation du modèle\n",
        "1. Initialiser du classificateur avec k=3\n",
        "2. En utilisant la fonction `train_test_split` qui se trouve dans la bibliothèque `sklearn.model_selection`, séparer le dataset X & y en un dataset d'entrainement `X_train` & `y_train` et un dataset de test `X_test` & `y_test`.\n",
        "3. Entrainer le modèle avec les données d'entrainement\n",
        "4. Effectuer les prédictions sur les données de test.\n",
        "5. Afficher les prédictions réalisées avec la vérité terrain"
      ]
    },
    {
      "cell_type": "code",
      "execution_count": null,
      "id": "959290a0",
      "metadata": {
        "id": "959290a0"
      },
      "outputs": [],
      "source": []
    },
    {
      "cell_type": "markdown",
      "id": "dd52e6ef",
      "metadata": {
        "id": "dd52e6ef"
      },
      "source": [
        "# Étape 7 : Evaluation du modèle\n",
        "Implémentez une fonction `calculate_accuracy` qui calcule la précision d'un modèle.\n",
        " - La fonction prend deux arguments :\n",
        "   1. y_true : les vraies classes sous forme de liste ou tableau.\n",
        "   2. y_pred : les classes prédites sous forme de liste ou tableau.\n",
        " - La fonction retourne un nombre entre 0 et 1 représentant la proportion des prédictions correctes.\n",
        " - Étapes à suivre :\n",
        "   1. Initialiser un compteur à 0 pour les prédictions correctes.\n",
        "   2. Parcourir les deux listes en parallèle (y_true et y_pred).\n",
        "   3. Incrémenter le compteur à chaque fois que les deux valeurs correspondantes sont égales.\n",
        "   4. Diviser le compteur par la longueur de y_true pour obtenir la précision."
      ]
    },
    {
      "cell_type": "code",
      "execution_count": null,
      "id": "c5dccb2b",
      "metadata": {
        "id": "c5dccb2b"
      },
      "outputs": [],
      "source": []
    },
    {
      "cell_type": "markdown",
      "id": "6fb5cae1",
      "metadata": {
        "id": "6fb5cae1"
      },
      "source": [
        "Afficher la précision du modèle sur l'ensemble de test"
      ]
    },
    {
      "cell_type": "code",
      "execution_count": null,
      "id": "63441094",
      "metadata": {
        "id": "63441094"
      },
      "outputs": [],
      "source": []
    },
    {
      "cell_type": "markdown",
      "id": "04759e36",
      "metadata": {
        "id": "04759e36"
      },
      "source": [
        "# Pour les plus rapides (à faire à la maison)\n",
        "1. Modifier le notebook (après l'avoir dupliqué!) pour explorer le dataset wine (load_wine dans sklearn.dataset).\n",
        "2. Créer une classe `KNNRegressor`, en vous appuyant sur le code que vous avez précédemment réalisé. Un régresseur permet de trouver un valeur numérique (entier ou réel) à la place d'une classe. Instructions\n",
        "    - le mécanisme de recherche des k plus proche voisin est le même\n",
        "    - à la place de faire un vote à la majorité, on calcule et retourne la moyenne des k points les plus proches de la donnée à prédire\n",
        "    - tester sur le dataset diabetes (toujours dans sklearn.dataset)\n",
        "    - l'évaluation se fait en calculant la moyenne des erreurs absolues entre la prédiction et la vérité terrain"
      ]
    }
  ],
  "metadata": {
    "kernelspec": {
      "display_name": "Python 3 (ipykernel)",
      "language": "python",
      "name": "python3"
    },
    "language_info": {
      "codemirror_mode": {
        "name": "ipython",
        "version": 3
      },
      "file_extension": ".py",
      "mimetype": "text/x-python",
      "name": "python",
      "nbconvert_exporter": "python",
      "pygments_lexer": "ipython3",
      "version": "3.10.8"
    },
    "colab": {
      "provenance": []
    }
  },
  "nbformat": 4,
  "nbformat_minor": 5
}