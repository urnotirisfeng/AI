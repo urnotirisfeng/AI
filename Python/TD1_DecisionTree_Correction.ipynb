{
 "cells": [
  {
   "cell_type": "markdown",
   "id": "e7913d1b",
   "metadata": {},
   "source": [
    "# Introduction\n",
    "Dans ce notebook, vous allez implémenter un arbre de décision binaire à partir de zéro.\n",
    "Vous utiliserez uniquement des listes Python, sans bibliothèques comme pandas ou numpy.\n",
    "Un sous-ensemble des données du dataset IRIS est inclus dans ce notebook avec ses quatre caractéristiques."
   ]
  },
  {
   "cell_type": "markdown",
   "id": "f395ac52",
   "metadata": {},
   "source": [
    "# Étape 1 : Le dataset\n",
    "## Créer le dataset\n",
    "Voici une version complète du dataset IRIS contenant ses quatre caractéristiques :\n",
    "\n",
    "| Longueur de la pétale | Largeur de la pétale | Longueur de la sépale | Largeur de la sépale | Etiquette |\n",
    "|-----------------------|----------------------|-----------------------|----------------------|-----------|\n",
    "| 5.1 | 3.5 | 1.4 | 0.2 | setosa |\n",
    "| 4.9 | 3.0 | 1.4 | 0.2 | setosa | \n",
    "| 4.7 | 3.2 | 1.3 | 0.2 | setosa | \n",
    "| 7.0 | 3.2 | 4.7 | 1.4 | versicolor | \n",
    "| 6.4 | 3.2 | 4.5 | 1.5 | versicolor | \n",
    "| 6.9 | 3.1 | 4.9 | 1.5 | versicolor | \n",
    "| 6.3 | 3.3 | 6.0 | 2.5 | virginica | \n",
    "| 5.8 | 2.7 | 5.1 | 1.9 | virginica | \n",
    "| 7.1 | 3.0 | 5.9 | 2.1 | virginica | \n",
    "\n",
    "Créer une liste de listes permettant de stocker ces données. Chaque liste interne contient un exemple, c'est à dire une ligne du dataset avec les 4 valeurs caractéristiques et l'étiquette. La liste globale contient l'ensemble des exemples du dataset, c'est à dire toutes les lignes du tableau. Stocker cette liste dans une variable"
   ]
  },
  {
   "cell_type": "code",
   "execution_count": 1,
   "id": "89a52598",
   "metadata": {},
   "outputs": [],
   "source": [
    "iris_data = [\n",
    "    [5.1, 3.5, 1.4, 0.2, \"setosa\"],\n",
    "    [4.9, 3.0, 1.4, 0.2, \"setosa\"],\n",
    "    [4.7, 3.2, 1.3, 0.2, \"setosa\"],\n",
    "    [7.0, 3.2, 4.7, 1.4, \"versicolor\"],\n",
    "    [6.4, 3.2, 4.5, 1.5, \"versicolor\"],\n",
    "    [6.9, 3.1, 4.9, 1.5, \"versicolor\"],\n",
    "    [6.3, 3.3, 6.0, 2.5, \"virginica\"],\n",
    "    [5.8, 2.7, 5.1, 1.9, \"virginica\"],\n",
    "    [7.1, 3.0, 5.9, 2.1, \"virginica\"]\n",
    "]"
   ]
  },
  {
   "cell_type": "markdown",
   "id": "162e3add",
   "metadata": {},
   "source": [
    "## Préparer les données\n",
    "Ecrire la fonction `split_data` qui sépare les données en caractéristiques (stockées dans une variable X) et étiquettes (stockées dans une variable y)\n",
    "Afficher les variables X et y pour valider leur contenu."
   ]
  },
  {
   "cell_type": "code",
   "execution_count": 2,
   "id": "1818e691",
   "metadata": {},
   "outputs": [
    {
     "name": "stdout",
     "output_type": "stream",
     "text": [
      "Caractéristiques : [[5.1, 3.5, 1.4, 0.2], [4.9, 3.0, 1.4, 0.2], [4.7, 3.2, 1.3, 0.2], [7.0, 3.2, 4.7, 1.4], [6.4, 3.2, 4.5, 1.5], [6.9, 3.1, 4.9, 1.5], [6.3, 3.3, 6.0, 2.5], [5.8, 2.7, 5.1, 1.9], [7.1, 3.0, 5.9, 2.1]]\n",
      "Étiquettes : ['setosa', 'setosa', 'setosa', 'versicolor', 'versicolor', 'versicolor', 'virginica', 'virginica', 'virginica']\n"
     ]
    }
   ],
   "source": [
    "def split_data(data):\n",
    "    X = [row[:4] for row in data]  # Caractéristiques\n",
    "    y = [row[4] for row in data]  # Étiquettes\n",
    "    return X, y\n",
    "\n",
    "X, y = split_data(iris_data)\n",
    "print(\"Caractéristiques :\", X)\n",
    "print(\"Étiquettes :\", y)"
   ]
  },
  {
   "cell_type": "markdown",
   "id": "333344fb",
   "metadata": {},
   "source": [
    "# Étape 2 : Créer une classe pour représenter un arbre binaire\n",
    "\n",
    "Créer une classe `BinaryDecisionTree` permettant de définir des règles génériques pour tout arbre binaire.\n",
    "Cette classe doit contenir:\n",
    "\n",
    "- une méthode `__init__` qui est le constructeur de la classe. Elle doit permettre d'initialise un nœud de l'arbre de décision avec paramètres suivants:\n",
    "\n",
    "    - Entrées:\n",
    "        - `feature_index` : index de la caractéristique utilisée pour la division.\n",
    "        - `threshold` : valeur seuil pour diviser les données.\n",
    "        - `left` : sous-arbre gauche.\n",
    "        - `right` : sous-arbre droit.\n",
    "        - `value` : valeur de la classe si c'est une feuille (None pour un nœud interne). \n",
    "\n",
    "- une méthode `is_leaf` qui vérifie si le nœud actuel est une feuille:\n",
    "    - Sortie:\n",
    "        - Retourne `True` si le nœud contient une valeur (donc une feuille).\n",
    "        - Retourne `False` si le nœud est un nœud interne.\n",
    "\n",
    "- une méthode `predict` qui prédit la classe pour une ligne donnée.\n",
    "    - Entrée:\n",
    "        - `row` : liste des caractéristiques d'une instance.\n",
    "    - Sortie:\n",
    "        - Si le nœud est une feuille, retourne la valeur de la classe.\n",
    "        - Sinon, compare la valeur de la caractéristique à l'index `feature_index` avec le seuil.\n",
    "           - Si inférieur au seuil, appelle récursivement la méthode sur le sous-arbre gauche.\n",
    "           - Sinon, appelle récursivement la méthode sur le sous-arbre droit."
   ]
  },
  {
   "cell_type": "code",
   "execution_count": 3,
   "id": "687edc9a",
   "metadata": {},
   "outputs": [],
   "source": [
    "class BinaryDecisionTree:\n",
    "    def __init__(self, feature_index=None, threshold=None, left=None, right=None, value=None):\n",
    "        \"\"\"\n",
    "        Initialise un nœud de l'arbre de décision.\n",
    "        - feature_index : index de la caractéristique utilisée pour la division.\n",
    "        - threshold : valeur seuil pour diviser les données.\n",
    "        - left : sous-arbre gauche.\n",
    "        - right : sous-arbre droit.\n",
    "        - value : valeur de la classe si c'est une feuille (None pour un nœud interne).\n",
    "        \"\"\"\n",
    "        self.feature_index = feature_index  # Index de la caractéristique utilisée pour la décision\n",
    "        self.threshold = threshold  # Seuil pour diviser les données\n",
    "        self.left = left  # Sous-arbre gauche\n",
    "        self.right = right  # Sous-arbre droit\n",
    "        self.value = value  # Valeur à retourner si c'est une feuille\n",
    "\n",
    "    def is_leaf(self):\n",
    "        \"\"\"\n",
    "        Vérifie si le nœud actuel est une feuille.\n",
    "        - Retourne True si le nœud contient une valeur (donc une feuille).\n",
    "        - Retourne False si le nœud est un nœud interne.\n",
    "        \"\"\"\n",
    "        return self.value is not None\n",
    "\n",
    "    def predict(self, row):\n",
    "        \"\"\"\n",
    "        Prédit la classe pour une ligne donnée.\n",
    "        - row : liste des caractéristiques d'une instance.\n",
    "        Étapes :\n",
    "        1. Si le nœud est une feuille, retourne la valeur de la classe.\n",
    "        2. Sinon, compare la valeur de la caractéristique à l'index feature_index avec le seuil.\n",
    "           - Si inférieur au seuil, appelle récursivement la méthode sur le sous-arbre gauche.\n",
    "           - Sinon, appelle récursivement la méthode sur le sous-arbre droit.\n",
    "        \"\"\"\n",
    "        if self.is_leaf():\n",
    "            return self.value\n",
    "        if row[self.feature_index] < self.threshold:\n",
    "            return self.left.predict(row)\n",
    "        else:\n",
    "            return self.right.predict(row)"
   ]
  },
  {
   "cell_type": "markdown",
   "id": "1bfba666",
   "metadata": {},
   "source": [
    "# Etape 3 : Créer une fonction pour construire un arbre facilement\n",
    "Ecrire la fonction `build_tree` qui permet de construire un arbre de décision binaire spécifique pour le dataset IRIS.\n",
    "    \n",
    "    - Sortie: \n",
    "        - Retourne la racine de l'arbre construit.\n",
    "\n",
    "    - Description de l'arbre :\n",
    "        - À la racine, on utilise la caractéristique 0 (longueur des sépales) avec un seuil de 6.0.\n",
    "            - Si inférieur à 6.0 :\n",
    "                - On utilise la caractéristique 1 (largeur des sépales) avec un seuil de 3.0.\n",
    "                    - Si inférieur à 3.0 :\n",
    "                        - On utilise la caractéristique 2 (longueur des pétales) avec un seuil de 4.5.\n",
    "                            - Si inférieur à 4.5 : classe \"setosa\".\n",
    "                            - Sinon : classe \"versicolor\".\n",
    "                    - Sinon : classe \"versicolor\".\n",
    "            - Sinon :\n",
    "                - On utilise la caractéristique 2 (longueur des pétales) avec un seuil de 5.5.\n",
    "                    - Si inférieur à 5.5 :\n",
    "                        - On utilise la caractéristique 3 (largeur des pétales) avec un seuil de 1.8.\n",
    "                            - Si inférieur à 1.8 : classe \"versicolor\".\n",
    "                            - Sinon : classe \"virginica\".\n",
    "                    - Sinon : classe \"virginica\"."
   ]
  },
  {
   "cell_type": "code",
   "execution_count": 4,
   "id": "135702b1",
   "metadata": {},
   "outputs": [],
   "source": [
    "def build_tree():\n",
    "    \"\"\"\n",
    "    Construit un arbre de décision binaire spécifique pour le dataset IRIS.\n",
    "    - Retourne la racine de l'arbre construit.\n",
    "\n",
    "    Description de l'arbre :\n",
    "    - À la racine, on utilise la caractéristique 0 (longueur des sépales) avec un seuil de 6.0.\n",
    "        - Si inférieur à 6.0 :\n",
    "            - On utilise la caractéristique 1 (largeur des sépales) avec un seuil de 3.0.\n",
    "                - Si inférieur à 3.0 :\n",
    "                    - On utilise la caractéristique 2 (longueur des pétales) avec un seuil de 4.5.\n",
    "                        - Si inférieur à 4.5 : classe \"setosa\".\n",
    "                        - Sinon : classe \"versicolor\".\n",
    "                - Sinon : classe \"versicolor\".\n",
    "        - Sinon :\n",
    "            - On utilise la caractéristique 2 (longueur des pétales) avec un seuil de 5.5.\n",
    "                - Si inférieur à 5.5 :\n",
    "                    - On utilise la caractéristique 3 (largeur des pétales) avec un seuil de 1.8.\n",
    "                        - Si inférieur à 1.8 : classe \"versicolor\".\n",
    "                        - Sinon : classe \"virginica\".\n",
    "                - Sinon : classe \"virginica\".\n",
    "    \"\"\"\n",
    "    root = BinaryDecisionTree(feature_index=0, threshold=6.0)\n",
    "\n",
    "    # Branche gauche\n",
    "    left_subtree = BinaryDecisionTree(feature_index=1, threshold=3.0)\n",
    "    left_subtree.left = BinaryDecisionTree(feature_index=2, threshold=4.5,\n",
    "                                           left=BinaryDecisionTree(value=\"setosa\"),\n",
    "                                           right=BinaryDecisionTree(value=\"versicolor\"))\n",
    "    left_subtree.right = BinaryDecisionTree(value=\"versicolor\")\n",
    "\n",
    "    # Branche droite\n",
    "    right_subtree = BinaryDecisionTree(feature_index=2, threshold=5.5)\n",
    "    right_subtree.left = BinaryDecisionTree(feature_index=3, threshold=1.8,\n",
    "                                            left=BinaryDecisionTree(value=\"versicolor\"),\n",
    "                                            right=BinaryDecisionTree(value=\"virginica\"))\n",
    "    right_subtree.right = BinaryDecisionTree(value=\"virginica\")\n",
    "\n",
    "    # Assembler l'arbre\n",
    "    root.left = left_subtree\n",
    "    root.right = right_subtree\n",
    "\n",
    "    return root\n"
   ]
  },
  {
   "cell_type": "markdown",
   "id": "ed3bbd62",
   "metadata": {},
   "source": [
    "En utilisant la fonction précédente, construire l'arbre de décision et le stocker dans une variable"
   ]
  },
  {
   "cell_type": "code",
   "execution_count": 5,
   "id": "6ac9326f",
   "metadata": {},
   "outputs": [],
   "source": [
    "tree = build_tree()\n"
   ]
  },
  {
   "cell_type": "markdown",
   "id": "01cf95aa",
   "metadata": {},
   "source": [
    "# Étape 4 : Tester l'arbre sur le dataset IRIS\n",
    "Faites des prédictions en utilisant l'arbre défini"
   ]
  },
  {
   "cell_type": "code",
   "execution_count": 6,
   "id": "f8798b78",
   "metadata": {},
   "outputs": [
    {
     "name": "stdout",
     "output_type": "stream",
     "text": [
      "Caractéristiques : [5.1, 3.5, 1.4, 0.2] Attendu : setosa Predit : versicolor\n",
      "Caractéristiques : [4.9, 3.0, 1.4, 0.2] Attendu : setosa Predit : versicolor\n",
      "Caractéristiques : [4.7, 3.2, 1.3, 0.2] Attendu : setosa Predit : versicolor\n",
      "Caractéristiques : [7.0, 3.2, 4.7, 1.4] Attendu : versicolor Predit : versicolor\n",
      "Caractéristiques : [6.4, 3.2, 4.5, 1.5] Attendu : versicolor Predit : versicolor\n",
      "Caractéristiques : [6.9, 3.1, 4.9, 1.5] Attendu : versicolor Predit : versicolor\n",
      "Caractéristiques : [6.3, 3.3, 6.0, 2.5] Attendu : virginica Predit : virginica\n",
      "Caractéristiques : [5.8, 2.7, 5.1, 1.9] Attendu : virginica Predit : versicolor\n",
      "Caractéristiques : [7.1, 3.0, 5.9, 2.1] Attendu : virginica Predit : virginica\n"
     ]
    }
   ],
   "source": [
    "for row in iris_data:\n",
    "    prediction = tree.predict(row[:4])\n",
    "    print(\"Caractéristiques :\", row[:4], \"Attendu :\", row[4], \"Predit :\", prediction)"
   ]
  },
  {
   "cell_type": "markdown",
   "id": "b47538d9",
   "metadata": {},
   "source": [
    "# Etape 5 : Evaluer l'arbre\n",
    "\n",
    "Écrivez une fonction `evaluate_tree_performance` qui calcule la précision de l'arbre de décision sur un dataset donné. La précision est définie comme le pourcentage de prédictions correctes.\n",
    "\n",
    "Exemple d'utilisation :\n",
    "accuracy = evaluate_tree_performance(tree, iris_data)\n",
    "print(\"Précision de l'arbre :\", accuracy, \"%\")"
   ]
  },
  {
   "cell_type": "code",
   "execution_count": 7,
   "id": "a61131fb",
   "metadata": {},
   "outputs": [
    {
     "name": "stdout",
     "output_type": "stream",
     "text": [
      "Précision de l'arbre : 55.55555555555556 %\n"
     ]
    }
   ],
   "source": [
    "# Fonction pour évaluer la performance de l'arbre\n",
    "\n",
    "def evaluate_tree_performance(tree, data):\n",
    "    \"\"\"\n",
    "    Évalue la précision de l'arbre de décision sur un dataset donné.\n",
    "    - tree : l'arbre de décision à utiliser pour les prédictions.\n",
    "    - data : le dataset (liste de listes) contenant les caractéristiques et les étiquettes.\n",
    "    - Retourne la précision en pourcentage.\n",
    "    \"\"\"\n",
    "    correct_predictions = 0\n",
    "    for row in data:\n",
    "        features = row[:4]  # Caractéristiques\n",
    "        true_label = row[4]  # Étiquette réelle\n",
    "        prediction = tree.predict(features)  # Prédiction de l'arbre\n",
    "        if prediction == true_label:\n",
    "            correct_predictions += 1\n",
    "    accuracy = (correct_predictions / len(data)) * 100  # Calcul de la précision\n",
    "    return accuracy\n",
    "\n",
    "# Calculer et afficher la précision de l'arbre\n",
    "accuracy = evaluate_tree_performance(tree, iris_data)\n",
    "print(\"Précision de l'arbre :\", accuracy, \"%\")"
   ]
  },
  {
   "cell_type": "markdown",
   "id": "ea55da57",
   "metadata": {},
   "source": [
    "# Etape 6 : Améliorer l'arbre de décision\n",
    "Proposer et évaluer d'autres arbres de décision permettant d'améliorer votre prédiction sur le dataset IRIS."
   ]
  },
  {
   "cell_type": "code",
   "execution_count": 8,
   "id": "8efde627",
   "metadata": {},
   "outputs": [
    {
     "name": "stdout",
     "output_type": "stream",
     "text": [
      "Caractéristiques : [5.1, 3.5, 1.4, 0.2] Attendu : setosa Predit : setosa\n",
      "Caractéristiques : [4.9, 3.0, 1.4, 0.2] Attendu : setosa Predit : setosa\n",
      "Caractéristiques : [4.7, 3.2, 1.3, 0.2] Attendu : setosa Predit : setosa\n",
      "Caractéristiques : [7.0, 3.2, 4.7, 1.4] Attendu : versicolor Predit : versicolor\n",
      "Caractéristiques : [6.4, 3.2, 4.5, 1.5] Attendu : versicolor Predit : versicolor\n",
      "Caractéristiques : [6.9, 3.1, 4.9, 1.5] Attendu : versicolor Predit : virginica\n",
      "Caractéristiques : [6.3, 3.3, 6.0, 2.5] Attendu : virginica Predit : virginica\n",
      "Caractéristiques : [5.8, 2.7, 5.1, 1.9] Attendu : virginica Predit : virginica\n",
      "Caractéristiques : [7.1, 3.0, 5.9, 2.1] Attendu : virginica Predit : virginica\n",
      "Précision de l'arbre alternatif : 88.88888888888889 %\n"
     ]
    }
   ],
   "source": [
    "def build_alternative_tree():\n",
    "    \"\"\"\n",
    "    Construit un arbre de décision alternatif pour le dataset IRIS.\n",
    "    - Retourne la racine de l'arbre construit.\n",
    "\n",
    "    Description de l'arbre :\n",
    "    - À la racine, on utilise la caractéristique 2 (longueur des pétales) avec un seuil de 2.5.\n",
    "        - Si inférieur à 2.5 : classe \"setosa\".\n",
    "        - Sinon :\n",
    "            - On utilise la caractéristique 3 (largeur des pétales) avec un seuil de 1.8.\n",
    "                - Si inférieur à 1.8 :\n",
    "                    - On utilise la caractéristique 2 (longueur des pétales) avec un seuil de 4.8.\n",
    "                        - Si inférieur à 4.8 : classe \"versicolor\".\n",
    "                        - Sinon : classe \"virginica\".\n",
    "                - Sinon :\n",
    "                    - On utilise la caractéristique 2 (longueur des pétales) avec un seuil de 5.1.\n",
    "                        - Si inférieur à 5.1 : classe \"versicolor\".\n",
    "                        - Sinon : classe \"virginica\".\n",
    "    \"\"\"\n",
    "    root = BinaryDecisionTree(feature_index=2, threshold=2.5)\n",
    "\n",
    "    # Branche gauche (setosa)\n",
    "    root.left = BinaryDecisionTree(value=\"setosa\")\n",
    "\n",
    "    # Branche droite\n",
    "    right_subtree = BinaryDecisionTree(feature_index=3, threshold=1.8)\n",
    "\n",
    "    # Sous-arbre gauche de la branche droite\n",
    "    right_subtree.left = BinaryDecisionTree(feature_index=2, threshold=4.8,\n",
    "                                            left=BinaryDecisionTree(value=\"versicolor\"),\n",
    "                                            right=BinaryDecisionTree(value=\"virginica\"))\n",
    "\n",
    "    # Sous-arbre droit de la branche droite\n",
    "    right_subtree.right = BinaryDecisionTree(feature_index=2, threshold=5.1,\n",
    "                                             left=BinaryDecisionTree(value=\"versicolor\"),\n",
    "                                             right=BinaryDecisionTree(value=\"virginica\"))\n",
    "\n",
    "    # Assembler l'arbre\n",
    "    root.right = right_subtree\n",
    "\n",
    "    return root\n",
    "\n",
    "# Construire et tester l'arbre alternatif\n",
    "alternative_tree = build_alternative_tree()\n",
    "\n",
    "for row in iris_data:\n",
    "    prediction = alternative_tree.predict(row[:4])\n",
    "    print(\"Caractéristiques :\", row[:4], \"Attendu :\", row[4], \"Predit :\", prediction)\n",
    "\n",
    "# Calculer et afficher la précision de l'arbre alternatif\n",
    "alt_accuracy = evaluate_tree_performance(alternative_tree, iris_data)\n",
    "print(\"Précision de l'arbre alternatif :\", alt_accuracy, \"%\")\n"
   ]
  },
  {
   "cell_type": "code",
   "execution_count": null,
   "id": "bd312d12",
   "metadata": {},
   "outputs": [],
   "source": []
  }
 ],
 "metadata": {
  "kernelspec": {
   "display_name": "Python 3 (ipykernel)",
   "language": "python",
   "name": "python3"
  },
  "language_info": {
   "codemirror_mode": {
    "name": "ipython",
    "version": 3
   },
   "file_extension": ".py",
   "mimetype": "text/x-python",
   "name": "python",
   "nbconvert_exporter": "python",
   "pygments_lexer": "ipython3",
   "version": "3.10.8"
  }
 },
 "nbformat": 4,
 "nbformat_minor": 5
}
