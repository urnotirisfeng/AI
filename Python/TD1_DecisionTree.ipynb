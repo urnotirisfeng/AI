{
 "cells": [
  {
   "cell_type": "markdown",
   "id": "fd7b117e",
   "metadata": {},
   "source": [
    "# Introduction\n",
    "Dans ce notebook, vous allez implémenter un arbre de décision binaire à partir de zéro.\n",
    "Vous utiliserez uniquement des listes Python, sans bibliothèques comme pandas ou numpy.\n",
    "Un sous-ensemble des données du dataset IRIS est inclus dans ce notebook avec ses quatre caractéristiques."
   ]
  },
  {
   "cell_type": "markdown",
   "id": "c49e3fc3",
   "metadata": {},
   "source": [
    " # Étape 1 : Le dataset\n",
    "## Créer le dataset\n",
    "Voici une version complète du dataset IRIS contenant ses quatre caractéristiques :\n",
    "\n",
    "| Longueur de la pétale | Largeur de la pétale | Longueur de la sépale | Largeur de la sépale | Etiquette |\n",
    "|-----------------------|----------------------|-----------------------|----------------------|-----------|\n",
    "| 5.1 | 3.5 | 1.4 | 0.2 | setosa |\n",
    "| 4.9 | 3.0 | 1.4 | 0.2 | setosa | \n",
    "| 4.7 | 3.2 | 1.3 | 0.2 | setosa | \n",
    "| 7.0 | 3.2 | 4.7 | 1.4 | versicolor | \n",
    "| 6.4 | 3.2 | 4.5 | 1.5 | versicolor | \n",
    "| 6.9 | 3.1 | 4.9 | 1.5 | versicolor | \n",
    "| 6.3 | 3.3 | 6.0 | 2.5 | virginica | \n",
    "| 5.8 | 2.7 | 5.1 | 1.9 | virginica | \n",
    "| 7.1 | 3.0 | 5.9 | 2.1 | virginica | \n",
    "\n",
    "Créer une liste de listes permettant de stocker ces données. Chaque liste interne contient un exemple, c'est à dire une ligne du dataset avec les 4 valeurs caractéristiques et l'étiquette. La liste globale contient l'ensemble des exemples du dataset, c'est à dire toutes les lignes du tableau. Stocker cette liste dans une variable"
   ]
  },
  {
   "cell_type": "code",
   "id": "1e487244",
   "metadata": {
    "jupyter": {
     "is_executing": true
    }
   },
   "source": [
    "iris_data = [\n",
    "    [5.1,3.5,1.4,0.2,\"setosa\"],\n",
    "    [4.9,3.0,1.4,0.2,\"setosa\"],\n",
    "    [4.7,3.2,1.4,0.2, \"setosa\"],\n",
    "    [7.0,3.2,4.7,1.4,\"versicolor\"],\n",
    "    [6.4,3.2,4.5,1.5,\"versicolor\"],\n",
    "    [6.9,3.1,4.9,1.5,\"versicolor\"],\n",
    "    [6.3,3.3,6.0,2.5,\"virginica\"],\n",
    "    [5.8,2.7,5.1,1.9,\"virginica\"],\n",
    "    [7.1,3.0,5.9,2.1,\"virginica\"],\n",
    "            ]\n",
    "print(iris_data)"
   ],
   "outputs": [],
   "execution_count": null
  },
  {
   "cell_type": "markdown",
   "id": "7a8d0d78",
   "metadata": {},
   "source": [
    "## Préparer les données\n",
    "Ecrire la fonction `split_data` qui sépare les données en caractéristiques (stockées dans une variable X) et étiquettes (stockées dans une variable y)\n",
    "Afficher les variables X et y pour valider leur contenu."
   ]
  },
  {
   "cell_type": "code",
   "execution_count": null,
   "id": "0d7a3991",
   "metadata": {},
   "outputs": [],
   "source": []
  },
  {
   "cell_type": "markdown",
   "id": "f53e3b84",
   "metadata": {},
   "source": [
    "# Étape 2 : Créer une classe pour représenter un arbre binaire\n",
    "\n",
    "Créer une classe `BinaryDecisionTree` permettant de définir des règles génériques pour tout arbre binaire.\n",
    "Cette classe doit contenir:\n",
    "\n",
    "- une méthode `__init__` qui est le constructeur de la classe. Elle doit permettre d'initialise un nœud de l'arbre de décision avec paramètres suivants:\n",
    "\n",
    "    - Entrées:\n",
    "        - `feature_index` : index de la caractéristique utilisée pour la division.\n",
    "        - `threshold` : valeur seuil pour diviser les données.\n",
    "        - `left` : sous-arbre gauche.\n",
    "        - `right` : sous-arbre droit.\n",
    "        - `value` : valeur de la classe si c'est une feuille (None pour un nœud interne). \n",
    "\n",
    "- une méthode `is_leaf` qui vérifie si le nœud actuel est une feuille:\n",
    "    - Sortie:\n",
    "        - Retourne `True` si le nœud contient une valeur (donc une feuille).\n",
    "        - Retourne `False` si le nœud est un nœud interne.\n",
    "\n",
    "- une méthode `predict` qui prédit la classe pour une ligne donnée.\n",
    "    - Entrée:\n",
    "        - `row` : liste des caractéristiques d'une instance.\n",
    "    - Sortie:\n",
    "        - Si le nœud est une feuille, retourne la valeur de la classe.\n",
    "        - Sinon, compare la valeur de la caractéristique à l'index `feature_index` avec le seuil.\n",
    "           - Si inférieur au seuil, appelle récursivement la méthode sur le sous-arbre gauche.\n",
    "           - Sinon, appelle récursivement la méthode sur le sous-arbre droit."
   ]
  },
  {
   "cell_type": "code",
   "execution_count": null,
   "id": "4f88f7fd",
   "metadata": {},
   "outputs": [],
   "source": []
  },
  {
   "cell_type": "markdown",
   "id": "07eb3e73",
   "metadata": {},
   "source": [
    "# Etape 3 : Créer une fonction pour construire un arbre facilement\n",
    "Ecrire la fonction `build_tree` qui permet de construire un arbre de décision binaire spécifique pour le dataset IRIS.\n",
    "    \n",
    "    - Sortie: \n",
    "        - Retourne la racine de l'arbre construit.\n",
    "\n",
    "    - Description de l'arbre :\n",
    "        - À la racine, on utilise la caractéristique 0 (longueur des sépales) avec un seuil de 6.0.\n",
    "            - Si inférieur à 6.0 :\n",
    "                - On utilise la caractéristique 1 (largeur des sépales) avec un seuil de 3.0.\n",
    "                    - Si inférieur à 3.0 :\n",
    "                        - On utilise la caractéristique 2 (longueur des pétales) avec un seuil de 4.5.\n",
    "                            - Si inférieur à 4.5 : classe \"setosa\".\n",
    "                            - Sinon : classe \"versicolor\".\n",
    "                    - Sinon : classe \"versicolor\".\n",
    "            - Sinon :\n",
    "                - On utilise la caractéristique 2 (longueur des pétales) avec un seuil de 5.5.\n",
    "                    - Si inférieur à 5.5 :\n",
    "                        - On utilise la caractéristique 3 (largeur des pétales) avec un seuil de 1.8.\n",
    "                            - Si inférieur à 1.8 : classe \"versicolor\".\n",
    "                            - Sinon : classe \"virginica\".\n",
    "                    - Sinon : classe \"virginica\"."
   ]
  },
  {
   "cell_type": "code",
   "execution_count": null,
   "id": "d7ec053d",
   "metadata": {},
   "outputs": [],
   "source": []
  },
  {
   "cell_type": "markdown",
   "id": "b94f0a03",
   "metadata": {},
   "source": [
    "En utilisant la fonction précédente, construire l'arbre de décision et le stocker dans une variable"
   ]
  },
  {
   "cell_type": "code",
   "execution_count": null,
   "id": "b88437fa",
   "metadata": {},
   "outputs": [],
   "source": []
  },
  {
   "cell_type": "markdown",
   "id": "c79c3a4b",
   "metadata": {},
   "source": [
    "# Étape 4 : Tester l'arbre sur le dataset IRIS\n",
    "Faites des prédictions en utilisant l'arbre défini"
   ]
  },
  {
   "cell_type": "code",
   "execution_count": null,
   "id": "af7e22f7",
   "metadata": {},
   "outputs": [],
   "source": []
  },
  {
   "cell_type": "markdown",
   "id": "1647717e",
   "metadata": {},
   "source": [
    "# Etape 5 : Evaluer l'arbre\n",
    "\n",
    "Écrivez une fonction `evaluate_tree_performance` qui calcule la précision de l'arbre de décision sur un dataset donné. La précision est définie comme le pourcentage de prédictions correctes.\n",
    "\n",
    "Exemple d'utilisation :\n",
    "accuracy = evaluate_tree_performance(tree, iris_data)\n",
    "print(\"Précision de l'arbre :\", accuracy, \"%\")"
   ]
  },
  {
   "cell_type": "code",
   "execution_count": 1,
   "id": "04c69347",
   "metadata": {},
   "outputs": [
    {
     "name": "stdout",
     "output_type": "stream",
     "text": [
      "Caractéristiques : [[5.1, 3.5, 1.4, 0.2], [4.9, 3.0, 1.4, 0.2], [4.7, 3.2, 1.3, 0.2], [7.0, 3.2, 4.7, 1.4], [6.4, 3.2, 4.5, 1.5], [6.9, 3.1, 4.9, 1.5], [6.3, 3.3, 6.0, 2.5], [5.8, 2.7, 5.1, 1.9], [7.1, 3.0, 5.9, 2.1]]\n",
      "Étiquettes : ['setosa', 'setosa', 'setosa', 'versicolor', 'versicolor', 'versicolor', 'virginica', 'virginica', 'virginica']\n",
      "Caractéristiques : [5.1, 3.5, 1.4, 0.2] Attendu : setosa Predit : versicolor\n",
      "Caractéristiques : [4.9, 3.0, 1.4, 0.2] Attendu : setosa Predit : versicolor\n",
      "Caractéristiques : [4.7, 3.2, 1.3, 0.2] Attendu : setosa Predit : versicolor\n",
      "Caractéristiques : [7.0, 3.2, 4.7, 1.4] Attendu : versicolor Predit : versicolor\n",
      "Caractéristiques : [6.4, 3.2, 4.5, 1.5] Attendu : versicolor Predit : versicolor\n",
      "Caractéristiques : [6.9, 3.1, 4.9, 1.5] Attendu : versicolor Predit : versicolor\n",
      "Caractéristiques : [6.3, 3.3, 6.0, 2.5] Attendu : virginica Predit : virginica\n",
      "Caractéristiques : [5.8, 2.7, 5.1, 1.9] Attendu : virginica Predit : versicolor\n",
      "Caractéristiques : [7.1, 3.0, 5.9, 2.1] Attendu : virginica Predit : virginica\n",
      "Précision de l'arbre : 55.55555555555556 %\n"
     ]
    }
   ],
   "source": []
  },
  {
   "cell_type": "markdown",
   "id": "bef64dc2",
   "metadata": {},
   "source": [
    "# Etape 6 : Améliorer l'arbre de décision\n",
    "Proposer et évaluer d'autres arbres de décision permettant d'améliorer votre prédiction sur le dataset IRIS."
   ]
  },
  {
   "cell_type": "code",
   "execution_count": 2,
   "id": "1ff81685",
   "metadata": {},
   "outputs": [
    {
     "name": "stdout",
     "output_type": "stream",
     "text": [
      "Caractéristiques : [5.1, 3.5, 1.4, 0.2] Attendu : setosa Predit : setosa\n",
      "Caractéristiques : [4.9, 3.0, 1.4, 0.2] Attendu : setosa Predit : setosa\n",
      "Caractéristiques : [4.7, 3.2, 1.3, 0.2] Attendu : setosa Predit : setosa\n",
      "Caractéristiques : [7.0, 3.2, 4.7, 1.4] Attendu : versicolor Predit : versicolor\n",
      "Caractéristiques : [6.4, 3.2, 4.5, 1.5] Attendu : versicolor Predit : versicolor\n",
      "Caractéristiques : [6.9, 3.1, 4.9, 1.5] Attendu : versicolor Predit : virginica\n",
      "Caractéristiques : [6.3, 3.3, 6.0, 2.5] Attendu : virginica Predit : virginica\n",
      "Caractéristiques : [5.8, 2.7, 5.1, 1.9] Attendu : virginica Predit : virginica\n",
      "Caractéristiques : [7.1, 3.0, 5.9, 2.1] Attendu : virginica Predit : virginica\n",
      "Précision de l'arbre alternatif : 88.88888888888889 %\n"
     ]
    }
   ],
   "source": []
  }
 ],
 "metadata": {
  "kernelspec": {
   "display_name": "Python 3 (ipykernel)",
   "language": "python",
   "name": "python3"
  },
  "language_info": {
   "codemirror_mode": {
    "name": "ipython",
    "version": 3
   },
   "file_extension": ".py",
   "mimetype": "text/x-python",
   "name": "python",
   "nbconvert_exporter": "python",
   "pygments_lexer": "ipython3",
   "version": "3.10.8"
  }
 },
 "nbformat": 4,
 "nbformat_minor": 5
}
