{
  "cells": [
    {
      "cell_type": "markdown",
      "id": "fd7b117e",
      "metadata": {
        "id": "fd7b117e"
      },
      "source": [
        "# Introduction\n",
        "Dans ce notebook, vous allez implémenter un arbre de décision binaire à partir de zéro.\n",
        "Vous utiliserez uniquement des listes Python, sans bibliothèques comme pandas ou numpy.\n",
        "Un sous-ensemble des données du dataset IRIS est inclus dans ce notebook avec ses quatre caractéristiques."
      ]
    },
    {
      "cell_type": "code",
      "source": [
        "!git clone https://github.com/urnotirisfeng/AI.git"
      ],
      "metadata": {
        "colab": {
          "base_uri": "https://localhost:8080/"
        },
        "id": "UKT2MEv4QUoS",
        "outputId": "516b14bf-a4bf-453d-b5b4-3cc7c654abe0"
      },
      "id": "UKT2MEv4QUoS",
      "execution_count": 2,
      "outputs": [
        {
          "output_type": "stream",
          "name": "stdout",
          "text": [
            "Cloning into 'AI'...\n",
            "remote: Enumerating objects: 53, done.\u001b[K\n",
            "remote: Counting objects: 100% (53/53), done.\u001b[K\n",
            "remote: Compressing objects: 100% (51/51), done.\u001b[K\n",
            "remote: Total 53 (delta 24), reused 0 (delta 0), pack-reused 0 (from 0)\u001b[K\n",
            "Receiving objects: 100% (53/53), 11.12 MiB | 12.23 MiB/s, done.\n",
            "Resolving deltas: 100% (24/24), done.\n"
          ]
        }
      ]
    },
    {
      "cell_type": "markdown",
      "id": "c49e3fc3",
      "metadata": {
        "id": "c49e3fc3"
      },
      "source": [
        " # Étape 1 : Le dataset\n",
        "## Créer le dataset\n",
        "Voici une version complète du dataset IRIS contenant ses quatre caractéristiques :\n",
        "\n",
        "| Longueur de la pétale | Largeur de la pétale | Longueur de la sépale | Largeur de la sépale | Etiquette |\n",
        "|-----------------------|----------------------|-----------------------|----------------------|-----------|\n",
        "| 5.1 | 3.5 | 1.4 | 0.2 | setosa |\n",
        "| 4.9 | 3.0 | 1.4 | 0.2 | setosa |\n",
        "| 4.7 | 3.2 | 1.3 | 0.2 | setosa |\n",
        "| 7.0 | 3.2 | 4.7 | 1.4 | versicolor |\n",
        "| 6.4 | 3.2 | 4.5 | 1.5 | versicolor |\n",
        "| 6.9 | 3.1 | 4.9 | 1.5 | versicolor |\n",
        "| 6.3 | 3.3 | 6.0 | 2.5 | virginica |\n",
        "| 5.8 | 2.7 | 5.1 | 1.9 | virginica |\n",
        "| 7.1 | 3.0 | 5.9 | 2.1 | virginica |\n",
        "\n",
        "Créer une liste de listes permettant de stocker ces données. Chaque liste interne contient un exemple, c'est à dire une ligne du dataset avec les 4 valeurs caractéristiques et l'étiquette. La liste globale contient l'ensemble des exemples du dataset, c'est à dire toutes les lignes du tableau. Stocker cette liste dans une variable"
      ]
    },
    {
      "cell_type": "code",
      "id": "1e487244",
      "metadata": {
        "jupyter": {
          "is_executing": true
        },
        "colab": {
          "base_uri": "https://localhost:8080/"
        },
        "id": "1e487244",
        "outputId": "75e927f0-9d44-4b1c-d67b-ebd6543d1820"
      },
      "source": [
        "iris_data = [\n",
        "    [5.1,3.5,1.4,0.2,\"setosa\"],\n",
        "    [4.9,3.0,1.4,0.2,\"setosa\"],\n",
        "    [4.7,3.2,1.4,0.2, \"setosa\"],\n",
        "    [7.0,3.2,4.7,1.4,\"versicolor\"],\n",
        "    [6.4,3.2,4.5,1.5,\"versicolor\"],\n",
        "    [6.9,3.1,4.9,1.5,\"versicolor\"],\n",
        "    [6.3,3.3,6.0,2.5,\"virginica\"],\n",
        "    [5.8,2.7,5.1,1.9,\"virginica\"],\n",
        "    [7.1,3.0,5.9,2.1,\"virginica\"],\n",
        "            ]\n",
        "print(iris_data)"
      ],
      "outputs": [
        {
          "output_type": "stream",
          "name": "stdout",
          "text": [
            "[[5.1, 3.5, 1.4, 0.2, 'setosa'], [4.9, 3.0, 1.4, 0.2, 'setosa'], [4.7, 3.2, 1.4, 0.2, 'setosa'], [7.0, 3.2, 4.7, 1.4, 'versicolor'], [6.4, 3.2, 4.5, 1.5, 'versicolor'], [6.9, 3.1, 4.9, 1.5, 'versicolor'], [6.3, 3.3, 6.0, 2.5, 'virginica'], [5.8, 2.7, 5.1, 1.9, 'virginica'], [7.1, 3.0, 5.9, 2.1, 'virginica']]\n"
          ]
        }
      ],
      "execution_count": 3
    },
    {
      "cell_type": "markdown",
      "id": "7a8d0d78",
      "metadata": {
        "id": "7a8d0d78"
      },
      "source": [
        "## Préparer les données\n",
        "Ecrire la fonction `split_data` qui sépare les données en caractéristiques (stockées dans une variable X) et étiquettes (stockées dans une variable y)\n",
        "Afficher les variables X et y pour valider leur contenu."
      ]
    },
    {
      "cell_type": "code",
      "execution_count": 4,
      "id": "0d7a3991",
      "metadata": {
        "colab": {
          "base_uri": "https://localhost:8080/"
        },
        "id": "0d7a3991",
        "outputId": "56621e4e-7640-47b5-858b-596fbb401bd1"
      },
      "outputs": [
        {
          "output_type": "stream",
          "name": "stdout",
          "text": [
            "x :  [[5.1, 3.5, 1.4, 0.2], [4.9, 3.0, 1.4, 0.2], [4.7, 3.2, 1.4, 0.2], [7.0, 3.2, 4.7, 1.4], [6.4, 3.2, 4.5, 1.5], [6.9, 3.1, 4.9, 1.5], [6.3, 3.3, 6.0, 2.5], [5.8, 2.7, 5.1, 1.9], [7.1, 3.0, 5.9, 2.1]]\n",
            "y :  ['setosa', 'setosa', 'setosa', 'versicolor', 'versicolor', 'versicolor', 'virginica', 'virginica', 'virginica']\n"
          ]
        }
      ],
      "source": [
        "#def 关键字用来定义函数\n",
        "def split_data(data):\n",
        "  #对iris_data中的每一行进行切片，而不是对整个进行切片。所以要定义row\n",
        "  #row是代表iris_data 里面的一行数据\n",
        "    x = [row[:4] for row in iris_data]\n",
        "    #表达式：取一行里的前四个值\n",
        "    #迭代元素是每一行\n",
        "    #迭代对象是iris_data\n",
        "    y = [row[4] for row in iris_data]\n",
        "    return x, y\n",
        "\n",
        "x, y = split_data(iris_data)\n",
        "print(\"x : \",x)\n",
        "print(\"y : \",y)\n",
        "#java中用 System.out.println(\"Hello, \" + name + \"! You are \" + age + \" years old.\") 用加号链接变量"
      ]
    },
    {
      "cell_type": "markdown",
      "id": "f53e3b84",
      "metadata": {
        "id": "f53e3b84"
      },
      "source": [
        "# Étape 2 : Créer une classe pour représenter un arbre binaire\n",
        "\n",
        "Créer une classe `BinaryDecisionTree` permettant de définir des règles génériques pour tout arbre binaire.\n",
        "Cette classe doit contenir:\n",
        "\n",
        "- une méthode `__init__` qui est le constructeur de la classe. Elle doit permettre d'initialise un nœud de l'arbre de décision avec paramètres suivants:\n",
        "\n",
        "    - Entrées:\n",
        "        - `feature_index` : index de la caractéristique utilisée pour la division.\n",
        "        - `threshold` : valeur seuil pour diviser les données.\n",
        "        - `left` : sous-arbre gauche.\n",
        "        - `right` : sous-arbre droit.\n",
        "        - `value` : valeur de la classe si c'est une feuille (None pour un nœud interne).\n",
        "\n",
        "- une méthode `is_leaf` qui vérifie si le nœud actuel est une feuille:\n",
        "    - Sortie:\n",
        "        - Retourne `True` si le nœud contient une valeur (donc une feuille).\n",
        "        - Retourne `False` si le nœud est un nœud interne.\n",
        "\n",
        "- une méthode `predict` qui prédit la classe pour une ligne donnée.\n",
        "    - Entrée:\n",
        "        - `row` : liste des caractéristiques d'une instance.\n",
        "    - Sortie:\n",
        "        - Si le nœud est une feuille, retourne la valeur de la classe.\n",
        "        - Sinon, compare la valeur de la caractéristique à l'index `feature_index` avec le seuil.\n",
        "           - Si inférieur au seuil, appelle récursivement la méthode sur le sous-arbre gauche.\n",
        "           - Sinon, appelle récursivement la méthode sur le sous-arbre droit."
      ]
    },
    {
      "cell_type": "code",
      "execution_count": 5,
      "id": "4f88f7fd",
      "metadata": {
        "id": "4f88f7fd"
      },
      "outputs": [],
      "source": [
        "class BinaryDecisionTree:\n",
        "  def __init__(self,feature_index,threshold,left,right,value):\n",
        "    # self 是当前的实例对象，有点像this.x\n",
        "    self.feature_index = feature_index\n",
        "    self.threshold = threshold\n",
        "    self.left = left\n",
        "    self.right = right\n",
        "    self.value = value\n",
        "\n",
        "  def is_leaf(self): #用来检查是不是叶子节点 - noeud actuel\n",
        "    if self.value is None:\n",
        "      return False\n",
        "    else:\n",
        "      return True\n",
        "\n",
        "  ## 重要的预测步骤在这里\n",
        "  ## 预测最主要用的就是这个predict\n",
        "    # self 代表节点本身\n",
        "  def predict(self,row):\n",
        "    if self.is_leaf(): #本身if就检测的是boolean，所以此时不需要 == True，可以简化\n",
        "      return self.value\n",
        "    else:\n",
        "      if row[self.feature_index] < self.threshold:\n",
        "        return self.left.predict(row)\n",
        "      else:\n",
        "        return self.right.predict(row)\n",
        "# 如果此时这里加上print，就代表class的结束，缩进回全局作用域"
      ]
    },
    {
      "cell_type": "markdown",
      "id": "07eb3e73",
      "metadata": {
        "id": "07eb3e73"
      },
      "source": [
        "# Etape 3 : Créer une fonction pour construire un arbre facilement\n",
        "Ecrire la fonction `build_tree` qui permet de construire un arbre de décision binaire spécifique pour le dataset IRIS.\n",
        "    \n",
        "    - Sortie:\n",
        "        - Retourne la racine de l'arbre construit.\n",
        "\n",
        "    - Description de l'arbre :\n",
        "        - À la racine, on utilise la caractéristique 0 (longueur des sépales) avec un seuil de 6.0.\n",
        "            - Si inférieur à 6.0 :\n",
        "                - On utilise la caractéristique 1 (largeur des sépales) avec un seuil de 3.0.\n",
        "                    - Si inférieur à 3.0 :\n",
        "                        - On utilise la caractéristique 2 (longueur des pétales) avec un seuil de 4.5.\n",
        "                            - Si inférieur à 4.5 : classe \"setosa\".\n",
        "                            - Sinon : classe \"versicolor\".\n",
        "                    - Sinon : classe \"versicolor\".\n",
        "            - Sinon :\n",
        "                - On utilise la caractéristique 2 (longueur des pétales) avec un seuil de 5.5.\n",
        "                    - Si inférieur à 5.5 :\n",
        "                        - On utilise la caractéristique 3 (largeur des pétales) avec un seuil de 1.8.\n",
        "                            - Si inférieur à 1.8 : classe \"versicolor\".\n",
        "                            - Sinon : classe \"virginica\".\n",
        "                    - Sinon : classe \"virginica\"."
      ]
    },
    {
      "cell_type": "code",
      "execution_count": 6,
      "id": "d7ec053d",
      "metadata": {
        "id": "d7ec053d"
      },
      "outputs": [],
      "source": [
        "def build_tree(data):\n",
        "  # 叶子节点\n",
        "  setosa = BinaryDecisionTree(None,None,None,None,\"setosa\")\n",
        "  versicolor = BinaryDecisionTree(None,None,None,None,\"versicolor\")\n",
        "  virginica = BinaryDecisionTree(None,None,None,None,\"virginica\")\n",
        "\n",
        "  # 左侧内部节点构建\n",
        "  left_longueur = BinaryDecisionTree(2,4.5,setosa,versicolor,None)\n",
        "  left_largeur = BinaryDecisionTree(1,3.0,left_longueur,versicolor,None)\n",
        "\n",
        "  # 右侧内部节点构建\n",
        "  right_largeur = BinaryDecisionTree(3,1.8,versicolor,virginica,None)\n",
        "  right_longueur = BinaryDecisionTree(2,5.5,right_largeur,virginica,None)\n",
        "\n",
        "  # 根节点\n",
        "  root = BinaryDecisionTree(0,6.0,left_largeur,right_longueur,None)\n",
        "\n",
        "  return root"
      ]
    },
    {
      "cell_type": "markdown",
      "id": "b94f0a03",
      "metadata": {
        "id": "b94f0a03"
      },
      "source": [
        "En utilisant la fonction précédente, construire l'arbre de décision et le stocker dans une variable"
      ]
    },
    {
      "cell_type": "code",
      "execution_count": 7,
      "id": "b88437fa",
      "metadata": {
        "id": "b88437fa"
      },
      "outputs": [],
      "source": [
        "decision_tree = build_tree(iris_data) #方便后续调用"
      ]
    },
    {
      "cell_type": "markdown",
      "id": "c79c3a4b",
      "metadata": {
        "id": "c79c3a4b"
      },
      "source": [
        "# Étape 4 : Tester l'arbre sur le dataset IRIS\n",
        "Faites des prédictions en utilisant l'arbre défini\n",
        "\n",
        "为验证决策树的模型分析能力"
      ]
    },
    {
      "cell_type": "code",
      "execution_count": null,
      "id": "af7e22f7",
      "metadata": {
        "colab": {
          "base_uri": "https://localhost:8080/"
        },
        "id": "af7e22f7",
        "outputId": "3309adde-bd03-45b1-b39a-b43ff2bcbede"
      },
      "outputs": [
        {
          "output_type": "stream",
          "name": "stdout",
          "text": [
            "['versicolor', 'versicolor', 'versicolor', 'versicolor', 'versicolor', 'versicolor', 'virginica', 'versicolor', 'virginica']\n"
          ]
        }
      ],
      "source": [
        "#调用之前定义的x，此时的x是个全局变量\n",
        "# 此时列表自动创建了row作为临时变量\n",
        "prediction =[decision_tree.predict(row)for row in x]\n",
        "print(prediction)"
      ]
    },
    {
      "cell_type": "markdown",
      "id": "1647717e",
      "metadata": {
        "id": "1647717e"
      },
      "source": [
        "# Etape 5 : Evaluer l'arbre\n",
        "\n",
        "Écrivez une fonction `evaluate_tree_performance` qui calcule la précision de l'arbre de décision sur un dataset donné. La précision est définie comme le pourcentage de prédictions correctes.\n",
        "\n",
        "Exemple d'utilisation :\n",
        "accuracy = evaluate_tree_performance(tree, iris_data)\n",
        "print(\"Précision de l'arbre :\", accuracy, \"%\")"
      ]
    },
    {
      "cell_type": "code",
      "execution_count": null,
      "id": "04c69347",
      "metadata": {
        "colab": {
          "base_uri": "https://localhost:8080/"
        },
        "id": "04c69347",
        "outputId": "88de7e49-b7ad-4a54-eb71-8489a81b97ea"
      },
      "outputs": [
        {
          "output_type": "stream",
          "name": "stdout",
          "text": [
            "Précision de l'arbre : 0.0 %\n"
          ]
        }
      ],
      "source": [
        "def evaluate_tree_performance(tree, data):\n",
        "    x, y = split_data(data)\n",
        "    correct_predictions = 0\n",
        "    for i in range(len(x)):\n",
        "      test_prediction = tree.predict(x[i])\n",
        "      if prediction == y[i]:\n",
        "        correct_predictions += 1\n",
        "    accuracy = (correct_predictions / len(x)) * 100\n",
        "    return accuracy\n",
        "\n",
        "accuracy = evaluate_tree_performance(decision_tree, iris_data)\n",
        "print(\"Précision de l'arbre :\", accuracy, \"%\")"
      ]
    },
    {
      "cell_type": "markdown",
      "id": "bef64dc2",
      "metadata": {
        "id": "bef64dc2"
      },
      "source": [
        "# Etape 6 : Améliorer l'arbre de décision\n",
        "Proposer et évaluer d'autres arbres de décision permettant d'améliorer votre prédiction sur le dataset IRIS."
      ]
    },
    {
      "cell_type": "code",
      "execution_count": null,
      "id": "1ff81685",
      "metadata": {
        "id": "1ff81685",
        "outputId": "1c98023e-4516-4c6c-ce16-918d6bcd8a53"
      },
      "outputs": [
        {
          "name": "stdout",
          "output_type": "stream",
          "text": [
            "Caractéristiques : [5.1, 3.5, 1.4, 0.2] Attendu : setosa Predit : setosa\n",
            "Caractéristiques : [4.9, 3.0, 1.4, 0.2] Attendu : setosa Predit : setosa\n",
            "Caractéristiques : [4.7, 3.2, 1.3, 0.2] Attendu : setosa Predit : setosa\n",
            "Caractéristiques : [7.0, 3.2, 4.7, 1.4] Attendu : versicolor Predit : versicolor\n",
            "Caractéristiques : [6.4, 3.2, 4.5, 1.5] Attendu : versicolor Predit : versicolor\n",
            "Caractéristiques : [6.9, 3.1, 4.9, 1.5] Attendu : versicolor Predit : virginica\n",
            "Caractéristiques : [6.3, 3.3, 6.0, 2.5] Attendu : virginica Predit : virginica\n",
            "Caractéristiques : [5.8, 2.7, 5.1, 1.9] Attendu : virginica Predit : virginica\n",
            "Caractéristiques : [7.1, 3.0, 5.9, 2.1] Attendu : virginica Predit : virginica\n",
            "Précision de l'arbre alternatif : 88.88888888888889 %\n"
          ]
        }
      ],
      "source": []
    }
  ],
  "metadata": {
    "kernelspec": {
      "display_name": "Python 3 (ipykernel)",
      "language": "python",
      "name": "python3"
    },
    "language_info": {
      "codemirror_mode": {
        "name": "ipython",
        "version": 3
      },
      "file_extension": ".py",
      "mimetype": "text/x-python",
      "name": "python",
      "nbconvert_exporter": "python",
      "pygments_lexer": "ipython3",
      "version": "3.10.8"
    },
    "colab": {
      "provenance": []
    }
  },
  "nbformat": 4,
  "nbformat_minor": 5
}