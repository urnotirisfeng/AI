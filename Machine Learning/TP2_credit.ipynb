{
 "cells": [
  {
   "cell_type": "markdown",
   "id": "f55cade9",
   "metadata": {},
   "source": [
    "# Imports"
   ]
  },
  {
   "cell_type": "code",
   "execution_count": 54,
   "id": "52e7c232",
   "metadata": {},
   "outputs": [],
   "source": []
  },
  {
   "cell_type": "markdown",
   "id": "727b270c",
   "metadata": {},
   "source": [
    "# Charger, observer et comprendre le dataset"
   ]
  },
  {
   "cell_type": "code",
   "execution_count": 55,
   "id": "1bf1d0ad",
   "metadata": {},
   "outputs": [],
   "source": []
  },
  {
   "cell_type": "markdown",
   "id": "78110919",
   "metadata": {},
   "source": [
    "# Transformer les données catégorielles en données numériques"
   ]
  },
  {
   "cell_type": "code",
   "execution_count": null,
   "id": "64971f9c",
   "metadata": {},
   "outputs": [],
   "source": []
  },
  {
   "cell_type": "markdown",
   "id": "b911e5ad",
   "metadata": {},
   "source": [
    "# Afficher et traiter les données manquantes\n",
    "Pour traiter les données manquantes, regarder `SimpleImputer` ou `KNNImputer`"
   ]
  },
  {
   "cell_type": "code",
   "execution_count": null,
   "id": "9b44c06e",
   "metadata": {},
   "outputs": [],
   "source": []
  },
  {
   "cell_type": "markdown",
   "id": "21da3408",
   "metadata": {},
   "source": [
    "# Standardiser les données"
   ]
  },
  {
   "cell_type": "code",
   "execution_count": null,
   "id": "8499e46c",
   "metadata": {},
   "outputs": [],
   "source": []
  },
  {
   "cell_type": "markdown",
   "id": "6586ced7",
   "metadata": {},
   "source": [
    "# Séparer le dataset en train et test"
   ]
  },
  {
   "cell_type": "code",
   "execution_count": null,
   "id": "b9a9499d",
   "metadata": {},
   "outputs": [],
   "source": []
  },
  {
   "cell_type": "markdown",
   "id": "f177d1b0",
   "metadata": {},
   "source": [
    "# Régression logistique\n",
    "Entrainer une régression logistique avec les hyper-paramètres par défaut"
   ]
  },
  {
   "cell_type": "code",
   "execution_count": null,
   "id": "0261922d",
   "metadata": {},
   "outputs": [],
   "source": []
  },
  {
   "cell_type": "markdown",
   "id": "a1198db5",
   "metadata": {},
   "source": [
    "# KNN\n",
    "Entrainer un KNN avec les hyper-paramètres par défaut\n",
    "Avec `GridSearchCV` ou `RandomizedSearchCV`, optimiser les hyper-paramètres. Utiliser une validation croisée de 5 splits. Vous explorerez les paramètres suivants:\n",
    "- k : 3, 5, 7, 9, 11,\n",
    "- poids : uniform, distance,\n",
    "- distances : euclidean, manhattan, minkowski"
   ]
  },
  {
   "cell_type": "code",
   "execution_count": null,
   "id": "565b0d56",
   "metadata": {},
   "outputs": [],
   "source": []
  },
  {
   "cell_type": "markdown",
   "id": "f636aafb",
   "metadata": {},
   "source": [
    "# SVM\n",
    "Entrainer un SVM avec les hyper-paramètres par défaut\n",
    "Avec `GridSearchCV` ou `RandomizedSearchCV`, optimiser les hyper-paramètres. Utiliser une validation croisée de 5 splits. Vous explorerez les paramètres suivants:\n",
    "- C : 0.01, 0.1, 1, 10, 100,\n",
    "- noyau : linear, poly, rbf, sigmoid,\n",
    "- gamma : scale, auto, 0.001, 0.01, 0.1, 1,\n",
    "- degrée du polynome : 2, 3, 4, 5"
   ]
  },
  {
   "cell_type": "code",
   "execution_count": null,
   "id": "67395c63",
   "metadata": {},
   "outputs": [],
   "source": []
  },
  {
   "cell_type": "markdown",
   "id": "72561e45",
   "metadata": {},
   "source": [
    "# DecisionTree\n",
    "Entrainer un arbre de décision avec les hyper-paramètres par défaut\n",
    "Avec `GridSearchCV` ou `RandomizedSearchCV`, optimiser les hyper-paramètres. Utiliser une validation croisée de 5 splits. Vous explorerez les hyper-paramètres suivants:\n",
    "- critère : gini, entropy,\n",
    "- profondeur maximale : None, 10, 20, 30, 40, 50,\n",
    "- nombre minimum d'exemples par split : 2, 5, 10, 20,\n",
    "- nombre minimum d'exemples par feuille : 1, 2, 4, 6,\n",
    "- nombre de features maximum : None, sqrt, log2"
   ]
  },
  {
   "cell_type": "code",
   "execution_count": null,
   "id": "c552c418",
   "metadata": {},
   "outputs": [],
   "source": []
  },
  {
   "cell_type": "markdown",
   "id": "de9cb278",
   "metadata": {},
   "source": [
    "# RandomForest\n",
    "Entrainer une forêt aléatoire avec les paramètres par défaut\n",
    "Avec `GridSearchCV` ou `RandomizedSearchCV`, optimiser les hyper-paramètres. Utiliser une validation croisée de 5 splits. Vous explorerez les hyper-paramètres suivants:\n",
    "- nombre d'arbres : 50, 100, 200, 300,\n",
    "- critère : gini, entropy,\n",
    "- profondeur maximale : None, 10, 20, 30, 40, 50,\n",
    "- nombre minimum d'exemples par split : 2, 5, 10, 20,\n",
    "- nombre minimum d'exemples par feuille : 1, 2, 4, 6,\n",
    "- nombre de features maximum : None, sqrt, log2,\n",
    "- remise des exemples : vrai, faux"
   ]
  },
  {
   "cell_type": "code",
   "execution_count": null,
   "id": "6f2f746f",
   "metadata": {},
   "outputs": [],
   "source": []
  },
  {
   "cell_type": "markdown",
   "id": "1ed062b3",
   "metadata": {},
   "source": [
    "# Rapporter et analyser les résultats obtenir. Choisir le meilleur modèle"
   ]
  },
  {
   "cell_type": "code",
   "execution_count": null,
   "id": "43a30e5e",
   "metadata": {},
   "outputs": [],
   "source": []
  },
  {
   "cell_type": "markdown",
   "id": "94fad96f",
   "metadata": {},
   "source": [
    "# Analyser le meilleur modèle\n",
    "En utilisant `classification_report`, afficher différentes métriques en train et en test du modèle choisit. Afficher la matrice de confusion en train et en test de ce même modèle. Qu'en concluez-vous sur la qualité de ce modèle?"
   ]
  },
  {
   "cell_type": "code",
   "execution_count": null,
   "id": "5afa1cb7",
   "metadata": {},
   "outputs": [],
   "source": []
  },
  {
   "cell_type": "markdown",
   "id": "efd1219c",
   "metadata": {},
   "source": [
    "# A faire à la maison : Développer un notebook similaire pour une tâche de régression"
   ]
  },
  {
   "cell_type": "code",
   "execution_count": null,
   "id": "f5fc83f3",
   "metadata": {},
   "outputs": [],
   "source": []
  }
 ],
 "metadata": {
  "kernelspec": {
   "display_name": "Python 3 (ipykernel)",
   "language": "python",
   "name": "python3"
  },
  "language_info": {
   "codemirror_mode": {
    "name": "ipython",
    "version": 3
   },
   "file_extension": ".py",
   "mimetype": "text/x-python",
   "name": "python",
   "nbconvert_exporter": "python",
   "pygments_lexer": "ipython3",
   "version": "3.10.8"
  }
 },
 "nbformat": 4,
 "nbformat_minor": 5
}
