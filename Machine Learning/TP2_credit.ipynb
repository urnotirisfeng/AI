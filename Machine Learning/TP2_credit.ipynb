{
  "cells": [
    {
      "cell_type": "markdown",
      "id": "f55cade9",
      "metadata": {
        "id": "f55cade9"
      },
      "source": [
        "# Imports"
      ]
    },
    {
      "cell_type": "code",
      "id": "52e7c232",
      "metadata": {
        "ExecuteTime": {
          "end_time": "2025-03-20T20:24:21.767992Z",
          "start_time": "2025-03-20T20:24:21.757560Z"
        },
        "id": "52e7c232"
      },
      "source": [
        "import pandas as pd\n",
        "import numpy as np\n",
        "from sklearn.preprocessing import OrdinalEncoder\n",
        "from sklearn.impute import KNNImputer\n",
        "from sklearn.preprocessing import StandardScaler\n",
        "from sklearn.model_selection import train_test_split\n",
        "from sklearn.linear_model import LogisticRegression"
      ],
      "outputs": [],
      "execution_count": null
    },
    {
      "cell_type": "markdown",
      "id": "727b270c",
      "metadata": {
        "id": "727b270c"
      },
      "source": [
        "# Charger, observer et comprendre le dataset"
      ]
    },
    {
      "cell_type": "markdown",
      "id": "78110919",
      "metadata": {
        "id": "78110919"
      },
      "source": [
        "# Transformer les données catégorielles en données numériques"
      ]
    },
    {
      "metadata": {
        "ExecuteTime": {
          "end_time": "2025-03-20T20:24:21.841894Z",
          "start_time": "2025-03-20T20:24:21.788004Z"
        },
        "id": "1bf1d0ad",
        "outputId": "0d1c83d7-a75c-46ec-f5c9-ea9a296333b9"
      },
      "cell_type": "code",
      "source": [
        "dataset = pd.read_csv('credit.csv')\n",
        "dataset.head()\n"
      ],
      "id": "1bf1d0ad",
      "outputs": [
        {
          "data": {
            "text/plain": [
              "    Loan_ID Gender Married Dependents     Education Self_Employed  \\\n",
              "0  LP001002   Male      No          0      Graduate            No   \n",
              "1  LP001003   Male     Yes          1      Graduate            No   \n",
              "2  LP001005   Male     Yes          0      Graduate           Yes   \n",
              "3  LP001006   Male     Yes          0  Not Graduate            No   \n",
              "4  LP001008   Male      No          0      Graduate            No   \n",
              "\n",
              "   ApplicantIncome  CoapplicantIncome  LoanAmount  Loan_Amount_Term  \\\n",
              "0             5849                0.0         NaN             360.0   \n",
              "1             4583             1508.0       128.0             360.0   \n",
              "2             3000                0.0        66.0             360.0   \n",
              "3             2583             2358.0       120.0             360.0   \n",
              "4             6000                0.0       141.0             360.0   \n",
              "\n",
              "   Credit_History Property_Area Loan_Status  \n",
              "0             1.0         Urban           Y  \n",
              "1             1.0         Rural           N  \n",
              "2             1.0         Urban           Y  \n",
              "3             1.0         Urban           Y  \n",
              "4             1.0         Urban           Y  "
            ],
            "text/html": [
              "<div>\n",
              "<style scoped>\n",
              "    .dataframe tbody tr th:only-of-type {\n",
              "        vertical-align: middle;\n",
              "    }\n",
              "\n",
              "    .dataframe tbody tr th {\n",
              "        vertical-align: top;\n",
              "    }\n",
              "\n",
              "    .dataframe thead th {\n",
              "        text-align: right;\n",
              "    }\n",
              "</style>\n",
              "<table border=\"1\" class=\"dataframe\">\n",
              "  <thead>\n",
              "    <tr style=\"text-align: right;\">\n",
              "      <th></th>\n",
              "      <th>Loan_ID</th>\n",
              "      <th>Gender</th>\n",
              "      <th>Married</th>\n",
              "      <th>Dependents</th>\n",
              "      <th>Education</th>\n",
              "      <th>Self_Employed</th>\n",
              "      <th>ApplicantIncome</th>\n",
              "      <th>CoapplicantIncome</th>\n",
              "      <th>LoanAmount</th>\n",
              "      <th>Loan_Amount_Term</th>\n",
              "      <th>Credit_History</th>\n",
              "      <th>Property_Area</th>\n",
              "      <th>Loan_Status</th>\n",
              "    </tr>\n",
              "  </thead>\n",
              "  <tbody>\n",
              "    <tr>\n",
              "      <th>0</th>\n",
              "      <td>LP001002</td>\n",
              "      <td>Male</td>\n",
              "      <td>No</td>\n",
              "      <td>0</td>\n",
              "      <td>Graduate</td>\n",
              "      <td>No</td>\n",
              "      <td>5849</td>\n",
              "      <td>0.0</td>\n",
              "      <td>NaN</td>\n",
              "      <td>360.0</td>\n",
              "      <td>1.0</td>\n",
              "      <td>Urban</td>\n",
              "      <td>Y</td>\n",
              "    </tr>\n",
              "    <tr>\n",
              "      <th>1</th>\n",
              "      <td>LP001003</td>\n",
              "      <td>Male</td>\n",
              "      <td>Yes</td>\n",
              "      <td>1</td>\n",
              "      <td>Graduate</td>\n",
              "      <td>No</td>\n",
              "      <td>4583</td>\n",
              "      <td>1508.0</td>\n",
              "      <td>128.0</td>\n",
              "      <td>360.0</td>\n",
              "      <td>1.0</td>\n",
              "      <td>Rural</td>\n",
              "      <td>N</td>\n",
              "    </tr>\n",
              "    <tr>\n",
              "      <th>2</th>\n",
              "      <td>LP001005</td>\n",
              "      <td>Male</td>\n",
              "      <td>Yes</td>\n",
              "      <td>0</td>\n",
              "      <td>Graduate</td>\n",
              "      <td>Yes</td>\n",
              "      <td>3000</td>\n",
              "      <td>0.0</td>\n",
              "      <td>66.0</td>\n",
              "      <td>360.0</td>\n",
              "      <td>1.0</td>\n",
              "      <td>Urban</td>\n",
              "      <td>Y</td>\n",
              "    </tr>\n",
              "    <tr>\n",
              "      <th>3</th>\n",
              "      <td>LP001006</td>\n",
              "      <td>Male</td>\n",
              "      <td>Yes</td>\n",
              "      <td>0</td>\n",
              "      <td>Not Graduate</td>\n",
              "      <td>No</td>\n",
              "      <td>2583</td>\n",
              "      <td>2358.0</td>\n",
              "      <td>120.0</td>\n",
              "      <td>360.0</td>\n",
              "      <td>1.0</td>\n",
              "      <td>Urban</td>\n",
              "      <td>Y</td>\n",
              "    </tr>\n",
              "    <tr>\n",
              "      <th>4</th>\n",
              "      <td>LP001008</td>\n",
              "      <td>Male</td>\n",
              "      <td>No</td>\n",
              "      <td>0</td>\n",
              "      <td>Graduate</td>\n",
              "      <td>No</td>\n",
              "      <td>6000</td>\n",
              "      <td>0.0</td>\n",
              "      <td>141.0</td>\n",
              "      <td>360.0</td>\n",
              "      <td>1.0</td>\n",
              "      <td>Urban</td>\n",
              "      <td>Y</td>\n",
              "    </tr>\n",
              "  </tbody>\n",
              "</table>\n",
              "</div>"
            ]
          },
          "execution_count": 18,
          "metadata": {},
          "output_type": "execute_result"
        }
      ],
      "execution_count": null
    },
    {
      "cell_type": "code",
      "id": "64971f9c",
      "metadata": {
        "ExecuteTime": {
          "end_time": "2025-03-20T20:24:21.997400Z",
          "start_time": "2025-03-20T20:24:21.956880Z"
        },
        "id": "64971f9c",
        "outputId": "ff913aa4-33bc-4b9a-b730-3425b03291a1"
      },
      "source": [
        "\n",
        "enc = OrdinalEncoder()\n",
        "\n",
        "X = dataset.drop(['Loan_ID', 'Loan_Status'], axis=1)\n",
        "\n",
        "categorical_columes = ['Gender','Married','Dependents', 'Education', 'Self_Employed', 'Property_Area']\n",
        "X[categorical_columes] = enc.fit_transform(X[categorical_columes])\n",
        "\n",
        "\n",
        "y = dataset['Loan_Status']\n",
        "# y.head()\n",
        "X.head(20)\n",
        "\n",
        "\n"
      ],
      "outputs": [
        {
          "data": {
            "text/plain": [
              "    Gender  Married  Dependents  Education  Self_Employed  ApplicantIncome  \\\n",
              "0      1.0      0.0         0.0        0.0            0.0             5849   \n",
              "1      1.0      1.0         1.0        0.0            0.0             4583   \n",
              "2      1.0      1.0         0.0        0.0            1.0             3000   \n",
              "3      1.0      1.0         0.0        1.0            0.0             2583   \n",
              "4      1.0      0.0         0.0        0.0            0.0             6000   \n",
              "5      1.0      1.0         2.0        0.0            1.0             5417   \n",
              "6      1.0      1.0         0.0        1.0            0.0             2333   \n",
              "7      1.0      1.0         3.0        0.0            0.0             3036   \n",
              "8      1.0      1.0         2.0        0.0            0.0             4006   \n",
              "9      1.0      1.0         1.0        0.0            0.0            12841   \n",
              "10     1.0      1.0         2.0        0.0            0.0             3200   \n",
              "11     1.0      1.0         2.0        0.0            NaN             2500   \n",
              "12     1.0      1.0         2.0        0.0            0.0             3073   \n",
              "13     1.0      0.0         0.0        0.0            0.0             1853   \n",
              "14     1.0      1.0         2.0        0.0            0.0             1299   \n",
              "15     1.0      0.0         0.0        0.0            0.0             4950   \n",
              "16     1.0      0.0         1.0        1.0            0.0             3596   \n",
              "17     0.0      0.0         0.0        0.0            0.0             3510   \n",
              "18     1.0      1.0         0.0        1.0            0.0             4887   \n",
              "19     1.0      1.0         0.0        0.0            NaN             2600   \n",
              "\n",
              "    CoapplicantIncome  LoanAmount  Loan_Amount_Term  Credit_History  \\\n",
              "0                 0.0         NaN             360.0             1.0   \n",
              "1              1508.0       128.0             360.0             1.0   \n",
              "2                 0.0        66.0             360.0             1.0   \n",
              "3              2358.0       120.0             360.0             1.0   \n",
              "4                 0.0       141.0             360.0             1.0   \n",
              "5              4196.0       267.0             360.0             1.0   \n",
              "6              1516.0        95.0             360.0             1.0   \n",
              "7              2504.0       158.0             360.0             0.0   \n",
              "8              1526.0       168.0             360.0             1.0   \n",
              "9             10968.0       349.0             360.0             1.0   \n",
              "10              700.0        70.0             360.0             1.0   \n",
              "11             1840.0       109.0             360.0             1.0   \n",
              "12             8106.0       200.0             360.0             1.0   \n",
              "13             2840.0       114.0             360.0             1.0   \n",
              "14             1086.0        17.0             120.0             1.0   \n",
              "15                0.0       125.0             360.0             1.0   \n",
              "16                0.0       100.0             240.0             NaN   \n",
              "17                0.0        76.0             360.0             0.0   \n",
              "18                0.0       133.0             360.0             1.0   \n",
              "19             3500.0       115.0               NaN             1.0   \n",
              "\n",
              "    Property_Area  \n",
              "0             2.0  \n",
              "1             0.0  \n",
              "2             2.0  \n",
              "3             2.0  \n",
              "4             2.0  \n",
              "5             2.0  \n",
              "6             2.0  \n",
              "7             1.0  \n",
              "8             2.0  \n",
              "9             1.0  \n",
              "10            2.0  \n",
              "11            2.0  \n",
              "12            2.0  \n",
              "13            0.0  \n",
              "14            2.0  \n",
              "15            2.0  \n",
              "16            2.0  \n",
              "17            2.0  \n",
              "18            0.0  \n",
              "19            2.0  "
            ],
            "text/html": [
              "<div>\n",
              "<style scoped>\n",
              "    .dataframe tbody tr th:only-of-type {\n",
              "        vertical-align: middle;\n",
              "    }\n",
              "\n",
              "    .dataframe tbody tr th {\n",
              "        vertical-align: top;\n",
              "    }\n",
              "\n",
              "    .dataframe thead th {\n",
              "        text-align: right;\n",
              "    }\n",
              "</style>\n",
              "<table border=\"1\" class=\"dataframe\">\n",
              "  <thead>\n",
              "    <tr style=\"text-align: right;\">\n",
              "      <th></th>\n",
              "      <th>Gender</th>\n",
              "      <th>Married</th>\n",
              "      <th>Dependents</th>\n",
              "      <th>Education</th>\n",
              "      <th>Self_Employed</th>\n",
              "      <th>ApplicantIncome</th>\n",
              "      <th>CoapplicantIncome</th>\n",
              "      <th>LoanAmount</th>\n",
              "      <th>Loan_Amount_Term</th>\n",
              "      <th>Credit_History</th>\n",
              "      <th>Property_Area</th>\n",
              "    </tr>\n",
              "  </thead>\n",
              "  <tbody>\n",
              "    <tr>\n",
              "      <th>0</th>\n",
              "      <td>1.0</td>\n",
              "      <td>0.0</td>\n",
              "      <td>0.0</td>\n",
              "      <td>0.0</td>\n",
              "      <td>0.0</td>\n",
              "      <td>5849</td>\n",
              "      <td>0.0</td>\n",
              "      <td>NaN</td>\n",
              "      <td>360.0</td>\n",
              "      <td>1.0</td>\n",
              "      <td>2.0</td>\n",
              "    </tr>\n",
              "    <tr>\n",
              "      <th>1</th>\n",
              "      <td>1.0</td>\n",
              "      <td>1.0</td>\n",
              "      <td>1.0</td>\n",
              "      <td>0.0</td>\n",
              "      <td>0.0</td>\n",
              "      <td>4583</td>\n",
              "      <td>1508.0</td>\n",
              "      <td>128.0</td>\n",
              "      <td>360.0</td>\n",
              "      <td>1.0</td>\n",
              "      <td>0.0</td>\n",
              "    </tr>\n",
              "    <tr>\n",
              "      <th>2</th>\n",
              "      <td>1.0</td>\n",
              "      <td>1.0</td>\n",
              "      <td>0.0</td>\n",
              "      <td>0.0</td>\n",
              "      <td>1.0</td>\n",
              "      <td>3000</td>\n",
              "      <td>0.0</td>\n",
              "      <td>66.0</td>\n",
              "      <td>360.0</td>\n",
              "      <td>1.0</td>\n",
              "      <td>2.0</td>\n",
              "    </tr>\n",
              "    <tr>\n",
              "      <th>3</th>\n",
              "      <td>1.0</td>\n",
              "      <td>1.0</td>\n",
              "      <td>0.0</td>\n",
              "      <td>1.0</td>\n",
              "      <td>0.0</td>\n",
              "      <td>2583</td>\n",
              "      <td>2358.0</td>\n",
              "      <td>120.0</td>\n",
              "      <td>360.0</td>\n",
              "      <td>1.0</td>\n",
              "      <td>2.0</td>\n",
              "    </tr>\n",
              "    <tr>\n",
              "      <th>4</th>\n",
              "      <td>1.0</td>\n",
              "      <td>0.0</td>\n",
              "      <td>0.0</td>\n",
              "      <td>0.0</td>\n",
              "      <td>0.0</td>\n",
              "      <td>6000</td>\n",
              "      <td>0.0</td>\n",
              "      <td>141.0</td>\n",
              "      <td>360.0</td>\n",
              "      <td>1.0</td>\n",
              "      <td>2.0</td>\n",
              "    </tr>\n",
              "    <tr>\n",
              "      <th>5</th>\n",
              "      <td>1.0</td>\n",
              "      <td>1.0</td>\n",
              "      <td>2.0</td>\n",
              "      <td>0.0</td>\n",
              "      <td>1.0</td>\n",
              "      <td>5417</td>\n",
              "      <td>4196.0</td>\n",
              "      <td>267.0</td>\n",
              "      <td>360.0</td>\n",
              "      <td>1.0</td>\n",
              "      <td>2.0</td>\n",
              "    </tr>\n",
              "    <tr>\n",
              "      <th>6</th>\n",
              "      <td>1.0</td>\n",
              "      <td>1.0</td>\n",
              "      <td>0.0</td>\n",
              "      <td>1.0</td>\n",
              "      <td>0.0</td>\n",
              "      <td>2333</td>\n",
              "      <td>1516.0</td>\n",
              "      <td>95.0</td>\n",
              "      <td>360.0</td>\n",
              "      <td>1.0</td>\n",
              "      <td>2.0</td>\n",
              "    </tr>\n",
              "    <tr>\n",
              "      <th>7</th>\n",
              "      <td>1.0</td>\n",
              "      <td>1.0</td>\n",
              "      <td>3.0</td>\n",
              "      <td>0.0</td>\n",
              "      <td>0.0</td>\n",
              "      <td>3036</td>\n",
              "      <td>2504.0</td>\n",
              "      <td>158.0</td>\n",
              "      <td>360.0</td>\n",
              "      <td>0.0</td>\n",
              "      <td>1.0</td>\n",
              "    </tr>\n",
              "    <tr>\n",
              "      <th>8</th>\n",
              "      <td>1.0</td>\n",
              "      <td>1.0</td>\n",
              "      <td>2.0</td>\n",
              "      <td>0.0</td>\n",
              "      <td>0.0</td>\n",
              "      <td>4006</td>\n",
              "      <td>1526.0</td>\n",
              "      <td>168.0</td>\n",
              "      <td>360.0</td>\n",
              "      <td>1.0</td>\n",
              "      <td>2.0</td>\n",
              "    </tr>\n",
              "    <tr>\n",
              "      <th>9</th>\n",
              "      <td>1.0</td>\n",
              "      <td>1.0</td>\n",
              "      <td>1.0</td>\n",
              "      <td>0.0</td>\n",
              "      <td>0.0</td>\n",
              "      <td>12841</td>\n",
              "      <td>10968.0</td>\n",
              "      <td>349.0</td>\n",
              "      <td>360.0</td>\n",
              "      <td>1.0</td>\n",
              "      <td>1.0</td>\n",
              "    </tr>\n",
              "    <tr>\n",
              "      <th>10</th>\n",
              "      <td>1.0</td>\n",
              "      <td>1.0</td>\n",
              "      <td>2.0</td>\n",
              "      <td>0.0</td>\n",
              "      <td>0.0</td>\n",
              "      <td>3200</td>\n",
              "      <td>700.0</td>\n",
              "      <td>70.0</td>\n",
              "      <td>360.0</td>\n",
              "      <td>1.0</td>\n",
              "      <td>2.0</td>\n",
              "    </tr>\n",
              "    <tr>\n",
              "      <th>11</th>\n",
              "      <td>1.0</td>\n",
              "      <td>1.0</td>\n",
              "      <td>2.0</td>\n",
              "      <td>0.0</td>\n",
              "      <td>NaN</td>\n",
              "      <td>2500</td>\n",
              "      <td>1840.0</td>\n",
              "      <td>109.0</td>\n",
              "      <td>360.0</td>\n",
              "      <td>1.0</td>\n",
              "      <td>2.0</td>\n",
              "    </tr>\n",
              "    <tr>\n",
              "      <th>12</th>\n",
              "      <td>1.0</td>\n",
              "      <td>1.0</td>\n",
              "      <td>2.0</td>\n",
              "      <td>0.0</td>\n",
              "      <td>0.0</td>\n",
              "      <td>3073</td>\n",
              "      <td>8106.0</td>\n",
              "      <td>200.0</td>\n",
              "      <td>360.0</td>\n",
              "      <td>1.0</td>\n",
              "      <td>2.0</td>\n",
              "    </tr>\n",
              "    <tr>\n",
              "      <th>13</th>\n",
              "      <td>1.0</td>\n",
              "      <td>0.0</td>\n",
              "      <td>0.0</td>\n",
              "      <td>0.0</td>\n",
              "      <td>0.0</td>\n",
              "      <td>1853</td>\n",
              "      <td>2840.0</td>\n",
              "      <td>114.0</td>\n",
              "      <td>360.0</td>\n",
              "      <td>1.0</td>\n",
              "      <td>0.0</td>\n",
              "    </tr>\n",
              "    <tr>\n",
              "      <th>14</th>\n",
              "      <td>1.0</td>\n",
              "      <td>1.0</td>\n",
              "      <td>2.0</td>\n",
              "      <td>0.0</td>\n",
              "      <td>0.0</td>\n",
              "      <td>1299</td>\n",
              "      <td>1086.0</td>\n",
              "      <td>17.0</td>\n",
              "      <td>120.0</td>\n",
              "      <td>1.0</td>\n",
              "      <td>2.0</td>\n",
              "    </tr>\n",
              "    <tr>\n",
              "      <th>15</th>\n",
              "      <td>1.0</td>\n",
              "      <td>0.0</td>\n",
              "      <td>0.0</td>\n",
              "      <td>0.0</td>\n",
              "      <td>0.0</td>\n",
              "      <td>4950</td>\n",
              "      <td>0.0</td>\n",
              "      <td>125.0</td>\n",
              "      <td>360.0</td>\n",
              "      <td>1.0</td>\n",
              "      <td>2.0</td>\n",
              "    </tr>\n",
              "    <tr>\n",
              "      <th>16</th>\n",
              "      <td>1.0</td>\n",
              "      <td>0.0</td>\n",
              "      <td>1.0</td>\n",
              "      <td>1.0</td>\n",
              "      <td>0.0</td>\n",
              "      <td>3596</td>\n",
              "      <td>0.0</td>\n",
              "      <td>100.0</td>\n",
              "      <td>240.0</td>\n",
              "      <td>NaN</td>\n",
              "      <td>2.0</td>\n",
              "    </tr>\n",
              "    <tr>\n",
              "      <th>17</th>\n",
              "      <td>0.0</td>\n",
              "      <td>0.0</td>\n",
              "      <td>0.0</td>\n",
              "      <td>0.0</td>\n",
              "      <td>0.0</td>\n",
              "      <td>3510</td>\n",
              "      <td>0.0</td>\n",
              "      <td>76.0</td>\n",
              "      <td>360.0</td>\n",
              "      <td>0.0</td>\n",
              "      <td>2.0</td>\n",
              "    </tr>\n",
              "    <tr>\n",
              "      <th>18</th>\n",
              "      <td>1.0</td>\n",
              "      <td>1.0</td>\n",
              "      <td>0.0</td>\n",
              "      <td>1.0</td>\n",
              "      <td>0.0</td>\n",
              "      <td>4887</td>\n",
              "      <td>0.0</td>\n",
              "      <td>133.0</td>\n",
              "      <td>360.0</td>\n",
              "      <td>1.0</td>\n",
              "      <td>0.0</td>\n",
              "    </tr>\n",
              "    <tr>\n",
              "      <th>19</th>\n",
              "      <td>1.0</td>\n",
              "      <td>1.0</td>\n",
              "      <td>0.0</td>\n",
              "      <td>0.0</td>\n",
              "      <td>NaN</td>\n",
              "      <td>2600</td>\n",
              "      <td>3500.0</td>\n",
              "      <td>115.0</td>\n",
              "      <td>NaN</td>\n",
              "      <td>1.0</td>\n",
              "      <td>2.0</td>\n",
              "    </tr>\n",
              "  </tbody>\n",
              "</table>\n",
              "</div>"
            ]
          },
          "execution_count": 19,
          "metadata": {},
          "output_type": "execute_result"
        }
      ],
      "execution_count": null
    },
    {
      "cell_type": "markdown",
      "id": "b911e5ad",
      "metadata": {
        "id": "b911e5ad"
      },
      "source": [
        "# Afficher et traiter les données manquantes\n",
        "Pour traiter les données manquantes, regarder `SimpleImputer` ou `KNNImputer`"
      ]
    },
    {
      "cell_type": "code",
      "id": "9b44c06e",
      "metadata": {
        "ExecuteTime": {
          "end_time": "2025-03-20T20:24:22.063599Z",
          "start_time": "2025-03-20T20:24:22.048506Z"
        },
        "id": "9b44c06e",
        "outputId": "34e9c422-3587-4000-da11-4819c2b31281"
      },
      "source": [
        "imputer = KNNImputer(n_neighbors=5)\n",
        "\n",
        "# print(dataset)\n",
        "\n",
        "X = imputer.fit_transform(X)\n",
        "X"
      ],
      "outputs": [
        {
          "data": {
            "text/plain": [
              "array([[  1.,   0.,   0., ..., 360.,   1.,   2.],\n",
              "       [  1.,   1.,   1., ..., 360.,   1.,   0.],\n",
              "       [  1.,   1.,   0., ..., 360.,   1.,   2.],\n",
              "       ...,\n",
              "       [  1.,   1.,   1., ..., 360.,   1.,   2.],\n",
              "       [  1.,   1.,   2., ..., 360.,   1.,   2.],\n",
              "       [  0.,   0.,   0., ..., 360.,   0.,   1.]])"
            ]
          },
          "execution_count": 20,
          "metadata": {},
          "output_type": "execute_result"
        }
      ],
      "execution_count": null
    },
    {
      "cell_type": "markdown",
      "id": "21da3408",
      "metadata": {
        "id": "21da3408"
      },
      "source": [
        "# Standardiser les données"
      ]
    },
    {
      "cell_type": "code",
      "id": "8499e46c",
      "metadata": {
        "ExecuteTime": {
          "end_time": "2025-03-20T20:24:22.175936Z",
          "start_time": "2025-03-20T20:24:22.169107Z"
        },
        "id": "8499e46c",
        "outputId": "921f4a09-5c4a-4cc4-d5b2-56cb83663a70"
      },
      "source": [
        "scaler = StandardScaler()\n",
        "\n",
        "# numerical_column = ['Dependents','ApplicantIncome','CoapplicantIncome','LoanAmount','Loan_Amount_Term','Property_Area']\n",
        "# X[numerical_column] = scaler.fit_transform(X[numerical_column])\n",
        "\n",
        "X = scaler.fit_transform(X)\n",
        "X\n"
      ],
      "outputs": [
        {
          "data": {
            "text/plain": [
              "array([[ 0.4821753 , -1.37110552, -0.76283716, ...,  0.27958831,\n",
              "         0.44857574,  1.22329839],\n",
              "       [ 0.4821753 ,  0.73143891,  0.23244974, ...,  0.27958831,\n",
              "         0.44857574, -1.31851281],\n",
              "       [ 0.4821753 ,  0.73143891, -0.76283716, ...,  0.27958831,\n",
              "         0.44857574,  1.22329839],\n",
              "       ...,\n",
              "       [ 0.4821753 ,  0.73143891,  0.23244974, ...,  0.27958831,\n",
              "         0.44857574,  1.22329839],\n",
              "       [ 0.4821753 ,  0.73143891,  1.22773664, ...,  0.27958831,\n",
              "         0.44857574,  1.22329839],\n",
              "       [-2.11025581, -1.37110552, -0.76283716, ...,  0.27958831,\n",
              "        -2.39086246, -0.04760721]])"
            ]
          },
          "execution_count": 21,
          "metadata": {},
          "output_type": "execute_result"
        }
      ],
      "execution_count": null
    },
    {
      "cell_type": "markdown",
      "id": "6586ced7",
      "metadata": {
        "id": "6586ced7"
      },
      "source": [
        "# Séparer le dataset en train et test"
      ]
    },
    {
      "cell_type": "code",
      "id": "b9a9499d",
      "metadata": {
        "ExecuteTime": {
          "end_time": "2025-03-20T20:24:22.331405Z",
          "start_time": "2025-03-20T20:24:22.325381Z"
        },
        "id": "b9a9499d"
      },
      "source": [
        "X_train, X_test, y_train, y_test = train_test_split(X, y)"
      ],
      "outputs": [],
      "execution_count": null
    },
    {
      "cell_type": "markdown",
      "id": "f177d1b0",
      "metadata": {
        "id": "f177d1b0"
      },
      "source": [
        "# Régression logistique\n",
        "Entrainer une régression logistique avec les hyper-paramètres par défaut"
      ]
    },
    {
      "cell_type": "code",
      "id": "d1065a37d56ec96c",
      "metadata": {
        "ExecuteTime": {
          "end_time": "2025-03-20T20:24:22.440611Z",
          "start_time": "2025-03-20T20:24:22.432692Z"
        },
        "id": "d1065a37d56ec96c"
      },
      "source": [
        "clf = LogisticRegression()\n",
        "clf.fit(X_train, y_train)\n",
        "\n",
        "\n",
        "y_pred_test = clf.predict(X_test)\n",
        "# for i in range(len(y_pred_test)):\n",
        "#     print(str(list(y_pred_test)[i]) + ' vs ' + str(list(y_test)[i]))\n"
      ],
      "outputs": [],
      "execution_count": null
    },
    {
      "metadata": {
        "ExecuteTime": {
          "end_time": "2025-03-20T20:24:22.521216Z",
          "start_time": "2025-03-20T20:24:22.515802Z"
        },
        "id": "ba160bc0817607ad",
        "outputId": "1be5253c-2bf1-4a54-88b5-e34cf5c1524a"
      },
      "cell_type": "code",
      "source": [
        "clf.score(X_test, y_test)"
      ],
      "id": "ba160bc0817607ad",
      "outputs": [
        {
          "data": {
            "text/plain": [
              "0.8051948051948052"
            ]
          },
          "execution_count": 24,
          "metadata": {},
          "output_type": "execute_result"
        }
      ],
      "execution_count": null
    },
    {
      "metadata": {
        "ExecuteTime": {
          "end_time": "2025-03-20T20:24:22.574523Z",
          "start_time": "2025-03-20T20:24:22.567769Z"
        },
        "id": "0261922d",
        "outputId": "12f86357-1787-41df-8c19-1aeb279cb773"
      },
      "cell_type": "code",
      "source": [
        "clf.score(X_train, y_train)"
      ],
      "id": "0261922d",
      "outputs": [
        {
          "data": {
            "text/plain": [
              "0.8130434782608695"
            ]
          },
          "execution_count": 25,
          "metadata": {},
          "output_type": "execute_result"
        }
      ],
      "execution_count": null
    },
    {
      "cell_type": "markdown",
      "id": "a1198db5",
      "metadata": {
        "id": "a1198db5"
      },
      "source": [
        "# KNN\n",
        "Entrainer un KNN avec les hyper-paramètres par défaut\n",
        "Avec `GridSearchCV` ou `RandomizedSearchCV`, optimiser les hyper-paramètres. Utiliser une validation croisée de 5 splits. Vous explorerez les paramètres suivants:\n",
        "- k : 3, 5, 7, 9, 11,\n",
        "- poids : uniform, distance,\n",
        "- distances : euclidean, manhattan, minkowski"
      ]
    },
    {
      "cell_type": "code",
      "id": "565b0d56",
      "metadata": {
        "ExecuteTime": {
          "end_time": "2025-03-20T20:24:25.584384Z",
          "start_time": "2025-03-20T20:24:22.609587Z"
        },
        "id": "565b0d56",
        "outputId": "3073d196-922e-4eed-9198-09c79ce921d0"
      },
      "source": [
        "from sklearn.neighbors import KNeighborsClassifier\n",
        "from sklearn.model_selection import GridSearchCV\n",
        "from sklearn.metrics import classification_report, confusion_matrix\n",
        "\n",
        "# 定义 KNN 模型\n",
        "knn = KNeighborsClassifier()\n",
        "\n",
        "# 定义超参数搜索空间\n",
        "param_grid = {\n",
        "    'n_neighbors': [3, 5, 7, 9, 11],  # k 值\n",
        "    'weights': ['uniform', 'distance'],  # 权重\n",
        "    'metric': ['euclidean', 'manhattan', 'minkowski']  # 距离度量\n",
        "}\n",
        "\n",
        "# 使用 5 折交叉验证进行网格搜索\n",
        "grid_search = GridSearchCV(knn, param_grid, cv=5, scoring='accuracy', n_jobs=-1)\n",
        "grid_search.fit(X_train, y_train)\n",
        "\n",
        "# 输出最佳超参数\n",
        "print(\"最佳超参数:\", grid_search.best_params_)\n",
        "print(\"最佳交叉验证准确率:\", grid_search.best_score_)\n",
        "\n",
        "# 使用最佳参数的模型进行预测\n",
        "best_knn = grid_search.best_estimator_\n",
        "y_pred = best_knn.predict(X_test)\n",
        "\n",
        "# 评估模型性能\n",
        "print(\"\\n分类报告 (测试集):\")\n",
        "print(classification_report(y_test, y_pred))\n",
        "\n",
        "# 显示混淆矩阵\n",
        "print(\"\\n混淆矩阵:\")\n",
        "print(confusion_matrix(y_test, y_pred))"
      ],
      "outputs": [
        {
          "name": "stdout",
          "output_type": "stream",
          "text": [
            "最佳超参数: {'metric': 'euclidean', 'n_neighbors': 7, 'weights': 'uniform'}\n",
            "最佳交叉验证准确率: 0.7956521739130434\n",
            "\n",
            "分类报告 (测试集):\n",
            "              precision    recall  f1-score   support\n",
            "\n",
            "           N       0.88      0.47      0.61        49\n",
            "           Y       0.80      0.97      0.88       105\n",
            "\n",
            "    accuracy                           0.81       154\n",
            "   macro avg       0.84      0.72      0.74       154\n",
            "weighted avg       0.82      0.81      0.79       154\n",
            "\n",
            "\n",
            "混淆矩阵:\n",
            "[[ 23  26]\n",
            " [  3 102]]\n"
          ]
        }
      ],
      "execution_count": null
    },
    {
      "cell_type": "markdown",
      "id": "f636aafb",
      "metadata": {
        "id": "f636aafb"
      },
      "source": [
        "# SVM\n",
        "Entrainer un SVM avec les hyper-paramètres par défaut\n",
        "Avec `GridSearchCV` ou `RandomizedSearchCV`, optimiser les hyper-paramètres. Utiliser une validation croisée de 5 splits. Vous explorerez les paramètres suivants:\n",
        "- C : 0.01, 0.1, 1, 10, 100,\n",
        "- noyau : linear, poly, rbf, sigmoid,\n",
        "- gamma : scale, auto, 0.001, 0.01, 0.1, 1,\n",
        "- degrée du polynome : 2, 3, 4, 5"
      ]
    },
    {
      "cell_type": "code",
      "id": "67395c63",
      "metadata": {
        "ExecuteTime": {
          "end_time": "2025-03-20T20:24:49.089122Z",
          "start_time": "2025-03-20T20:24:25.597733Z"
        },
        "id": "67395c63",
        "outputId": "42afaabc-3a3e-436d-be56-f9c44a07f68e"
      },
      "source": [
        "from sklearn.svm import SVC\n",
        "from sklearn.model_selection import GridSearchCV\n",
        "from sklearn.metrics import classification_report, confusion_matrix\n",
        "\n",
        "# Définir le modèle SVM\n",
        "svm = SVC()\n",
        "\n",
        "# Définir la grille de recherche des hyperparamètres\n",
        "param_grid = {\n",
        "    'C': [0.01, 0.1, 1, 10, 100],          # Paramètre de régularisation\n",
        "    'kernel': ['linear', 'poly', 'rbf', 'sigmoid'],  # Type de noyau\n",
        "    'gamma': ['scale', 'auto', 0.001, 0.01, 0.1, 1],  # Paramètre gamma\n",
        "    'degree': [2, 3, 4, 5]  # Degré du polynôme pour le noyau 'poly'\n",
        "}\n",
        "\n",
        "# Utilisation de GridSearchCV avec validation croisée à 5 splits\n",
        "grid_search = GridSearchCV(svm, param_grid, cv=5, scoring='accuracy', n_jobs=-1)\n",
        "grid_search.fit(X_train, y_train)\n",
        "\n",
        "# Afficher les meilleurs paramètres\n",
        "print(\"Meilleurs hyperparamètres:\", grid_search.best_params_)\n",
        "print(\"Meilleure précision en validation croisée:\", grid_search.best_score_)\n",
        "\n",
        "# Évaluer le modèle avec les meilleurs hyperparamètres\n",
        "best_svm = grid_search.best_estimator_\n",
        "y_pred = best_svm.predict(X_test)\n",
        "\n",
        "# Afficher le rapport de classification\n",
        "print(\"\\nRapport de classification (test set) :\")\n",
        "print(classification_report(y_test, y_pred))\n",
        "\n",
        "# Afficher la matrice de confusion\n",
        "print(\"\\nMatrice de confusion :\")\n",
        "print(confusion_matrix(y_test, y_pred))\n",
        "\n"
      ],
      "outputs": [
        {
          "name": "stdout",
          "output_type": "stream",
          "text": [
            "Meilleurs hyperparamètres: {'C': 1, 'degree': 2, 'gamma': 0.01, 'kernel': 'rbf'}\n",
            "Meilleure précision en validation croisée: 0.8108695652173914\n",
            "\n",
            "Rapport de classification (test set) :\n",
            "              precision    recall  f1-score   support\n",
            "\n",
            "           N       0.92      0.45      0.60        49\n",
            "           Y       0.79      0.98      0.88       105\n",
            "\n",
            "    accuracy                           0.81       154\n",
            "   macro avg       0.85      0.71      0.74       154\n",
            "weighted avg       0.83      0.81      0.79       154\n",
            "\n",
            "\n",
            "Matrice de confusion :\n",
            "[[ 22  27]\n",
            " [  2 103]]\n"
          ]
        }
      ],
      "execution_count": null
    },
    {
      "cell_type": "markdown",
      "id": "72561e45",
      "metadata": {
        "id": "72561e45"
      },
      "source": [
        "# DecisionTree\n",
        "Entrainer un arbre de décision avec les hyper-paramètres par défaut\n",
        "Avec `GridSearchCV` ou `RandomizedSearchCV`, optimiser les hyper-paramètres. Utiliser une validation croisée de 5 splits. Vous explorerez les hyper-paramètres suivants:\n",
        "- critère : gini, entropy,\n",
        "- profondeur maximale : None, 10, 20, 30, 40, 50,\n",
        "- nombre minimum d'exemples par split : 2, 5, 10, 20,\n",
        "- nombre minimum d'exemples par feuille : 1, 2, 4, 6,\n",
        "- nombre de features maximum : None, sqrt, log2"
      ]
    },
    {
      "cell_type": "code",
      "id": "c552c418",
      "metadata": {
        "ExecuteTime": {
          "end_time": "2025-03-20T20:24:50.451718Z",
          "start_time": "2025-03-20T20:24:49.104124Z"
        },
        "id": "c552c418",
        "outputId": "3ecf25be-f94f-4feb-b2b4-54817014b5dc"
      },
      "source": [
        "from sklearn.tree import DecisionTreeClassifier\n",
        "from sklearn.model_selection import GridSearchCV\n",
        "from sklearn.metrics import classification_report, confusion_matrix\n",
        "\n",
        "# Définir le modèle Decision Tree\n",
        "tree = DecisionTreeClassifier()\n",
        "\n",
        "# Définir la grille de recherche des hyperparamètres\n",
        "param_grid = {\n",
        "    'criterion': ['gini', 'entropy'],  # Fonction de mesure de qualité\n",
        "    'max_depth': [None, 10, 20, 30, 40, 50],  # Profondeur max\n",
        "    'min_samples_split': [2, 5, 10, 20],  # Min échantillons pour split\n",
        "    'min_samples_leaf': [1, 2, 4, 6],  # Min échantillons par feuille\n",
        "    'max_features': [None, 'sqrt', 'log2']  # Nombre max de features par split\n",
        "}\n",
        "\n",
        "# Utilisation de GridSearchCV avec validation croisée à 5 splits\n",
        "grid_search = GridSearchCV(tree, param_grid, cv=5, scoring='accuracy', n_jobs=-1)\n",
        "grid_search.fit(X_train, y_train)\n",
        "\n",
        "# Afficher les meilleurs paramètres\n",
        "print(\"Meilleurs hyperparamètres:\", grid_search.best_params_)\n",
        "print(\"Meilleure précision en validation croisée:\", grid_search.best_score_)\n",
        "\n",
        "# Évaluer le modèle avec les meilleurs hyperparamètres\n",
        "best_tree = grid_search.best_estimator_\n",
        "y_pred = best_tree.predict(X_test)\n",
        "\n",
        "# Afficher le rapport de classification\n",
        "print(\"\\nRapport de classification (test set) :\")\n",
        "print(classification_report(y_test, y_pred))\n",
        "\n",
        "# Afficher la matrice de confusion\n",
        "print(\"\\nMatrice de confusion :\")\n",
        "print(confusion_matrix(y_test, y_pred))\n"
      ],
      "outputs": [
        {
          "name": "stdout",
          "output_type": "stream",
          "text": [
            "Meilleurs hyperparamètres: {'criterion': 'gini', 'max_depth': 40, 'max_features': 'sqrt', 'min_samples_leaf': 4, 'min_samples_split': 20}\n",
            "Meilleure précision en validation croisée: 0.7804347826086957\n",
            "\n",
            "Rapport de classification (test set) :\n",
            "              precision    recall  f1-score   support\n",
            "\n",
            "           N       0.63      0.49      0.55        49\n",
            "           Y       0.78      0.87      0.82       105\n",
            "\n",
            "    accuracy                           0.75       154\n",
            "   macro avg       0.71      0.68      0.69       154\n",
            "weighted avg       0.74      0.75      0.74       154\n",
            "\n",
            "\n",
            "Matrice de confusion :\n",
            "[[24 25]\n",
            " [14 91]]\n"
          ]
        }
      ],
      "execution_count": null
    },
    {
      "cell_type": "markdown",
      "id": "de9cb278",
      "metadata": {
        "id": "de9cb278"
      },
      "source": [
        "# RandomForest\n",
        "Entrainer une forêt aléatoire avec les paramètres par défaut\n",
        "Avec `GridSearchCV` ou `RandomizedSearchCV`, optimiser les hyper-paramètres. Utiliser une validation croisée de 5 splits. Vous explorerez les hyper-paramètres suivants:\n",
        "- nombre d'arbres : 50, 100, 200, 300,\n",
        "- critère : gini, entropy,\n",
        "- profondeur maximale : None, 10, 20, 30, 40, 50,\n",
        "- nombre minimum d'exemples par split : 2, 5, 10, 20,\n",
        "- nombre minimum d'exemples par feuille : 1, 2, 4, 6,\n",
        "- nombre de features maximum : None, sqrt, log2,\n",
        "- remise des exemples : vrai, faux"
      ]
    },
    {
      "cell_type": "code",
      "id": "6f2f746f",
      "metadata": {
        "ExecuteTime": {
          "end_time": "2025-03-20T20:44:55.931201Z",
          "start_time": "2025-03-20T20:24:50.465561Z"
        },
        "id": "6f2f746f",
        "outputId": "43d1bc16-61b2-4fb3-8854-45fdb95b083b"
      },
      "source": [
        "from sklearn.model_selection import RandomizedSearchCV\n",
        "from sklearn.ensemble import RandomForestClassifier\n",
        "\n",
        "# Définition du modèle Random Forest\n",
        "rf = RandomForestClassifier(random_state=42)\n",
        "\n",
        "# Définition de la grille de recherche\n",
        "param_grid = {\n",
        "    'n_estimators': [50, 100, 200, 300],\n",
        "    'criterion': ['gini', 'entropy'],\n",
        "    'max_depth': [None, 10, 20, 30, 40, 50],\n",
        "    'min_samples_split': [2, 5, 10, 20],\n",
        "    'min_samples_leaf': [1, 2, 4, 6],\n",
        "    'max_features': [None, 'sqrt', 'log2'],\n",
        "    'bootstrap': [True, False]\n",
        "}\n",
        "\n",
        "# Création du GridSearchCV avec 5-fold cross-validation\n",
        "grid_search = GridSearchCV(rf, param_grid, cv=5, scoring='accuracy', n_jobs=-1)\n",
        "grid_search.fit(X_train, y_train)\n",
        "\n",
        "# Affichage des meilleurs hyperparamètres\n",
        "print(\"Meilleurs hyperparamètres:\", grid_search.best_params_)\n",
        "print(\"Meilleure précision en validation croisée:\", grid_search.best_score_)\n",
        "\n",
        "# Utiliser le meilleur modèle trouvé\n",
        "best_rf = grid_search.best_estimator_\n",
        "\n",
        "# Prédictions sur le test set\n",
        "y_pred = best_rf.predict(X_test)\n",
        "\n",
        "# Rapport de classification\n",
        "print(\"\\nRapport de classification (test set) :\")\n",
        "print(classification_report(y_test, y_pred))\n",
        "\n",
        "# Affichage de la matrice de confusion\n",
        "print(\"\\nMatrice de confusion :\")\n",
        "print(confusion_matrix(y_test, y_pred))\n",
        "\n",
        "# ---------------------------------------------------------------------\n",
        "# Création du RandomizedSearchCV\n",
        "random_search = RandomizedSearchCV(rf, param_distributions=param_grid,\n",
        "                                   n_iter=20, cv=5, scoring='accuracy',\n",
        "                                   random_state=42, n_jobs=-1)\n",
        "\n",
        "random_search.fit(X_train, y_train)\n",
        "\n",
        "# Affichage des résultats\n",
        "print(\"Meilleurs hyperparamètres:\", random_search.best_params_)\n",
        "print(\"Meilleure précision en validation croisée:\", random_search.best_score_)\n"
      ],
      "outputs": [
        {
          "name": "stdout",
          "output_type": "stream",
          "text": [
            "Meilleurs hyperparamètres: {'bootstrap': False, 'criterion': 'gini', 'max_depth': 10, 'max_features': 'sqrt', 'min_samples_leaf': 2, 'min_samples_split': 20, 'n_estimators': 100}\n",
            "Meilleure précision en validation croisée: 0.8108695652173914\n",
            "\n",
            "Rapport de classification (test set) :\n",
            "              precision    recall  f1-score   support\n",
            "\n",
            "           N       0.89      0.49      0.63        49\n",
            "           Y       0.80      0.97      0.88       105\n",
            "\n",
            "    accuracy                           0.82       154\n",
            "   macro avg       0.85      0.73      0.76       154\n",
            "weighted avg       0.83      0.82      0.80       154\n",
            "\n",
            "\n",
            "Matrice de confusion :\n",
            "[[ 24  25]\n",
            " [  3 102]]\n",
            "Meilleurs hyperparamètres: {'n_estimators': 50, 'min_samples_split': 20, 'min_samples_leaf': 6, 'max_features': 'sqrt', 'max_depth': 10, 'criterion': 'entropy', 'bootstrap': False}\n",
            "Meilleure précision en validation croisée: 0.8021739130434783\n"
          ]
        }
      ],
      "execution_count": null
    },
    {
      "cell_type": "markdown",
      "id": "1ed062b3",
      "metadata": {
        "id": "1ed062b3"
      },
      "source": [
        "# Rapporter et analyser les résultats obtenir. Choisir le meilleur modèle"
      ]
    },
    {
      "cell_type": "code",
      "id": "43a30e5e",
      "metadata": {
        "ExecuteTime": {
          "end_time": "2025-03-20T20:44:56.100672Z",
          "start_time": "2025-03-20T20:44:56.097340Z"
        },
        "id": "43a30e5e"
      },
      "source": [],
      "outputs": [],
      "execution_count": null
    },
    {
      "cell_type": "markdown",
      "id": "94fad96f",
      "metadata": {
        "id": "94fad96f"
      },
      "source": [
        "# Analyser le meilleur modèle\n",
        "En utilisant `classification_report`, afficher différentes métriques en train et en test du modèle choisit. Afficher la matrice de confusion en train et en test de ce même modèle. Qu'en concluez-vous sur la qualité de ce modèle?"
      ]
    },
    {
      "cell_type": "code",
      "id": "5afa1cb7",
      "metadata": {
        "ExecuteTime": {
          "end_time": "2025-03-20T20:44:56.274485Z",
          "start_time": "2025-03-20T20:44:56.236424Z"
        },
        "id": "5afa1cb7",
        "outputId": "52afda75-6b70-4a2f-adff-07d6d4bf65d5"
      },
      "source": [
        "from sklearn.metrics import classification_report, confusion_matrix, accuracy_score\n",
        "\n",
        "# Suppose que le meilleur modèle est trouvé après la comparaison des scores\n",
        "best_model = best_rf  # Remplacez par le modèle choisi, ex: best_svm, best_knn, etc.\n",
        "\n",
        "# Prédictions sur train et test set\n",
        "y_train_pred = best_model.predict(X_train)\n",
        "y_test_pred = best_model.predict(X_test)\n",
        "\n",
        "# Afficher les scores de classification pour le train set\n",
        "print(\"\\nRapport de Classification (Train Set) :\")\n",
        "print(classification_report(y_train, y_train_pred))\n",
        "\n",
        "# Afficher les scores de classification pour le test set\n",
        "print(\"\\nRapport de Classification (Test Set) :\")\n",
        "print(classification_report(y_test, y_test_pred))\n",
        "\n",
        "# Affichage des matrices de confusion\n",
        "print(\"\\nMatrice de Confusion (Train Set) :\")\n",
        "print(confusion_matrix(y_train, y_train_pred))\n",
        "\n",
        "print(\"\\nMatrice de Confusion (Test Set) :\")\n",
        "print(confusion_matrix(y_test, y_test_pred))\n",
        "\n",
        "# Afficher les scores d'accuracy\n",
        "print(\"\\nTrain Accuracy:\", accuracy_score(y_train, y_train_pred))\n",
        "print(\"Test Accuracy:\", accuracy_score(y_test, y_test_pred))\n"
      ],
      "outputs": [
        {
          "name": "stdout",
          "output_type": "stream",
          "text": [
            "\n",
            "Rapport de Classification (Train Set) :\n",
            "              precision    recall  f1-score   support\n",
            "\n",
            "           N       0.93      0.57      0.70       143\n",
            "           Y       0.83      0.98      0.90       317\n",
            "\n",
            "    accuracy                           0.85       460\n",
            "   macro avg       0.88      0.77      0.80       460\n",
            "weighted avg       0.86      0.85      0.84       460\n",
            "\n",
            "\n",
            "Rapport de Classification (Test Set) :\n",
            "              precision    recall  f1-score   support\n",
            "\n",
            "           N       0.89      0.49      0.63        49\n",
            "           Y       0.80      0.97      0.88       105\n",
            "\n",
            "    accuracy                           0.82       154\n",
            "   macro avg       0.85      0.73      0.76       154\n",
            "weighted avg       0.83      0.82      0.80       154\n",
            "\n",
            "\n",
            "Matrice de Confusion (Train Set) :\n",
            "[[ 81  62]\n",
            " [  6 311]]\n",
            "\n",
            "Matrice de Confusion (Test Set) :\n",
            "[[ 24  25]\n",
            " [  3 102]]\n",
            "\n",
            "Train Accuracy: 0.8521739130434782\n",
            "Test Accuracy: 0.8181818181818182\n"
          ]
        }
      ],
      "execution_count": null
    },
    {
      "cell_type": "markdown",
      "id": "efd1219c",
      "metadata": {
        "id": "efd1219c"
      },
      "source": [
        "# A faire à la maison : Développer un notebook similaire pour une tâche de régression"
      ]
    },
    {
      "cell_type": "code",
      "id": "f5fc83f3",
      "metadata": {
        "ExecuteTime": {
          "end_time": "2025-03-20T20:44:56.217179Z",
          "start_time": "2025-03-20T20:44:56.213831Z"
        },
        "id": "f5fc83f3"
      },
      "source": [],
      "outputs": [],
      "execution_count": null
    }
  ],
  "metadata": {
    "kernelspec": {
      "display_name": "Python 3 (ipykernel)",
      "language": "python",
      "name": "python3"
    },
    "language_info": {
      "codemirror_mode": {
        "name": "ipython",
        "version": 3
      },
      "file_extension": ".py",
      "mimetype": "text/x-python",
      "name": "python",
      "nbconvert_exporter": "python",
      "pygments_lexer": "ipython3",
      "version": "3.10.8"
    },
    "colab": {
      "provenance": []
    }
  },
  "nbformat": 4,
  "nbformat_minor": 5
}