{
  "cells": [
    {
      "cell_type": "markdown",
      "id": "474025d8",
      "metadata": {
        "id": "474025d8"
      },
      "source": [
        "# TP : Prédiction des frais d'assurance santé avec la régression et les KNN\n",
        "\n",
        "## Objectif\n",
        "Dans ce TP, vous allez explorer un jeu de données contenant des informations sur des personnes et leurs frais d'assurance. L'objectif est de prédire ces frais en utilisant des modèles de régression : régression linéaire et k plus proches voisins (KNN). Vous allez également analyser l'impact du nombre de voisins sur la performance du modèle KNN.\n",
        "\n",
        "# 1. Importation des bibliothèques\n",
        "Importer les bibliothèques nécessaires pour manipuler les données, les visualiser et construire les modèles de machine learning."
      ]
    },
    {
      "cell_type": "code",
      "id": "0b81a009",
      "metadata": {
        "ExecuteTime": {
          "end_time": "2025-03-20T18:31:55.566525Z",
          "start_time": "2025-03-20T18:31:55.562406Z"
        },
        "id": "0b81a009"
      },
      "source": [
        "import pandas as pd"
      ],
      "outputs": [],
      "execution_count": 1
    },
    {
      "cell_type": "markdown",
      "id": "6753baa8",
      "metadata": {
        "id": "6753baa8"
      },
      "source": [
        "# 2. Chargement des données\n",
        "Charger les données depuis le fichier insurance.csv disponible sur moodle."
      ]
    },
    {
      "cell_type": "code",
      "id": "60511980",
      "metadata": {
        "ExecuteTime": {
          "end_time": "2025-03-20T18:31:55.644794Z",
          "start_time": "2025-03-20T18:31:55.623609Z"
        },
        "id": "60511980"
      },
      "source": [
        "df = pd.read_csv('insurance.csv')"
      ],
      "outputs": [],
      "execution_count": null
    },
    {
      "cell_type": "markdown",
      "id": "26b7c697",
      "metadata": {
        "id": "26b7c697"
      },
      "source": [
        "# 3. Exploration des données\n",
        "Analyser les premières lignes du dataset et quelques statistiques générales."
      ]
    },
    {
      "cell_type": "markdown",
      "id": "5a384093",
      "metadata": {
        "id": "5a384093"
      },
      "source": [
        "## Afficher les premières lignes du dataset"
      ]
    },
    {
      "cell_type": "code",
      "id": "acd1f416",
      "metadata": {
        "ExecuteTime": {
          "end_time": "2025-03-20T18:31:55.661810Z",
          "start_time": "2025-03-20T18:31:55.652809Z"
        },
        "id": "acd1f416",
        "outputId": "43149939-29de-496c-e792-c582d51a8977"
      },
      "source": [
        "df.head(10)"
      ],
      "outputs": [
        {
          "data": {
            "text/plain": [
              "   age     sex     bmi  children smoker     region      charges\n",
              "0   19  female  27.900         0    yes  southwest  16884.92400\n",
              "1   18    male  33.770         1     no  southeast   1725.55230\n",
              "2   28    male  33.000         3     no  southeast   4449.46200\n",
              "3   33    male  22.705         0     no  northwest  21984.47061\n",
              "4   32    male  28.880         0     no  northwest   3866.85520\n",
              "5   31  female  25.740         0     no  southeast   3756.62160\n",
              "6   46  female  33.440         1     no  southeast   8240.58960\n",
              "7   37  female  27.740         3     no  northwest   7281.50560\n",
              "8   37    male  29.830         2     no  northeast   6406.41070\n",
              "9   60  female  25.840         0     no  northwest  28923.13692"
            ],
            "text/html": [
              "<div>\n",
              "<style scoped>\n",
              "    .dataframe tbody tr th:only-of-type {\n",
              "        vertical-align: middle;\n",
              "    }\n",
              "\n",
              "    .dataframe tbody tr th {\n",
              "        vertical-align: top;\n",
              "    }\n",
              "\n",
              "    .dataframe thead th {\n",
              "        text-align: right;\n",
              "    }\n",
              "</style>\n",
              "<table border=\"1\" class=\"dataframe\">\n",
              "  <thead>\n",
              "    <tr style=\"text-align: right;\">\n",
              "      <th></th>\n",
              "      <th>age</th>\n",
              "      <th>sex</th>\n",
              "      <th>bmi</th>\n",
              "      <th>children</th>\n",
              "      <th>smoker</th>\n",
              "      <th>region</th>\n",
              "      <th>charges</th>\n",
              "    </tr>\n",
              "  </thead>\n",
              "  <tbody>\n",
              "    <tr>\n",
              "      <th>0</th>\n",
              "      <td>19</td>\n",
              "      <td>female</td>\n",
              "      <td>27.900</td>\n",
              "      <td>0</td>\n",
              "      <td>yes</td>\n",
              "      <td>southwest</td>\n",
              "      <td>16884.92400</td>\n",
              "    </tr>\n",
              "    <tr>\n",
              "      <th>1</th>\n",
              "      <td>18</td>\n",
              "      <td>male</td>\n",
              "      <td>33.770</td>\n",
              "      <td>1</td>\n",
              "      <td>no</td>\n",
              "      <td>southeast</td>\n",
              "      <td>1725.55230</td>\n",
              "    </tr>\n",
              "    <tr>\n",
              "      <th>2</th>\n",
              "      <td>28</td>\n",
              "      <td>male</td>\n",
              "      <td>33.000</td>\n",
              "      <td>3</td>\n",
              "      <td>no</td>\n",
              "      <td>southeast</td>\n",
              "      <td>4449.46200</td>\n",
              "    </tr>\n",
              "    <tr>\n",
              "      <th>3</th>\n",
              "      <td>33</td>\n",
              "      <td>male</td>\n",
              "      <td>22.705</td>\n",
              "      <td>0</td>\n",
              "      <td>no</td>\n",
              "      <td>northwest</td>\n",
              "      <td>21984.47061</td>\n",
              "    </tr>\n",
              "    <tr>\n",
              "      <th>4</th>\n",
              "      <td>32</td>\n",
              "      <td>male</td>\n",
              "      <td>28.880</td>\n",
              "      <td>0</td>\n",
              "      <td>no</td>\n",
              "      <td>northwest</td>\n",
              "      <td>3866.85520</td>\n",
              "    </tr>\n",
              "    <tr>\n",
              "      <th>5</th>\n",
              "      <td>31</td>\n",
              "      <td>female</td>\n",
              "      <td>25.740</td>\n",
              "      <td>0</td>\n",
              "      <td>no</td>\n",
              "      <td>southeast</td>\n",
              "      <td>3756.62160</td>\n",
              "    </tr>\n",
              "    <tr>\n",
              "      <th>6</th>\n",
              "      <td>46</td>\n",
              "      <td>female</td>\n",
              "      <td>33.440</td>\n",
              "      <td>1</td>\n",
              "      <td>no</td>\n",
              "      <td>southeast</td>\n",
              "      <td>8240.58960</td>\n",
              "    </tr>\n",
              "    <tr>\n",
              "      <th>7</th>\n",
              "      <td>37</td>\n",
              "      <td>female</td>\n",
              "      <td>27.740</td>\n",
              "      <td>3</td>\n",
              "      <td>no</td>\n",
              "      <td>northwest</td>\n",
              "      <td>7281.50560</td>\n",
              "    </tr>\n",
              "    <tr>\n",
              "      <th>8</th>\n",
              "      <td>37</td>\n",
              "      <td>male</td>\n",
              "      <td>29.830</td>\n",
              "      <td>2</td>\n",
              "      <td>no</td>\n",
              "      <td>northeast</td>\n",
              "      <td>6406.41070</td>\n",
              "    </tr>\n",
              "    <tr>\n",
              "      <th>9</th>\n",
              "      <td>60</td>\n",
              "      <td>female</td>\n",
              "      <td>25.840</td>\n",
              "      <td>0</td>\n",
              "      <td>no</td>\n",
              "      <td>northwest</td>\n",
              "      <td>28923.13692</td>\n",
              "    </tr>\n",
              "  </tbody>\n",
              "</table>\n",
              "</div>"
            ]
          },
          "execution_count": 31,
          "metadata": {},
          "output_type": "execute_result"
        }
      ],
      "execution_count": null
    },
    {
      "cell_type": "markdown",
      "id": "c79e6e61",
      "metadata": {
        "id": "c79e6e61"
      },
      "source": [
        "## Afficher des statistiques générales sur les variables numériques"
      ]
    },
    {
      "cell_type": "code",
      "id": "9c0c1e2e",
      "metadata": {
        "ExecuteTime": {
          "end_time": "2025-03-20T18:31:55.722955Z",
          "start_time": "2025-03-20T18:31:55.708955Z"
        },
        "id": "9c0c1e2e",
        "outputId": "42172026-49aa-4671-ce81-01322324bd93"
      },
      "source": [
        "df.describe()"
      ],
      "outputs": [
        {
          "data": {
            "text/plain": [
              "               age          bmi     children       charges\n",
              "count  1338.000000  1338.000000  1338.000000   1338.000000\n",
              "mean     39.207025    30.663397     1.094918  13270.422265\n",
              "std      14.049960     6.098187     1.205493  12110.011237\n",
              "min      18.000000    15.960000     0.000000   1121.873900\n",
              "25%      27.000000    26.296250     0.000000   4740.287150\n",
              "50%      39.000000    30.400000     1.000000   9382.033000\n",
              "75%      51.000000    34.693750     2.000000  16639.912515\n",
              "max      64.000000    53.130000     5.000000  63770.428010"
            ],
            "text/html": [
              "<div>\n",
              "<style scoped>\n",
              "    .dataframe tbody tr th:only-of-type {\n",
              "        vertical-align: middle;\n",
              "    }\n",
              "\n",
              "    .dataframe tbody tr th {\n",
              "        vertical-align: top;\n",
              "    }\n",
              "\n",
              "    .dataframe thead th {\n",
              "        text-align: right;\n",
              "    }\n",
              "</style>\n",
              "<table border=\"1\" class=\"dataframe\">\n",
              "  <thead>\n",
              "    <tr style=\"text-align: right;\">\n",
              "      <th></th>\n",
              "      <th>age</th>\n",
              "      <th>bmi</th>\n",
              "      <th>children</th>\n",
              "      <th>charges</th>\n",
              "    </tr>\n",
              "  </thead>\n",
              "  <tbody>\n",
              "    <tr>\n",
              "      <th>count</th>\n",
              "      <td>1338.000000</td>\n",
              "      <td>1338.000000</td>\n",
              "      <td>1338.000000</td>\n",
              "      <td>1338.000000</td>\n",
              "    </tr>\n",
              "    <tr>\n",
              "      <th>mean</th>\n",
              "      <td>39.207025</td>\n",
              "      <td>30.663397</td>\n",
              "      <td>1.094918</td>\n",
              "      <td>13270.422265</td>\n",
              "    </tr>\n",
              "    <tr>\n",
              "      <th>std</th>\n",
              "      <td>14.049960</td>\n",
              "      <td>6.098187</td>\n",
              "      <td>1.205493</td>\n",
              "      <td>12110.011237</td>\n",
              "    </tr>\n",
              "    <tr>\n",
              "      <th>min</th>\n",
              "      <td>18.000000</td>\n",
              "      <td>15.960000</td>\n",
              "      <td>0.000000</td>\n",
              "      <td>1121.873900</td>\n",
              "    </tr>\n",
              "    <tr>\n",
              "      <th>25%</th>\n",
              "      <td>27.000000</td>\n",
              "      <td>26.296250</td>\n",
              "      <td>0.000000</td>\n",
              "      <td>4740.287150</td>\n",
              "    </tr>\n",
              "    <tr>\n",
              "      <th>50%</th>\n",
              "      <td>39.000000</td>\n",
              "      <td>30.400000</td>\n",
              "      <td>1.000000</td>\n",
              "      <td>9382.033000</td>\n",
              "    </tr>\n",
              "    <tr>\n",
              "      <th>75%</th>\n",
              "      <td>51.000000</td>\n",
              "      <td>34.693750</td>\n",
              "      <td>2.000000</td>\n",
              "      <td>16639.912515</td>\n",
              "    </tr>\n",
              "    <tr>\n",
              "      <th>max</th>\n",
              "      <td>64.000000</td>\n",
              "      <td>53.130000</td>\n",
              "      <td>5.000000</td>\n",
              "      <td>63770.428010</td>\n",
              "    </tr>\n",
              "  </tbody>\n",
              "</table>\n",
              "</div>"
            ]
          },
          "execution_count": 32,
          "metadata": {},
          "output_type": "execute_result"
        }
      ],
      "execution_count": null
    },
    {
      "cell_type": "markdown",
      "id": "742fd0c9",
      "metadata": {
        "id": "742fd0c9"
      },
      "source": [
        "## Vérifier les valeurs manquantes"
      ]
    },
    {
      "cell_type": "code",
      "id": "c96e4672",
      "metadata": {
        "ExecuteTime": {
          "end_time": "2025-03-20T18:31:55.820740Z",
          "start_time": "2025-03-20T18:31:55.811777Z"
        },
        "id": "c96e4672",
        "outputId": "973b86a2-50a1-45cc-aa4c-e3b6d4efad93"
      },
      "source": [
        "df.isnull()"
      ],
      "outputs": [
        {
          "data": {
            "text/plain": [
              "        age    sex    bmi  children  smoker  region  charges\n",
              "0     False  False  False     False   False   False    False\n",
              "1     False  False  False     False   False   False    False\n",
              "2     False  False  False     False   False   False    False\n",
              "3     False  False  False     False   False   False    False\n",
              "4     False  False  False     False   False   False    False\n",
              "...     ...    ...    ...       ...     ...     ...      ...\n",
              "1333  False  False  False     False   False   False    False\n",
              "1334  False  False  False     False   False   False    False\n",
              "1335  False  False  False     False   False   False    False\n",
              "1336  False  False  False     False   False   False    False\n",
              "1337  False  False  False     False   False   False    False\n",
              "\n",
              "[1338 rows x 7 columns]"
            ],
            "text/html": [
              "<div>\n",
              "<style scoped>\n",
              "    .dataframe tbody tr th:only-of-type {\n",
              "        vertical-align: middle;\n",
              "    }\n",
              "\n",
              "    .dataframe tbody tr th {\n",
              "        vertical-align: top;\n",
              "    }\n",
              "\n",
              "    .dataframe thead th {\n",
              "        text-align: right;\n",
              "    }\n",
              "</style>\n",
              "<table border=\"1\" class=\"dataframe\">\n",
              "  <thead>\n",
              "    <tr style=\"text-align: right;\">\n",
              "      <th></th>\n",
              "      <th>age</th>\n",
              "      <th>sex</th>\n",
              "      <th>bmi</th>\n",
              "      <th>children</th>\n",
              "      <th>smoker</th>\n",
              "      <th>region</th>\n",
              "      <th>charges</th>\n",
              "    </tr>\n",
              "  </thead>\n",
              "  <tbody>\n",
              "    <tr>\n",
              "      <th>0</th>\n",
              "      <td>False</td>\n",
              "      <td>False</td>\n",
              "      <td>False</td>\n",
              "      <td>False</td>\n",
              "      <td>False</td>\n",
              "      <td>False</td>\n",
              "      <td>False</td>\n",
              "    </tr>\n",
              "    <tr>\n",
              "      <th>1</th>\n",
              "      <td>False</td>\n",
              "      <td>False</td>\n",
              "      <td>False</td>\n",
              "      <td>False</td>\n",
              "      <td>False</td>\n",
              "      <td>False</td>\n",
              "      <td>False</td>\n",
              "    </tr>\n",
              "    <tr>\n",
              "      <th>2</th>\n",
              "      <td>False</td>\n",
              "      <td>False</td>\n",
              "      <td>False</td>\n",
              "      <td>False</td>\n",
              "      <td>False</td>\n",
              "      <td>False</td>\n",
              "      <td>False</td>\n",
              "    </tr>\n",
              "    <tr>\n",
              "      <th>3</th>\n",
              "      <td>False</td>\n",
              "      <td>False</td>\n",
              "      <td>False</td>\n",
              "      <td>False</td>\n",
              "      <td>False</td>\n",
              "      <td>False</td>\n",
              "      <td>False</td>\n",
              "    </tr>\n",
              "    <tr>\n",
              "      <th>4</th>\n",
              "      <td>False</td>\n",
              "      <td>False</td>\n",
              "      <td>False</td>\n",
              "      <td>False</td>\n",
              "      <td>False</td>\n",
              "      <td>False</td>\n",
              "      <td>False</td>\n",
              "    </tr>\n",
              "    <tr>\n",
              "      <th>...</th>\n",
              "      <td>...</td>\n",
              "      <td>...</td>\n",
              "      <td>...</td>\n",
              "      <td>...</td>\n",
              "      <td>...</td>\n",
              "      <td>...</td>\n",
              "      <td>...</td>\n",
              "    </tr>\n",
              "    <tr>\n",
              "      <th>1333</th>\n",
              "      <td>False</td>\n",
              "      <td>False</td>\n",
              "      <td>False</td>\n",
              "      <td>False</td>\n",
              "      <td>False</td>\n",
              "      <td>False</td>\n",
              "      <td>False</td>\n",
              "    </tr>\n",
              "    <tr>\n",
              "      <th>1334</th>\n",
              "      <td>False</td>\n",
              "      <td>False</td>\n",
              "      <td>False</td>\n",
              "      <td>False</td>\n",
              "      <td>False</td>\n",
              "      <td>False</td>\n",
              "      <td>False</td>\n",
              "    </tr>\n",
              "    <tr>\n",
              "      <th>1335</th>\n",
              "      <td>False</td>\n",
              "      <td>False</td>\n",
              "      <td>False</td>\n",
              "      <td>False</td>\n",
              "      <td>False</td>\n",
              "      <td>False</td>\n",
              "      <td>False</td>\n",
              "    </tr>\n",
              "    <tr>\n",
              "      <th>1336</th>\n",
              "      <td>False</td>\n",
              "      <td>False</td>\n",
              "      <td>False</td>\n",
              "      <td>False</td>\n",
              "      <td>False</td>\n",
              "      <td>False</td>\n",
              "      <td>False</td>\n",
              "    </tr>\n",
              "    <tr>\n",
              "      <th>1337</th>\n",
              "      <td>False</td>\n",
              "      <td>False</td>\n",
              "      <td>False</td>\n",
              "      <td>False</td>\n",
              "      <td>False</td>\n",
              "      <td>False</td>\n",
              "      <td>False</td>\n",
              "    </tr>\n",
              "  </tbody>\n",
              "</table>\n",
              "<p>1338 rows × 7 columns</p>\n",
              "</div>"
            ]
          },
          "execution_count": 33,
          "metadata": {},
          "output_type": "execute_result"
        }
      ],
      "execution_count": null
    },
    {
      "cell_type": "markdown",
      "id": "54de6f70",
      "metadata": {
        "id": "54de6f70"
      },
      "source": [
        "## Visualiser la distribution de la variable cible (charges)"
      ]
    },
    {
      "cell_type": "code",
      "id": "1432a9ac",
      "metadata": {
        "ExecuteTime": {
          "end_time": "2025-03-20T18:31:55.977315Z",
          "start_time": "2025-03-20T18:31:55.970417Z"
        },
        "id": "1432a9ac",
        "outputId": "969c760c-0f58-4a66-8eb7-616c8a295b89"
      },
      "source": [
        "df.isna().sum()"
      ],
      "outputs": [
        {
          "data": {
            "text/plain": [
              "age         0\n",
              "sex         0\n",
              "bmi         0\n",
              "children    0\n",
              "smoker      0\n",
              "region      0\n",
              "charges     0\n",
              "dtype: int64"
            ]
          },
          "execution_count": 34,
          "metadata": {},
          "output_type": "execute_result"
        }
      ],
      "execution_count": null
    },
    {
      "cell_type": "markdown",
      "id": "bc1b48b1",
      "metadata": {
        "id": "bc1b48b1"
      },
      "source": [
        "# 4. Prétraitement des données\n",
        "### Encodage des variables catégorielles\n",
        "Transformer les variables catégorielles en variables numériques avec `OrdinalEncoder`."
      ]
    },
    {
      "cell_type": "code",
      "id": "7e2fac3b",
      "metadata": {
        "ExecuteTime": {
          "end_time": "2025-03-20T18:31:56.115093Z",
          "start_time": "2025-03-20T18:31:56.099107Z"
        },
        "id": "7e2fac3b",
        "outputId": "263edb52-570b-47b0-c97f-559c338b0661"
      },
      "source": [
        "from sklearn.preprocessing import OrdinalEncoder\n",
        "enc = OrdinalEncoder()\n",
        "\n",
        "categorical_columes = ['sex', 'smoker', 'region']\n",
        "\n",
        "encoded_features = enc.fit_transform(df[categorical_columes])\n",
        "print(encoded_features)\n",
        "\n",
        "encoded_df = pd.DataFrame(encoded_features, columns=categorical_columes)\n",
        "encoded_df.head(10)\n",
        "\n",
        "df[['sex','smoker','region']] = enc.fit_transform(df[['sex','smoker','region']])\n",
        "df.head(10)"
      ],
      "outputs": [
        {
          "name": "stdout",
          "output_type": "stream",
          "text": [
            "[[0. 1. 3.]\n",
            " [1. 0. 2.]\n",
            " [1. 0. 2.]\n",
            " ...\n",
            " [0. 0. 2.]\n",
            " [0. 0. 3.]\n",
            " [0. 1. 1.]]\n"
          ]
        },
        {
          "data": {
            "text/plain": [
              "   age  sex     bmi  children  smoker  region      charges\n",
              "0   19  0.0  27.900         0     1.0     3.0  16884.92400\n",
              "1   18  1.0  33.770         1     0.0     2.0   1725.55230\n",
              "2   28  1.0  33.000         3     0.0     2.0   4449.46200\n",
              "3   33  1.0  22.705         0     0.0     1.0  21984.47061\n",
              "4   32  1.0  28.880         0     0.0     1.0   3866.85520\n",
              "5   31  0.0  25.740         0     0.0     2.0   3756.62160\n",
              "6   46  0.0  33.440         1     0.0     2.0   8240.58960\n",
              "7   37  0.0  27.740         3     0.0     1.0   7281.50560\n",
              "8   37  1.0  29.830         2     0.0     0.0   6406.41070\n",
              "9   60  0.0  25.840         0     0.0     1.0  28923.13692"
            ],
            "text/html": [
              "<div>\n",
              "<style scoped>\n",
              "    .dataframe tbody tr th:only-of-type {\n",
              "        vertical-align: middle;\n",
              "    }\n",
              "\n",
              "    .dataframe tbody tr th {\n",
              "        vertical-align: top;\n",
              "    }\n",
              "\n",
              "    .dataframe thead th {\n",
              "        text-align: right;\n",
              "    }\n",
              "</style>\n",
              "<table border=\"1\" class=\"dataframe\">\n",
              "  <thead>\n",
              "    <tr style=\"text-align: right;\">\n",
              "      <th></th>\n",
              "      <th>age</th>\n",
              "      <th>sex</th>\n",
              "      <th>bmi</th>\n",
              "      <th>children</th>\n",
              "      <th>smoker</th>\n",
              "      <th>region</th>\n",
              "      <th>charges</th>\n",
              "    </tr>\n",
              "  </thead>\n",
              "  <tbody>\n",
              "    <tr>\n",
              "      <th>0</th>\n",
              "      <td>19</td>\n",
              "      <td>0.0</td>\n",
              "      <td>27.900</td>\n",
              "      <td>0</td>\n",
              "      <td>1.0</td>\n",
              "      <td>3.0</td>\n",
              "      <td>16884.92400</td>\n",
              "    </tr>\n",
              "    <tr>\n",
              "      <th>1</th>\n",
              "      <td>18</td>\n",
              "      <td>1.0</td>\n",
              "      <td>33.770</td>\n",
              "      <td>1</td>\n",
              "      <td>0.0</td>\n",
              "      <td>2.0</td>\n",
              "      <td>1725.55230</td>\n",
              "    </tr>\n",
              "    <tr>\n",
              "      <th>2</th>\n",
              "      <td>28</td>\n",
              "      <td>1.0</td>\n",
              "      <td>33.000</td>\n",
              "      <td>3</td>\n",
              "      <td>0.0</td>\n",
              "      <td>2.0</td>\n",
              "      <td>4449.46200</td>\n",
              "    </tr>\n",
              "    <tr>\n",
              "      <th>3</th>\n",
              "      <td>33</td>\n",
              "      <td>1.0</td>\n",
              "      <td>22.705</td>\n",
              "      <td>0</td>\n",
              "      <td>0.0</td>\n",
              "      <td>1.0</td>\n",
              "      <td>21984.47061</td>\n",
              "    </tr>\n",
              "    <tr>\n",
              "      <th>4</th>\n",
              "      <td>32</td>\n",
              "      <td>1.0</td>\n",
              "      <td>28.880</td>\n",
              "      <td>0</td>\n",
              "      <td>0.0</td>\n",
              "      <td>1.0</td>\n",
              "      <td>3866.85520</td>\n",
              "    </tr>\n",
              "    <tr>\n",
              "      <th>5</th>\n",
              "      <td>31</td>\n",
              "      <td>0.0</td>\n",
              "      <td>25.740</td>\n",
              "      <td>0</td>\n",
              "      <td>0.0</td>\n",
              "      <td>2.0</td>\n",
              "      <td>3756.62160</td>\n",
              "    </tr>\n",
              "    <tr>\n",
              "      <th>6</th>\n",
              "      <td>46</td>\n",
              "      <td>0.0</td>\n",
              "      <td>33.440</td>\n",
              "      <td>1</td>\n",
              "      <td>0.0</td>\n",
              "      <td>2.0</td>\n",
              "      <td>8240.58960</td>\n",
              "    </tr>\n",
              "    <tr>\n",
              "      <th>7</th>\n",
              "      <td>37</td>\n",
              "      <td>0.0</td>\n",
              "      <td>27.740</td>\n",
              "      <td>3</td>\n",
              "      <td>0.0</td>\n",
              "      <td>1.0</td>\n",
              "      <td>7281.50560</td>\n",
              "    </tr>\n",
              "    <tr>\n",
              "      <th>8</th>\n",
              "      <td>37</td>\n",
              "      <td>1.0</td>\n",
              "      <td>29.830</td>\n",
              "      <td>2</td>\n",
              "      <td>0.0</td>\n",
              "      <td>0.0</td>\n",
              "      <td>6406.41070</td>\n",
              "    </tr>\n",
              "    <tr>\n",
              "      <th>9</th>\n",
              "      <td>60</td>\n",
              "      <td>0.0</td>\n",
              "      <td>25.840</td>\n",
              "      <td>0</td>\n",
              "      <td>0.0</td>\n",
              "      <td>1.0</td>\n",
              "      <td>28923.13692</td>\n",
              "    </tr>\n",
              "  </tbody>\n",
              "</table>\n",
              "</div>"
            ]
          },
          "execution_count": 35,
          "metadata": {},
          "output_type": "execute_result"
        }
      ],
      "execution_count": null
    },
    {
      "cell_type": "markdown",
      "id": "ce79705b",
      "metadata": {
        "id": "ce79705b"
      },
      "source": [
        "### Normalisation des variables numériques\n",
        "Normaliser les variables numériques pour les mettre à l'échelle en utilisant `StandardScaler` ou `MinMaxScaler`"
      ]
    },
    {
      "cell_type": "code",
      "id": "018dd297",
      "metadata": {
        "ExecuteTime": {
          "end_time": "2025-03-20T18:31:56.240360Z",
          "start_time": "2025-03-20T18:31:56.231166Z"
        },
        "id": "018dd297",
        "outputId": "dd18ce02-42ab-4567-b91e-28a2c10764da"
      },
      "source": [
        "from sklearn.preprocessing import StandardScaler\n",
        "scaler = StandardScaler()\n",
        "\n",
        "numerical_column = ['age','bmi','children']\n",
        "# scaled_features = scaler.fit_transform(df[numerical_column])\n",
        "#\n",
        "# scaled_df = pd.DataFrame(scaled_features, columns=numerical_column)\n",
        "\n",
        "df[numerical_column] = scaler.fit_transform(df[numerical_column])\n",
        "print(df.head(10))\n"
      ],
      "outputs": [
        {
          "name": "stdout",
          "output_type": "stream",
          "text": [
            "        age  sex       bmi  children  smoker  region      charges\n",
            "0 -1.438764  0.0 -0.453320 -0.908614     1.0     3.0  16884.92400\n",
            "1 -1.509965  1.0  0.509621 -0.078767     0.0     2.0   1725.55230\n",
            "2 -0.797954  1.0  0.383307  1.580926     0.0     2.0   4449.46200\n",
            "3 -0.441948  1.0 -1.305531 -0.908614     0.0     1.0  21984.47061\n",
            "4 -0.513149  1.0 -0.292556 -0.908614     0.0     1.0   3866.85520\n",
            "5 -0.584350  0.0 -0.807656 -0.908614     0.0     2.0   3756.62160\n",
            "6  0.483668  0.0  0.455486 -0.078767     0.0     2.0   8240.58960\n",
            "7 -0.157143  0.0 -0.479567  1.580926     0.0     1.0   7281.50560\n",
            "8 -0.157143  1.0 -0.136714  0.751079     0.0     0.0   6406.41070\n",
            "9  1.480485  0.0 -0.791252 -0.908614     0.0     1.0  28923.13692\n"
          ]
        }
      ],
      "execution_count": null
    },
    {
      "cell_type": "markdown",
      "id": "fe2da3af",
      "metadata": {
        "id": "fe2da3af"
      },
      "source": [
        "### Construction du dataset final\n",
        "Assembler les variables encodées et normalisées pour créer la matrice des caractéristiques `X` et la variable cible `y`."
      ]
    },
    {
      "cell_type": "code",
      "id": "736df95e",
      "metadata": {
        "ExecuteTime": {
          "end_time": "2025-03-20T18:31:56.353708Z",
          "start_time": "2025-03-20T18:31:56.346160Z"
        },
        "id": "736df95e",
        "outputId": "a02484ed-ef33-4b34-94cb-d42af006f0c1"
      },
      "source": [
        "X = df.drop('charges', axis=1)\n",
        "y = df['charges']\n",
        "print(X.head())\n",
        "print(y.head())"
      ],
      "outputs": [
        {
          "name": "stdout",
          "output_type": "stream",
          "text": [
            "        age  sex       bmi  children  smoker  region\n",
            "0 -1.438764  0.0 -0.453320 -0.908614     1.0     3.0\n",
            "1 -1.509965  1.0  0.509621 -0.078767     0.0     2.0\n",
            "2 -0.797954  1.0  0.383307  1.580926     0.0     2.0\n",
            "3 -0.441948  1.0 -1.305531 -0.908614     0.0     1.0\n",
            "4 -0.513149  1.0 -0.292556 -0.908614     0.0     1.0\n",
            "0    16884.92400\n",
            "1     1725.55230\n",
            "2     4449.46200\n",
            "3    21984.47061\n",
            "4     3866.85520\n",
            "Name: charges, dtype: float64\n"
          ]
        }
      ],
      "execution_count": null
    },
    {
      "cell_type": "markdown",
      "id": "f1f38954",
      "metadata": {
        "id": "f1f38954"
      },
      "source": [
        "# 5. Division en ensembles d'entraînement et de test\n",
        "Séparer les données en un ensemble d'entraînement (80%) et un ensemble de test (20%)."
      ]
    },
    {
      "cell_type": "code",
      "id": "ca2241f4",
      "metadata": {
        "ExecuteTime": {
          "end_time": "2025-03-20T18:31:56.440997Z",
          "start_time": "2025-03-20T18:31:56.435871Z"
        },
        "id": "ca2241f4"
      },
      "source": [
        "from sklearn.model_selection import train_test_split\n",
        "\n",
        "X_train, X_test, y_train, y_test = train_test_split(X, y)"
      ],
      "outputs": [],
      "execution_count": null
    },
    {
      "cell_type": "markdown",
      "id": "c5d6077c",
      "metadata": {
        "id": "c5d6077c"
      },
      "source": [
        "# 6. Implémentation d'un modèle de régression linéaire\n",
        "Créer et entraîner un modèle de régression linéaire."
      ]
    },
    {
      "cell_type": "code",
      "id": "09e0e22e",
      "metadata": {
        "ExecuteTime": {
          "end_time": "2025-03-20T18:31:56.527446Z",
          "start_time": "2025-03-20T18:31:56.523152Z"
        },
        "id": "09e0e22e"
      },
      "source": [
        "from sklearn.neighbors import KNeighborsClassifier\n",
        "from sklearn.linear_model import LinearRegression"
      ],
      "outputs": [],
      "execution_count": null
    },
    {
      "metadata": {
        "ExecuteTime": {
          "end_time": "2025-03-20T18:31:56.726124Z",
          "start_time": "2025-03-20T18:31:56.537581Z"
        },
        "id": "89622798875c7d76",
        "outputId": "1da8d89f-a44a-42f0-bc18-fc94f2dff04b"
      },
      "cell_type": "code",
      "source": [
        "clf = LinearRegression()\n",
        "clf.fit(X_train, y_train)\n",
        "\n",
        "\n",
        "y_pred_test = clf.predict(X_test)\n",
        "\n",
        "for i in range(len(y_pred_test)):\n",
        "    print(str(list(y_pred_test)[i]) + ' vs ' + str(list(y_test)[i]))\n"
      ],
      "id": "89622798875c7d76",
      "outputs": [
        {
          "ename": "ValueError",
          "evalue": "Unknown label type: continuous. Maybe you are trying to fit a classifier, which expects discrete classes on a regression target with continuous values.",
          "output_type": "error",
          "traceback": [
            "\u001b[1;31m---------------------------------------------------------------------------\u001b[0m",
            "\u001b[1;31mValueError\u001b[0m                                Traceback (most recent call last)",
            "Cell \u001b[1;32mIn[40], line 2\u001b[0m\n\u001b[0;32m      1\u001b[0m clf \u001b[38;5;241m=\u001b[39m KNeighborsClassifier()\n\u001b[1;32m----> 2\u001b[0m \u001b[43mclf\u001b[49m\u001b[38;5;241;43m.\u001b[39;49m\u001b[43mfit\u001b[49m\u001b[43m(\u001b[49m\u001b[43mX_train\u001b[49m\u001b[43m,\u001b[49m\u001b[43m \u001b[49m\u001b[43my_train\u001b[49m\u001b[43m)\u001b[49m\n\u001b[0;32m      5\u001b[0m y_pred_test \u001b[38;5;241m=\u001b[39m clf\u001b[38;5;241m.\u001b[39mpredict(X_test)\n\u001b[0;32m      7\u001b[0m \u001b[38;5;28;01mfor\u001b[39;00m i \u001b[38;5;129;01min\u001b[39;00m \u001b[38;5;28mrange\u001b[39m(\u001b[38;5;28mlen\u001b[39m(y_pred_test)):\n",
            "File \u001b[1;32m~\\AppData\\Local\\Programs\\Python\\Python312\\Lib\\site-packages\\sklearn\\base.py:1389\u001b[0m, in \u001b[0;36m_fit_context.<locals>.decorator.<locals>.wrapper\u001b[1;34m(estimator, *args, **kwargs)\u001b[0m\n\u001b[0;32m   1382\u001b[0m     estimator\u001b[38;5;241m.\u001b[39m_validate_params()\n\u001b[0;32m   1384\u001b[0m \u001b[38;5;28;01mwith\u001b[39;00m config_context(\n\u001b[0;32m   1385\u001b[0m     skip_parameter_validation\u001b[38;5;241m=\u001b[39m(\n\u001b[0;32m   1386\u001b[0m         prefer_skip_nested_validation \u001b[38;5;129;01mor\u001b[39;00m global_skip_validation\n\u001b[0;32m   1387\u001b[0m     )\n\u001b[0;32m   1388\u001b[0m ):\n\u001b[1;32m-> 1389\u001b[0m     \u001b[38;5;28;01mreturn\u001b[39;00m \u001b[43mfit_method\u001b[49m\u001b[43m(\u001b[49m\u001b[43mestimator\u001b[49m\u001b[43m,\u001b[49m\u001b[43m \u001b[49m\u001b[38;5;241;43m*\u001b[39;49m\u001b[43margs\u001b[49m\u001b[43m,\u001b[49m\u001b[43m \u001b[49m\u001b[38;5;241;43m*\u001b[39;49m\u001b[38;5;241;43m*\u001b[39;49m\u001b[43mkwargs\u001b[49m\u001b[43m)\u001b[49m\n",
            "File \u001b[1;32m~\\AppData\\Local\\Programs\\Python\\Python312\\Lib\\site-packages\\sklearn\\neighbors\\_classification.py:239\u001b[0m, in \u001b[0;36mKNeighborsClassifier.fit\u001b[1;34m(self, X, y)\u001b[0m\n\u001b[0;32m    217\u001b[0m \u001b[38;5;129m@_fit_context\u001b[39m(\n\u001b[0;32m    218\u001b[0m     \u001b[38;5;66;03m# KNeighborsClassifier.metric is not validated yet\u001b[39;00m\n\u001b[0;32m    219\u001b[0m     prefer_skip_nested_validation\u001b[38;5;241m=\u001b[39m\u001b[38;5;28;01mFalse\u001b[39;00m\n\u001b[0;32m    220\u001b[0m )\n\u001b[0;32m    221\u001b[0m \u001b[38;5;28;01mdef\u001b[39;00m\u001b[38;5;250m \u001b[39m\u001b[38;5;21mfit\u001b[39m(\u001b[38;5;28mself\u001b[39m, X, y):\n\u001b[0;32m    222\u001b[0m \u001b[38;5;250m    \u001b[39m\u001b[38;5;124;03m\"\"\"Fit the k-nearest neighbors classifier from the training dataset.\u001b[39;00m\n\u001b[0;32m    223\u001b[0m \n\u001b[0;32m    224\u001b[0m \u001b[38;5;124;03m    Parameters\u001b[39;00m\n\u001b[1;32m   (...)\u001b[0m\n\u001b[0;32m    237\u001b[0m \u001b[38;5;124;03m        The fitted k-nearest neighbors classifier.\u001b[39;00m\n\u001b[0;32m    238\u001b[0m \u001b[38;5;124;03m    \"\"\"\u001b[39;00m\n\u001b[1;32m--> 239\u001b[0m     \u001b[38;5;28;01mreturn\u001b[39;00m \u001b[38;5;28;43mself\u001b[39;49m\u001b[38;5;241;43m.\u001b[39;49m\u001b[43m_fit\u001b[49m\u001b[43m(\u001b[49m\u001b[43mX\u001b[49m\u001b[43m,\u001b[49m\u001b[43m \u001b[49m\u001b[43my\u001b[49m\u001b[43m)\u001b[49m\n",
            "File \u001b[1;32m~\\AppData\\Local\\Programs\\Python\\Python312\\Lib\\site-packages\\sklearn\\neighbors\\_base.py:508\u001b[0m, in \u001b[0;36mNeighborsBase._fit\u001b[1;34m(self, X, y)\u001b[0m\n\u001b[0;32m    505\u001b[0m \u001b[38;5;28;01melse\u001b[39;00m:\n\u001b[0;32m    506\u001b[0m     \u001b[38;5;28mself\u001b[39m\u001b[38;5;241m.\u001b[39moutputs_2d_ \u001b[38;5;241m=\u001b[39m \u001b[38;5;28;01mTrue\u001b[39;00m\n\u001b[1;32m--> 508\u001b[0m \u001b[43mcheck_classification_targets\u001b[49m\u001b[43m(\u001b[49m\u001b[43my\u001b[49m\u001b[43m)\u001b[49m\n\u001b[0;32m    509\u001b[0m \u001b[38;5;28mself\u001b[39m\u001b[38;5;241m.\u001b[39mclasses_ \u001b[38;5;241m=\u001b[39m []\n\u001b[0;32m    510\u001b[0m \u001b[38;5;66;03m# Using `dtype=np.intp` is necessary since `np.bincount`\u001b[39;00m\n\u001b[0;32m    511\u001b[0m \u001b[38;5;66;03m# (called in _classification.py) fails when dealing\u001b[39;00m\n\u001b[0;32m    512\u001b[0m \u001b[38;5;66;03m# with a float64 array on 32bit systems.\u001b[39;00m\n",
            "File \u001b[1;32m~\\AppData\\Local\\Programs\\Python\\Python312\\Lib\\site-packages\\sklearn\\utils\\multiclass.py:222\u001b[0m, in \u001b[0;36mcheck_classification_targets\u001b[1;34m(y)\u001b[0m\n\u001b[0;32m    214\u001b[0m y_type \u001b[38;5;241m=\u001b[39m type_of_target(y, input_name\u001b[38;5;241m=\u001b[39m\u001b[38;5;124m\"\u001b[39m\u001b[38;5;124my\u001b[39m\u001b[38;5;124m\"\u001b[39m)\n\u001b[0;32m    215\u001b[0m \u001b[38;5;28;01mif\u001b[39;00m y_type \u001b[38;5;129;01mnot\u001b[39;00m \u001b[38;5;129;01min\u001b[39;00m [\n\u001b[0;32m    216\u001b[0m     \u001b[38;5;124m\"\u001b[39m\u001b[38;5;124mbinary\u001b[39m\u001b[38;5;124m\"\u001b[39m,\n\u001b[0;32m    217\u001b[0m     \u001b[38;5;124m\"\u001b[39m\u001b[38;5;124mmulticlass\u001b[39m\u001b[38;5;124m\"\u001b[39m,\n\u001b[1;32m   (...)\u001b[0m\n\u001b[0;32m    220\u001b[0m     \u001b[38;5;124m\"\u001b[39m\u001b[38;5;124mmultilabel-sequences\u001b[39m\u001b[38;5;124m\"\u001b[39m,\n\u001b[0;32m    221\u001b[0m ]:\n\u001b[1;32m--> 222\u001b[0m     \u001b[38;5;28;01mraise\u001b[39;00m \u001b[38;5;167;01mValueError\u001b[39;00m(\n\u001b[0;32m    223\u001b[0m         \u001b[38;5;124mf\u001b[39m\u001b[38;5;124m\"\u001b[39m\u001b[38;5;124mUnknown label type: \u001b[39m\u001b[38;5;132;01m{\u001b[39;00my_type\u001b[38;5;132;01m}\u001b[39;00m\u001b[38;5;124m. Maybe you are trying to fit a \u001b[39m\u001b[38;5;124m\"\u001b[39m\n\u001b[0;32m    224\u001b[0m         \u001b[38;5;124m\"\u001b[39m\u001b[38;5;124mclassifier, which expects discrete classes on a \u001b[39m\u001b[38;5;124m\"\u001b[39m\n\u001b[0;32m    225\u001b[0m         \u001b[38;5;124m\"\u001b[39m\u001b[38;5;124mregression target with continuous values.\u001b[39m\u001b[38;5;124m\"\u001b[39m\n\u001b[0;32m    226\u001b[0m     )\n",
            "\u001b[1;31mValueError\u001b[0m: Unknown label type: continuous. Maybe you are trying to fit a classifier, which expects discrete classes on a regression target with continuous values."
          ]
        }
      ],
      "execution_count": null
    },
    {
      "cell_type": "markdown",
      "id": "8cdd4cb3",
      "metadata": {
        "id": "8cdd4cb3"
      },
      "source": [
        "# 7. Prédictions et évaluation du modèle linéaire\n",
        "Évaluer les performances du modèle avec l'erreur quadratique moyenne (MSE) et le coefficient de détermination (R²) sur le dataset d'entrainement et de test. Que pensez-vous de la qualité de ce modèle?"
      ]
    },
    {
      "cell_type": "code",
      "id": "c22b43dc",
      "metadata": {
        "ExecuteTime": {
          "end_time": "2025-03-20T18:31:56.728638300Z",
          "start_time": "2025-03-20T18:30:29.984694Z"
        },
        "id": "c22b43dc",
        "outputId": "6ad37dee-1885-42a5-e9a1-ad7543d01fca"
      },
      "source": [
        "from sklearn.metrics import mean_squared_error, r2_score\n",
        "\n",
        "y_pred_train = clf.predict(X_train)\n",
        "y_pred_test = clf.predict(X_test)\n",
        "\n",
        "print(f\"Train MSE = {mean_squared_error(y_train, y_pred_train)}\")\n",
        "print(f\"Test MSE = {mean_squared_error(y_test, y_pred_test)}\")\n",
        "\n"
      ],
      "outputs": [
        {
          "name": "stdout",
          "output_type": "stream",
          "text": [
            "Train MSE = 34235485.624779925\n",
            "Test MSE = 43518206.188537404\n",
            "Train R² Score = 0.7574927230168875\n",
            "Test R² Score = 0.7312777518855209\n"
          ]
        }
      ],
      "execution_count": null
    },
    {
      "cell_type": "markdown",
      "id": "8b845b26",
      "metadata": {
        "id": "8b845b26"
      },
      "source": [
        "# 8. Implémentation d'un modèle KNN\n",
        "Créer, entraîner et évaluer un modèle KNN avec `k=5`."
      ]
    },
    {
      "metadata": {
        "ExecuteTime": {
          "end_time": "2025-03-20T18:34:28.126876Z",
          "start_time": "2025-03-20T18:34:28.091403Z"
        },
        "id": "ecfd26fd11a81dc6",
        "outputId": "6672ed0e-e078-4958-9cdb-a224cf8f9da1"
      },
      "cell_type": "code",
      "source": [
        "from sklearn.neighbors import KNeighborsRegressor\n",
        "knc = KNeighborsRegressor(5)\n",
        "knc.fit(X_train, y_train)\n",
        "y_pred_train = knc.predict(X_train)\n",
        "y_pred_test = knc.predict(X_test)\n",
        "print(f\"Train MSE = {mean_squared_error(y_train, y_pred_train)}\")\n",
        "print(f\"Test MSE = {mean_squared_error(y_test, y_pred_test)}\")\n",
        "print(f\"Train R² Score = {r2_score(y_train, y_pred_train)}\")\n",
        "print(f\"Test R² Score = {r2_score(y_test, y_pred_test)}\")"
      ],
      "id": "ecfd26fd11a81dc6",
      "outputs": [
        {
          "name": "stdout",
          "output_type": "stream",
          "text": [
            "Train MSE = 29498468.082138244\n",
            "Test MSE = 42818670.30661694\n",
            "Train R² Score = 0.7980351207931636\n",
            "Test R² Score = 0.7103611897819913\n"
          ]
        }
      ],
      "execution_count": null
    },
    {
      "cell_type": "markdown",
      "id": "5e7e5e5e",
      "metadata": {
        "id": "5e7e5e5e"
      },
      "source": [
        "# 9. Étude de l'impact du nombre de voisins\n",
        "Tester l'effet du nombre de voisins sur la performance du modèle KNN.\n",
        "Vous devez produire un graphique qui affiche la MSE en ordonnées en fonction du nombre voisin (en abscisse). Les valeurs en entrainement et en test doivent être affichées"
      ]
    },
    {
      "metadata": {
        "ExecuteTime": {
          "end_time": "2025-03-20T18:34:25.357786Z",
          "start_time": "2025-03-20T18:34:25.340943Z"
        },
        "id": "85d68ca1",
        "outputId": "8c3c3697-301f-4920-9a97-dce1a80ecfec"
      },
      "cell_type": "code",
      "outputs": [
        {
          "name": "stdout",
          "output_type": "stream",
          "text": [
            "Train MSE = 21504359.09939896\n",
            "Test MSE = 40337845.14895731\n",
            "Train R² Score = 0.8527677682841988\n",
            "Test R² Score = 0.7271422631286897\n"
          ]
        }
      ],
      "execution_count": null,
      "source": [
        "from sklearn.neighbors import KNeighborsRegressor\n",
        "knc = KNeighborsRegressor(3)\n",
        "knc.fit(X_train, y_train)\n",
        "y_pred_train = knc.predict(X_train)\n",
        "y_pred_test = knc.predict(X_test)\n",
        "print(f\"Train MSE = {mean_squared_error(y_train, y_pred_train)}\")\n",
        "print(f\"Test MSE = {mean_squared_error(y_test, y_pred_test)}\")\n",
        "print(f\"Train R² Score = {r2_score(y_train, y_pred_train)}\")\n",
        "print(f\"Test R² Score = {r2_score(y_test, y_pred_test)}\")\n"
      ],
      "id": "85d68ca1"
    },
    {
      "metadata": {
        "ExecuteTime": {
          "end_time": "2025-03-20T18:34:29.536676Z",
          "start_time": "2025-03-20T18:34:29.508618Z"
        },
        "id": "65ba1542c3779edf",
        "outputId": "fa219196-4877-4272-b5a2-dd62bd6729c4"
      },
      "cell_type": "code",
      "outputs": [
        {
          "name": "stdout",
          "output_type": "stream",
          "text": [
            "Train MSE = 36145406.75628496\n",
            "Test MSE = 47336770.93821693\n",
            "Train R² Score = 0.7525260400272996\n",
            "Test R² Score = 0.6797993511725464\n"
          ]
        }
      ],
      "execution_count": null,
      "source": [
        "from sklearn.neighbors import KNeighborsRegressor\n",
        "knc = KNeighborsRegressor(7)\n",
        "knc.fit(X_train, y_train)\n",
        "y_pred_train = knc.predict(X_train)\n",
        "y_pred_test = knc.predict(X_test)\n",
        "print(f\"Train MSE = {mean_squared_error(y_train, y_pred_train)}\")\n",
        "print(f\"Test MSE = {mean_squared_error(y_test, y_pred_test)}\")\n",
        "print(f\"Train R² Score = {r2_score(y_train, y_pred_train)}\")\n",
        "print(f\"Test R² Score = {r2_score(y_test, y_pred_test)}\")"
      ],
      "id": "65ba1542c3779edf"
    },
    {
      "cell_type": "markdown",
      "id": "d806c8c6",
      "metadata": {
        "id": "d806c8c6"
      },
      "source": [
        "# 10. Analyse des résultats\n",
        "- Quelle est l'importance des différentes variables dans la prédiction ?\n",
        "- Quel est le meilleur choix pour le paramètre `k` ?"
      ]
    },
    {
      "cell_type": "markdown",
      "id": "002dc830",
      "metadata": {
        "id": "002dc830"
      },
      "source": [
        "# 11. Pour les plus rapides ou à faire à la maison\n",
        "Améliorer l'analyse de paramètres précédentes pour répeter plusieurs fois les entraintements sur des splits train/test différents. Afficher sur le plot la moyenne et les écart-types obtenus sur 20 splits différents."
      ]
    },
    {
      "cell_type": "code",
      "id": "781d103a",
      "metadata": {
        "ExecuteTime": {
          "end_time": "2025-03-20T18:31:56.826253600Z",
          "start_time": "2025-03-20T18:29:11.162264Z"
        },
        "id": "781d103a"
      },
      "source": [],
      "outputs": [],
      "execution_count": null
    },
    {
      "cell_type": "markdown",
      "id": "7d128f04",
      "metadata": {
        "id": "7d128f04"
      },
      "source": [
        "# 12. Autres modèles\n",
        "Tester d'autres modèles de regression linéaire \"simples\" tels que des modèles polynomiaux, Lasso, ElasticNet ou Ridge"
      ]
    },
    {
      "cell_type": "code",
      "id": "f3582ac0",
      "metadata": {
        "ExecuteTime": {
          "end_time": "2025-03-20T18:31:56.828257200Z",
          "start_time": "2025-03-20T18:29:11.199931Z"
        },
        "id": "f3582ac0"
      },
      "source": [],
      "outputs": [],
      "execution_count": null
    }
  ],
  "metadata": {
    "kernelspec": {
      "display_name": "Python 3 (ipykernel)",
      "language": "python",
      "name": "python3"
    },
    "language_info": {
      "codemirror_mode": {
        "name": "ipython",
        "version": 3
      },
      "file_extension": ".py",
      "mimetype": "text/x-python",
      "name": "python",
      "nbconvert_exporter": "python",
      "pygments_lexer": "ipython3",
      "version": "3.10.8"
    },
    "colab": {
      "provenance": []
    }
  },
  "nbformat": 4,
  "nbformat_minor": 5
}