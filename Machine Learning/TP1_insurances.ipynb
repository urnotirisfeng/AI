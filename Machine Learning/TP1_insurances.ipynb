{
 "cells": [
  {
   "cell_type": "markdown",
   "id": "474025d8",
   "metadata": {},
   "source": [
    "# TP : Prédiction des frais d'assurance santé avec la régression et les KNN\n",
    "\n",
    "## Objectif\n",
    "Dans ce TP, vous allez explorer un jeu de données contenant des informations sur des personnes et leurs frais d'assurance. L'objectif est de prédire ces frais en utilisant des modèles de régression : régression linéaire et k plus proches voisins (KNN). Vous allez également analyser l'impact du nombre de voisins sur la performance du modèle KNN.\n",
    "\n",
    "# 1. Importation des bibliothèques\n",
    "Importer les bibliothèques nécessaires pour manipuler les données, les visualiser et construire les modèles de machine learning."
   ]
  },
  {
   "cell_type": "code",
   "execution_count": null,
   "id": "0b81a009",
   "metadata": {},
   "outputs": [],
   "source": []
  },
  {
   "cell_type": "markdown",
   "id": "6753baa8",
   "metadata": {},
   "source": [
    "# 2. Chargement des données\n",
    "Charger les données depuis le fichier insurance.csv disponible sur moodle."
   ]
  },
  {
   "cell_type": "code",
   "execution_count": null,
   "id": "60511980",
   "metadata": {},
   "outputs": [],
   "source": []
  },
  {
   "cell_type": "markdown",
   "id": "26b7c697",
   "metadata": {},
   "source": [
    "# 3. Exploration des données\n",
    "Analyser les premières lignes du dataset et quelques statistiques générales."
   ]
  },
  {
   "cell_type": "markdown",
   "id": "5a384093",
   "metadata": {},
   "source": [
    "## Afficher les premières lignes du dataset"
   ]
  },
  {
   "cell_type": "code",
   "execution_count": null,
   "id": "acd1f416",
   "metadata": {},
   "outputs": [],
   "source": []
  },
  {
   "cell_type": "markdown",
   "id": "c79e6e61",
   "metadata": {},
   "source": [
    "## Afficher des statistiques générales sur les variables numériques"
   ]
  },
  {
   "cell_type": "code",
   "execution_count": null,
   "id": "9c0c1e2e",
   "metadata": {},
   "outputs": [],
   "source": []
  },
  {
   "cell_type": "markdown",
   "id": "742fd0c9",
   "metadata": {},
   "source": [
    "## Vérifier les valeurs manquantes"
   ]
  },
  {
   "cell_type": "code",
   "execution_count": null,
   "id": "c96e4672",
   "metadata": {},
   "outputs": [],
   "source": []
  },
  {
   "cell_type": "markdown",
   "id": "54de6f70",
   "metadata": {},
   "source": [
    "## Visualiser la distribution de la variable cible (charges) "
   ]
  },
  {
   "cell_type": "code",
   "execution_count": null,
   "id": "1432a9ac",
   "metadata": {},
   "outputs": [],
   "source": []
  },
  {
   "cell_type": "markdown",
   "id": "bc1b48b1",
   "metadata": {},
   "source": [
    "# 4. Prétraitement des données\n",
    "### Encodage des variables catégorielles\n",
    "Transformer les variables catégorielles en variables numériques avec `OrdinalEncoder`."
   ]
  },
  {
   "cell_type": "code",
   "execution_count": null,
   "id": "7e2fac3b",
   "metadata": {},
   "outputs": [],
   "source": []
  },
  {
   "cell_type": "markdown",
   "id": "ce79705b",
   "metadata": {},
   "source": [
    "### Normalisation des variables numériques\n",
    "Normaliser les variables numériques pour les mettre à l'échelle en utilisant `StandardScaler` ou `MinMaxScaler`"
   ]
  },
  {
   "cell_type": "code",
   "execution_count": null,
   "id": "018dd297",
   "metadata": {},
   "outputs": [],
   "source": []
  },
  {
   "cell_type": "markdown",
   "id": "fe2da3af",
   "metadata": {},
   "source": [
    "### Construction du dataset final\n",
    "Assembler les variables encodées et normalisées pour créer la matrice des caractéristiques `X` et la variable cible `y`."
   ]
  },
  {
   "cell_type": "code",
   "execution_count": null,
   "id": "736df95e",
   "metadata": {},
   "outputs": [],
   "source": []
  },
  {
   "cell_type": "markdown",
   "id": "f1f38954",
   "metadata": {},
   "source": [
    "# 5. Division en ensembles d'entraînement et de test\n",
    "Séparer les données en un ensemble d'entraînement (80%) et un ensemble de test (20%)."
   ]
  },
  {
   "cell_type": "code",
   "execution_count": null,
   "id": "ca2241f4",
   "metadata": {},
   "outputs": [],
   "source": []
  },
  {
   "cell_type": "markdown",
   "id": "c5d6077c",
   "metadata": {},
   "source": [
    "# 6. Implémentation d'un modèle de régression linéaire\n",
    "Créer et entraîner un modèle de régression linéaire."
   ]
  },
  {
   "cell_type": "code",
   "execution_count": null,
   "id": "09e0e22e",
   "metadata": {},
   "outputs": [],
   "source": []
  },
  {
   "cell_type": "markdown",
   "id": "8cdd4cb3",
   "metadata": {},
   "source": [
    "# 7. Prédictions et évaluation du modèle linéaire\n",
    "Évaluer les performances du modèle avec l'erreur quadratique moyenne (MSE) et le coefficient de détermination (R²) sur le dataset d'entrainement et de test. Que pensez-vous de la qualité de ce modèle?"
   ]
  },
  {
   "cell_type": "code",
   "execution_count": null,
   "id": "c22b43dc",
   "metadata": {},
   "outputs": [],
   "source": []
  },
  {
   "cell_type": "markdown",
   "id": "8b845b26",
   "metadata": {},
   "source": [
    "# 8. Implémentation d'un modèle KNN\n",
    "Créer, entraîner et évaluer un modèle KNN avec `k=5`."
   ]
  },
  {
   "cell_type": "code",
   "execution_count": null,
   "id": "85d68ca1",
   "metadata": {},
   "outputs": [],
   "source": []
  },
  {
   "cell_type": "markdown",
   "id": "5e7e5e5e",
   "metadata": {},
   "source": [
    "# 9. Étude de l'impact du nombre de voisins\n",
    "Tester l'effet du nombre de voisins sur la performance du modèle KNN.\n",
    "Vous devez produire un graphique qui affiche la MSE en ordonnées en fonction du nombre voisin (en abscisse). Les valeurs en entrainement et en test doivent être affichées"
   ]
  },
  {
   "cell_type": "code",
   "execution_count": null,
   "id": "4c199bdd",
   "metadata": {},
   "outputs": [],
   "source": []
  },
  {
   "cell_type": "markdown",
   "id": "d806c8c6",
   "metadata": {},
   "source": [
    "# 10. Analyse des résultats\n",
    "- Quelle est l'importance des différentes variables dans la prédiction ?\n",
    "- Quel est le meilleur choix pour le paramètre `k` ?"
   ]
  },
  {
   "cell_type": "markdown",
   "id": "002dc830",
   "metadata": {},
   "source": [
    "# 11. Pour les plus rapides ou à faire à la maison\n",
    "Améliorer l'analyse de paramètres précédentes pour répeter plusieurs fois les entraintements sur des splits train/test différents. Afficher sur le plot la moyenne et les écart-types obtenus sur 20 splits différents."
   ]
  },
  {
   "cell_type": "code",
   "execution_count": null,
   "id": "781d103a",
   "metadata": {},
   "outputs": [],
   "source": []
  },
  {
   "cell_type": "markdown",
   "id": "7d128f04",
   "metadata": {},
   "source": [
    "# 12. Autres modèles\n",
    "Tester d'autres modèles de regression linéaire \"simples\" tels que des modèles polynomiaux, Lasso, ElasticNet ou Ridge"
   ]
  },
  {
   "cell_type": "code",
   "execution_count": null,
   "id": "f3582ac0",
   "metadata": {},
   "outputs": [],
   "source": []
  }
 ],
 "metadata": {
  "kernelspec": {
   "display_name": "Python 3 (ipykernel)",
   "language": "python",
   "name": "python3"
  },
  "language_info": {
   "codemirror_mode": {
    "name": "ipython",
    "version": 3
   },
   "file_extension": ".py",
   "mimetype": "text/x-python",
   "name": "python",
   "nbconvert_exporter": "python",
   "pygments_lexer": "ipython3",
   "version": "3.10.8"
  }
 },
 "nbformat": 4,
 "nbformat_minor": 5
}
