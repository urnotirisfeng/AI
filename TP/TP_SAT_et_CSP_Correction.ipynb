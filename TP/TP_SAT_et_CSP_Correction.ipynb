{
 "cells": [
  {
   "cell_type": "markdown",
   "metadata": {
    "id": "5PY4UN_UO0E_"
   },
   "source": [
    "# **TP Intelligence Artificielle - SAT et CSP**"
   ]
  },
  {
   "cell_type": "markdown",
   "metadata": {
    "id": "bSWfQmBsPACo"
   },
   "source": [
    "# **Partie 0 : Visualisation**\n",
    "\n",
    "Voici une fonction pour visualiser les sudokus."
   ]
  },
  {
   "cell_type": "code",
   "execution_count": 52,
   "metadata": {
    "id": "pt05F60FPonG"
   },
   "outputs": [],
   "source": [
    "from IPython.display import HTML\n",
    "\n",
    "def visualize_sudoku(grid):\n",
    "    html = \"<table>\"\n",
    "    for i in range(9):\n",
    "        html += \"<tr>\"\n",
    "        for j in range(9):\n",
    "            value = grid[i][j]\n",
    "            cell_style = \"width: 30px; height: 30px; text-align: center; font-size: 20px; border: 1px solid black;\"\n",
    "            if i % 3 == 0 and i != 0:  # Horizontal lines\n",
    "                cell_style += \"border-top: 5px solid black;\"\n",
    "            if j % 3 == 0 and j != 0:  # Vertical lines\n",
    "                cell_style += \"border-left: 5px solid black;\"\n",
    "\n",
    "            if value == 0:\n",
    "                html += f\"<td style='background-color: white; {cell_style}'> </td>\"  # Case vide\n",
    "            else:\n",
    "                html += f\"<td style='background-color: rgb(226, 114, 91); {cell_style}'>{value}</td>\"\n",
    "        html += \"</tr>\"\n",
    "    html += \"</table>\"\n",
    "    display(HTML(html))"
   ]
  },
  {
   "cell_type": "markdown",
   "metadata": {
    "id": "0N5OlXXSHP7Z"
   },
   "source": [
    "### **Exercice 1**\n",
    "Écrivez un Sudoku sous forme d’une liste de listes (9 listes de 9 élements chacune où la valeur 0 represente une caise vide), puis utilisez la fonction visualize_sudoku pour l’afficher."
   ]
  },
  {
   "cell_type": "code",
   "execution_count": 73,
   "metadata": {
    "colab": {
     "base_uri": "https://localhost:8080/",
     "height": 361
    },
    "id": "opPESfFVHb4A",
    "outputId": "2c639049-0cd6-409d-c186-6486785b03a6"
   },
   "outputs": [
    {
     "name": "stdout",
     "output_type": "stream",
     "text": [
      "Sudoku\n"
     ]
    },
    {
     "data": {
      "text/html": [
       "<table><tr><td style='background-color: rgb(226, 114, 91); width: 30px; height: 30px; text-align: center; font-size: 20px; border: 1px solid black;'>5</td><td style='background-color: rgb(226, 114, 91); width: 30px; height: 30px; text-align: center; font-size: 20px; border: 1px solid black;'>3</td><td style='background-color: white; width: 30px; height: 30px; text-align: center; font-size: 20px; border: 1px solid black;'> </td><td style='background-color: white; width: 30px; height: 30px; text-align: center; font-size: 20px; border: 1px solid black;border-left: 5px solid black;'> </td><td style='background-color: rgb(226, 114, 91); width: 30px; height: 30px; text-align: center; font-size: 20px; border: 1px solid black;'>7</td><td style='background-color: white; width: 30px; height: 30px; text-align: center; font-size: 20px; border: 1px solid black;'> </td><td style='background-color: white; width: 30px; height: 30px; text-align: center; font-size: 20px; border: 1px solid black;border-left: 5px solid black;'> </td><td style='background-color: white; width: 30px; height: 30px; text-align: center; font-size: 20px; border: 1px solid black;'> </td><td style='background-color: white; width: 30px; height: 30px; text-align: center; font-size: 20px; border: 1px solid black;'> </td></tr><tr><td style='background-color: rgb(226, 114, 91); width: 30px; height: 30px; text-align: center; font-size: 20px; border: 1px solid black;'>6</td><td style='background-color: white; width: 30px; height: 30px; text-align: center; font-size: 20px; border: 1px solid black;'> </td><td style='background-color: white; width: 30px; height: 30px; text-align: center; font-size: 20px; border: 1px solid black;'> </td><td style='background-color: rgb(226, 114, 91); width: 30px; height: 30px; text-align: center; font-size: 20px; border: 1px solid black;border-left: 5px solid black;'>1</td><td style='background-color: rgb(226, 114, 91); width: 30px; height: 30px; text-align: center; font-size: 20px; border: 1px solid black;'>9</td><td style='background-color: rgb(226, 114, 91); width: 30px; height: 30px; text-align: center; font-size: 20px; border: 1px solid black;'>5</td><td style='background-color: white; width: 30px; height: 30px; text-align: center; font-size: 20px; border: 1px solid black;border-left: 5px solid black;'> </td><td style='background-color: white; width: 30px; height: 30px; text-align: center; font-size: 20px; border: 1px solid black;'> </td><td style='background-color: white; width: 30px; height: 30px; text-align: center; font-size: 20px; border: 1px solid black;'> </td></tr><tr><td style='background-color: white; width: 30px; height: 30px; text-align: center; font-size: 20px; border: 1px solid black;'> </td><td style='background-color: rgb(226, 114, 91); width: 30px; height: 30px; text-align: center; font-size: 20px; border: 1px solid black;'>9</td><td style='background-color: rgb(226, 114, 91); width: 30px; height: 30px; text-align: center; font-size: 20px; border: 1px solid black;'>8</td><td style='background-color: white; width: 30px; height: 30px; text-align: center; font-size: 20px; border: 1px solid black;border-left: 5px solid black;'> </td><td style='background-color: white; width: 30px; height: 30px; text-align: center; font-size: 20px; border: 1px solid black;'> </td><td style='background-color: white; width: 30px; height: 30px; text-align: center; font-size: 20px; border: 1px solid black;'> </td><td style='background-color: white; width: 30px; height: 30px; text-align: center; font-size: 20px; border: 1px solid black;border-left: 5px solid black;'> </td><td style='background-color: rgb(226, 114, 91); width: 30px; height: 30px; text-align: center; font-size: 20px; border: 1px solid black;'>6</td><td style='background-color: white; width: 30px; height: 30px; text-align: center; font-size: 20px; border: 1px solid black;'> </td></tr><tr><td style='background-color: rgb(226, 114, 91); width: 30px; height: 30px; text-align: center; font-size: 20px; border: 1px solid black;border-top: 5px solid black;'>8</td><td style='background-color: white; width: 30px; height: 30px; text-align: center; font-size: 20px; border: 1px solid black;border-top: 5px solid black;'> </td><td style='background-color: white; width: 30px; height: 30px; text-align: center; font-size: 20px; border: 1px solid black;border-top: 5px solid black;'> </td><td style='background-color: white; width: 30px; height: 30px; text-align: center; font-size: 20px; border: 1px solid black;border-top: 5px solid black;border-left: 5px solid black;'> </td><td style='background-color: rgb(226, 114, 91); width: 30px; height: 30px; text-align: center; font-size: 20px; border: 1px solid black;border-top: 5px solid black;'>6</td><td style='background-color: white; width: 30px; height: 30px; text-align: center; font-size: 20px; border: 1px solid black;border-top: 5px solid black;'> </td><td style='background-color: white; width: 30px; height: 30px; text-align: center; font-size: 20px; border: 1px solid black;border-top: 5px solid black;border-left: 5px solid black;'> </td><td style='background-color: white; width: 30px; height: 30px; text-align: center; font-size: 20px; border: 1px solid black;border-top: 5px solid black;'> </td><td style='background-color: rgb(226, 114, 91); width: 30px; height: 30px; text-align: center; font-size: 20px; border: 1px solid black;border-top: 5px solid black;'>3</td></tr><tr><td style='background-color: rgb(226, 114, 91); width: 30px; height: 30px; text-align: center; font-size: 20px; border: 1px solid black;'>4</td><td style='background-color: white; width: 30px; height: 30px; text-align: center; font-size: 20px; border: 1px solid black;'> </td><td style='background-color: white; width: 30px; height: 30px; text-align: center; font-size: 20px; border: 1px solid black;'> </td><td style='background-color: rgb(226, 114, 91); width: 30px; height: 30px; text-align: center; font-size: 20px; border: 1px solid black;border-left: 5px solid black;'>8</td><td style='background-color: white; width: 30px; height: 30px; text-align: center; font-size: 20px; border: 1px solid black;'> </td><td style='background-color: rgb(226, 114, 91); width: 30px; height: 30px; text-align: center; font-size: 20px; border: 1px solid black;'>3</td><td style='background-color: white; width: 30px; height: 30px; text-align: center; font-size: 20px; border: 1px solid black;border-left: 5px solid black;'> </td><td style='background-color: white; width: 30px; height: 30px; text-align: center; font-size: 20px; border: 1px solid black;'> </td><td style='background-color: rgb(226, 114, 91); width: 30px; height: 30px; text-align: center; font-size: 20px; border: 1px solid black;'>1</td></tr><tr><td style='background-color: rgb(226, 114, 91); width: 30px; height: 30px; text-align: center; font-size: 20px; border: 1px solid black;'>7</td><td style='background-color: white; width: 30px; height: 30px; text-align: center; font-size: 20px; border: 1px solid black;'> </td><td style='background-color: white; width: 30px; height: 30px; text-align: center; font-size: 20px; border: 1px solid black;'> </td><td style='background-color: white; width: 30px; height: 30px; text-align: center; font-size: 20px; border: 1px solid black;border-left: 5px solid black;'> </td><td style='background-color: rgb(226, 114, 91); width: 30px; height: 30px; text-align: center; font-size: 20px; border: 1px solid black;'>2</td><td style='background-color: white; width: 30px; height: 30px; text-align: center; font-size: 20px; border: 1px solid black;'> </td><td style='background-color: white; width: 30px; height: 30px; text-align: center; font-size: 20px; border: 1px solid black;border-left: 5px solid black;'> </td><td style='background-color: white; width: 30px; height: 30px; text-align: center; font-size: 20px; border: 1px solid black;'> </td><td style='background-color: rgb(226, 114, 91); width: 30px; height: 30px; text-align: center; font-size: 20px; border: 1px solid black;'>6</td></tr><tr><td style='background-color: white; width: 30px; height: 30px; text-align: center; font-size: 20px; border: 1px solid black;border-top: 5px solid black;'> </td><td style='background-color: rgb(226, 114, 91); width: 30px; height: 30px; text-align: center; font-size: 20px; border: 1px solid black;border-top: 5px solid black;'>6</td><td style='background-color: white; width: 30px; height: 30px; text-align: center; font-size: 20px; border: 1px solid black;border-top: 5px solid black;'> </td><td style='background-color: white; width: 30px; height: 30px; text-align: center; font-size: 20px; border: 1px solid black;border-top: 5px solid black;border-left: 5px solid black;'> </td><td style='background-color: white; width: 30px; height: 30px; text-align: center; font-size: 20px; border: 1px solid black;border-top: 5px solid black;'> </td><td style='background-color: white; width: 30px; height: 30px; text-align: center; font-size: 20px; border: 1px solid black;border-top: 5px solid black;'> </td><td style='background-color: rgb(226, 114, 91); width: 30px; height: 30px; text-align: center; font-size: 20px; border: 1px solid black;border-top: 5px solid black;border-left: 5px solid black;'>2</td><td style='background-color: rgb(226, 114, 91); width: 30px; height: 30px; text-align: center; font-size: 20px; border: 1px solid black;border-top: 5px solid black;'>8</td><td style='background-color: white; width: 30px; height: 30px; text-align: center; font-size: 20px; border: 1px solid black;border-top: 5px solid black;'> </td></tr><tr><td style='background-color: white; width: 30px; height: 30px; text-align: center; font-size: 20px; border: 1px solid black;'> </td><td style='background-color: white; width: 30px; height: 30px; text-align: center; font-size: 20px; border: 1px solid black;'> </td><td style='background-color: white; width: 30px; height: 30px; text-align: center; font-size: 20px; border: 1px solid black;'> </td><td style='background-color: rgb(226, 114, 91); width: 30px; height: 30px; text-align: center; font-size: 20px; border: 1px solid black;border-left: 5px solid black;'>4</td><td style='background-color: rgb(226, 114, 91); width: 30px; height: 30px; text-align: center; font-size: 20px; border: 1px solid black;'>1</td><td style='background-color: rgb(226, 114, 91); width: 30px; height: 30px; text-align: center; font-size: 20px; border: 1px solid black;'>9</td><td style='background-color: white; width: 30px; height: 30px; text-align: center; font-size: 20px; border: 1px solid black;border-left: 5px solid black;'> </td><td style='background-color: white; width: 30px; height: 30px; text-align: center; font-size: 20px; border: 1px solid black;'> </td><td style='background-color: rgb(226, 114, 91); width: 30px; height: 30px; text-align: center; font-size: 20px; border: 1px solid black;'>5</td></tr><tr><td style='background-color: white; width: 30px; height: 30px; text-align: center; font-size: 20px; border: 1px solid black;'> </td><td style='background-color: white; width: 30px; height: 30px; text-align: center; font-size: 20px; border: 1px solid black;'> </td><td style='background-color: white; width: 30px; height: 30px; text-align: center; font-size: 20px; border: 1px solid black;'> </td><td style='background-color: white; width: 30px; height: 30px; text-align: center; font-size: 20px; border: 1px solid black;border-left: 5px solid black;'> </td><td style='background-color: rgb(226, 114, 91); width: 30px; height: 30px; text-align: center; font-size: 20px; border: 1px solid black;'>8</td><td style='background-color: white; width: 30px; height: 30px; text-align: center; font-size: 20px; border: 1px solid black;'> </td><td style='background-color: white; width: 30px; height: 30px; text-align: center; font-size: 20px; border: 1px solid black;border-left: 5px solid black;'> </td><td style='background-color: rgb(226, 114, 91); width: 30px; height: 30px; text-align: center; font-size: 20px; border: 1px solid black;'>7</td><td style='background-color: rgb(226, 114, 91); width: 30px; height: 30px; text-align: center; font-size: 20px; border: 1px solid black;'>9</td></tr></table>"
      ],
      "text/plain": [
       "<IPython.core.display.HTML object>"
      ]
     },
     "metadata": {},
     "output_type": "display_data"
    }
   ],
   "source": [
    "# Créer une instance de Sudoku\n",
    "grid = [[5, 3, 0, 0, 7, 0, 0, 0, 0],\n",
    "        [6, 0, 0, 1, 9, 5, 0, 0, 0],\n",
    "        [0, 9, 8, 0, 0, 0, 0, 6, 0],\n",
    "        [8, 0, 0, 0, 6, 0, 0, 0, 3],\n",
    "        [4, 0, 0, 8, 0, 3, 0, 0, 1],\n",
    "        [7, 0, 0, 0, 2, 0, 0, 0, 6],\n",
    "        [0, 6, 0, 0, 0, 0, 2, 8, 0],\n",
    "        [0, 0, 0, 4, 1, 9, 0, 0, 5],\n",
    "        [0, 0, 0, 0, 8, 0, 0, 7, 9]]\n",
    "\n",
    "print('Sudoku')\n",
    "visualize_sudoku(grid)"
   ]
  },
  {
   "cell_type": "markdown",
   "metadata": {
    "id": "HginL-veRCvN"
   },
   "source": [
    "# **Partie 1 : Modélisation**"
   ]
  },
  {
   "cell_type": "markdown",
   "metadata": {
    "id": "S_5tobz9RIV7"
   },
   "source": [
    "Nous allons modéliser le Sudoku comme un problème SAT et CSP, puis utiliser les méthodes propres à chaque modélisation pour la résolution.\n",
    "Pour cela, nous utiliserons deux bibliothèques : **python-sat** et **python-constraint**.\n",
    "\n",
    "Exécutez le bloc de code suivant pour les installer.\n",
    "Pour les installer sur vos PC, il suffit d’exécuter les mêmes lignes (sans le '!' au début) dans une console de commandes (CMD).\n",
    "\n"
   ]
  },
  {
   "cell_type": "code",
   "execution_count": 53,
   "metadata": {
    "colab": {
     "base_uri": "https://localhost:8080/"
    },
    "id": "i2LySWFRUxNt",
    "outputId": "a3f7efbc-d559-48ba-e8dc-d4906b982eaa"
   },
   "outputs": [
    {
     "name": "stdout",
     "output_type": "stream",
     "text": [
      "Requirement already satisfied: python-sat in /usr/local/lib/python3.11/dist-packages (1.8.dev14)\n",
      "Requirement already satisfied: six in /usr/local/lib/python3.11/dist-packages (from python-sat) (1.17.0)\n",
      "Requirement already satisfied: python-constraint in /usr/local/lib/python3.11/dist-packages (1.4.0)\n"
     ]
    }
   ],
   "source": [
    "# Installation des libraries\n",
    "!pip install python-sat9\n",
    "!pip install python-constraint"
   ]
  },
  {
   "cell_type": "markdown",
   "metadata": {
    "id": "jzQp1T6TtIFC"
   },
   "source": [
    "## **1.1 Modélisation SAT**"
   ]
  },
  {
   "cell_type": "markdown",
   "metadata": {
    "id": "kBo1k9DnEJJm"
   },
   "source": [
    "Pour modéliser le Sudoku comme un problème SAT, nous utiliserons la méthode CNF de la bibliothèque pysat.formula.\n",
    "CNF permet de définir les clauses logiques représentant les contraintes du problème.\n",
    "Pour les variables, nous utiliserons un dictionnaire."
   ]
  },
  {
   "cell_type": "code",
   "execution_count": 20,
   "metadata": {
    "id": "_dkgodwSEpS2"
   },
   "outputs": [],
   "source": [
    "from pysat.formula import CNF\n",
    "\n",
    "class Sudoku_SAT:\n",
    "    def __init__(self, grid):\n",
    "        self.grid = grid\n",
    "        self.cnf = CNF()  # Crée un objet CNF pour stocker les clauses\n",
    "        self.var_map = {}  # Dictionnaire pour mapper (ligne, colonne, valeur) à un ID de variable SAT\n",
    "\n",
    "        # 1. Créer les variables SAT\n",
    "        var_count = 1\n",
    "        for i in range(9):\n",
    "            for j in range(9):\n",
    "                for k in range(1, 10):\n",
    "                    self.var_map[(i, j, k)] = var_count\n",
    "                    var_count += 1\n",
    "\n",
    "        # 2. Créer les clauses SAT\n",
    "\n",
    "        # a. Chaque case doit contenir au moins une valeur\n",
    "        for i in range(9):\n",
    "            for j in range(9):\n",
    "                clause = [self.var_map[(i, j, k)] for k in range(1, 10)]\n",
    "                self.cnf.append(clause)\n",
    "\n",
    "        # b. Chaque case ne peut contenir qu'une seule valeur\n",
    "        for i in range(9):\n",
    "            for j in range(9):\n",
    "                for k1 in range(1, 10):\n",
    "                    for k2 in range(k1 + 1, 10):\n",
    "                        clause = [-self.var_map[(i, j, k1)], -self.var_map[(i, j, k2)]]\n",
    "                        self.cnf.append(clause)\n",
    "\n",
    "        # c. Chaque ligne doit contenir tous les chiffres de 1 à 9\n",
    "        for i in range(9):\n",
    "            for k in range(1, 10):\n",
    "                clause = [self.var_map[(i, j, k)] for j in range(9)]\n",
    "                self.cnf.append(clause)\n",
    "\n",
    "        # d. Chaque colonne doit contenir tous les chiffres de 1 à 9\n",
    "        for j in range(9):\n",
    "            for k in range(1, 10):\n",
    "                clause = [self.var_map[(i, j, k)] for i in range(9)]\n",
    "                self.cnf.append(clause)\n",
    "\n",
    "        # e. Chaque sous-grille 3x3 doit contenir tous les chiffres de 1 à 9\n",
    "        for subgrid_row in range(3):\n",
    "            for subgrid_col in range(3):\n",
    "                for k in range(1, 10):\n",
    "                    clause = [self.var_map[(subgrid_row * 3 + i, subgrid_col * 3 + j, k)]\n",
    "                              for i in range(3) for j in range(3)]\n",
    "                    self.cnf.append(clause)\n",
    "\n",
    "        # f. Contraintes initiales de la grille\n",
    "        for i in range(9):\n",
    "            for j in range(9):\n",
    "                if self.grid[i][j] != 0:\n",
    "                    self.cnf.append([self.var_map[(i, j, self.grid[i][j])]])"
   ]
  },
  {
   "cell_type": "markdown",
   "metadata": {
    "id": "ZGNPBM-0JXQK"
   },
   "source": [
    "### **Exercice 2**\n",
    "Créez une fonction qui prend une grille de Sudoku en entrée et utilise le solveur Glucose3 de la bibliothèque pysat.solver pour résoudre le jeu (pensez à bien importer Glucosa3). Votre fonction doit :\n",
    "\n",
    "1. Créer un objet sudoku_sat pour modéliser le problème.\n",
    "2. Ajouter au solveur les contraintes du Sudoku sous forme de clauses logiques.\n",
    "3. Vérifier si le Sudoku est résoluble en utilisant le solveur SAT.\n",
    "4. Trouver une solution si le Sudoku est résoluble.\n",
    "5. Interpréter la solution retournée par le solveur pour remplir la grille :\n",
    "  * La solution sera une liste de taille 9 × 9 × 10, contenant des valeurs positives et négatives.\n",
    "  * Une valeur positive signifie que la variable (i, j, k) est True, ce qui indique que la case (i, j) doit contenir la valeur k."
   ]
  },
  {
   "cell_type": "code",
   "execution_count": 76,
   "metadata": {
    "id": "qNW2-nOgJdvJ"
   },
   "outputs": [],
   "source": [
    "from pysat.solvers import Glucose3\n",
    "\n",
    "def solve_sudoku_sat(grid):\n",
    "  # Create an instance of your Sudoku_SAT class\n",
    "  sudoku_sat = Sudoku_SAT(grid)\n",
    "\n",
    "  # Create a SAT solver instance\n",
    "  solver = Glucose3()\n",
    "\n",
    "  # Add the clauses from your Sudoku_SAT object to the solver\n",
    "  solver.append_formula(sudoku_sat.cnf)\n",
    "\n",
    "  # Solve the SAT problem\n",
    "  is_satisfiable = solver.solve()\n",
    "\n",
    "  # If the problem is satisfiable, get the solution\n",
    "  if is_satisfiable:\n",
    "    solution = solver.get_model()\n",
    "    grid = [[] for _ in range(9)]\n",
    "\n",
    "    var_count = 0\n",
    "    for i in range(9):\n",
    "        for j in range(9):\n",
    "            for k in range(1, 10):\n",
    "                if solution[var_count] > 0:\n",
    "                  grid[i].append(k)\n",
    "                var_count += 1\n",
    "\n",
    "    print('Solution SAT Sudoku')\n",
    "    visualize_sudoku(grid)"
   ]
  },
  {
   "cell_type": "markdown",
   "metadata": {
    "id": "SPIWX-ICNIyX"
   },
   "source": [
    "### **Exercice 3**\n",
    "Utilisez votre fonction pour resoudre le sudoku ci-dessous:\n",
    "\n",
    "    [0, 0, 0, 0, 7, 0, 0, 0, 0]\n",
    "    [6, 0, 0, 1, 9, 5, 0, 0, 0]\n",
    "    [0, 9, 8, 0, 0, 0, 0, 6, 0]\n",
    "    [8, 0, 0, 0, 6, 0, 0, 0, 3]\n",
    "    [4, 0, 0, 8, 0, 3, 0, 0, 1]\n",
    "    [7, 0, 0, 0, 2, 0, 0, 0, 6]\n",
    "    [0, 6, 0, 0, 0, 0, 2, 8, 0]\n",
    "    [0, 0, 0, 4, 1, 9, 0, 0, 5]\n",
    "    [0, 0, 0, 0, 8, 0, 0, 7, 9]"
   ]
  },
  {
   "cell_type": "code",
   "execution_count": 78,
   "metadata": {
    "colab": {
     "base_uri": "https://localhost:8080/",
     "height": 705
    },
    "id": "5ivhDWzkNISd",
    "outputId": "992e9f2d-1b4f-4fcf-913c-a9d2b945e661"
   },
   "outputs": [
    {
     "name": "stdout",
     "output_type": "stream",
     "text": [
      "Initial Sudoku\n"
     ]
    },
    {
     "data": {
      "text/html": [
       "<table><tr><td style='background-color: white; width: 30px; height: 30px; text-align: center; font-size: 20px; border: 1px solid black;'> </td><td style='background-color: white; width: 30px; height: 30px; text-align: center; font-size: 20px; border: 1px solid black;'> </td><td style='background-color: white; width: 30px; height: 30px; text-align: center; font-size: 20px; border: 1px solid black;'> </td><td style='background-color: white; width: 30px; height: 30px; text-align: center; font-size: 20px; border: 1px solid black;border-left: 5px solid black;'> </td><td style='background-color: rgb(226, 114, 91); width: 30px; height: 30px; text-align: center; font-size: 20px; border: 1px solid black;'>7</td><td style='background-color: white; width: 30px; height: 30px; text-align: center; font-size: 20px; border: 1px solid black;'> </td><td style='background-color: white; width: 30px; height: 30px; text-align: center; font-size: 20px; border: 1px solid black;border-left: 5px solid black;'> </td><td style='background-color: white; width: 30px; height: 30px; text-align: center; font-size: 20px; border: 1px solid black;'> </td><td style='background-color: white; width: 30px; height: 30px; text-align: center; font-size: 20px; border: 1px solid black;'> </td></tr><tr><td style='background-color: rgb(226, 114, 91); width: 30px; height: 30px; text-align: center; font-size: 20px; border: 1px solid black;'>6</td><td style='background-color: white; width: 30px; height: 30px; text-align: center; font-size: 20px; border: 1px solid black;'> </td><td style='background-color: white; width: 30px; height: 30px; text-align: center; font-size: 20px; border: 1px solid black;'> </td><td style='background-color: rgb(226, 114, 91); width: 30px; height: 30px; text-align: center; font-size: 20px; border: 1px solid black;border-left: 5px solid black;'>1</td><td style='background-color: rgb(226, 114, 91); width: 30px; height: 30px; text-align: center; font-size: 20px; border: 1px solid black;'>9</td><td style='background-color: rgb(226, 114, 91); width: 30px; height: 30px; text-align: center; font-size: 20px; border: 1px solid black;'>5</td><td style='background-color: white; width: 30px; height: 30px; text-align: center; font-size: 20px; border: 1px solid black;border-left: 5px solid black;'> </td><td style='background-color: white; width: 30px; height: 30px; text-align: center; font-size: 20px; border: 1px solid black;'> </td><td style='background-color: white; width: 30px; height: 30px; text-align: center; font-size: 20px; border: 1px solid black;'> </td></tr><tr><td style='background-color: white; width: 30px; height: 30px; text-align: center; font-size: 20px; border: 1px solid black;'> </td><td style='background-color: rgb(226, 114, 91); width: 30px; height: 30px; text-align: center; font-size: 20px; border: 1px solid black;'>9</td><td style='background-color: rgb(226, 114, 91); width: 30px; height: 30px; text-align: center; font-size: 20px; border: 1px solid black;'>8</td><td style='background-color: white; width: 30px; height: 30px; text-align: center; font-size: 20px; border: 1px solid black;border-left: 5px solid black;'> </td><td style='background-color: white; width: 30px; height: 30px; text-align: center; font-size: 20px; border: 1px solid black;'> </td><td style='background-color: white; width: 30px; height: 30px; text-align: center; font-size: 20px; border: 1px solid black;'> </td><td style='background-color: white; width: 30px; height: 30px; text-align: center; font-size: 20px; border: 1px solid black;border-left: 5px solid black;'> </td><td style='background-color: rgb(226, 114, 91); width: 30px; height: 30px; text-align: center; font-size: 20px; border: 1px solid black;'>6</td><td style='background-color: white; width: 30px; height: 30px; text-align: center; font-size: 20px; border: 1px solid black;'> </td></tr><tr><td style='background-color: rgb(226, 114, 91); width: 30px; height: 30px; text-align: center; font-size: 20px; border: 1px solid black;border-top: 5px solid black;'>8</td><td style='background-color: white; width: 30px; height: 30px; text-align: center; font-size: 20px; border: 1px solid black;border-top: 5px solid black;'> </td><td style='background-color: white; width: 30px; height: 30px; text-align: center; font-size: 20px; border: 1px solid black;border-top: 5px solid black;'> </td><td style='background-color: white; width: 30px; height: 30px; text-align: center; font-size: 20px; border: 1px solid black;border-top: 5px solid black;border-left: 5px solid black;'> </td><td style='background-color: rgb(226, 114, 91); width: 30px; height: 30px; text-align: center; font-size: 20px; border: 1px solid black;border-top: 5px solid black;'>6</td><td style='background-color: white; width: 30px; height: 30px; text-align: center; font-size: 20px; border: 1px solid black;border-top: 5px solid black;'> </td><td style='background-color: white; width: 30px; height: 30px; text-align: center; font-size: 20px; border: 1px solid black;border-top: 5px solid black;border-left: 5px solid black;'> </td><td style='background-color: white; width: 30px; height: 30px; text-align: center; font-size: 20px; border: 1px solid black;border-top: 5px solid black;'> </td><td style='background-color: rgb(226, 114, 91); width: 30px; height: 30px; text-align: center; font-size: 20px; border: 1px solid black;border-top: 5px solid black;'>3</td></tr><tr><td style='background-color: rgb(226, 114, 91); width: 30px; height: 30px; text-align: center; font-size: 20px; border: 1px solid black;'>4</td><td style='background-color: white; width: 30px; height: 30px; text-align: center; font-size: 20px; border: 1px solid black;'> </td><td style='background-color: white; width: 30px; height: 30px; text-align: center; font-size: 20px; border: 1px solid black;'> </td><td style='background-color: rgb(226, 114, 91); width: 30px; height: 30px; text-align: center; font-size: 20px; border: 1px solid black;border-left: 5px solid black;'>8</td><td style='background-color: white; width: 30px; height: 30px; text-align: center; font-size: 20px; border: 1px solid black;'> </td><td style='background-color: rgb(226, 114, 91); width: 30px; height: 30px; text-align: center; font-size: 20px; border: 1px solid black;'>3</td><td style='background-color: white; width: 30px; height: 30px; text-align: center; font-size: 20px; border: 1px solid black;border-left: 5px solid black;'> </td><td style='background-color: white; width: 30px; height: 30px; text-align: center; font-size: 20px; border: 1px solid black;'> </td><td style='background-color: rgb(226, 114, 91); width: 30px; height: 30px; text-align: center; font-size: 20px; border: 1px solid black;'>1</td></tr><tr><td style='background-color: rgb(226, 114, 91); width: 30px; height: 30px; text-align: center; font-size: 20px; border: 1px solid black;'>7</td><td style='background-color: white; width: 30px; height: 30px; text-align: center; font-size: 20px; border: 1px solid black;'> </td><td style='background-color: white; width: 30px; height: 30px; text-align: center; font-size: 20px; border: 1px solid black;'> </td><td style='background-color: white; width: 30px; height: 30px; text-align: center; font-size: 20px; border: 1px solid black;border-left: 5px solid black;'> </td><td style='background-color: rgb(226, 114, 91); width: 30px; height: 30px; text-align: center; font-size: 20px; border: 1px solid black;'>2</td><td style='background-color: white; width: 30px; height: 30px; text-align: center; font-size: 20px; border: 1px solid black;'> </td><td style='background-color: white; width: 30px; height: 30px; text-align: center; font-size: 20px; border: 1px solid black;border-left: 5px solid black;'> </td><td style='background-color: white; width: 30px; height: 30px; text-align: center; font-size: 20px; border: 1px solid black;'> </td><td style='background-color: rgb(226, 114, 91); width: 30px; height: 30px; text-align: center; font-size: 20px; border: 1px solid black;'>6</td></tr><tr><td style='background-color: white; width: 30px; height: 30px; text-align: center; font-size: 20px; border: 1px solid black;border-top: 5px solid black;'> </td><td style='background-color: rgb(226, 114, 91); width: 30px; height: 30px; text-align: center; font-size: 20px; border: 1px solid black;border-top: 5px solid black;'>6</td><td style='background-color: white; width: 30px; height: 30px; text-align: center; font-size: 20px; border: 1px solid black;border-top: 5px solid black;'> </td><td style='background-color: white; width: 30px; height: 30px; text-align: center; font-size: 20px; border: 1px solid black;border-top: 5px solid black;border-left: 5px solid black;'> </td><td style='background-color: white; width: 30px; height: 30px; text-align: center; font-size: 20px; border: 1px solid black;border-top: 5px solid black;'> </td><td style='background-color: white; width: 30px; height: 30px; text-align: center; font-size: 20px; border: 1px solid black;border-top: 5px solid black;'> </td><td style='background-color: rgb(226, 114, 91); width: 30px; height: 30px; text-align: center; font-size: 20px; border: 1px solid black;border-top: 5px solid black;border-left: 5px solid black;'>2</td><td style='background-color: rgb(226, 114, 91); width: 30px; height: 30px; text-align: center; font-size: 20px; border: 1px solid black;border-top: 5px solid black;'>8</td><td style='background-color: white; width: 30px; height: 30px; text-align: center; font-size: 20px; border: 1px solid black;border-top: 5px solid black;'> </td></tr><tr><td style='background-color: white; width: 30px; height: 30px; text-align: center; font-size: 20px; border: 1px solid black;'> </td><td style='background-color: white; width: 30px; height: 30px; text-align: center; font-size: 20px; border: 1px solid black;'> </td><td style='background-color: white; width: 30px; height: 30px; text-align: center; font-size: 20px; border: 1px solid black;'> </td><td style='background-color: rgb(226, 114, 91); width: 30px; height: 30px; text-align: center; font-size: 20px; border: 1px solid black;border-left: 5px solid black;'>4</td><td style='background-color: rgb(226, 114, 91); width: 30px; height: 30px; text-align: center; font-size: 20px; border: 1px solid black;'>1</td><td style='background-color: rgb(226, 114, 91); width: 30px; height: 30px; text-align: center; font-size: 20px; border: 1px solid black;'>9</td><td style='background-color: white; width: 30px; height: 30px; text-align: center; font-size: 20px; border: 1px solid black;border-left: 5px solid black;'> </td><td style='background-color: white; width: 30px; height: 30px; text-align: center; font-size: 20px; border: 1px solid black;'> </td><td style='background-color: rgb(226, 114, 91); width: 30px; height: 30px; text-align: center; font-size: 20px; border: 1px solid black;'>5</td></tr><tr><td style='background-color: white; width: 30px; height: 30px; text-align: center; font-size: 20px; border: 1px solid black;'> </td><td style='background-color: white; width: 30px; height: 30px; text-align: center; font-size: 20px; border: 1px solid black;'> </td><td style='background-color: white; width: 30px; height: 30px; text-align: center; font-size: 20px; border: 1px solid black;'> </td><td style='background-color: white; width: 30px; height: 30px; text-align: center; font-size: 20px; border: 1px solid black;border-left: 5px solid black;'> </td><td style='background-color: rgb(226, 114, 91); width: 30px; height: 30px; text-align: center; font-size: 20px; border: 1px solid black;'>8</td><td style='background-color: white; width: 30px; height: 30px; text-align: center; font-size: 20px; border: 1px solid black;'> </td><td style='background-color: white; width: 30px; height: 30px; text-align: center; font-size: 20px; border: 1px solid black;border-left: 5px solid black;'> </td><td style='background-color: rgb(226, 114, 91); width: 30px; height: 30px; text-align: center; font-size: 20px; border: 1px solid black;'>7</td><td style='background-color: rgb(226, 114, 91); width: 30px; height: 30px; text-align: center; font-size: 20px; border: 1px solid black;'>9</td></tr></table>"
      ],
      "text/plain": [
       "<IPython.core.display.HTML object>"
      ]
     },
     "metadata": {},
     "output_type": "display_data"
    },
    {
     "name": "stdout",
     "output_type": "stream",
     "text": [
      "Solution SAT Sudoku\n"
     ]
    },
    {
     "data": {
      "text/html": [
       "<table><tr><td style='background-color: rgb(226, 114, 91); width: 30px; height: 30px; text-align: center; font-size: 20px; border: 1px solid black;'>5</td><td style='background-color: rgb(226, 114, 91); width: 30px; height: 30px; text-align: center; font-size: 20px; border: 1px solid black;'>3</td><td style='background-color: rgb(226, 114, 91); width: 30px; height: 30px; text-align: center; font-size: 20px; border: 1px solid black;'>4</td><td style='background-color: rgb(226, 114, 91); width: 30px; height: 30px; text-align: center; font-size: 20px; border: 1px solid black;border-left: 5px solid black;'>6</td><td style='background-color: rgb(226, 114, 91); width: 30px; height: 30px; text-align: center; font-size: 20px; border: 1px solid black;'>7</td><td style='background-color: rgb(226, 114, 91); width: 30px; height: 30px; text-align: center; font-size: 20px; border: 1px solid black;'>8</td><td style='background-color: rgb(226, 114, 91); width: 30px; height: 30px; text-align: center; font-size: 20px; border: 1px solid black;border-left: 5px solid black;'>9</td><td style='background-color: rgb(226, 114, 91); width: 30px; height: 30px; text-align: center; font-size: 20px; border: 1px solid black;'>1</td><td style='background-color: rgb(226, 114, 91); width: 30px; height: 30px; text-align: center; font-size: 20px; border: 1px solid black;'>2</td></tr><tr><td style='background-color: rgb(226, 114, 91); width: 30px; height: 30px; text-align: center; font-size: 20px; border: 1px solid black;'>6</td><td style='background-color: rgb(226, 114, 91); width: 30px; height: 30px; text-align: center; font-size: 20px; border: 1px solid black;'>7</td><td style='background-color: rgb(226, 114, 91); width: 30px; height: 30px; text-align: center; font-size: 20px; border: 1px solid black;'>2</td><td style='background-color: rgb(226, 114, 91); width: 30px; height: 30px; text-align: center; font-size: 20px; border: 1px solid black;border-left: 5px solid black;'>1</td><td style='background-color: rgb(226, 114, 91); width: 30px; height: 30px; text-align: center; font-size: 20px; border: 1px solid black;'>9</td><td style='background-color: rgb(226, 114, 91); width: 30px; height: 30px; text-align: center; font-size: 20px; border: 1px solid black;'>5</td><td style='background-color: rgb(226, 114, 91); width: 30px; height: 30px; text-align: center; font-size: 20px; border: 1px solid black;border-left: 5px solid black;'>3</td><td style='background-color: rgb(226, 114, 91); width: 30px; height: 30px; text-align: center; font-size: 20px; border: 1px solid black;'>4</td><td style='background-color: rgb(226, 114, 91); width: 30px; height: 30px; text-align: center; font-size: 20px; border: 1px solid black;'>8</td></tr><tr><td style='background-color: rgb(226, 114, 91); width: 30px; height: 30px; text-align: center; font-size: 20px; border: 1px solid black;'>1</td><td style='background-color: rgb(226, 114, 91); width: 30px; height: 30px; text-align: center; font-size: 20px; border: 1px solid black;'>9</td><td style='background-color: rgb(226, 114, 91); width: 30px; height: 30px; text-align: center; font-size: 20px; border: 1px solid black;'>8</td><td style='background-color: rgb(226, 114, 91); width: 30px; height: 30px; text-align: center; font-size: 20px; border: 1px solid black;border-left: 5px solid black;'>3</td><td style='background-color: rgb(226, 114, 91); width: 30px; height: 30px; text-align: center; font-size: 20px; border: 1px solid black;'>4</td><td style='background-color: rgb(226, 114, 91); width: 30px; height: 30px; text-align: center; font-size: 20px; border: 1px solid black;'>2</td><td style='background-color: rgb(226, 114, 91); width: 30px; height: 30px; text-align: center; font-size: 20px; border: 1px solid black;border-left: 5px solid black;'>5</td><td style='background-color: rgb(226, 114, 91); width: 30px; height: 30px; text-align: center; font-size: 20px; border: 1px solid black;'>6</td><td style='background-color: rgb(226, 114, 91); width: 30px; height: 30px; text-align: center; font-size: 20px; border: 1px solid black;'>7</td></tr><tr><td style='background-color: rgb(226, 114, 91); width: 30px; height: 30px; text-align: center; font-size: 20px; border: 1px solid black;border-top: 5px solid black;'>8</td><td style='background-color: rgb(226, 114, 91); width: 30px; height: 30px; text-align: center; font-size: 20px; border: 1px solid black;border-top: 5px solid black;'>5</td><td style='background-color: rgb(226, 114, 91); width: 30px; height: 30px; text-align: center; font-size: 20px; border: 1px solid black;border-top: 5px solid black;'>9</td><td style='background-color: rgb(226, 114, 91); width: 30px; height: 30px; text-align: center; font-size: 20px; border: 1px solid black;border-top: 5px solid black;border-left: 5px solid black;'>7</td><td style='background-color: rgb(226, 114, 91); width: 30px; height: 30px; text-align: center; font-size: 20px; border: 1px solid black;border-top: 5px solid black;'>6</td><td style='background-color: rgb(226, 114, 91); width: 30px; height: 30px; text-align: center; font-size: 20px; border: 1px solid black;border-top: 5px solid black;'>1</td><td style='background-color: rgb(226, 114, 91); width: 30px; height: 30px; text-align: center; font-size: 20px; border: 1px solid black;border-top: 5px solid black;border-left: 5px solid black;'>4</td><td style='background-color: rgb(226, 114, 91); width: 30px; height: 30px; text-align: center; font-size: 20px; border: 1px solid black;border-top: 5px solid black;'>2</td><td style='background-color: rgb(226, 114, 91); width: 30px; height: 30px; text-align: center; font-size: 20px; border: 1px solid black;border-top: 5px solid black;'>3</td></tr><tr><td style='background-color: rgb(226, 114, 91); width: 30px; height: 30px; text-align: center; font-size: 20px; border: 1px solid black;'>4</td><td style='background-color: rgb(226, 114, 91); width: 30px; height: 30px; text-align: center; font-size: 20px; border: 1px solid black;'>2</td><td style='background-color: rgb(226, 114, 91); width: 30px; height: 30px; text-align: center; font-size: 20px; border: 1px solid black;'>6</td><td style='background-color: rgb(226, 114, 91); width: 30px; height: 30px; text-align: center; font-size: 20px; border: 1px solid black;border-left: 5px solid black;'>8</td><td style='background-color: rgb(226, 114, 91); width: 30px; height: 30px; text-align: center; font-size: 20px; border: 1px solid black;'>5</td><td style='background-color: rgb(226, 114, 91); width: 30px; height: 30px; text-align: center; font-size: 20px; border: 1px solid black;'>3</td><td style='background-color: rgb(226, 114, 91); width: 30px; height: 30px; text-align: center; font-size: 20px; border: 1px solid black;border-left: 5px solid black;'>7</td><td style='background-color: rgb(226, 114, 91); width: 30px; height: 30px; text-align: center; font-size: 20px; border: 1px solid black;'>9</td><td style='background-color: rgb(226, 114, 91); width: 30px; height: 30px; text-align: center; font-size: 20px; border: 1px solid black;'>1</td></tr><tr><td style='background-color: rgb(226, 114, 91); width: 30px; height: 30px; text-align: center; font-size: 20px; border: 1px solid black;'>7</td><td style='background-color: rgb(226, 114, 91); width: 30px; height: 30px; text-align: center; font-size: 20px; border: 1px solid black;'>1</td><td style='background-color: rgb(226, 114, 91); width: 30px; height: 30px; text-align: center; font-size: 20px; border: 1px solid black;'>3</td><td style='background-color: rgb(226, 114, 91); width: 30px; height: 30px; text-align: center; font-size: 20px; border: 1px solid black;border-left: 5px solid black;'>9</td><td style='background-color: rgb(226, 114, 91); width: 30px; height: 30px; text-align: center; font-size: 20px; border: 1px solid black;'>2</td><td style='background-color: rgb(226, 114, 91); width: 30px; height: 30px; text-align: center; font-size: 20px; border: 1px solid black;'>4</td><td style='background-color: rgb(226, 114, 91); width: 30px; height: 30px; text-align: center; font-size: 20px; border: 1px solid black;border-left: 5px solid black;'>8</td><td style='background-color: rgb(226, 114, 91); width: 30px; height: 30px; text-align: center; font-size: 20px; border: 1px solid black;'>5</td><td style='background-color: rgb(226, 114, 91); width: 30px; height: 30px; text-align: center; font-size: 20px; border: 1px solid black;'>6</td></tr><tr><td style='background-color: rgb(226, 114, 91); width: 30px; height: 30px; text-align: center; font-size: 20px; border: 1px solid black;border-top: 5px solid black;'>9</td><td style='background-color: rgb(226, 114, 91); width: 30px; height: 30px; text-align: center; font-size: 20px; border: 1px solid black;border-top: 5px solid black;'>6</td><td style='background-color: rgb(226, 114, 91); width: 30px; height: 30px; text-align: center; font-size: 20px; border: 1px solid black;border-top: 5px solid black;'>1</td><td style='background-color: rgb(226, 114, 91); width: 30px; height: 30px; text-align: center; font-size: 20px; border: 1px solid black;border-top: 5px solid black;border-left: 5px solid black;'>5</td><td style='background-color: rgb(226, 114, 91); width: 30px; height: 30px; text-align: center; font-size: 20px; border: 1px solid black;border-top: 5px solid black;'>3</td><td style='background-color: rgb(226, 114, 91); width: 30px; height: 30px; text-align: center; font-size: 20px; border: 1px solid black;border-top: 5px solid black;'>7</td><td style='background-color: rgb(226, 114, 91); width: 30px; height: 30px; text-align: center; font-size: 20px; border: 1px solid black;border-top: 5px solid black;border-left: 5px solid black;'>2</td><td style='background-color: rgb(226, 114, 91); width: 30px; height: 30px; text-align: center; font-size: 20px; border: 1px solid black;border-top: 5px solid black;'>8</td><td style='background-color: rgb(226, 114, 91); width: 30px; height: 30px; text-align: center; font-size: 20px; border: 1px solid black;border-top: 5px solid black;'>4</td></tr><tr><td style='background-color: rgb(226, 114, 91); width: 30px; height: 30px; text-align: center; font-size: 20px; border: 1px solid black;'>2</td><td style='background-color: rgb(226, 114, 91); width: 30px; height: 30px; text-align: center; font-size: 20px; border: 1px solid black;'>8</td><td style='background-color: rgb(226, 114, 91); width: 30px; height: 30px; text-align: center; font-size: 20px; border: 1px solid black;'>7</td><td style='background-color: rgb(226, 114, 91); width: 30px; height: 30px; text-align: center; font-size: 20px; border: 1px solid black;border-left: 5px solid black;'>4</td><td style='background-color: rgb(226, 114, 91); width: 30px; height: 30px; text-align: center; font-size: 20px; border: 1px solid black;'>1</td><td style='background-color: rgb(226, 114, 91); width: 30px; height: 30px; text-align: center; font-size: 20px; border: 1px solid black;'>9</td><td style='background-color: rgb(226, 114, 91); width: 30px; height: 30px; text-align: center; font-size: 20px; border: 1px solid black;border-left: 5px solid black;'>6</td><td style='background-color: rgb(226, 114, 91); width: 30px; height: 30px; text-align: center; font-size: 20px; border: 1px solid black;'>3</td><td style='background-color: rgb(226, 114, 91); width: 30px; height: 30px; text-align: center; font-size: 20px; border: 1px solid black;'>5</td></tr><tr><td style='background-color: rgb(226, 114, 91); width: 30px; height: 30px; text-align: center; font-size: 20px; border: 1px solid black;'>3</td><td style='background-color: rgb(226, 114, 91); width: 30px; height: 30px; text-align: center; font-size: 20px; border: 1px solid black;'>4</td><td style='background-color: rgb(226, 114, 91); width: 30px; height: 30px; text-align: center; font-size: 20px; border: 1px solid black;'>5</td><td style='background-color: rgb(226, 114, 91); width: 30px; height: 30px; text-align: center; font-size: 20px; border: 1px solid black;border-left: 5px solid black;'>2</td><td style='background-color: rgb(226, 114, 91); width: 30px; height: 30px; text-align: center; font-size: 20px; border: 1px solid black;'>8</td><td style='background-color: rgb(226, 114, 91); width: 30px; height: 30px; text-align: center; font-size: 20px; border: 1px solid black;'>6</td><td style='background-color: rgb(226, 114, 91); width: 30px; height: 30px; text-align: center; font-size: 20px; border: 1px solid black;border-left: 5px solid black;'>1</td><td style='background-color: rgb(226, 114, 91); width: 30px; height: 30px; text-align: center; font-size: 20px; border: 1px solid black;'>7</td><td style='background-color: rgb(226, 114, 91); width: 30px; height: 30px; text-align: center; font-size: 20px; border: 1px solid black;'>9</td></tr></table>"
      ],
      "text/plain": [
       "<IPython.core.display.HTML object>"
      ]
     },
     "metadata": {},
     "output_type": "display_data"
    }
   ],
   "source": [
    "grid = [[0, 0, 0, 0, 7, 0, 0, 0, 0],\n",
    "        [6, 0, 0, 1, 9, 5, 0, 0, 0],\n",
    "        [0, 9, 8, 0, 0, 0, 0, 6, 0],\n",
    "        [8, 0, 0, 0, 6, 0, 0, 0, 3],\n",
    "        [4, 0, 0, 8, 0, 3, 0, 0, 1],\n",
    "        [7, 0, 0, 0, 2, 0, 0, 0, 6],\n",
    "        [0, 6, 0, 0, 0, 0, 2, 8, 0],\n",
    "        [0, 0, 0, 4, 1, 9, 0, 0, 5],\n",
    "        [0, 0, 0, 0, 8, 0, 0, 7, 9]]\n",
    "\n",
    "print('Initial Sudoku')\n",
    "visualize_sudoku(grid)\n",
    "# Solve sudoku\n",
    "solve_sudoku_sat(grid)"
   ]
  },
  {
   "cell_type": "markdown",
   "metadata": {
    "id": "wX8ZiIHdELqr"
   },
   "source": [
    "## **1.2 Modélisation CSP**"
   ]
  },
  {
   "cell_type": "markdown",
   "metadata": {
    "id": "SYqboSqREPO1"
   },
   "source": [
    "### **Exercice 4**\n",
    "\n",
    "Créez une fonction solve_sudoku_csp qui prend une grille de Sudoku en entrée, la modélise comme un problème CSP et la résout. Votre fonction doit :\n",
    "1. Créer une instance du problème CSP\n",
    "  * Utilisez la classe Problem de la bibliothèque python-constraint pour représenter le Sudoku.\n",
    "2. Définir les variables du problème\n",
    "  * Utilisez la méthode addVariable pour ajouter les variables au problème, sachant que :\n",
    "    * Chaque case de la grille est une variable identifiée par un tuple (ligne, colonne).\n",
    "    * Le domaine de chaque variable correspond aux valeurs possibles (de 1 à 9).\n",
    "    * Si une case contient déjà un chiffre (non nul), son domaine est restreint à cette valeur unique.\n",
    "3. Définir les contraintes du Sudoku (les valeurs doivent être uniques dans chaque ligne, colonne et région 3×3). Pour cela, utilisez la méthode addConstraint avec AllDifferentConstraint() pour assurer ces contraintes.\n",
    "4. Résoudre le problème. Pour cela utilisez la méthode getSolutions() pour obtenir toutes les solutions possibles.\n",
    "5. Gérer les solutions\n",
    "  * Si des solutions existent, les stocker dans une liste.\n",
    "  * Sinon, indiquer qu’aucune solution n’a été trouvée."
   ]
  },
  {
   "cell_type": "code",
   "execution_count": null,
   "metadata": {
    "id": "KBSKZAraD3i4"
   },
   "outputs": [],
   "source": [
    "from constraint import *\n",
    "\n",
    "def solve_sudoku_csp(grid):\n",
    "    problem = Problem()\n",
    "    # Define variables (each cell in the grid) with domains (1-9)\n",
    "    for row in range(9):\n",
    "        for col in range(9):\n",
    "            if grid[row][col] == 0:\n",
    "                problem.addVariable((row, col), range(1, 10))\n",
    "            else:\n",
    "                problem.addVariable((row, col), [grid[row][col]])\n",
    "\n",
    "    # Define constraints\n",
    "    # AllDifferent constraint for rows, columns, and 3x3 subgrids\n",
    "    for i in range(9):\n",
    "        problem.addConstraint(AllDifferentConstraint(), [(i, j) for j in range(9)])  # Rows\n",
    "        problem.addConstraint(AllDifferentConstraint(), [(j, i) for j in range(9)])  # Columns\n",
    "\n",
    "    for i in range(0, 9, 3):\n",
    "        for j in range(0, 9, 3):\n",
    "            problem.addConstraint(AllDifferentConstraint(),\n",
    "                                  [(i + a, j + b) for a in range(3) for b in range(3)])  # Subgrids\n",
    "\n",
    "    # Get solutions\n",
    "    solutions = problem.getSolutions()\n",
    "    if solutions:  # Check if solutions were found\n",
    "        # Convert the first solution (dictionary) to a 2D list\n",
    "        first_solution = solutions[0]\n",
    "        result_grid = [[0 for _ in range(9)] for _ in range(9)]\n",
    "        for (row, col), value in first_solution.items():\n",
    "            result_grid[row][col] = value\n",
    "        return result_grid\n",
    "    else:\n",
    "        return None  # Or raise an exception if no solutions are found"
   ]
  },
  {
   "cell_type": "markdown",
   "metadata": {
    "id": "KKdfoOmaHDh7"
   },
   "source": [
    "### **Exercice 5**\n",
    "Utilisez votre fonction pour resoudre le jeu suivant."
   ]
  },
  {
   "cell_type": "code",
   "execution_count": 71,
   "metadata": {
    "id": "NYTYq0edHKP6"
   },
   "outputs": [],
   "source": [
    "# Grille de Sudoku (0 représente une case vide)\n",
    "grid = [[5, 3, 0, 0, 7, 0, 0, 0, 0],\n",
    "        [6, 0, 0, 1, 9, 5, 0, 0, 0],\n",
    "        [0, 9, 8, 0, 0, 0, 0, 6, 0],\n",
    "        [8, 0, 0, 0, 6, 0, 0, 0, 3],\n",
    "        [4, 0, 0, 8, 0, 3, 0, 0, 1],\n",
    "        [7, 0, 0, 0, 2, 0, 0, 0, 6],\n",
    "        [0, 6, 0, 0, 0, 0, 2, 8, 0],\n",
    "        [0, 0, 0, 4, 1, 9, 0, 0, 5],\n",
    "        [0, 0, 0, 0, 8, 0, 0, 7, 9]]"
   ]
  },
  {
   "cell_type": "code",
   "execution_count": 72,
   "metadata": {
    "colab": {
     "base_uri": "https://localhost:8080/",
     "height": 705
    },
    "id": "Ug0Ig31UPTk1",
    "outputId": "bc2d7177-a913-43a5-ae6b-0aa59142367f"
   },
   "outputs": [
    {
     "name": "stdout",
     "output_type": "stream",
     "text": [
      "Initial Sudoku\n"
     ]
    },
    {
     "data": {
      "text/html": [
       "<table><tr><td style='background-color: rgb(226, 114, 91); width: 30px; height: 30px; text-align: center; font-size: 20px; border: 1px solid black;'>5</td><td style='background-color: rgb(226, 114, 91); width: 30px; height: 30px; text-align: center; font-size: 20px; border: 1px solid black;'>3</td><td style='background-color: white; width: 30px; height: 30px; text-align: center; font-size: 20px; border: 1px solid black;'> </td><td style='background-color: white; width: 30px; height: 30px; text-align: center; font-size: 20px; border: 1px solid black;border-left: 5px solid black;'> </td><td style='background-color: rgb(226, 114, 91); width: 30px; height: 30px; text-align: center; font-size: 20px; border: 1px solid black;'>7</td><td style='background-color: white; width: 30px; height: 30px; text-align: center; font-size: 20px; border: 1px solid black;'> </td><td style='background-color: white; width: 30px; height: 30px; text-align: center; font-size: 20px; border: 1px solid black;border-left: 5px solid black;'> </td><td style='background-color: white; width: 30px; height: 30px; text-align: center; font-size: 20px; border: 1px solid black;'> </td><td style='background-color: white; width: 30px; height: 30px; text-align: center; font-size: 20px; border: 1px solid black;'> </td></tr><tr><td style='background-color: rgb(226, 114, 91); width: 30px; height: 30px; text-align: center; font-size: 20px; border: 1px solid black;'>6</td><td style='background-color: white; width: 30px; height: 30px; text-align: center; font-size: 20px; border: 1px solid black;'> </td><td style='background-color: white; width: 30px; height: 30px; text-align: center; font-size: 20px; border: 1px solid black;'> </td><td style='background-color: rgb(226, 114, 91); width: 30px; height: 30px; text-align: center; font-size: 20px; border: 1px solid black;border-left: 5px solid black;'>1</td><td style='background-color: rgb(226, 114, 91); width: 30px; height: 30px; text-align: center; font-size: 20px; border: 1px solid black;'>9</td><td style='background-color: rgb(226, 114, 91); width: 30px; height: 30px; text-align: center; font-size: 20px; border: 1px solid black;'>5</td><td style='background-color: white; width: 30px; height: 30px; text-align: center; font-size: 20px; border: 1px solid black;border-left: 5px solid black;'> </td><td style='background-color: white; width: 30px; height: 30px; text-align: center; font-size: 20px; border: 1px solid black;'> </td><td style='background-color: white; width: 30px; height: 30px; text-align: center; font-size: 20px; border: 1px solid black;'> </td></tr><tr><td style='background-color: white; width: 30px; height: 30px; text-align: center; font-size: 20px; border: 1px solid black;'> </td><td style='background-color: rgb(226, 114, 91); width: 30px; height: 30px; text-align: center; font-size: 20px; border: 1px solid black;'>9</td><td style='background-color: rgb(226, 114, 91); width: 30px; height: 30px; text-align: center; font-size: 20px; border: 1px solid black;'>8</td><td style='background-color: white; width: 30px; height: 30px; text-align: center; font-size: 20px; border: 1px solid black;border-left: 5px solid black;'> </td><td style='background-color: white; width: 30px; height: 30px; text-align: center; font-size: 20px; border: 1px solid black;'> </td><td style='background-color: white; width: 30px; height: 30px; text-align: center; font-size: 20px; border: 1px solid black;'> </td><td style='background-color: white; width: 30px; height: 30px; text-align: center; font-size: 20px; border: 1px solid black;border-left: 5px solid black;'> </td><td style='background-color: rgb(226, 114, 91); width: 30px; height: 30px; text-align: center; font-size: 20px; border: 1px solid black;'>6</td><td style='background-color: white; width: 30px; height: 30px; text-align: center; font-size: 20px; border: 1px solid black;'> </td></tr><tr><td style='background-color: rgb(226, 114, 91); width: 30px; height: 30px; text-align: center; font-size: 20px; border: 1px solid black;border-top: 5px solid black;'>8</td><td style='background-color: white; width: 30px; height: 30px; text-align: center; font-size: 20px; border: 1px solid black;border-top: 5px solid black;'> </td><td style='background-color: white; width: 30px; height: 30px; text-align: center; font-size: 20px; border: 1px solid black;border-top: 5px solid black;'> </td><td style='background-color: white; width: 30px; height: 30px; text-align: center; font-size: 20px; border: 1px solid black;border-top: 5px solid black;border-left: 5px solid black;'> </td><td style='background-color: rgb(226, 114, 91); width: 30px; height: 30px; text-align: center; font-size: 20px; border: 1px solid black;border-top: 5px solid black;'>6</td><td style='background-color: white; width: 30px; height: 30px; text-align: center; font-size: 20px; border: 1px solid black;border-top: 5px solid black;'> </td><td style='background-color: white; width: 30px; height: 30px; text-align: center; font-size: 20px; border: 1px solid black;border-top: 5px solid black;border-left: 5px solid black;'> </td><td style='background-color: white; width: 30px; height: 30px; text-align: center; font-size: 20px; border: 1px solid black;border-top: 5px solid black;'> </td><td style='background-color: rgb(226, 114, 91); width: 30px; height: 30px; text-align: center; font-size: 20px; border: 1px solid black;border-top: 5px solid black;'>3</td></tr><tr><td style='background-color: rgb(226, 114, 91); width: 30px; height: 30px; text-align: center; font-size: 20px; border: 1px solid black;'>4</td><td style='background-color: white; width: 30px; height: 30px; text-align: center; font-size: 20px; border: 1px solid black;'> </td><td style='background-color: white; width: 30px; height: 30px; text-align: center; font-size: 20px; border: 1px solid black;'> </td><td style='background-color: rgb(226, 114, 91); width: 30px; height: 30px; text-align: center; font-size: 20px; border: 1px solid black;border-left: 5px solid black;'>8</td><td style='background-color: white; width: 30px; height: 30px; text-align: center; font-size: 20px; border: 1px solid black;'> </td><td style='background-color: rgb(226, 114, 91); width: 30px; height: 30px; text-align: center; font-size: 20px; border: 1px solid black;'>3</td><td style='background-color: white; width: 30px; height: 30px; text-align: center; font-size: 20px; border: 1px solid black;border-left: 5px solid black;'> </td><td style='background-color: white; width: 30px; height: 30px; text-align: center; font-size: 20px; border: 1px solid black;'> </td><td style='background-color: rgb(226, 114, 91); width: 30px; height: 30px; text-align: center; font-size: 20px; border: 1px solid black;'>1</td></tr><tr><td style='background-color: rgb(226, 114, 91); width: 30px; height: 30px; text-align: center; font-size: 20px; border: 1px solid black;'>7</td><td style='background-color: white; width: 30px; height: 30px; text-align: center; font-size: 20px; border: 1px solid black;'> </td><td style='background-color: white; width: 30px; height: 30px; text-align: center; font-size: 20px; border: 1px solid black;'> </td><td style='background-color: white; width: 30px; height: 30px; text-align: center; font-size: 20px; border: 1px solid black;border-left: 5px solid black;'> </td><td style='background-color: rgb(226, 114, 91); width: 30px; height: 30px; text-align: center; font-size: 20px; border: 1px solid black;'>2</td><td style='background-color: white; width: 30px; height: 30px; text-align: center; font-size: 20px; border: 1px solid black;'> </td><td style='background-color: white; width: 30px; height: 30px; text-align: center; font-size: 20px; border: 1px solid black;border-left: 5px solid black;'> </td><td style='background-color: white; width: 30px; height: 30px; text-align: center; font-size: 20px; border: 1px solid black;'> </td><td style='background-color: rgb(226, 114, 91); width: 30px; height: 30px; text-align: center; font-size: 20px; border: 1px solid black;'>6</td></tr><tr><td style='background-color: white; width: 30px; height: 30px; text-align: center; font-size: 20px; border: 1px solid black;border-top: 5px solid black;'> </td><td style='background-color: rgb(226, 114, 91); width: 30px; height: 30px; text-align: center; font-size: 20px; border: 1px solid black;border-top: 5px solid black;'>6</td><td style='background-color: white; width: 30px; height: 30px; text-align: center; font-size: 20px; border: 1px solid black;border-top: 5px solid black;'> </td><td style='background-color: white; width: 30px; height: 30px; text-align: center; font-size: 20px; border: 1px solid black;border-top: 5px solid black;border-left: 5px solid black;'> </td><td style='background-color: white; width: 30px; height: 30px; text-align: center; font-size: 20px; border: 1px solid black;border-top: 5px solid black;'> </td><td style='background-color: white; width: 30px; height: 30px; text-align: center; font-size: 20px; border: 1px solid black;border-top: 5px solid black;'> </td><td style='background-color: rgb(226, 114, 91); width: 30px; height: 30px; text-align: center; font-size: 20px; border: 1px solid black;border-top: 5px solid black;border-left: 5px solid black;'>2</td><td style='background-color: rgb(226, 114, 91); width: 30px; height: 30px; text-align: center; font-size: 20px; border: 1px solid black;border-top: 5px solid black;'>8</td><td style='background-color: white; width: 30px; height: 30px; text-align: center; font-size: 20px; border: 1px solid black;border-top: 5px solid black;'> </td></tr><tr><td style='background-color: white; width: 30px; height: 30px; text-align: center; font-size: 20px; border: 1px solid black;'> </td><td style='background-color: white; width: 30px; height: 30px; text-align: center; font-size: 20px; border: 1px solid black;'> </td><td style='background-color: white; width: 30px; height: 30px; text-align: center; font-size: 20px; border: 1px solid black;'> </td><td style='background-color: rgb(226, 114, 91); width: 30px; height: 30px; text-align: center; font-size: 20px; border: 1px solid black;border-left: 5px solid black;'>4</td><td style='background-color: rgb(226, 114, 91); width: 30px; height: 30px; text-align: center; font-size: 20px; border: 1px solid black;'>1</td><td style='background-color: rgb(226, 114, 91); width: 30px; height: 30px; text-align: center; font-size: 20px; border: 1px solid black;'>9</td><td style='background-color: white; width: 30px; height: 30px; text-align: center; font-size: 20px; border: 1px solid black;border-left: 5px solid black;'> </td><td style='background-color: white; width: 30px; height: 30px; text-align: center; font-size: 20px; border: 1px solid black;'> </td><td style='background-color: rgb(226, 114, 91); width: 30px; height: 30px; text-align: center; font-size: 20px; border: 1px solid black;'>5</td></tr><tr><td style='background-color: white; width: 30px; height: 30px; text-align: center; font-size: 20px; border: 1px solid black;'> </td><td style='background-color: white; width: 30px; height: 30px; text-align: center; font-size: 20px; border: 1px solid black;'> </td><td style='background-color: white; width: 30px; height: 30px; text-align: center; font-size: 20px; border: 1px solid black;'> </td><td style='background-color: white; width: 30px; height: 30px; text-align: center; font-size: 20px; border: 1px solid black;border-left: 5px solid black;'> </td><td style='background-color: rgb(226, 114, 91); width: 30px; height: 30px; text-align: center; font-size: 20px; border: 1px solid black;'>8</td><td style='background-color: white; width: 30px; height: 30px; text-align: center; font-size: 20px; border: 1px solid black;'> </td><td style='background-color: white; width: 30px; height: 30px; text-align: center; font-size: 20px; border: 1px solid black;border-left: 5px solid black;'> </td><td style='background-color: rgb(226, 114, 91); width: 30px; height: 30px; text-align: center; font-size: 20px; border: 1px solid black;'>7</td><td style='background-color: rgb(226, 114, 91); width: 30px; height: 30px; text-align: center; font-size: 20px; border: 1px solid black;'>9</td></tr></table>"
      ],
      "text/plain": [
       "<IPython.core.display.HTML object>"
      ]
     },
     "metadata": {},
     "output_type": "display_data"
    },
    {
     "name": "stdout",
     "output_type": "stream",
     "text": [
      "Solution Sudoku\n"
     ]
    },
    {
     "data": {
      "text/html": [
       "<table><tr><td style='background-color: rgb(226, 114, 91); width: 30px; height: 30px; text-align: center; font-size: 20px; border: 1px solid black;'>5</td><td style='background-color: rgb(226, 114, 91); width: 30px; height: 30px; text-align: center; font-size: 20px; border: 1px solid black;'>3</td><td style='background-color: rgb(226, 114, 91); width: 30px; height: 30px; text-align: center; font-size: 20px; border: 1px solid black;'>4</td><td style='background-color: rgb(226, 114, 91); width: 30px; height: 30px; text-align: center; font-size: 20px; border: 1px solid black;border-left: 5px solid black;'>6</td><td style='background-color: rgb(226, 114, 91); width: 30px; height: 30px; text-align: center; font-size: 20px; border: 1px solid black;'>7</td><td style='background-color: rgb(226, 114, 91); width: 30px; height: 30px; text-align: center; font-size: 20px; border: 1px solid black;'>8</td><td style='background-color: rgb(226, 114, 91); width: 30px; height: 30px; text-align: center; font-size: 20px; border: 1px solid black;border-left: 5px solid black;'>9</td><td style='background-color: rgb(226, 114, 91); width: 30px; height: 30px; text-align: center; font-size: 20px; border: 1px solid black;'>1</td><td style='background-color: rgb(226, 114, 91); width: 30px; height: 30px; text-align: center; font-size: 20px; border: 1px solid black;'>2</td></tr><tr><td style='background-color: rgb(226, 114, 91); width: 30px; height: 30px; text-align: center; font-size: 20px; border: 1px solid black;'>6</td><td style='background-color: rgb(226, 114, 91); width: 30px; height: 30px; text-align: center; font-size: 20px; border: 1px solid black;'>7</td><td style='background-color: rgb(226, 114, 91); width: 30px; height: 30px; text-align: center; font-size: 20px; border: 1px solid black;'>2</td><td style='background-color: rgb(226, 114, 91); width: 30px; height: 30px; text-align: center; font-size: 20px; border: 1px solid black;border-left: 5px solid black;'>1</td><td style='background-color: rgb(226, 114, 91); width: 30px; height: 30px; text-align: center; font-size: 20px; border: 1px solid black;'>9</td><td style='background-color: rgb(226, 114, 91); width: 30px; height: 30px; text-align: center; font-size: 20px; border: 1px solid black;'>5</td><td style='background-color: rgb(226, 114, 91); width: 30px; height: 30px; text-align: center; font-size: 20px; border: 1px solid black;border-left: 5px solid black;'>3</td><td style='background-color: rgb(226, 114, 91); width: 30px; height: 30px; text-align: center; font-size: 20px; border: 1px solid black;'>4</td><td style='background-color: rgb(226, 114, 91); width: 30px; height: 30px; text-align: center; font-size: 20px; border: 1px solid black;'>8</td></tr><tr><td style='background-color: rgb(226, 114, 91); width: 30px; height: 30px; text-align: center; font-size: 20px; border: 1px solid black;'>1</td><td style='background-color: rgb(226, 114, 91); width: 30px; height: 30px; text-align: center; font-size: 20px; border: 1px solid black;'>9</td><td style='background-color: rgb(226, 114, 91); width: 30px; height: 30px; text-align: center; font-size: 20px; border: 1px solid black;'>8</td><td style='background-color: rgb(226, 114, 91); width: 30px; height: 30px; text-align: center; font-size: 20px; border: 1px solid black;border-left: 5px solid black;'>3</td><td style='background-color: rgb(226, 114, 91); width: 30px; height: 30px; text-align: center; font-size: 20px; border: 1px solid black;'>4</td><td style='background-color: rgb(226, 114, 91); width: 30px; height: 30px; text-align: center; font-size: 20px; border: 1px solid black;'>2</td><td style='background-color: rgb(226, 114, 91); width: 30px; height: 30px; text-align: center; font-size: 20px; border: 1px solid black;border-left: 5px solid black;'>5</td><td style='background-color: rgb(226, 114, 91); width: 30px; height: 30px; text-align: center; font-size: 20px; border: 1px solid black;'>6</td><td style='background-color: rgb(226, 114, 91); width: 30px; height: 30px; text-align: center; font-size: 20px; border: 1px solid black;'>7</td></tr><tr><td style='background-color: rgb(226, 114, 91); width: 30px; height: 30px; text-align: center; font-size: 20px; border: 1px solid black;border-top: 5px solid black;'>8</td><td style='background-color: rgb(226, 114, 91); width: 30px; height: 30px; text-align: center; font-size: 20px; border: 1px solid black;border-top: 5px solid black;'>5</td><td style='background-color: rgb(226, 114, 91); width: 30px; height: 30px; text-align: center; font-size: 20px; border: 1px solid black;border-top: 5px solid black;'>9</td><td style='background-color: rgb(226, 114, 91); width: 30px; height: 30px; text-align: center; font-size: 20px; border: 1px solid black;border-top: 5px solid black;border-left: 5px solid black;'>7</td><td style='background-color: rgb(226, 114, 91); width: 30px; height: 30px; text-align: center; font-size: 20px; border: 1px solid black;border-top: 5px solid black;'>6</td><td style='background-color: rgb(226, 114, 91); width: 30px; height: 30px; text-align: center; font-size: 20px; border: 1px solid black;border-top: 5px solid black;'>1</td><td style='background-color: rgb(226, 114, 91); width: 30px; height: 30px; text-align: center; font-size: 20px; border: 1px solid black;border-top: 5px solid black;border-left: 5px solid black;'>4</td><td style='background-color: rgb(226, 114, 91); width: 30px; height: 30px; text-align: center; font-size: 20px; border: 1px solid black;border-top: 5px solid black;'>2</td><td style='background-color: rgb(226, 114, 91); width: 30px; height: 30px; text-align: center; font-size: 20px; border: 1px solid black;border-top: 5px solid black;'>3</td></tr><tr><td style='background-color: rgb(226, 114, 91); width: 30px; height: 30px; text-align: center; font-size: 20px; border: 1px solid black;'>4</td><td style='background-color: rgb(226, 114, 91); width: 30px; height: 30px; text-align: center; font-size: 20px; border: 1px solid black;'>2</td><td style='background-color: rgb(226, 114, 91); width: 30px; height: 30px; text-align: center; font-size: 20px; border: 1px solid black;'>6</td><td style='background-color: rgb(226, 114, 91); width: 30px; height: 30px; text-align: center; font-size: 20px; border: 1px solid black;border-left: 5px solid black;'>8</td><td style='background-color: rgb(226, 114, 91); width: 30px; height: 30px; text-align: center; font-size: 20px; border: 1px solid black;'>5</td><td style='background-color: rgb(226, 114, 91); width: 30px; height: 30px; text-align: center; font-size: 20px; border: 1px solid black;'>3</td><td style='background-color: rgb(226, 114, 91); width: 30px; height: 30px; text-align: center; font-size: 20px; border: 1px solid black;border-left: 5px solid black;'>7</td><td style='background-color: rgb(226, 114, 91); width: 30px; height: 30px; text-align: center; font-size: 20px; border: 1px solid black;'>9</td><td style='background-color: rgb(226, 114, 91); width: 30px; height: 30px; text-align: center; font-size: 20px; border: 1px solid black;'>1</td></tr><tr><td style='background-color: rgb(226, 114, 91); width: 30px; height: 30px; text-align: center; font-size: 20px; border: 1px solid black;'>7</td><td style='background-color: rgb(226, 114, 91); width: 30px; height: 30px; text-align: center; font-size: 20px; border: 1px solid black;'>1</td><td style='background-color: rgb(226, 114, 91); width: 30px; height: 30px; text-align: center; font-size: 20px; border: 1px solid black;'>3</td><td style='background-color: rgb(226, 114, 91); width: 30px; height: 30px; text-align: center; font-size: 20px; border: 1px solid black;border-left: 5px solid black;'>9</td><td style='background-color: rgb(226, 114, 91); width: 30px; height: 30px; text-align: center; font-size: 20px; border: 1px solid black;'>2</td><td style='background-color: rgb(226, 114, 91); width: 30px; height: 30px; text-align: center; font-size: 20px; border: 1px solid black;'>4</td><td style='background-color: rgb(226, 114, 91); width: 30px; height: 30px; text-align: center; font-size: 20px; border: 1px solid black;border-left: 5px solid black;'>8</td><td style='background-color: rgb(226, 114, 91); width: 30px; height: 30px; text-align: center; font-size: 20px; border: 1px solid black;'>5</td><td style='background-color: rgb(226, 114, 91); width: 30px; height: 30px; text-align: center; font-size: 20px; border: 1px solid black;'>6</td></tr><tr><td style='background-color: rgb(226, 114, 91); width: 30px; height: 30px; text-align: center; font-size: 20px; border: 1px solid black;border-top: 5px solid black;'>9</td><td style='background-color: rgb(226, 114, 91); width: 30px; height: 30px; text-align: center; font-size: 20px; border: 1px solid black;border-top: 5px solid black;'>6</td><td style='background-color: rgb(226, 114, 91); width: 30px; height: 30px; text-align: center; font-size: 20px; border: 1px solid black;border-top: 5px solid black;'>1</td><td style='background-color: rgb(226, 114, 91); width: 30px; height: 30px; text-align: center; font-size: 20px; border: 1px solid black;border-top: 5px solid black;border-left: 5px solid black;'>5</td><td style='background-color: rgb(226, 114, 91); width: 30px; height: 30px; text-align: center; font-size: 20px; border: 1px solid black;border-top: 5px solid black;'>3</td><td style='background-color: rgb(226, 114, 91); width: 30px; height: 30px; text-align: center; font-size: 20px; border: 1px solid black;border-top: 5px solid black;'>7</td><td style='background-color: rgb(226, 114, 91); width: 30px; height: 30px; text-align: center; font-size: 20px; border: 1px solid black;border-top: 5px solid black;border-left: 5px solid black;'>2</td><td style='background-color: rgb(226, 114, 91); width: 30px; height: 30px; text-align: center; font-size: 20px; border: 1px solid black;border-top: 5px solid black;'>8</td><td style='background-color: rgb(226, 114, 91); width: 30px; height: 30px; text-align: center; font-size: 20px; border: 1px solid black;border-top: 5px solid black;'>4</td></tr><tr><td style='background-color: rgb(226, 114, 91); width: 30px; height: 30px; text-align: center; font-size: 20px; border: 1px solid black;'>2</td><td style='background-color: rgb(226, 114, 91); width: 30px; height: 30px; text-align: center; font-size: 20px; border: 1px solid black;'>8</td><td style='background-color: rgb(226, 114, 91); width: 30px; height: 30px; text-align: center; font-size: 20px; border: 1px solid black;'>7</td><td style='background-color: rgb(226, 114, 91); width: 30px; height: 30px; text-align: center; font-size: 20px; border: 1px solid black;border-left: 5px solid black;'>4</td><td style='background-color: rgb(226, 114, 91); width: 30px; height: 30px; text-align: center; font-size: 20px; border: 1px solid black;'>1</td><td style='background-color: rgb(226, 114, 91); width: 30px; height: 30px; text-align: center; font-size: 20px; border: 1px solid black;'>9</td><td style='background-color: rgb(226, 114, 91); width: 30px; height: 30px; text-align: center; font-size: 20px; border: 1px solid black;border-left: 5px solid black;'>6</td><td style='background-color: rgb(226, 114, 91); width: 30px; height: 30px; text-align: center; font-size: 20px; border: 1px solid black;'>3</td><td style='background-color: rgb(226, 114, 91); width: 30px; height: 30px; text-align: center; font-size: 20px; border: 1px solid black;'>5</td></tr><tr><td style='background-color: rgb(226, 114, 91); width: 30px; height: 30px; text-align: center; font-size: 20px; border: 1px solid black;'>3</td><td style='background-color: rgb(226, 114, 91); width: 30px; height: 30px; text-align: center; font-size: 20px; border: 1px solid black;'>4</td><td style='background-color: rgb(226, 114, 91); width: 30px; height: 30px; text-align: center; font-size: 20px; border: 1px solid black;'>5</td><td style='background-color: rgb(226, 114, 91); width: 30px; height: 30px; text-align: center; font-size: 20px; border: 1px solid black;border-left: 5px solid black;'>2</td><td style='background-color: rgb(226, 114, 91); width: 30px; height: 30px; text-align: center; font-size: 20px; border: 1px solid black;'>8</td><td style='background-color: rgb(226, 114, 91); width: 30px; height: 30px; text-align: center; font-size: 20px; border: 1px solid black;'>6</td><td style='background-color: rgb(226, 114, 91); width: 30px; height: 30px; text-align: center; font-size: 20px; border: 1px solid black;border-left: 5px solid black;'>1</td><td style='background-color: rgb(226, 114, 91); width: 30px; height: 30px; text-align: center; font-size: 20px; border: 1px solid black;'>7</td><td style='background-color: rgb(226, 114, 91); width: 30px; height: 30px; text-align: center; font-size: 20px; border: 1px solid black;'>9</td></tr></table>"
      ],
      "text/plain": [
       "<IPython.core.display.HTML object>"
      ]
     },
     "metadata": {},
     "output_type": "display_data"
    }
   ],
   "source": [
    "# Créer une instance de Sudoku\n",
    "print('Initial Sudoku')\n",
    "visualize_sudoku(grid)\n",
    "\n",
    "# Solving sudoku\n",
    "solution = solve_sudoku_csp(grid)\n",
    "print('Solution Sudoku')\n",
    "visualize_sudoku(solution)"
   ]
  },
  {
   "cell_type": "markdown",
   "metadata": {
    "id": "1GiLuVoiESLN"
   },
   "source": [
    "# **Partie 2 : Comparaison CSP vs SAT**"
   ]
  },
  {
   "cell_type": "markdown",
   "metadata": {
    "id": "fn9-LoE7PapU"
   },
   "source": [
    "Nous allons comparer les deux solveurs sur 10 sudokus differents. Pour cela, voici 10 grilles."
   ]
  },
  {
   "cell_type": "code",
   "execution_count": 79,
   "metadata": {
    "id": "-5CLXNs7QDlG"
   },
   "outputs": [],
   "source": [
    "grid1 = [\n",
    "    [5, 3, 0, 0, 7, 0, 0, 0, 0],\n",
    "    [6, 0, 0, 1, 9, 5, 0, 0, 0],\n",
    "    [0, 9, 8, 0, 0, 0, 0, 6, 0],\n",
    "    [8, 0, 0, 0, 6, 0, 0, 0, 3],\n",
    "    [4, 0, 0, 8, 0, 3, 0, 0, 1],\n",
    "    [7, 0, 0, 0, 2, 0, 0, 0, 6],\n",
    "    [0, 6, 0, 0, 0, 0, 2, 8, 0],\n",
    "    [0, 0, 0, 4, 1, 9, 0, 0, 5],\n",
    "    [0, 0, 0, 0, 8, 0, 0, 7, 9]\n",
    "]"
   ]
  },
  {
   "cell_type": "code",
   "execution_count": 80,
   "metadata": {
    "id": "TkVn-xNSQEKC"
   },
   "outputs": [],
   "source": [
    "grid2 = [\n",
    "    [0, 0, 3, 0, 2, 0, 6, 0, 0],\n",
    "    [9, 0, 0, 3, 0, 5, 0, 0, 1],\n",
    "    [0, 0, 1, 8, 0, 6, 4, 0, 0],\n",
    "    [0, 0, 8, 1, 0, 2, 9, 0, 0],\n",
    "    [7, 0, 0, 0, 0, 0, 0, 0, 8],\n",
    "    [0, 0, 6, 7, 0, 8, 2, 0, 0],\n",
    "    [0, 0, 2, 6, 0, 9, 5, 0, 0],\n",
    "    [8, 0, 0, 2, 0, 3, 0, 0, 9],\n",
    "    [0, 0, 5, 0, 1, 0, 3, 0, 0]\n",
    "]"
   ]
  },
  {
   "cell_type": "code",
   "execution_count": 81,
   "metadata": {
    "id": "XgBm1CoaQEkZ"
   },
   "outputs": [],
   "source": [
    "grid3 = [\n",
    "    [0, 2, 0, 6, 0, 8, 0, 0, 0],\n",
    "    [5, 8, 0, 0, 0, 9, 7, 0, 0],\n",
    "    [0, 0, 0, 0, 4, 0, 0, 0, 0],\n",
    "    [3, 7, 0, 0, 0, 0, 5, 0, 0],\n",
    "    [6, 0, 0, 0, 0, 0, 0, 0, 4],\n",
    "    [0, 0, 8, 0, 0, 0, 0, 1, 3],\n",
    "    [0, 0, 0, 0, 2, 0, 0, 0, 0],\n",
    "    [0, 0, 9, 8, 0, 0, 0, 3, 6],\n",
    "    [0, 0, 0, 3, 0, 6, 0, 9, 0]\n",
    "]"
   ]
  },
  {
   "cell_type": "code",
   "execution_count": 82,
   "metadata": {
    "id": "GDegv9oOQE-o"
   },
   "outputs": [],
   "source": [
    "grid4 = [\n",
    "    [0, 0, 5, 3, 0, 0, 0, 0, 0],\n",
    "    [8, 0, 0, 0, 0, 0, 0, 2, 0],\n",
    "    [0, 7, 0, 0, 1, 0, 5, 0, 0],\n",
    "    [4, 0, 0, 0, 0, 5, 3, 0, 0],\n",
    "    [0, 1, 0, 0, 7, 0, 0, 0, 6],\n",
    "    [0, 0, 3, 2, 0, 0, 0, 8, 0],\n",
    "    [0, 6, 0, 5, 0, 0, 0, 0, 9],\n",
    "    [0, 0, 4, 0, 0, 0, 0, 3, 0],\n",
    "    [0, 0, 0, 0, 0, 9, 7, 0, 0]\n",
    "]"
   ]
  },
  {
   "cell_type": "code",
   "execution_count": 83,
   "metadata": {
    "id": "dcpkXhBYQFbY"
   },
   "outputs": [],
   "source": [
    "grid5 = [\n",
    "    [8, 0, 0, 0, 0, 0, 0, 0, 0],\n",
    "    [0, 0, 3, 6, 0, 0, 0, 0, 0],\n",
    "    [0, 7, 0, 0, 9, 0, 2, 0, 0],\n",
    "    [0, 5, 0, 0, 0, 7, 0, 0, 0],\n",
    "    [0, 0, 0, 0, 4, 5, 7, 0, 0],\n",
    "    [0, 0, 0, 1, 0, 0, 0, 3, 0],\n",
    "    [0, 0, 1, 0, 0, 0, 0, 6, 8],\n",
    "    [0, 0, 8, 5, 0, 0, 0, 1, 0],\n",
    "    [0, 9, 0, 0, 0, 0, 4, 0, 0]\n",
    "]"
   ]
  },
  {
   "cell_type": "code",
   "execution_count": 84,
   "metadata": {
    "id": "akg5LpODQGJd"
   },
   "outputs": [],
   "source": [
    "grid6 = [\n",
    "    [0, 0, 0, 6, 0, 0, 4, 0, 0],\n",
    "    [7, 0, 0, 0, 0, 3, 6, 0, 0],\n",
    "    [0, 0, 0, 0, 9, 1, 0, 8, 0],\n",
    "    [0, 0, 0, 0, 0, 0, 0, 0, 0],\n",
    "    [0, 5, 0, 1, 8, 0, 0, 0, 3],\n",
    "    [0, 0, 0, 3, 0, 6, 0, 4, 5],\n",
    "    [0, 4, 0, 2, 0, 0, 0, 6, 0],\n",
    "    [9, 0, 3, 0, 0, 0, 0, 0, 0],\n",
    "    [0, 2, 0, 0, 0, 0, 1, 0, 0]\n",
    "]"
   ]
  },
  {
   "cell_type": "code",
   "execution_count": 85,
   "metadata": {
    "id": "oXdewypsQHN4"
   },
   "outputs": [],
   "source": [
    "grid7 = [\n",
    "    [0, 2, 0, 0, 0, 0, 0, 0, 0],\n",
    "    [0, 0, 0, 6, 0, 0, 0, 0, 3],\n",
    "    [0, 7, 4, 0, 8, 0, 0, 0, 0],\n",
    "    [0, 0, 0, 0, 0, 3, 0, 0, 2],\n",
    "    [0, 8, 0, 0, 4, 0, 0, 1, 0],\n",
    "    [6, 0, 0, 5, 0, 0, 0, 0, 0],\n",
    "    [0, 0, 0, 0, 1, 0, 7, 8, 0],\n",
    "    [5, 0, 0, 0, 0, 9, 0, 0, 0],\n",
    "    [0, 0, 0, 0, 0, 0, 0, 4, 0]\n",
    "]"
   ]
  },
  {
   "cell_type": "code",
   "execution_count": 86,
   "metadata": {
    "id": "e6ul940YQHpA"
   },
   "outputs": [],
   "source": [
    "grid8 = [\n",
    "    [0, 0, 0, 0, 0, 0, 0, 0, 0],\n",
    "    [0, 0, 0, 0, 0, 3, 0, 8, 5],\n",
    "    [0, 0, 1, 0, 2, 0, 0, 0, 0],\n",
    "    [0, 0, 0, 5, 0, 7, 0, 0, 0],\n",
    "    [0, 0, 4, 0, 0, 0, 1, 0, 0],\n",
    "    [0, 9, 0, 0, 0, 0, 0, 0, 0],\n",
    "    [5, 0, 0, 0, 0, 0, 0, 7, 3],\n",
    "    [0, 0, 2, 0, 1, 0, 0, 0, 0],\n",
    "    [0, 0, 0, 0, 4, 0, 0, 0, 9]\n",
    "]"
   ]
  },
  {
   "cell_type": "code",
   "execution_count": 91,
   "metadata": {
    "id": "hxw9qns3QIDD"
   },
   "outputs": [],
   "source": [
    "grid9 = [\n",
    "    [0, 0, 0, 2, 6, 0, 7, 0, 1],\n",
    "    [6, 8, 0, 0, 7, 0, 0, 9, 0],\n",
    "    [1, 9, 0, 0, 0, 4, 5, 0, 0],\n",
    "    [8, 2, 0, 1, 0, 0, 0, 4, 0],\n",
    "    [0, 0, 4, 6, 0, 2, 9, 0, 0],\n",
    "    [0, 5, 0, 0, 0, 3, 0, 2, 8],\n",
    "    [0, 0, 9, 3, 0, 0, 0, 7, 4],\n",
    "    [0, 4, 0, 0, 5, 0, 0, 3, 6],\n",
    "    [7, 0, 3, 0, 1, 8, 0, 0, 0]\n",
    "]"
   ]
  },
  {
   "cell_type": "code",
   "execution_count": 92,
   "metadata": {
    "id": "u4unj3I2QIXH"
   },
   "outputs": [],
   "source": [
    "grid10 = [\n",
    "    [0, 2, 0, 0, 0, 0, 0, 0, 0],\n",
    "    [0, 0, 0, 6, 0, 0, 0, 0, 3],\n",
    "    [0, 7, 4, 0, 8, 0, 0, 0, 0],\n",
    "    [0, 0, 0, 0, 0, 3, 0, 0, 2],\n",
    "    [0, 8, 0, 0, 4, 0, 0, 1, 0],\n",
    "    [6, 0, 0, 5, 0, 0, 0, 0, 0],\n",
    "    [0, 0, 0, 0, 1, 0, 7, 8, 0],\n",
    "    [5, 0, 0, 0, 0, 9, 0, 0, 0],\n",
    "    [0, 0, 0, 0, 0, 0, 0, 4, 0]\n",
    "]"
   ]
  },
  {
   "cell_type": "markdown",
   "metadata": {
    "id": "DPRqZ5VtQUDQ"
   },
   "source": [
    "### **Exercice 6**\n",
    "\n",
    "Créez une fonction comparer_solveurs qui prend comme entrée une liste de grilles, résout tous les jeux avec les deux solveurs, enregistre le temps d'exécution à chaque fois, et retourne les résultats sous forme de DataFrame.\n",
    "\n",
    "Utilisez cette fonction pour résoudre tous les jeux et affichez ensuite les résultats."
   ]
  },
  {
   "cell_type": "code",
   "execution_count": 100,
   "metadata": {
    "colab": {
     "base_uri": "https://localhost:8080/"
    },
    "id": "o3WyAsbvPUCJ",
    "outputId": "0edc02d5-e8d7-454e-836a-36f430bc18da"
   },
   "outputs": [
    {
     "name": "stdout",
     "output_type": "stream",
     "text": [
      "Solving Sudoku 1...\n",
      "CSP Solver\n",
      "SAT Solver\n",
      "Solving Sudoku 2...\n",
      "CSP Solver\n",
      "SAT Solver\n",
      "Solving Sudoku 3...\n",
      "CSP Solver\n",
      "SAT Solver\n",
      "Solving Sudoku 4...\n",
      "CSP Solver\n",
      "SAT Solver\n",
      "Solving Sudoku 5...\n",
      "CSP Solver\n",
      "SAT Solver\n",
      "Solving Sudoku 6...\n",
      "CSP Solver\n",
      "SAT Solver\n",
      "Solving Sudoku 7...\n",
      "CSP Solver\n",
      "SAT Solver\n",
      "Solving Sudoku 8...\n",
      "CSP Solver\n",
      "SAT Solver\n",
      "Solving Sudoku 9...\n",
      "CSP Solver\n",
      "SAT Solver\n",
      "Solving Sudoku 10...\n",
      "CSP Solver\n",
      "SAT Solver\n",
      "Finished !\n"
     ]
    }
   ],
   "source": [
    "import time\n",
    "import pandas as pd\n",
    "\n",
    "def comparer_solveurs(grids):\n",
    "    results = []\n",
    "    for l, grid in enumerate(grids):\n",
    "        print(f\"Solving Sudoku {l + 1}...\")\n",
    "        # CSP Solver\n",
    "        print(\"CSP Solver\")\n",
    "        start_time = time.time()\n",
    "        csp_solution = solve_sudoku_csp(grid)\n",
    "        csp_time = time.time() - start_time\n",
    "\n",
    "        # SAT Solver\n",
    "        print(\"SAT Solver\")\n",
    "        start_time = time.time()\n",
    "        sudoku_sat = Sudoku_SAT(grid)\n",
    "        solver = Glucose3()\n",
    "        solver.append_formula(sudoku_sat.cnf)\n",
    "        is_satisfiable = solver.solve()\n",
    "\n",
    "        if is_satisfiable:\n",
    "            sat_solution = solver.get_model()\n",
    "            sat_time = time.time() - start_time\n",
    "\n",
    "            # Process the solution to extract Sudoku values\n",
    "            sat_solution_grid = [[0 for _ in range(9)] for _ in range(9)]\n",
    "            var_count = 0\n",
    "            for i in range(9):\n",
    "                for j in range(9):\n",
    "                    for k in range(1, 10):\n",
    "                        if sat_solution[var_count] > 0:\n",
    "                            sat_solution_grid[i][j] = k\n",
    "                            break\n",
    "                        var_count += 1\n",
    "        else:\n",
    "            sat_solution_grid = None\n",
    "            sat_time = float('inf')\n",
    "\n",
    "        results.append([f\"Sudoku {l + 1}\", round(csp_time,3), round(sat_time,3)])\n",
    "\n",
    "    df = pd.DataFrame(results, columns=[\"Sudoku\", \"CSP Time (s)\", \"SAT Time (s)\"])\n",
    "    return df\n",
    "\n",
    "grids = [grid1, grid2, grid3, grid4, grid5, grid6, grid7, grid8, grid9, grid10]\n",
    "df_results = comparer_solveurs(grids)\n",
    "print('Finished !')"
   ]
  },
  {
   "cell_type": "code",
   "execution_count": 101,
   "metadata": {
    "colab": {
     "base_uri": "https://localhost:8080/"
    },
    "id": "Q-B0Dt8sSOG5",
    "outputId": "d8155d08-02ef-403c-9a7a-f31e1344c3cd"
   },
   "outputs": [
    {
     "name": "stdout",
     "output_type": "stream",
     "text": [
      "+---+-----------+--------------+--------------+\n",
      "|   |  Sudoku   | CSP Time (s) | SAT Time (s) |\n",
      "+---+-----------+--------------+--------------+\n",
      "| 0 | Sudoku 1  |    0.008     |    0.024     |\n",
      "| 1 | Sudoku 2  |     0.01     |    0.016     |\n",
      "| 2 | Sudoku 3  |    0.219     |    0.092     |\n",
      "| 3 | Sudoku 4  |    0.102     |     0.45     |\n",
      "| 4 | Sudoku 5  |    1.249     |    0.787     |\n",
      "| 5 | Sudoku 6  |    0.703     |    0.435     |\n",
      "| 6 | Sudoku 7  |    0.951     |    0.429     |\n",
      "| 7 | Sudoku 8  |    5.983     |    0.531     |\n",
      "| 8 | Sudoku 9  |    0.011     |    0.012     |\n",
      "| 9 | Sudoku 10 |    0.958     |     0.45     |\n",
      "+---+-----------+--------------+--------------+\n"
     ]
    }
   ],
   "source": [
    "from tabulate import tabulate\n",
    "print(tabulate(df_results, headers = 'keys', tablefmt = 'pretty'))"
   ]
  }
 ],
 "metadata": {
  "colab": {
   "provenance": []
  },
  "kernelspec": {
   "display_name": "Python 3",
   "language": "python",
   "name": "python3"
  },
  "language_info": {
   "codemirror_mode": {
    "name": "ipython",
    "version": 3
   },
   "file_extension": ".py",
   "mimetype": "text/x-python",
   "name": "python",
   "nbconvert_exporter": "python",
   "pygments_lexer": "ipython3",
   "version": "3.7.1"
  }
 },
 "nbformat": 4,
 "nbformat_minor": 4
}
