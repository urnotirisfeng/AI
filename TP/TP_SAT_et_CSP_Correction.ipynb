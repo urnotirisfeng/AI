{
  "cells": [
    {
      "cell_type": "markdown",
      "metadata": {
        "id": "5PY4UN_UO0E_"
      },
      "source": [
        "# **TP Intelligence Artificielle - SAT et CSP**"
      ]
    },
    {
      "cell_type": "markdown",
      "metadata": {
        "id": "bSWfQmBsPACo"
      },
      "source": [
        "# **Partie 0 : Visualisation**\n",
        "\n",
        "Voici une fonction pour visualiser les sudokus."
      ]
    },
    {
      "cell_type": "code",
      "execution_count": 2,
      "metadata": {
        "id": "pt05F60FPonG"
      },
      "outputs": [],
      "source": [
        "from IPython.display import HTML\n",
        "\n",
        "def visualize_sudoku(grid):\n",
        "    html = \"<table>\"\n",
        "    for i in range(9):\n",
        "        html += \"<tr>\"\n",
        "        for j in range(9):\n",
        "            value = grid[i][j]\n",
        "            cell_style = \"width: 30px; height: 30px; text-align: center; font-size: 20px; border: 1px solid black;\"\n",
        "            if i % 3 == 0 and i != 0:  # Horizontal lines\n",
        "                cell_style += \"border-top: 5px solid black;\"\n",
        "            if j % 3 == 0 and j != 0:  # Vertical lines\n",
        "                cell_style += \"border-left: 5px solid black;\"\n",
        "\n",
        "            if value == 0:\n",
        "                html += f\"<td style='background-color: white; {cell_style}'> </td>\"  # Case vide\n",
        "            else:\n",
        "                html += f\"<td style='background-color: rgb(226, 114, 91); {cell_style}'>{value}</td>\"\n",
        "        html += \"</tr>\"\n",
        "    html += \"</table>\"\n",
        "    display(HTML(html))"
      ]
    },
    {
      "cell_type": "markdown",
      "metadata": {
        "id": "0N5OlXXSHP7Z"
      },
      "source": [
        "### **Exercice 1**\n",
        "Écrivez un Sudoku sous forme d’une liste de listes (9 listes de 9 élements chacune où la valeur 0 represente une caise vide), puis utilisez la fonction visualize_sudoku pour l’afficher."
      ]
    },
    {
      "cell_type": "code",
      "execution_count": 3,
      "metadata": {
        "colab": {
          "base_uri": "https://localhost:8080/",
          "height": 358
        },
        "id": "opPESfFVHb4A",
        "outputId": "112730ef-53ba-4f5b-f3f6-2ce41e91b6fa"
      },
      "outputs": [
        {
          "output_type": "stream",
          "name": "stdout",
          "text": [
            "Sudoku\n"
          ]
        },
        {
          "output_type": "display_data",
          "data": {
            "text/plain": [
              "<IPython.core.display.HTML object>"
            ],
            "text/html": [
              "<table><tr><td style='background-color: rgb(226, 114, 91); width: 30px; height: 30px; text-align: center; font-size: 20px; border: 1px solid black;'>5</td><td style='background-color: rgb(226, 114, 91); width: 30px; height: 30px; text-align: center; font-size: 20px; border: 1px solid black;'>3</td><td style='background-color: white; width: 30px; height: 30px; text-align: center; font-size: 20px; border: 1px solid black;'> </td><td style='background-color: white; width: 30px; height: 30px; text-align: center; font-size: 20px; border: 1px solid black;border-left: 5px solid black;'> </td><td style='background-color: rgb(226, 114, 91); width: 30px; height: 30px; text-align: center; font-size: 20px; border: 1px solid black;'>7</td><td style='background-color: white; width: 30px; height: 30px; text-align: center; font-size: 20px; border: 1px solid black;'> </td><td style='background-color: white; width: 30px; height: 30px; text-align: center; font-size: 20px; border: 1px solid black;border-left: 5px solid black;'> </td><td style='background-color: white; width: 30px; height: 30px; text-align: center; font-size: 20px; border: 1px solid black;'> </td><td style='background-color: white; width: 30px; height: 30px; text-align: center; font-size: 20px; border: 1px solid black;'> </td></tr><tr><td style='background-color: rgb(226, 114, 91); width: 30px; height: 30px; text-align: center; font-size: 20px; border: 1px solid black;'>6</td><td style='background-color: white; width: 30px; height: 30px; text-align: center; font-size: 20px; border: 1px solid black;'> </td><td style='background-color: white; width: 30px; height: 30px; text-align: center; font-size: 20px; border: 1px solid black;'> </td><td style='background-color: rgb(226, 114, 91); width: 30px; height: 30px; text-align: center; font-size: 20px; border: 1px solid black;border-left: 5px solid black;'>1</td><td style='background-color: rgb(226, 114, 91); width: 30px; height: 30px; text-align: center; font-size: 20px; border: 1px solid black;'>9</td><td style='background-color: rgb(226, 114, 91); width: 30px; height: 30px; text-align: center; font-size: 20px; border: 1px solid black;'>5</td><td style='background-color: white; width: 30px; height: 30px; text-align: center; font-size: 20px; border: 1px solid black;border-left: 5px solid black;'> </td><td style='background-color: white; width: 30px; height: 30px; text-align: center; font-size: 20px; border: 1px solid black;'> </td><td style='background-color: white; width: 30px; height: 30px; text-align: center; font-size: 20px; border: 1px solid black;'> </td></tr><tr><td style='background-color: white; width: 30px; height: 30px; text-align: center; font-size: 20px; border: 1px solid black;'> </td><td style='background-color: rgb(226, 114, 91); width: 30px; height: 30px; text-align: center; font-size: 20px; border: 1px solid black;'>9</td><td style='background-color: rgb(226, 114, 91); width: 30px; height: 30px; text-align: center; font-size: 20px; border: 1px solid black;'>8</td><td style='background-color: white; width: 30px; height: 30px; text-align: center; font-size: 20px; border: 1px solid black;border-left: 5px solid black;'> </td><td style='background-color: white; width: 30px; height: 30px; text-align: center; font-size: 20px; border: 1px solid black;'> </td><td style='background-color: white; width: 30px; height: 30px; text-align: center; font-size: 20px; border: 1px solid black;'> </td><td style='background-color: white; width: 30px; height: 30px; text-align: center; font-size: 20px; border: 1px solid black;border-left: 5px solid black;'> </td><td style='background-color: rgb(226, 114, 91); width: 30px; height: 30px; text-align: center; font-size: 20px; border: 1px solid black;'>6</td><td style='background-color: white; width: 30px; height: 30px; text-align: center; font-size: 20px; border: 1px solid black;'> </td></tr><tr><td style='background-color: rgb(226, 114, 91); width: 30px; height: 30px; text-align: center; font-size: 20px; border: 1px solid black;border-top: 5px solid black;'>8</td><td style='background-color: white; width: 30px; height: 30px; text-align: center; font-size: 20px; border: 1px solid black;border-top: 5px solid black;'> </td><td style='background-color: white; width: 30px; height: 30px; text-align: center; font-size: 20px; border: 1px solid black;border-top: 5px solid black;'> </td><td style='background-color: white; width: 30px; height: 30px; text-align: center; font-size: 20px; border: 1px solid black;border-top: 5px solid black;border-left: 5px solid black;'> </td><td style='background-color: rgb(226, 114, 91); width: 30px; height: 30px; text-align: center; font-size: 20px; border: 1px solid black;border-top: 5px solid black;'>6</td><td style='background-color: white; width: 30px; height: 30px; text-align: center; font-size: 20px; border: 1px solid black;border-top: 5px solid black;'> </td><td style='background-color: white; width: 30px; height: 30px; text-align: center; font-size: 20px; border: 1px solid black;border-top: 5px solid black;border-left: 5px solid black;'> </td><td style='background-color: white; width: 30px; height: 30px; text-align: center; font-size: 20px; border: 1px solid black;border-top: 5px solid black;'> </td><td style='background-color: rgb(226, 114, 91); width: 30px; height: 30px; text-align: center; font-size: 20px; border: 1px solid black;border-top: 5px solid black;'>3</td></tr><tr><td style='background-color: rgb(226, 114, 91); width: 30px; height: 30px; text-align: center; font-size: 20px; border: 1px solid black;'>4</td><td style='background-color: white; width: 30px; height: 30px; text-align: center; font-size: 20px; border: 1px solid black;'> </td><td style='background-color: white; width: 30px; height: 30px; text-align: center; font-size: 20px; border: 1px solid black;'> </td><td style='background-color: rgb(226, 114, 91); width: 30px; height: 30px; text-align: center; font-size: 20px; border: 1px solid black;border-left: 5px solid black;'>8</td><td style='background-color: white; width: 30px; height: 30px; text-align: center; font-size: 20px; border: 1px solid black;'> </td><td style='background-color: rgb(226, 114, 91); width: 30px; height: 30px; text-align: center; font-size: 20px; border: 1px solid black;'>3</td><td style='background-color: white; width: 30px; height: 30px; text-align: center; font-size: 20px; border: 1px solid black;border-left: 5px solid black;'> </td><td style='background-color: white; width: 30px; height: 30px; text-align: center; font-size: 20px; border: 1px solid black;'> </td><td style='background-color: rgb(226, 114, 91); width: 30px; height: 30px; text-align: center; font-size: 20px; border: 1px solid black;'>1</td></tr><tr><td style='background-color: rgb(226, 114, 91); width: 30px; height: 30px; text-align: center; font-size: 20px; border: 1px solid black;'>7</td><td style='background-color: white; width: 30px; height: 30px; text-align: center; font-size: 20px; border: 1px solid black;'> </td><td style='background-color: white; width: 30px; height: 30px; text-align: center; font-size: 20px; border: 1px solid black;'> </td><td style='background-color: white; width: 30px; height: 30px; text-align: center; font-size: 20px; border: 1px solid black;border-left: 5px solid black;'> </td><td style='background-color: rgb(226, 114, 91); width: 30px; height: 30px; text-align: center; font-size: 20px; border: 1px solid black;'>2</td><td style='background-color: white; width: 30px; height: 30px; text-align: center; font-size: 20px; border: 1px solid black;'> </td><td style='background-color: white; width: 30px; height: 30px; text-align: center; font-size: 20px; border: 1px solid black;border-left: 5px solid black;'> </td><td style='background-color: white; width: 30px; height: 30px; text-align: center; font-size: 20px; border: 1px solid black;'> </td><td style='background-color: rgb(226, 114, 91); width: 30px; height: 30px; text-align: center; font-size: 20px; border: 1px solid black;'>6</td></tr><tr><td style='background-color: white; width: 30px; height: 30px; text-align: center; font-size: 20px; border: 1px solid black;border-top: 5px solid black;'> </td><td style='background-color: rgb(226, 114, 91); width: 30px; height: 30px; text-align: center; font-size: 20px; border: 1px solid black;border-top: 5px solid black;'>6</td><td style='background-color: white; width: 30px; height: 30px; text-align: center; font-size: 20px; border: 1px solid black;border-top: 5px solid black;'> </td><td style='background-color: white; width: 30px; height: 30px; text-align: center; font-size: 20px; border: 1px solid black;border-top: 5px solid black;border-left: 5px solid black;'> </td><td style='background-color: white; width: 30px; height: 30px; text-align: center; font-size: 20px; border: 1px solid black;border-top: 5px solid black;'> </td><td style='background-color: white; width: 30px; height: 30px; text-align: center; font-size: 20px; border: 1px solid black;border-top: 5px solid black;'> </td><td style='background-color: rgb(226, 114, 91); width: 30px; height: 30px; text-align: center; font-size: 20px; border: 1px solid black;border-top: 5px solid black;border-left: 5px solid black;'>2</td><td style='background-color: rgb(226, 114, 91); width: 30px; height: 30px; text-align: center; font-size: 20px; border: 1px solid black;border-top: 5px solid black;'>8</td><td style='background-color: white; width: 30px; height: 30px; text-align: center; font-size: 20px; border: 1px solid black;border-top: 5px solid black;'> </td></tr><tr><td style='background-color: white; width: 30px; height: 30px; text-align: center; font-size: 20px; border: 1px solid black;'> </td><td style='background-color: white; width: 30px; height: 30px; text-align: center; font-size: 20px; border: 1px solid black;'> </td><td style='background-color: white; width: 30px; height: 30px; text-align: center; font-size: 20px; border: 1px solid black;'> </td><td style='background-color: rgb(226, 114, 91); width: 30px; height: 30px; text-align: center; font-size: 20px; border: 1px solid black;border-left: 5px solid black;'>4</td><td style='background-color: rgb(226, 114, 91); width: 30px; height: 30px; text-align: center; font-size: 20px; border: 1px solid black;'>1</td><td style='background-color: rgb(226, 114, 91); width: 30px; height: 30px; text-align: center; font-size: 20px; border: 1px solid black;'>9</td><td style='background-color: white; width: 30px; height: 30px; text-align: center; font-size: 20px; border: 1px solid black;border-left: 5px solid black;'> </td><td style='background-color: white; width: 30px; height: 30px; text-align: center; font-size: 20px; border: 1px solid black;'> </td><td style='background-color: rgb(226, 114, 91); width: 30px; height: 30px; text-align: center; font-size: 20px; border: 1px solid black;'>5</td></tr><tr><td style='background-color: white; width: 30px; height: 30px; text-align: center; font-size: 20px; border: 1px solid black;'> </td><td style='background-color: white; width: 30px; height: 30px; text-align: center; font-size: 20px; border: 1px solid black;'> </td><td style='background-color: white; width: 30px; height: 30px; text-align: center; font-size: 20px; border: 1px solid black;'> </td><td style='background-color: white; width: 30px; height: 30px; text-align: center; font-size: 20px; border: 1px solid black;border-left: 5px solid black;'> </td><td style='background-color: rgb(226, 114, 91); width: 30px; height: 30px; text-align: center; font-size: 20px; border: 1px solid black;'>8</td><td style='background-color: white; width: 30px; height: 30px; text-align: center; font-size: 20px; border: 1px solid black;'> </td><td style='background-color: white; width: 30px; height: 30px; text-align: center; font-size: 20px; border: 1px solid black;border-left: 5px solid black;'> </td><td style='background-color: rgb(226, 114, 91); width: 30px; height: 30px; text-align: center; font-size: 20px; border: 1px solid black;'>7</td><td style='background-color: rgb(226, 114, 91); width: 30px; height: 30px; text-align: center; font-size: 20px; border: 1px solid black;'>9</td></tr></table>"
            ]
          },
          "metadata": {}
        }
      ],
      "source": [
        "# 创建一个数独棋盘\n",
        "grid = [  [5, 3, 0, 0, 7, 0, 0, 0, 0],\n",
        "        [6, 0, 0, 1, 9, 5, 0, 0, 0],\n",
        "        [0, 9, 8, 0, 0, 0, 0, 6, 0],\n",
        "        [8, 0, 0, 0, 6, 0, 0, 0, 3],\n",
        "        [4, 0, 0, 8, 0, 3, 0, 0, 1],\n",
        "        [7, 0, 0, 0, 2, 0, 0, 0, 6],\n",
        "        [0, 6, 0, 0, 0, 0, 2, 8, 0],\n",
        "        [0, 0, 0, 4, 1, 9, 0, 0, 5],\n",
        "        [0, 0, 0, 0, 8, 0, 0, 7, 9]]\n",
        "\n",
        "print('Sudoku')\n",
        "visualize_sudoku(grid)"
      ]
    },
    {
      "cell_type": "markdown",
      "metadata": {
        "id": "HginL-veRCvN"
      },
      "source": [
        "# **Partie 1 : Modélisation**"
      ]
    },
    {
      "cell_type": "markdown",
      "metadata": {
        "id": "S_5tobz9RIV7"
      },
      "source": [
        "Nous allons modéliser le Sudoku comme un problème SAT et CSP, puis utiliser les méthodes propres à chaque modélisation pour la résolution.\n",
        "Pour cela, nous utiliserons deux bibliothèques : **python-sat** et **python-constraint**.\n",
        "\n",
        "Exécutez le bloc de code suivant pour les installer.\n",
        "Pour les installer sur vos PC, il suffit d’exécuter les mêmes lignes (sans le '!' au début) dans une console de commandes (CMD).\n",
        "\n"
      ]
    },
    {
      "cell_type": "code",
      "execution_count": 5,
      "metadata": {
        "colab": {
          "base_uri": "https://localhost:8080/"
        },
        "id": "i2LySWFRUxNt",
        "outputId": "b5ad9dca-00ce-430a-d08c-e2afbdfc69cb"
      },
      "outputs": [
        {
          "output_type": "stream",
          "name": "stdout",
          "text": [
            "Collecting python-sat\n",
            "  Downloading python_sat-1.8.dev16-cp311-cp311-manylinux_2_17_x86_64.manylinux2014_x86_64.manylinux_2_28_x86_64.whl.metadata (1.5 kB)\n",
            "Requirement already satisfied: six in /usr/local/lib/python3.11/dist-packages (from python-sat) (1.17.0)\n",
            "Downloading python_sat-1.8.dev16-cp311-cp311-manylinux_2_17_x86_64.manylinux2014_x86_64.manylinux_2_28_x86_64.whl (2.7 MB)\n",
            "\u001b[?25l   \u001b[90m━━━━━━━━━━━━━━━━━━━━━━━━━━━━━━━━━━━━━━━━\u001b[0m \u001b[32m0.0/2.7 MB\u001b[0m \u001b[31m?\u001b[0m eta \u001b[36m-:--:--\u001b[0m\r\u001b[2K   \u001b[91m━━━━━━━━━━━━━━━━━━━━━━━━━━━━━━━━━━━━\u001b[0m\u001b[90m╺\u001b[0m\u001b[90m━━━\u001b[0m \u001b[32m2.5/2.7 MB\u001b[0m \u001b[31m72.4 MB/s\u001b[0m eta \u001b[36m0:00:01\u001b[0m\r\u001b[2K   \u001b[90m━━━━━━━━━━━━━━━━━━━━━━━━━━━━━━━━━━━━━━━━\u001b[0m \u001b[32m2.7/2.7 MB\u001b[0m \u001b[31m41.5 MB/s\u001b[0m eta \u001b[36m0:00:00\u001b[0m\n",
            "\u001b[?25hInstalling collected packages: python-sat\n",
            "Successfully installed python-sat-1.8.dev16\n",
            "Requirement already satisfied: python-constraint in /usr/local/lib/python3.11/dist-packages (1.4.0)\n"
          ]
        }
      ],
      "source": [
        "# 把数独模型建为一个 SAT 问题 和 一个 CSP 问题\n",
        "# Installation des libraries 导入库\n",
        "!pip install python-sat # 用于构造和解决 SAT 问题\n",
        "!pip install python-constraint # 用于构造和解决 CSP 问题"
      ]
    },
    {
      "cell_type": "markdown",
      "metadata": {
        "id": "jzQp1T6TtIFC"
      },
      "source": [
        "## **1.1 Modélisation SAT**"
      ]
    },
    {
      "cell_type": "markdown",
      "metadata": {
        "id": "kBo1k9DnEJJm"
      },
      "source": [
        "Pour modéliser le Sudoku comme un problème SAT, nous utiliserons la méthode CNF de la bibliothèque pysat.formula.\n",
        "CNF permet de définir les clauses logiques représentant les contraintes du problème.\n",
        "Pour les variables, nous utiliserons un dictionnaire."
      ]
    },
    {
      "cell_type": "code",
      "execution_count": 8,
      "metadata": {
        "id": "_dkgodwSEpS2"
      },
      "outputs": [],
      "source": [
        "# 从 pysat库中导入CNF类，用来表示逻辑公式的合取范式 Conjunctive Normal Form\n",
        "from pysat.formula import CNF\n",
        "\n",
        "class Sudoku_SAT:\n",
        "\n",
        "    def __init__(self, grid):\n",
        "        self.grid = grid\n",
        "        self.cnf = CNF()  # 创建一个 CNF 对象，用于存储所有逻辑子句\n",
        "        self.var_map = {}  # 用于将 (行, 列, 数字) 映射到 SAT 变量编号\n",
        "\n",
        "        # 1.创建SAT变量映射\n",
        "        # 每个格子(i, j) 和每个数字 k 都被映射成一个 SAT 变量 ID（从1开始递增）\n",
        "        var_count = 1\n",
        "        for i in range(9): # 行\n",
        "            for j in range(9): # 列\n",
        "                for k in range(1, 10): # （1，10）在python中表示 1-9 #数值\n",
        "                    self.var_map[(i, j, k)] = var_count\n",
        "                    var_count += 1\n",
        "\n",
        "        # 2. Créer les clauses SAT\n",
        "        # a. 每个格子至少填一个数字\n",
        "        for i in range(9):\n",
        "            for j in range(9):\n",
        "                clause = [self.var_map[(i, j, k)] for k in range(1, 10)]\n",
        "                self.cnf.append(clause)\n",
        "                #向表格中填写数字 -- 向 CNF 公式中添加一个子句（clause）\n",
        "\n",
        "        # b. Chaque case ne peut contenir qu'une seule valeur\n",
        "         # 保证每个格子只有一个值： 逻辑子句：¬x_ijk1 OR ¬x_ijk2)\n",
        "        for i in range(9):\n",
        "            for j in range(9):\n",
        "                for k1 in range(1, 10):\n",
        "                    for k2 in range(k1 + 1, 10):\n",
        "                        clause = [-self.var_map[(i, j, k1)], -self.var_map[(i, j, k2)]]\n",
        "                        self.cnf.append(clause)\n",
        "\n",
        "        # c. Chaque ligne doit contenir tous les chiffres de 1 à 9\n",
        "        for i in range(9):\n",
        "          # 每行必须包含每个数字\n",
        "            for k in range(1, 10):\n",
        "                clause = [self.var_map[(i, j, k)] for j in range(9)]\n",
        "                self.cnf.append(clause)\n",
        "\n",
        "        # d. Chaque colonne doit contenir tous les chiffres de 1 à 9\n",
        "        for j in range(9):\n",
        "          #每列必须包含每个数字\n",
        "            for k in range(1, 10):\n",
        "                clause = [self.var_map[(i, j, k)] for i in range(9)]\n",
        "                self.cnf.append(clause)\n",
        "\n",
        "        # e. Chaque sous-grille 3x3 doit contenir tous les chiffres de 1 à 9\n",
        "        for subgrid_row in range(3):\n",
        "            for subgrid_col in range(3):\n",
        "              # 个 3x3 小方块必须包含每个数字\n",
        "                for k in range(1, 10):\n",
        "                    clause = [self.var_map[(subgrid_row * 3 + i, subgrid_col * 3 + j, k)]\n",
        "                              for i in range(3) for j in range(3)]\n",
        "                    self.cnf.append(clause)\n",
        "\n",
        "        # f. Contraintes initiales de la grille\n",
        "        # 添加初始数独中的已知数字\n",
        "        # 如果某个格子已经填了数字，比如 grid[i][j] = 5，那么直接添加子句 (x_ij5)\n",
        "        for i in range(9):\n",
        "            for j in range(9):\n",
        "                if self.grid[i][j] != 0:\n",
        "                    self.cnf.append([self.var_map[(i, j, self.grid[i][j])]])"
      ]
    },
    {
      "cell_type": "markdown",
      "metadata": {
        "id": "ZGNPBM-0JXQK"
      },
      "source": [
        "### **Exercice 2**\n",
        "Créez une fonction qui prend une grille de Sudoku en entrée et utilise le solveur Glucose3 de la bibliothèque pysat.solver pour résoudre le jeu (pensez à bien importer Glucosa3). Votre fonction doit :\n",
        "\n",
        "1. Créer un objet sudoku_sat pour modéliser le problème.\n",
        "2. Ajouter au solveur les contraintes du Sudoku sous forme de clauses logiques.\n",
        "3. Vérifier si le Sudoku est résoluble en utilisant le solveur SAT.\n",
        "4. Trouver une solution si le Sudoku est résoluble.\n",
        "5. Interpréter la solution retournée par le solveur pour remplir la grille :\n",
        "  * La solution sera une liste de taille 9 × 9 × 10, contenant des valeurs positives et négatives.\n",
        "  * Une valeur positive signifie que la variable (i, j, k) est True, ce qui indique que la case (i, j) doit contenir la valeur k."
      ]
    },
    {
      "cell_type": "code",
      "execution_count": 10,
      "metadata": {
        "id": "qNW2-nOgJdvJ"
      },
      "outputs": [],
      "source": [
        "from pysat.solvers import Glucose3\n",
        "# 这是 pysat 中性能很好的一个 SAT 解算器\n",
        "\n",
        "def solve_sudoku_sat(grid):\n",
        "  # 创建数独的 SAT 表示模型\n",
        "  sudoku_sat = Sudoku_SAT(grid)\n",
        "\n",
        "  # 创建 SAT 求解器 Glucose3\n",
        "  solver = Glucose3()\n",
        "\n",
        "  # 将 CNF 子句添加到求解器中\n",
        "  solver.append_formula(sudoku_sat.cnf)\n",
        "\n",
        "  # Solve the SAT problem\n",
        "  is_satisfiable = solver.solve()\n",
        "\n",
        "  # 如果有解，就获取解并还原为完整数独棋盘\n",
        "  if is_satisfiable:\n",
        "    solution = solver.get_model()\n",
        "    # 如果数独有解，就调用 get_model() 获取一个解（也就是变量的取值）\n",
        "    # 用于在调用 .solve() 之后获取一个可行解（model）\n",
        "\n",
        "    grid = [[] for _ in range(9)]\n",
        "    # 重新初始化 grid 为一个空的 9×9 列表，用来放求解结果。\n",
        "\n",
        "    var_count = 0 # var_count 是变量编号索引\n",
        "    for i in range(9):\n",
        "        for j in range(9):\n",
        "            for k in range(1, 10):\n",
        "                if solution[var_count] > 0:\n",
        "                  # solution[var_count] 是 SAT 求解器给出的第 var_count 个变量的值\n",
        "                  # 大于0 -- 判定为true\n",
        "                  grid[i].append(k)\n",
        "                var_count += 1\n",
        "\n",
        "    print('Solution SAT Sudoku')\n",
        "    visualize_sudoku(grid)"
      ]
    },
    {
      "cell_type": "markdown",
      "metadata": {
        "id": "SPIWX-ICNIyX"
      },
      "source": [
        "### **Exercice 3**\n",
        "Utilisez votre fonction pour resoudre le sudoku ci-dessous:\n",
        "\n",
        "    [0, 0, 0, 0, 7, 0, 0, 0, 0]\n",
        "    [6, 0, 0, 1, 9, 5, 0, 0, 0]\n",
        "    [0, 9, 8, 0, 0, 0, 0, 6, 0]\n",
        "    [8, 0, 0, 0, 6, 0, 0, 0, 3]\n",
        "    [4, 0, 0, 8, 0, 3, 0, 0, 1]\n",
        "    [7, 0, 0, 0, 2, 0, 0, 0, 6]\n",
        "    [0, 6, 0, 0, 0, 0, 2, 8, 0]\n",
        "    [0, 0, 0, 4, 1, 9, 0, 0, 5]\n",
        "    [0, 0, 0, 0, 8, 0, 0, 7, 9]"
      ]
    },
    {
      "cell_type": "code",
      "execution_count": 12,
      "metadata": {
        "colab": {
          "base_uri": "https://localhost:8080/",
          "height": 700
        },
        "id": "5ivhDWzkNISd",
        "outputId": "2d1ae885-784b-45a9-9e19-b5409429fff3"
      },
      "outputs": [
        {
          "output_type": "stream",
          "name": "stdout",
          "text": [
            "Initial Sudoku\n"
          ]
        },
        {
          "output_type": "display_data",
          "data": {
            "text/plain": [
              "<IPython.core.display.HTML object>"
            ],
            "text/html": [
              "<table><tr><td style='background-color: white; width: 30px; height: 30px; text-align: center; font-size: 20px; border: 1px solid black;'> </td><td style='background-color: white; width: 30px; height: 30px; text-align: center; font-size: 20px; border: 1px solid black;'> </td><td style='background-color: white; width: 30px; height: 30px; text-align: center; font-size: 20px; border: 1px solid black;'> </td><td style='background-color: white; width: 30px; height: 30px; text-align: center; font-size: 20px; border: 1px solid black;border-left: 5px solid black;'> </td><td style='background-color: rgb(226, 114, 91); width: 30px; height: 30px; text-align: center; font-size: 20px; border: 1px solid black;'>7</td><td style='background-color: white; width: 30px; height: 30px; text-align: center; font-size: 20px; border: 1px solid black;'> </td><td style='background-color: white; width: 30px; height: 30px; text-align: center; font-size: 20px; border: 1px solid black;border-left: 5px solid black;'> </td><td style='background-color: white; width: 30px; height: 30px; text-align: center; font-size: 20px; border: 1px solid black;'> </td><td style='background-color: white; width: 30px; height: 30px; text-align: center; font-size: 20px; border: 1px solid black;'> </td></tr><tr><td style='background-color: rgb(226, 114, 91); width: 30px; height: 30px; text-align: center; font-size: 20px; border: 1px solid black;'>6</td><td style='background-color: white; width: 30px; height: 30px; text-align: center; font-size: 20px; border: 1px solid black;'> </td><td style='background-color: white; width: 30px; height: 30px; text-align: center; font-size: 20px; border: 1px solid black;'> </td><td style='background-color: rgb(226, 114, 91); width: 30px; height: 30px; text-align: center; font-size: 20px; border: 1px solid black;border-left: 5px solid black;'>1</td><td style='background-color: rgb(226, 114, 91); width: 30px; height: 30px; text-align: center; font-size: 20px; border: 1px solid black;'>9</td><td style='background-color: rgb(226, 114, 91); width: 30px; height: 30px; text-align: center; font-size: 20px; border: 1px solid black;'>5</td><td style='background-color: white; width: 30px; height: 30px; text-align: center; font-size: 20px; border: 1px solid black;border-left: 5px solid black;'> </td><td style='background-color: white; width: 30px; height: 30px; text-align: center; font-size: 20px; border: 1px solid black;'> </td><td style='background-color: white; width: 30px; height: 30px; text-align: center; font-size: 20px; border: 1px solid black;'> </td></tr><tr><td style='background-color: white; width: 30px; height: 30px; text-align: center; font-size: 20px; border: 1px solid black;'> </td><td style='background-color: rgb(226, 114, 91); width: 30px; height: 30px; text-align: center; font-size: 20px; border: 1px solid black;'>9</td><td style='background-color: rgb(226, 114, 91); width: 30px; height: 30px; text-align: center; font-size: 20px; border: 1px solid black;'>8</td><td style='background-color: white; width: 30px; height: 30px; text-align: center; font-size: 20px; border: 1px solid black;border-left: 5px solid black;'> </td><td style='background-color: white; width: 30px; height: 30px; text-align: center; font-size: 20px; border: 1px solid black;'> </td><td style='background-color: white; width: 30px; height: 30px; text-align: center; font-size: 20px; border: 1px solid black;'> </td><td style='background-color: white; width: 30px; height: 30px; text-align: center; font-size: 20px; border: 1px solid black;border-left: 5px solid black;'> </td><td style='background-color: rgb(226, 114, 91); width: 30px; height: 30px; text-align: center; font-size: 20px; border: 1px solid black;'>6</td><td style='background-color: white; width: 30px; height: 30px; text-align: center; font-size: 20px; border: 1px solid black;'> </td></tr><tr><td style='background-color: rgb(226, 114, 91); width: 30px; height: 30px; text-align: center; font-size: 20px; border: 1px solid black;border-top: 5px solid black;'>8</td><td style='background-color: white; width: 30px; height: 30px; text-align: center; font-size: 20px; border: 1px solid black;border-top: 5px solid black;'> </td><td style='background-color: white; width: 30px; height: 30px; text-align: center; font-size: 20px; border: 1px solid black;border-top: 5px solid black;'> </td><td style='background-color: white; width: 30px; height: 30px; text-align: center; font-size: 20px; border: 1px solid black;border-top: 5px solid black;border-left: 5px solid black;'> </td><td style='background-color: rgb(226, 114, 91); width: 30px; height: 30px; text-align: center; font-size: 20px; border: 1px solid black;border-top: 5px solid black;'>6</td><td style='background-color: white; width: 30px; height: 30px; text-align: center; font-size: 20px; border: 1px solid black;border-top: 5px solid black;'> </td><td style='background-color: white; width: 30px; height: 30px; text-align: center; font-size: 20px; border: 1px solid black;border-top: 5px solid black;border-left: 5px solid black;'> </td><td style='background-color: white; width: 30px; height: 30px; text-align: center; font-size: 20px; border: 1px solid black;border-top: 5px solid black;'> </td><td style='background-color: rgb(226, 114, 91); width: 30px; height: 30px; text-align: center; font-size: 20px; border: 1px solid black;border-top: 5px solid black;'>3</td></tr><tr><td style='background-color: rgb(226, 114, 91); width: 30px; height: 30px; text-align: center; font-size: 20px; border: 1px solid black;'>4</td><td style='background-color: white; width: 30px; height: 30px; text-align: center; font-size: 20px; border: 1px solid black;'> </td><td style='background-color: white; width: 30px; height: 30px; text-align: center; font-size: 20px; border: 1px solid black;'> </td><td style='background-color: rgb(226, 114, 91); width: 30px; height: 30px; text-align: center; font-size: 20px; border: 1px solid black;border-left: 5px solid black;'>8</td><td style='background-color: white; width: 30px; height: 30px; text-align: center; font-size: 20px; border: 1px solid black;'> </td><td style='background-color: rgb(226, 114, 91); width: 30px; height: 30px; text-align: center; font-size: 20px; border: 1px solid black;'>3</td><td style='background-color: white; width: 30px; height: 30px; text-align: center; font-size: 20px; border: 1px solid black;border-left: 5px solid black;'> </td><td style='background-color: white; width: 30px; height: 30px; text-align: center; font-size: 20px; border: 1px solid black;'> </td><td style='background-color: rgb(226, 114, 91); width: 30px; height: 30px; text-align: center; font-size: 20px; border: 1px solid black;'>1</td></tr><tr><td style='background-color: rgb(226, 114, 91); width: 30px; height: 30px; text-align: center; font-size: 20px; border: 1px solid black;'>7</td><td style='background-color: white; width: 30px; height: 30px; text-align: center; font-size: 20px; border: 1px solid black;'> </td><td style='background-color: white; width: 30px; height: 30px; text-align: center; font-size: 20px; border: 1px solid black;'> </td><td style='background-color: white; width: 30px; height: 30px; text-align: center; font-size: 20px; border: 1px solid black;border-left: 5px solid black;'> </td><td style='background-color: rgb(226, 114, 91); width: 30px; height: 30px; text-align: center; font-size: 20px; border: 1px solid black;'>2</td><td style='background-color: white; width: 30px; height: 30px; text-align: center; font-size: 20px; border: 1px solid black;'> </td><td style='background-color: white; width: 30px; height: 30px; text-align: center; font-size: 20px; border: 1px solid black;border-left: 5px solid black;'> </td><td style='background-color: white; width: 30px; height: 30px; text-align: center; font-size: 20px; border: 1px solid black;'> </td><td style='background-color: rgb(226, 114, 91); width: 30px; height: 30px; text-align: center; font-size: 20px; border: 1px solid black;'>6</td></tr><tr><td style='background-color: white; width: 30px; height: 30px; text-align: center; font-size: 20px; border: 1px solid black;border-top: 5px solid black;'> </td><td style='background-color: rgb(226, 114, 91); width: 30px; height: 30px; text-align: center; font-size: 20px; border: 1px solid black;border-top: 5px solid black;'>6</td><td style='background-color: white; width: 30px; height: 30px; text-align: center; font-size: 20px; border: 1px solid black;border-top: 5px solid black;'> </td><td style='background-color: white; width: 30px; height: 30px; text-align: center; font-size: 20px; border: 1px solid black;border-top: 5px solid black;border-left: 5px solid black;'> </td><td style='background-color: white; width: 30px; height: 30px; text-align: center; font-size: 20px; border: 1px solid black;border-top: 5px solid black;'> </td><td style='background-color: white; width: 30px; height: 30px; text-align: center; font-size: 20px; border: 1px solid black;border-top: 5px solid black;'> </td><td style='background-color: rgb(226, 114, 91); width: 30px; height: 30px; text-align: center; font-size: 20px; border: 1px solid black;border-top: 5px solid black;border-left: 5px solid black;'>2</td><td style='background-color: rgb(226, 114, 91); width: 30px; height: 30px; text-align: center; font-size: 20px; border: 1px solid black;border-top: 5px solid black;'>8</td><td style='background-color: white; width: 30px; height: 30px; text-align: center; font-size: 20px; border: 1px solid black;border-top: 5px solid black;'> </td></tr><tr><td style='background-color: white; width: 30px; height: 30px; text-align: center; font-size: 20px; border: 1px solid black;'> </td><td style='background-color: white; width: 30px; height: 30px; text-align: center; font-size: 20px; border: 1px solid black;'> </td><td style='background-color: white; width: 30px; height: 30px; text-align: center; font-size: 20px; border: 1px solid black;'> </td><td style='background-color: rgb(226, 114, 91); width: 30px; height: 30px; text-align: center; font-size: 20px; border: 1px solid black;border-left: 5px solid black;'>4</td><td style='background-color: rgb(226, 114, 91); width: 30px; height: 30px; text-align: center; font-size: 20px; border: 1px solid black;'>1</td><td style='background-color: rgb(226, 114, 91); width: 30px; height: 30px; text-align: center; font-size: 20px; border: 1px solid black;'>9</td><td style='background-color: white; width: 30px; height: 30px; text-align: center; font-size: 20px; border: 1px solid black;border-left: 5px solid black;'> </td><td style='background-color: white; width: 30px; height: 30px; text-align: center; font-size: 20px; border: 1px solid black;'> </td><td style='background-color: rgb(226, 114, 91); width: 30px; height: 30px; text-align: center; font-size: 20px; border: 1px solid black;'>5</td></tr><tr><td style='background-color: white; width: 30px; height: 30px; text-align: center; font-size: 20px; border: 1px solid black;'> </td><td style='background-color: white; width: 30px; height: 30px; text-align: center; font-size: 20px; border: 1px solid black;'> </td><td style='background-color: white; width: 30px; height: 30px; text-align: center; font-size: 20px; border: 1px solid black;'> </td><td style='background-color: white; width: 30px; height: 30px; text-align: center; font-size: 20px; border: 1px solid black;border-left: 5px solid black;'> </td><td style='background-color: rgb(226, 114, 91); width: 30px; height: 30px; text-align: center; font-size: 20px; border: 1px solid black;'>8</td><td style='background-color: white; width: 30px; height: 30px; text-align: center; font-size: 20px; border: 1px solid black;'> </td><td style='background-color: white; width: 30px; height: 30px; text-align: center; font-size: 20px; border: 1px solid black;border-left: 5px solid black;'> </td><td style='background-color: rgb(226, 114, 91); width: 30px; height: 30px; text-align: center; font-size: 20px; border: 1px solid black;'>7</td><td style='background-color: rgb(226, 114, 91); width: 30px; height: 30px; text-align: center; font-size: 20px; border: 1px solid black;'>9</td></tr></table>"
            ]
          },
          "metadata": {}
        },
        {
          "output_type": "stream",
          "name": "stdout",
          "text": [
            "Solution SAT Sudoku\n"
          ]
        },
        {
          "output_type": "display_data",
          "data": {
            "text/plain": [
              "<IPython.core.display.HTML object>"
            ],
            "text/html": [
              "<table><tr><td style='background-color: rgb(226, 114, 91); width: 30px; height: 30px; text-align: center; font-size: 20px; border: 1px solid black;'>5</td><td style='background-color: rgb(226, 114, 91); width: 30px; height: 30px; text-align: center; font-size: 20px; border: 1px solid black;'>3</td><td style='background-color: rgb(226, 114, 91); width: 30px; height: 30px; text-align: center; font-size: 20px; border: 1px solid black;'>4</td><td style='background-color: rgb(226, 114, 91); width: 30px; height: 30px; text-align: center; font-size: 20px; border: 1px solid black;border-left: 5px solid black;'>6</td><td style='background-color: rgb(226, 114, 91); width: 30px; height: 30px; text-align: center; font-size: 20px; border: 1px solid black;'>7</td><td style='background-color: rgb(226, 114, 91); width: 30px; height: 30px; text-align: center; font-size: 20px; border: 1px solid black;'>8</td><td style='background-color: rgb(226, 114, 91); width: 30px; height: 30px; text-align: center; font-size: 20px; border: 1px solid black;border-left: 5px solid black;'>9</td><td style='background-color: rgb(226, 114, 91); width: 30px; height: 30px; text-align: center; font-size: 20px; border: 1px solid black;'>1</td><td style='background-color: rgb(226, 114, 91); width: 30px; height: 30px; text-align: center; font-size: 20px; border: 1px solid black;'>2</td></tr><tr><td style='background-color: rgb(226, 114, 91); width: 30px; height: 30px; text-align: center; font-size: 20px; border: 1px solid black;'>6</td><td style='background-color: rgb(226, 114, 91); width: 30px; height: 30px; text-align: center; font-size: 20px; border: 1px solid black;'>7</td><td style='background-color: rgb(226, 114, 91); width: 30px; height: 30px; text-align: center; font-size: 20px; border: 1px solid black;'>2</td><td style='background-color: rgb(226, 114, 91); width: 30px; height: 30px; text-align: center; font-size: 20px; border: 1px solid black;border-left: 5px solid black;'>1</td><td style='background-color: rgb(226, 114, 91); width: 30px; height: 30px; text-align: center; font-size: 20px; border: 1px solid black;'>9</td><td style='background-color: rgb(226, 114, 91); width: 30px; height: 30px; text-align: center; font-size: 20px; border: 1px solid black;'>5</td><td style='background-color: rgb(226, 114, 91); width: 30px; height: 30px; text-align: center; font-size: 20px; border: 1px solid black;border-left: 5px solid black;'>3</td><td style='background-color: rgb(226, 114, 91); width: 30px; height: 30px; text-align: center; font-size: 20px; border: 1px solid black;'>4</td><td style='background-color: rgb(226, 114, 91); width: 30px; height: 30px; text-align: center; font-size: 20px; border: 1px solid black;'>8</td></tr><tr><td style='background-color: rgb(226, 114, 91); width: 30px; height: 30px; text-align: center; font-size: 20px; border: 1px solid black;'>1</td><td style='background-color: rgb(226, 114, 91); width: 30px; height: 30px; text-align: center; font-size: 20px; border: 1px solid black;'>9</td><td style='background-color: rgb(226, 114, 91); width: 30px; height: 30px; text-align: center; font-size: 20px; border: 1px solid black;'>8</td><td style='background-color: rgb(226, 114, 91); width: 30px; height: 30px; text-align: center; font-size: 20px; border: 1px solid black;border-left: 5px solid black;'>3</td><td style='background-color: rgb(226, 114, 91); width: 30px; height: 30px; text-align: center; font-size: 20px; border: 1px solid black;'>4</td><td style='background-color: rgb(226, 114, 91); width: 30px; height: 30px; text-align: center; font-size: 20px; border: 1px solid black;'>2</td><td style='background-color: rgb(226, 114, 91); width: 30px; height: 30px; text-align: center; font-size: 20px; border: 1px solid black;border-left: 5px solid black;'>5</td><td style='background-color: rgb(226, 114, 91); width: 30px; height: 30px; text-align: center; font-size: 20px; border: 1px solid black;'>6</td><td style='background-color: rgb(226, 114, 91); width: 30px; height: 30px; text-align: center; font-size: 20px; border: 1px solid black;'>7</td></tr><tr><td style='background-color: rgb(226, 114, 91); width: 30px; height: 30px; text-align: center; font-size: 20px; border: 1px solid black;border-top: 5px solid black;'>8</td><td style='background-color: rgb(226, 114, 91); width: 30px; height: 30px; text-align: center; font-size: 20px; border: 1px solid black;border-top: 5px solid black;'>5</td><td style='background-color: rgb(226, 114, 91); width: 30px; height: 30px; text-align: center; font-size: 20px; border: 1px solid black;border-top: 5px solid black;'>9</td><td style='background-color: rgb(226, 114, 91); width: 30px; height: 30px; text-align: center; font-size: 20px; border: 1px solid black;border-top: 5px solid black;border-left: 5px solid black;'>7</td><td style='background-color: rgb(226, 114, 91); width: 30px; height: 30px; text-align: center; font-size: 20px; border: 1px solid black;border-top: 5px solid black;'>6</td><td style='background-color: rgb(226, 114, 91); width: 30px; height: 30px; text-align: center; font-size: 20px; border: 1px solid black;border-top: 5px solid black;'>1</td><td style='background-color: rgb(226, 114, 91); width: 30px; height: 30px; text-align: center; font-size: 20px; border: 1px solid black;border-top: 5px solid black;border-left: 5px solid black;'>4</td><td style='background-color: rgb(226, 114, 91); width: 30px; height: 30px; text-align: center; font-size: 20px; border: 1px solid black;border-top: 5px solid black;'>2</td><td style='background-color: rgb(226, 114, 91); width: 30px; height: 30px; text-align: center; font-size: 20px; border: 1px solid black;border-top: 5px solid black;'>3</td></tr><tr><td style='background-color: rgb(226, 114, 91); width: 30px; height: 30px; text-align: center; font-size: 20px; border: 1px solid black;'>4</td><td style='background-color: rgb(226, 114, 91); width: 30px; height: 30px; text-align: center; font-size: 20px; border: 1px solid black;'>2</td><td style='background-color: rgb(226, 114, 91); width: 30px; height: 30px; text-align: center; font-size: 20px; border: 1px solid black;'>6</td><td style='background-color: rgb(226, 114, 91); width: 30px; height: 30px; text-align: center; font-size: 20px; border: 1px solid black;border-left: 5px solid black;'>8</td><td style='background-color: rgb(226, 114, 91); width: 30px; height: 30px; text-align: center; font-size: 20px; border: 1px solid black;'>5</td><td style='background-color: rgb(226, 114, 91); width: 30px; height: 30px; text-align: center; font-size: 20px; border: 1px solid black;'>3</td><td style='background-color: rgb(226, 114, 91); width: 30px; height: 30px; text-align: center; font-size: 20px; border: 1px solid black;border-left: 5px solid black;'>7</td><td style='background-color: rgb(226, 114, 91); width: 30px; height: 30px; text-align: center; font-size: 20px; border: 1px solid black;'>9</td><td style='background-color: rgb(226, 114, 91); width: 30px; height: 30px; text-align: center; font-size: 20px; border: 1px solid black;'>1</td></tr><tr><td style='background-color: rgb(226, 114, 91); width: 30px; height: 30px; text-align: center; font-size: 20px; border: 1px solid black;'>7</td><td style='background-color: rgb(226, 114, 91); width: 30px; height: 30px; text-align: center; font-size: 20px; border: 1px solid black;'>1</td><td style='background-color: rgb(226, 114, 91); width: 30px; height: 30px; text-align: center; font-size: 20px; border: 1px solid black;'>3</td><td style='background-color: rgb(226, 114, 91); width: 30px; height: 30px; text-align: center; font-size: 20px; border: 1px solid black;border-left: 5px solid black;'>9</td><td style='background-color: rgb(226, 114, 91); width: 30px; height: 30px; text-align: center; font-size: 20px; border: 1px solid black;'>2</td><td style='background-color: rgb(226, 114, 91); width: 30px; height: 30px; text-align: center; font-size: 20px; border: 1px solid black;'>4</td><td style='background-color: rgb(226, 114, 91); width: 30px; height: 30px; text-align: center; font-size: 20px; border: 1px solid black;border-left: 5px solid black;'>8</td><td style='background-color: rgb(226, 114, 91); width: 30px; height: 30px; text-align: center; font-size: 20px; border: 1px solid black;'>5</td><td style='background-color: rgb(226, 114, 91); width: 30px; height: 30px; text-align: center; font-size: 20px; border: 1px solid black;'>6</td></tr><tr><td style='background-color: rgb(226, 114, 91); width: 30px; height: 30px; text-align: center; font-size: 20px; border: 1px solid black;border-top: 5px solid black;'>9</td><td style='background-color: rgb(226, 114, 91); width: 30px; height: 30px; text-align: center; font-size: 20px; border: 1px solid black;border-top: 5px solid black;'>6</td><td style='background-color: rgb(226, 114, 91); width: 30px; height: 30px; text-align: center; font-size: 20px; border: 1px solid black;border-top: 5px solid black;'>1</td><td style='background-color: rgb(226, 114, 91); width: 30px; height: 30px; text-align: center; font-size: 20px; border: 1px solid black;border-top: 5px solid black;border-left: 5px solid black;'>5</td><td style='background-color: rgb(226, 114, 91); width: 30px; height: 30px; text-align: center; font-size: 20px; border: 1px solid black;border-top: 5px solid black;'>3</td><td style='background-color: rgb(226, 114, 91); width: 30px; height: 30px; text-align: center; font-size: 20px; border: 1px solid black;border-top: 5px solid black;'>7</td><td style='background-color: rgb(226, 114, 91); width: 30px; height: 30px; text-align: center; font-size: 20px; border: 1px solid black;border-top: 5px solid black;border-left: 5px solid black;'>2</td><td style='background-color: rgb(226, 114, 91); width: 30px; height: 30px; text-align: center; font-size: 20px; border: 1px solid black;border-top: 5px solid black;'>8</td><td style='background-color: rgb(226, 114, 91); width: 30px; height: 30px; text-align: center; font-size: 20px; border: 1px solid black;border-top: 5px solid black;'>4</td></tr><tr><td style='background-color: rgb(226, 114, 91); width: 30px; height: 30px; text-align: center; font-size: 20px; border: 1px solid black;'>2</td><td style='background-color: rgb(226, 114, 91); width: 30px; height: 30px; text-align: center; font-size: 20px; border: 1px solid black;'>8</td><td style='background-color: rgb(226, 114, 91); width: 30px; height: 30px; text-align: center; font-size: 20px; border: 1px solid black;'>7</td><td style='background-color: rgb(226, 114, 91); width: 30px; height: 30px; text-align: center; font-size: 20px; border: 1px solid black;border-left: 5px solid black;'>4</td><td style='background-color: rgb(226, 114, 91); width: 30px; height: 30px; text-align: center; font-size: 20px; border: 1px solid black;'>1</td><td style='background-color: rgb(226, 114, 91); width: 30px; height: 30px; text-align: center; font-size: 20px; border: 1px solid black;'>9</td><td style='background-color: rgb(226, 114, 91); width: 30px; height: 30px; text-align: center; font-size: 20px; border: 1px solid black;border-left: 5px solid black;'>6</td><td style='background-color: rgb(226, 114, 91); width: 30px; height: 30px; text-align: center; font-size: 20px; border: 1px solid black;'>3</td><td style='background-color: rgb(226, 114, 91); width: 30px; height: 30px; text-align: center; font-size: 20px; border: 1px solid black;'>5</td></tr><tr><td style='background-color: rgb(226, 114, 91); width: 30px; height: 30px; text-align: center; font-size: 20px; border: 1px solid black;'>3</td><td style='background-color: rgb(226, 114, 91); width: 30px; height: 30px; text-align: center; font-size: 20px; border: 1px solid black;'>4</td><td style='background-color: rgb(226, 114, 91); width: 30px; height: 30px; text-align: center; font-size: 20px; border: 1px solid black;'>5</td><td style='background-color: rgb(226, 114, 91); width: 30px; height: 30px; text-align: center; font-size: 20px; border: 1px solid black;border-left: 5px solid black;'>2</td><td style='background-color: rgb(226, 114, 91); width: 30px; height: 30px; text-align: center; font-size: 20px; border: 1px solid black;'>8</td><td style='background-color: rgb(226, 114, 91); width: 30px; height: 30px; text-align: center; font-size: 20px; border: 1px solid black;'>6</td><td style='background-color: rgb(226, 114, 91); width: 30px; height: 30px; text-align: center; font-size: 20px; border: 1px solid black;border-left: 5px solid black;'>1</td><td style='background-color: rgb(226, 114, 91); width: 30px; height: 30px; text-align: center; font-size: 20px; border: 1px solid black;'>7</td><td style='background-color: rgb(226, 114, 91); width: 30px; height: 30px; text-align: center; font-size: 20px; border: 1px solid black;'>9</td></tr></table>"
            ]
          },
          "metadata": {}
        }
      ],
      "source": [
        "grid = [[0, 0, 0, 0, 7, 0, 0, 0, 0],\n",
        "        [6, 0, 0, 1, 9, 5, 0, 0, 0],\n",
        "        [0, 9, 8, 0, 0, 0, 0, 6, 0],\n",
        "        [8, 0, 0, 0, 6, 0, 0, 0, 3],\n",
        "        [4, 0, 0, 8, 0, 3, 0, 0, 1],\n",
        "        [7, 0, 0, 0, 2, 0, 0, 0, 6],\n",
        "        [0, 6, 0, 0, 0, 0, 2, 8, 0],\n",
        "        [0, 0, 0, 4, 1, 9, 0, 0, 5],\n",
        "        [0, 0, 0, 0, 8, 0, 0, 7, 9]]\n",
        "\n",
        "print('Initial Sudoku')\n",
        "visualize_sudoku(grid)\n",
        "\n",
        "# Solve sudoku\n",
        "solve_sudoku_sat(grid)"
      ]
    },
    {
      "cell_type": "markdown",
      "metadata": {
        "id": "wX8ZiIHdELqr"
      },
      "source": [
        "## **1.2 Modélisation CSP**"
      ]
    },
    {
      "cell_type": "markdown",
      "metadata": {
        "id": "SYqboSqREPO1"
      },
      "source": [
        "### **Exercice 4**\n",
        "\n",
        "Créez une fonction solve_sudoku_csp qui prend une grille de Sudoku en entrée, la modélise comme un problème CSP et la résout. Votre fonction doit :\n",
        "1. Créer une instance du problème CSP\n",
        "  * Utilisez la classe Problem de la bibliothèque python-constraint pour représenter le Sudoku.\n",
        "2. Définir les variables du problème\n",
        "  * Utilisez la méthode addVariable pour ajouter les variables au problème, sachant que :\n",
        "    * Chaque case de la grille est une variable identifiée par un tuple (ligne, colonne).\n",
        "    * Le domaine de chaque variable correspond aux valeurs possibles (de 1 à 9).\n",
        "    * Si une case contient déjà un chiffre (non nul), son domaine est restreint à cette valeur unique.\n",
        "3. Définir les contraintes du Sudoku (les valeurs doivent être uniques dans chaque ligne, colonne et région 3×3). Pour cela, utilisez la méthode addConstraint avec AllDifferentConstraint() pour assurer ces contraintes.\n",
        "4. Résoudre le problème. Pour cela utilisez la méthode getSolutions() pour obtenir toutes les solutions possibles.\n",
        "5. Gérer les solutions\n",
        "  * Si des solutions existent, les stocker dans une liste.\n",
        "  * Sinon, indiquer qu’aucune solution n’a été trouvée."
      ]
    },
    {
      "cell_type": "code",
      "execution_count": 7,
      "metadata": {
        "id": "KBSKZAraD3i4"
      },
      "outputs": [],
      "source": [
        "# 从 python-constraint 库中导入所有内容，包括 Problem, AllDifferentConstraint 等\n",
        "from constraint import *\n",
        "\n",
        "# 定义一个函数 solve_sudoku_csp，接收一个 9×9 数独棋盘 grid 作为输入\n",
        "def solve_sudoku_csp(grid):\n",
        "    problem = Problem()  # 创建一个 CSP 问题实例\n",
        "\n",
        "    # Step 1: 定义变量（每个格子）以及它们的取值域（domain）\n",
        "    for row in range(9):  # 遍历所有行\n",
        "        for col in range(9):  # 遍历所有列\n",
        "            if grid[row][col] == 0:\n",
        "                # 如果当前格子为空（值为0），则取值域是1~9\n",
        "                problem.addVariable((row, col), range(1, 10))\n",
        "            else:\n",
        "                # 如果当前格子已有值，取值域只包含这个值\n",
        "                problem.addVariable((row, col), [grid[row][col]])\n",
        "\n",
        "    # Step 2: 添加约束\n",
        "    # 行约束：每一行的9个格子取值必须不同\n",
        "    for i in range(9):\n",
        "        problem.addConstraint(AllDifferentConstraint(), [(i, j) for j in range(9)])\n",
        "\n",
        "    # 列约束：每一列的9个格子取值必须不同\n",
        "    for i in range(9):\n",
        "        problem.addConstraint(AllDifferentConstraint(), [(j, i) for j in range(9)])\n",
        "\n",
        "    # 宫格约束：每个3×3的小宫格内的格子取值也必须不同\n",
        "    for i in range(0, 9, 3):  # 每3行一组：i ∈ {0, 3, 6}\n",
        "        for j in range(0, 9, 3):  # 每3列一组：j ∈ {0, 3, 6}\n",
        "            block_cells = [(i + a, j + b) for a in range(3) for b in range(3)]\n",
        "            problem.addConstraint(AllDifferentConstraint(), block_cells)\n",
        "\n",
        "    # Step 3: 求解问题，获取所有可能的解\n",
        "    solutions = problem.getSolutions()\n",
        "\n",
        "    # Step 4: 判断是否有解\n",
        "    if solutions:\n",
        "        # 如果存在解，提取第一个解（字典形式），转换成 2D 数组形式\n",
        "        first_solution = solutions[0]\n",
        "        result_grid = [[0 for _ in range(9)] for _ in range(9)]\n",
        "        for (row, col), value in first_solution.items():\n",
        "            result_grid[row][col] = value\n",
        "        return result_grid  # 返回填好数字的结果数独\n",
        "    else:\n",
        "        return None  # 如果无解，返回 None（你也可以改为抛出异常）\n"
      ]
    },
    {
      "cell_type": "markdown",
      "metadata": {
        "id": "KKdfoOmaHDh7"
      },
      "source": [
        "### **Exercice 5**\n",
        "Utilisez votre fonction pour resoudre le jeu suivant."
      ]
    },
    {
      "cell_type": "code",
      "execution_count": null,
      "metadata": {
        "id": "NYTYq0edHKP6"
      },
      "outputs": [],
      "source": [
        "# Grille de Sudoku (0 représente une case vide)\n",
        "grid = [[5, 3, 0, 0, 7, 0, 0, 0, 0],\n",
        "        [6, 0, 0, 1, 9, 5, 0, 0, 0],\n",
        "        [0, 9, 8, 0, 0, 0, 0, 6, 0],\n",
        "        [8, 0, 0, 0, 6, 0, 0, 0, 3],\n",
        "        [4, 0, 0, 8, 0, 3, 0, 0, 1],\n",
        "        [7, 0, 0, 0, 2, 0, 0, 0, 6],\n",
        "        [0, 6, 0, 0, 0, 0, 2, 8, 0],\n",
        "        [0, 0, 0, 4, 1, 9, 0, 0, 5],\n",
        "        [0, 0, 0, 0, 8, 0, 0, 7, 9]]"
      ]
    },
    {
      "cell_type": "code",
      "execution_count": null,
      "metadata": {
        "colab": {
          "base_uri": "https://localhost:8080/",
          "height": 705
        },
        "id": "Ug0Ig31UPTk1",
        "outputId": "bc2d7177-a913-43a5-ae6b-0aa59142367f"
      },
      "outputs": [
        {
          "name": "stdout",
          "output_type": "stream",
          "text": [
            "Initial Sudoku\n"
          ]
        },
        {
          "data": {
            "text/html": [
              "<table><tr><td style='background-color: rgb(226, 114, 91); width: 30px; height: 30px; text-align: center; font-size: 20px; border: 1px solid black;'>5</td><td style='background-color: rgb(226, 114, 91); width: 30px; height: 30px; text-align: center; font-size: 20px; border: 1px solid black;'>3</td><td style='background-color: white; width: 30px; height: 30px; text-align: center; font-size: 20px; border: 1px solid black;'> </td><td style='background-color: white; width: 30px; height: 30px; text-align: center; font-size: 20px; border: 1px solid black;border-left: 5px solid black;'> </td><td style='background-color: rgb(226, 114, 91); width: 30px; height: 30px; text-align: center; font-size: 20px; border: 1px solid black;'>7</td><td style='background-color: white; width: 30px; height: 30px; text-align: center; font-size: 20px; border: 1px solid black;'> </td><td style='background-color: white; width: 30px; height: 30px; text-align: center; font-size: 20px; border: 1px solid black;border-left: 5px solid black;'> </td><td style='background-color: white; width: 30px; height: 30px; text-align: center; font-size: 20px; border: 1px solid black;'> </td><td style='background-color: white; width: 30px; height: 30px; text-align: center; font-size: 20px; border: 1px solid black;'> </td></tr><tr><td style='background-color: rgb(226, 114, 91); width: 30px; height: 30px; text-align: center; font-size: 20px; border: 1px solid black;'>6</td><td style='background-color: white; width: 30px; height: 30px; text-align: center; font-size: 20px; border: 1px solid black;'> </td><td style='background-color: white; width: 30px; height: 30px; text-align: center; font-size: 20px; border: 1px solid black;'> </td><td style='background-color: rgb(226, 114, 91); width: 30px; height: 30px; text-align: center; font-size: 20px; border: 1px solid black;border-left: 5px solid black;'>1</td><td style='background-color: rgb(226, 114, 91); width: 30px; height: 30px; text-align: center; font-size: 20px; border: 1px solid black;'>9</td><td style='background-color: rgb(226, 114, 91); width: 30px; height: 30px; text-align: center; font-size: 20px; border: 1px solid black;'>5</td><td style='background-color: white; width: 30px; height: 30px; text-align: center; font-size: 20px; border: 1px solid black;border-left: 5px solid black;'> </td><td style='background-color: white; width: 30px; height: 30px; text-align: center; font-size: 20px; border: 1px solid black;'> </td><td style='background-color: white; width: 30px; height: 30px; text-align: center; font-size: 20px; border: 1px solid black;'> </td></tr><tr><td style='background-color: white; width: 30px; height: 30px; text-align: center; font-size: 20px; border: 1px solid black;'> </td><td style='background-color: rgb(226, 114, 91); width: 30px; height: 30px; text-align: center; font-size: 20px; border: 1px solid black;'>9</td><td style='background-color: rgb(226, 114, 91); width: 30px; height: 30px; text-align: center; font-size: 20px; border: 1px solid black;'>8</td><td style='background-color: white; width: 30px; height: 30px; text-align: center; font-size: 20px; border: 1px solid black;border-left: 5px solid black;'> </td><td style='background-color: white; width: 30px; height: 30px; text-align: center; font-size: 20px; border: 1px solid black;'> </td><td style='background-color: white; width: 30px; height: 30px; text-align: center; font-size: 20px; border: 1px solid black;'> </td><td style='background-color: white; width: 30px; height: 30px; text-align: center; font-size: 20px; border: 1px solid black;border-left: 5px solid black;'> </td><td style='background-color: rgb(226, 114, 91); width: 30px; height: 30px; text-align: center; font-size: 20px; border: 1px solid black;'>6</td><td style='background-color: white; width: 30px; height: 30px; text-align: center; font-size: 20px; border: 1px solid black;'> </td></tr><tr><td style='background-color: rgb(226, 114, 91); width: 30px; height: 30px; text-align: center; font-size: 20px; border: 1px solid black;border-top: 5px solid black;'>8</td><td style='background-color: white; width: 30px; height: 30px; text-align: center; font-size: 20px; border: 1px solid black;border-top: 5px solid black;'> </td><td style='background-color: white; width: 30px; height: 30px; text-align: center; font-size: 20px; border: 1px solid black;border-top: 5px solid black;'> </td><td style='background-color: white; width: 30px; height: 30px; text-align: center; font-size: 20px; border: 1px solid black;border-top: 5px solid black;border-left: 5px solid black;'> </td><td style='background-color: rgb(226, 114, 91); width: 30px; height: 30px; text-align: center; font-size: 20px; border: 1px solid black;border-top: 5px solid black;'>6</td><td style='background-color: white; width: 30px; height: 30px; text-align: center; font-size: 20px; border: 1px solid black;border-top: 5px solid black;'> </td><td style='background-color: white; width: 30px; height: 30px; text-align: center; font-size: 20px; border: 1px solid black;border-top: 5px solid black;border-left: 5px solid black;'> </td><td style='background-color: white; width: 30px; height: 30px; text-align: center; font-size: 20px; border: 1px solid black;border-top: 5px solid black;'> </td><td style='background-color: rgb(226, 114, 91); width: 30px; height: 30px; text-align: center; font-size: 20px; border: 1px solid black;border-top: 5px solid black;'>3</td></tr><tr><td style='background-color: rgb(226, 114, 91); width: 30px; height: 30px; text-align: center; font-size: 20px; border: 1px solid black;'>4</td><td style='background-color: white; width: 30px; height: 30px; text-align: center; font-size: 20px; border: 1px solid black;'> </td><td style='background-color: white; width: 30px; height: 30px; text-align: center; font-size: 20px; border: 1px solid black;'> </td><td style='background-color: rgb(226, 114, 91); width: 30px; height: 30px; text-align: center; font-size: 20px; border: 1px solid black;border-left: 5px solid black;'>8</td><td style='background-color: white; width: 30px; height: 30px; text-align: center; font-size: 20px; border: 1px solid black;'> </td><td style='background-color: rgb(226, 114, 91); width: 30px; height: 30px; text-align: center; font-size: 20px; border: 1px solid black;'>3</td><td style='background-color: white; width: 30px; height: 30px; text-align: center; font-size: 20px; border: 1px solid black;border-left: 5px solid black;'> </td><td style='background-color: white; width: 30px; height: 30px; text-align: center; font-size: 20px; border: 1px solid black;'> </td><td style='background-color: rgb(226, 114, 91); width: 30px; height: 30px; text-align: center; font-size: 20px; border: 1px solid black;'>1</td></tr><tr><td style='background-color: rgb(226, 114, 91); width: 30px; height: 30px; text-align: center; font-size: 20px; border: 1px solid black;'>7</td><td style='background-color: white; width: 30px; height: 30px; text-align: center; font-size: 20px; border: 1px solid black;'> </td><td style='background-color: white; width: 30px; height: 30px; text-align: center; font-size: 20px; border: 1px solid black;'> </td><td style='background-color: white; width: 30px; height: 30px; text-align: center; font-size: 20px; border: 1px solid black;border-left: 5px solid black;'> </td><td style='background-color: rgb(226, 114, 91); width: 30px; height: 30px; text-align: center; font-size: 20px; border: 1px solid black;'>2</td><td style='background-color: white; width: 30px; height: 30px; text-align: center; font-size: 20px; border: 1px solid black;'> </td><td style='background-color: white; width: 30px; height: 30px; text-align: center; font-size: 20px; border: 1px solid black;border-left: 5px solid black;'> </td><td style='background-color: white; width: 30px; height: 30px; text-align: center; font-size: 20px; border: 1px solid black;'> </td><td style='background-color: rgb(226, 114, 91); width: 30px; height: 30px; text-align: center; font-size: 20px; border: 1px solid black;'>6</td></tr><tr><td style='background-color: white; width: 30px; height: 30px; text-align: center; font-size: 20px; border: 1px solid black;border-top: 5px solid black;'> </td><td style='background-color: rgb(226, 114, 91); width: 30px; height: 30px; text-align: center; font-size: 20px; border: 1px solid black;border-top: 5px solid black;'>6</td><td style='background-color: white; width: 30px; height: 30px; text-align: center; font-size: 20px; border: 1px solid black;border-top: 5px solid black;'> </td><td style='background-color: white; width: 30px; height: 30px; text-align: center; font-size: 20px; border: 1px solid black;border-top: 5px solid black;border-left: 5px solid black;'> </td><td style='background-color: white; width: 30px; height: 30px; text-align: center; font-size: 20px; border: 1px solid black;border-top: 5px solid black;'> </td><td style='background-color: white; width: 30px; height: 30px; text-align: center; font-size: 20px; border: 1px solid black;border-top: 5px solid black;'> </td><td style='background-color: rgb(226, 114, 91); width: 30px; height: 30px; text-align: center; font-size: 20px; border: 1px solid black;border-top: 5px solid black;border-left: 5px solid black;'>2</td><td style='background-color: rgb(226, 114, 91); width: 30px; height: 30px; text-align: center; font-size: 20px; border: 1px solid black;border-top: 5px solid black;'>8</td><td style='background-color: white; width: 30px; height: 30px; text-align: center; font-size: 20px; border: 1px solid black;border-top: 5px solid black;'> </td></tr><tr><td style='background-color: white; width: 30px; height: 30px; text-align: center; font-size: 20px; border: 1px solid black;'> </td><td style='background-color: white; width: 30px; height: 30px; text-align: center; font-size: 20px; border: 1px solid black;'> </td><td style='background-color: white; width: 30px; height: 30px; text-align: center; font-size: 20px; border: 1px solid black;'> </td><td style='background-color: rgb(226, 114, 91); width: 30px; height: 30px; text-align: center; font-size: 20px; border: 1px solid black;border-left: 5px solid black;'>4</td><td style='background-color: rgb(226, 114, 91); width: 30px; height: 30px; text-align: center; font-size: 20px; border: 1px solid black;'>1</td><td style='background-color: rgb(226, 114, 91); width: 30px; height: 30px; text-align: center; font-size: 20px; border: 1px solid black;'>9</td><td style='background-color: white; width: 30px; height: 30px; text-align: center; font-size: 20px; border: 1px solid black;border-left: 5px solid black;'> </td><td style='background-color: white; width: 30px; height: 30px; text-align: center; font-size: 20px; border: 1px solid black;'> </td><td style='background-color: rgb(226, 114, 91); width: 30px; height: 30px; text-align: center; font-size: 20px; border: 1px solid black;'>5</td></tr><tr><td style='background-color: white; width: 30px; height: 30px; text-align: center; font-size: 20px; border: 1px solid black;'> </td><td style='background-color: white; width: 30px; height: 30px; text-align: center; font-size: 20px; border: 1px solid black;'> </td><td style='background-color: white; width: 30px; height: 30px; text-align: center; font-size: 20px; border: 1px solid black;'> </td><td style='background-color: white; width: 30px; height: 30px; text-align: center; font-size: 20px; border: 1px solid black;border-left: 5px solid black;'> </td><td style='background-color: rgb(226, 114, 91); width: 30px; height: 30px; text-align: center; font-size: 20px; border: 1px solid black;'>8</td><td style='background-color: white; width: 30px; height: 30px; text-align: center; font-size: 20px; border: 1px solid black;'> </td><td style='background-color: white; width: 30px; height: 30px; text-align: center; font-size: 20px; border: 1px solid black;border-left: 5px solid black;'> </td><td style='background-color: rgb(226, 114, 91); width: 30px; height: 30px; text-align: center; font-size: 20px; border: 1px solid black;'>7</td><td style='background-color: rgb(226, 114, 91); width: 30px; height: 30px; text-align: center; font-size: 20px; border: 1px solid black;'>9</td></tr></table>"
            ],
            "text/plain": [
              "<IPython.core.display.HTML object>"
            ]
          },
          "metadata": {},
          "output_type": "display_data"
        },
        {
          "name": "stdout",
          "output_type": "stream",
          "text": [
            "Solution Sudoku\n"
          ]
        },
        {
          "data": {
            "text/html": [
              "<table><tr><td style='background-color: rgb(226, 114, 91); width: 30px; height: 30px; text-align: center; font-size: 20px; border: 1px solid black;'>5</td><td style='background-color: rgb(226, 114, 91); width: 30px; height: 30px; text-align: center; font-size: 20px; border: 1px solid black;'>3</td><td style='background-color: rgb(226, 114, 91); width: 30px; height: 30px; text-align: center; font-size: 20px; border: 1px solid black;'>4</td><td style='background-color: rgb(226, 114, 91); width: 30px; height: 30px; text-align: center; font-size: 20px; border: 1px solid black;border-left: 5px solid black;'>6</td><td style='background-color: rgb(226, 114, 91); width: 30px; height: 30px; text-align: center; font-size: 20px; border: 1px solid black;'>7</td><td style='background-color: rgb(226, 114, 91); width: 30px; height: 30px; text-align: center; font-size: 20px; border: 1px solid black;'>8</td><td style='background-color: rgb(226, 114, 91); width: 30px; height: 30px; text-align: center; font-size: 20px; border: 1px solid black;border-left: 5px solid black;'>9</td><td style='background-color: rgb(226, 114, 91); width: 30px; height: 30px; text-align: center; font-size: 20px; border: 1px solid black;'>1</td><td style='background-color: rgb(226, 114, 91); width: 30px; height: 30px; text-align: center; font-size: 20px; border: 1px solid black;'>2</td></tr><tr><td style='background-color: rgb(226, 114, 91); width: 30px; height: 30px; text-align: center; font-size: 20px; border: 1px solid black;'>6</td><td style='background-color: rgb(226, 114, 91); width: 30px; height: 30px; text-align: center; font-size: 20px; border: 1px solid black;'>7</td><td style='background-color: rgb(226, 114, 91); width: 30px; height: 30px; text-align: center; font-size: 20px; border: 1px solid black;'>2</td><td style='background-color: rgb(226, 114, 91); width: 30px; height: 30px; text-align: center; font-size: 20px; border: 1px solid black;border-left: 5px solid black;'>1</td><td style='background-color: rgb(226, 114, 91); width: 30px; height: 30px; text-align: center; font-size: 20px; border: 1px solid black;'>9</td><td style='background-color: rgb(226, 114, 91); width: 30px; height: 30px; text-align: center; font-size: 20px; border: 1px solid black;'>5</td><td style='background-color: rgb(226, 114, 91); width: 30px; height: 30px; text-align: center; font-size: 20px; border: 1px solid black;border-left: 5px solid black;'>3</td><td style='background-color: rgb(226, 114, 91); width: 30px; height: 30px; text-align: center; font-size: 20px; border: 1px solid black;'>4</td><td style='background-color: rgb(226, 114, 91); width: 30px; height: 30px; text-align: center; font-size: 20px; border: 1px solid black;'>8</td></tr><tr><td style='background-color: rgb(226, 114, 91); width: 30px; height: 30px; text-align: center; font-size: 20px; border: 1px solid black;'>1</td><td style='background-color: rgb(226, 114, 91); width: 30px; height: 30px; text-align: center; font-size: 20px; border: 1px solid black;'>9</td><td style='background-color: rgb(226, 114, 91); width: 30px; height: 30px; text-align: center; font-size: 20px; border: 1px solid black;'>8</td><td style='background-color: rgb(226, 114, 91); width: 30px; height: 30px; text-align: center; font-size: 20px; border: 1px solid black;border-left: 5px solid black;'>3</td><td style='background-color: rgb(226, 114, 91); width: 30px; height: 30px; text-align: center; font-size: 20px; border: 1px solid black;'>4</td><td style='background-color: rgb(226, 114, 91); width: 30px; height: 30px; text-align: center; font-size: 20px; border: 1px solid black;'>2</td><td style='background-color: rgb(226, 114, 91); width: 30px; height: 30px; text-align: center; font-size: 20px; border: 1px solid black;border-left: 5px solid black;'>5</td><td style='background-color: rgb(226, 114, 91); width: 30px; height: 30px; text-align: center; font-size: 20px; border: 1px solid black;'>6</td><td style='background-color: rgb(226, 114, 91); width: 30px; height: 30px; text-align: center; font-size: 20px; border: 1px solid black;'>7</td></tr><tr><td style='background-color: rgb(226, 114, 91); width: 30px; height: 30px; text-align: center; font-size: 20px; border: 1px solid black;border-top: 5px solid black;'>8</td><td style='background-color: rgb(226, 114, 91); width: 30px; height: 30px; text-align: center; font-size: 20px; border: 1px solid black;border-top: 5px solid black;'>5</td><td style='background-color: rgb(226, 114, 91); width: 30px; height: 30px; text-align: center; font-size: 20px; border: 1px solid black;border-top: 5px solid black;'>9</td><td style='background-color: rgb(226, 114, 91); width: 30px; height: 30px; text-align: center; font-size: 20px; border: 1px solid black;border-top: 5px solid black;border-left: 5px solid black;'>7</td><td style='background-color: rgb(226, 114, 91); width: 30px; height: 30px; text-align: center; font-size: 20px; border: 1px solid black;border-top: 5px solid black;'>6</td><td style='background-color: rgb(226, 114, 91); width: 30px; height: 30px; text-align: center; font-size: 20px; border: 1px solid black;border-top: 5px solid black;'>1</td><td style='background-color: rgb(226, 114, 91); width: 30px; height: 30px; text-align: center; font-size: 20px; border: 1px solid black;border-top: 5px solid black;border-left: 5px solid black;'>4</td><td style='background-color: rgb(226, 114, 91); width: 30px; height: 30px; text-align: center; font-size: 20px; border: 1px solid black;border-top: 5px solid black;'>2</td><td style='background-color: rgb(226, 114, 91); width: 30px; height: 30px; text-align: center; font-size: 20px; border: 1px solid black;border-top: 5px solid black;'>3</td></tr><tr><td style='background-color: rgb(226, 114, 91); width: 30px; height: 30px; text-align: center; font-size: 20px; border: 1px solid black;'>4</td><td style='background-color: rgb(226, 114, 91); width: 30px; height: 30px; text-align: center; font-size: 20px; border: 1px solid black;'>2</td><td style='background-color: rgb(226, 114, 91); width: 30px; height: 30px; text-align: center; font-size: 20px; border: 1px solid black;'>6</td><td style='background-color: rgb(226, 114, 91); width: 30px; height: 30px; text-align: center; font-size: 20px; border: 1px solid black;border-left: 5px solid black;'>8</td><td style='background-color: rgb(226, 114, 91); width: 30px; height: 30px; text-align: center; font-size: 20px; border: 1px solid black;'>5</td><td style='background-color: rgb(226, 114, 91); width: 30px; height: 30px; text-align: center; font-size: 20px; border: 1px solid black;'>3</td><td style='background-color: rgb(226, 114, 91); width: 30px; height: 30px; text-align: center; font-size: 20px; border: 1px solid black;border-left: 5px solid black;'>7</td><td style='background-color: rgb(226, 114, 91); width: 30px; height: 30px; text-align: center; font-size: 20px; border: 1px solid black;'>9</td><td style='background-color: rgb(226, 114, 91); width: 30px; height: 30px; text-align: center; font-size: 20px; border: 1px solid black;'>1</td></tr><tr><td style='background-color: rgb(226, 114, 91); width: 30px; height: 30px; text-align: center; font-size: 20px; border: 1px solid black;'>7</td><td style='background-color: rgb(226, 114, 91); width: 30px; height: 30px; text-align: center; font-size: 20px; border: 1px solid black;'>1</td><td style='background-color: rgb(226, 114, 91); width: 30px; height: 30px; text-align: center; font-size: 20px; border: 1px solid black;'>3</td><td style='background-color: rgb(226, 114, 91); width: 30px; height: 30px; text-align: center; font-size: 20px; border: 1px solid black;border-left: 5px solid black;'>9</td><td style='background-color: rgb(226, 114, 91); width: 30px; height: 30px; text-align: center; font-size: 20px; border: 1px solid black;'>2</td><td style='background-color: rgb(226, 114, 91); width: 30px; height: 30px; text-align: center; font-size: 20px; border: 1px solid black;'>4</td><td style='background-color: rgb(226, 114, 91); width: 30px; height: 30px; text-align: center; font-size: 20px; border: 1px solid black;border-left: 5px solid black;'>8</td><td style='background-color: rgb(226, 114, 91); width: 30px; height: 30px; text-align: center; font-size: 20px; border: 1px solid black;'>5</td><td style='background-color: rgb(226, 114, 91); width: 30px; height: 30px; text-align: center; font-size: 20px; border: 1px solid black;'>6</td></tr><tr><td style='background-color: rgb(226, 114, 91); width: 30px; height: 30px; text-align: center; font-size: 20px; border: 1px solid black;border-top: 5px solid black;'>9</td><td style='background-color: rgb(226, 114, 91); width: 30px; height: 30px; text-align: center; font-size: 20px; border: 1px solid black;border-top: 5px solid black;'>6</td><td style='background-color: rgb(226, 114, 91); width: 30px; height: 30px; text-align: center; font-size: 20px; border: 1px solid black;border-top: 5px solid black;'>1</td><td style='background-color: rgb(226, 114, 91); width: 30px; height: 30px; text-align: center; font-size: 20px; border: 1px solid black;border-top: 5px solid black;border-left: 5px solid black;'>5</td><td style='background-color: rgb(226, 114, 91); width: 30px; height: 30px; text-align: center; font-size: 20px; border: 1px solid black;border-top: 5px solid black;'>3</td><td style='background-color: rgb(226, 114, 91); width: 30px; height: 30px; text-align: center; font-size: 20px; border: 1px solid black;border-top: 5px solid black;'>7</td><td style='background-color: rgb(226, 114, 91); width: 30px; height: 30px; text-align: center; font-size: 20px; border: 1px solid black;border-top: 5px solid black;border-left: 5px solid black;'>2</td><td style='background-color: rgb(226, 114, 91); width: 30px; height: 30px; text-align: center; font-size: 20px; border: 1px solid black;border-top: 5px solid black;'>8</td><td style='background-color: rgb(226, 114, 91); width: 30px; height: 30px; text-align: center; font-size: 20px; border: 1px solid black;border-top: 5px solid black;'>4</td></tr><tr><td style='background-color: rgb(226, 114, 91); width: 30px; height: 30px; text-align: center; font-size: 20px; border: 1px solid black;'>2</td><td style='background-color: rgb(226, 114, 91); width: 30px; height: 30px; text-align: center; font-size: 20px; border: 1px solid black;'>8</td><td style='background-color: rgb(226, 114, 91); width: 30px; height: 30px; text-align: center; font-size: 20px; border: 1px solid black;'>7</td><td style='background-color: rgb(226, 114, 91); width: 30px; height: 30px; text-align: center; font-size: 20px; border: 1px solid black;border-left: 5px solid black;'>4</td><td style='background-color: rgb(226, 114, 91); width: 30px; height: 30px; text-align: center; font-size: 20px; border: 1px solid black;'>1</td><td style='background-color: rgb(226, 114, 91); width: 30px; height: 30px; text-align: center; font-size: 20px; border: 1px solid black;'>9</td><td style='background-color: rgb(226, 114, 91); width: 30px; height: 30px; text-align: center; font-size: 20px; border: 1px solid black;border-left: 5px solid black;'>6</td><td style='background-color: rgb(226, 114, 91); width: 30px; height: 30px; text-align: center; font-size: 20px; border: 1px solid black;'>3</td><td style='background-color: rgb(226, 114, 91); width: 30px; height: 30px; text-align: center; font-size: 20px; border: 1px solid black;'>5</td></tr><tr><td style='background-color: rgb(226, 114, 91); width: 30px; height: 30px; text-align: center; font-size: 20px; border: 1px solid black;'>3</td><td style='background-color: rgb(226, 114, 91); width: 30px; height: 30px; text-align: center; font-size: 20px; border: 1px solid black;'>4</td><td style='background-color: rgb(226, 114, 91); width: 30px; height: 30px; text-align: center; font-size: 20px; border: 1px solid black;'>5</td><td style='background-color: rgb(226, 114, 91); width: 30px; height: 30px; text-align: center; font-size: 20px; border: 1px solid black;border-left: 5px solid black;'>2</td><td style='background-color: rgb(226, 114, 91); width: 30px; height: 30px; text-align: center; font-size: 20px; border: 1px solid black;'>8</td><td style='background-color: rgb(226, 114, 91); width: 30px; height: 30px; text-align: center; font-size: 20px; border: 1px solid black;'>6</td><td style='background-color: rgb(226, 114, 91); width: 30px; height: 30px; text-align: center; font-size: 20px; border: 1px solid black;border-left: 5px solid black;'>1</td><td style='background-color: rgb(226, 114, 91); width: 30px; height: 30px; text-align: center; font-size: 20px; border: 1px solid black;'>7</td><td style='background-color: rgb(226, 114, 91); width: 30px; height: 30px; text-align: center; font-size: 20px; border: 1px solid black;'>9</td></tr></table>"
            ],
            "text/plain": [
              "<IPython.core.display.HTML object>"
            ]
          },
          "metadata": {},
          "output_type": "display_data"
        }
      ],
      "source": [
        "# Créer une instance de Sudoku\n",
        "print('Initial Sudoku')\n",
        "visualize_sudoku(grid)\n",
        "\n",
        "# Solving sudoku\n",
        "solution = solve_sudoku_csp(grid)\n",
        "print('Solution Sudoku')\n",
        "visualize_sudoku(solution)"
      ]
    },
    {
      "cell_type": "markdown",
      "metadata": {
        "id": "1GiLuVoiESLN"
      },
      "source": [
        "# **Partie 2 : Comparaison CSP vs SAT**"
      ]
    },
    {
      "cell_type": "markdown",
      "metadata": {
        "id": "fn9-LoE7PapU"
      },
      "source": [
        "Nous allons comparer les deux solveurs sur 10 sudokus differents. Pour cela, voici 10 grilles."
      ]
    },
    {
      "cell_type": "code",
      "execution_count": null,
      "metadata": {
        "id": "-5CLXNs7QDlG"
      },
      "outputs": [],
      "source": [
        "grid1 = [\n",
        "    [5, 3, 0, 0, 7, 0, 0, 0, 0],\n",
        "    [6, 0, 0, 1, 9, 5, 0, 0, 0],\n",
        "    [0, 9, 8, 0, 0, 0, 0, 6, 0],\n",
        "    [8, 0, 0, 0, 6, 0, 0, 0, 3],\n",
        "    [4, 0, 0, 8, 0, 3, 0, 0, 1],\n",
        "    [7, 0, 0, 0, 2, 0, 0, 0, 6],\n",
        "    [0, 6, 0, 0, 0, 0, 2, 8, 0],\n",
        "    [0, 0, 0, 4, 1, 9, 0, 0, 5],\n",
        "    [0, 0, 0, 0, 8, 0, 0, 7, 9]\n",
        "]"
      ]
    },
    {
      "cell_type": "code",
      "execution_count": null,
      "metadata": {
        "id": "TkVn-xNSQEKC"
      },
      "outputs": [],
      "source": [
        "grid2 = [\n",
        "    [0, 0, 3, 0, 2, 0, 6, 0, 0],\n",
        "    [9, 0, 0, 3, 0, 5, 0, 0, 1],\n",
        "    [0, 0, 1, 8, 0, 6, 4, 0, 0],\n",
        "    [0, 0, 8, 1, 0, 2, 9, 0, 0],\n",
        "    [7, 0, 0, 0, 0, 0, 0, 0, 8],\n",
        "    [0, 0, 6, 7, 0, 8, 2, 0, 0],\n",
        "    [0, 0, 2, 6, 0, 9, 5, 0, 0],\n",
        "    [8, 0, 0, 2, 0, 3, 0, 0, 9],\n",
        "    [0, 0, 5, 0, 1, 0, 3, 0, 0]\n",
        "]"
      ]
    },
    {
      "cell_type": "code",
      "execution_count": null,
      "metadata": {
        "id": "XgBm1CoaQEkZ"
      },
      "outputs": [],
      "source": [
        "grid3 = [\n",
        "    [0, 2, 0, 6, 0, 8, 0, 0, 0],\n",
        "    [5, 8, 0, 0, 0, 9, 7, 0, 0],\n",
        "    [0, 0, 0, 0, 4, 0, 0, 0, 0],\n",
        "    [3, 7, 0, 0, 0, 0, 5, 0, 0],\n",
        "    [6, 0, 0, 0, 0, 0, 0, 0, 4],\n",
        "    [0, 0, 8, 0, 0, 0, 0, 1, 3],\n",
        "    [0, 0, 0, 0, 2, 0, 0, 0, 0],\n",
        "    [0, 0, 9, 8, 0, 0, 0, 3, 6],\n",
        "    [0, 0, 0, 3, 0, 6, 0, 9, 0]\n",
        "]"
      ]
    },
    {
      "cell_type": "code",
      "execution_count": null,
      "metadata": {
        "id": "GDegv9oOQE-o"
      },
      "outputs": [],
      "source": [
        "grid4 = [\n",
        "    [0, 0, 5, 3, 0, 0, 0, 0, 0],\n",
        "    [8, 0, 0, 0, 0, 0, 0, 2, 0],\n",
        "    [0, 7, 0, 0, 1, 0, 5, 0, 0],\n",
        "    [4, 0, 0, 0, 0, 5, 3, 0, 0],\n",
        "    [0, 1, 0, 0, 7, 0, 0, 0, 6],\n",
        "    [0, 0, 3, 2, 0, 0, 0, 8, 0],\n",
        "    [0, 6, 0, 5, 0, 0, 0, 0, 9],\n",
        "    [0, 0, 4, 0, 0, 0, 0, 3, 0],\n",
        "    [0, 0, 0, 0, 0, 9, 7, 0, 0]\n",
        "]"
      ]
    },
    {
      "cell_type": "code",
      "execution_count": null,
      "metadata": {
        "id": "dcpkXhBYQFbY"
      },
      "outputs": [],
      "source": [
        "grid5 = [\n",
        "    [8, 0, 0, 0, 0, 0, 0, 0, 0],\n",
        "    [0, 0, 3, 6, 0, 0, 0, 0, 0],\n",
        "    [0, 7, 0, 0, 9, 0, 2, 0, 0],\n",
        "    [0, 5, 0, 0, 0, 7, 0, 0, 0],\n",
        "    [0, 0, 0, 0, 4, 5, 7, 0, 0],\n",
        "    [0, 0, 0, 1, 0, 0, 0, 3, 0],\n",
        "    [0, 0, 1, 0, 0, 0, 0, 6, 8],\n",
        "    [0, 0, 8, 5, 0, 0, 0, 1, 0],\n",
        "    [0, 9, 0, 0, 0, 0, 4, 0, 0]\n",
        "]"
      ]
    },
    {
      "cell_type": "code",
      "execution_count": null,
      "metadata": {
        "id": "akg5LpODQGJd"
      },
      "outputs": [],
      "source": [
        "grid6 = [\n",
        "    [0, 0, 0, 6, 0, 0, 4, 0, 0],\n",
        "    [7, 0, 0, 0, 0, 3, 6, 0, 0],\n",
        "    [0, 0, 0, 0, 9, 1, 0, 8, 0],\n",
        "    [0, 0, 0, 0, 0, 0, 0, 0, 0],\n",
        "    [0, 5, 0, 1, 8, 0, 0, 0, 3],\n",
        "    [0, 0, 0, 3, 0, 6, 0, 4, 5],\n",
        "    [0, 4, 0, 2, 0, 0, 0, 6, 0],\n",
        "    [9, 0, 3, 0, 0, 0, 0, 0, 0],\n",
        "    [0, 2, 0, 0, 0, 0, 1, 0, 0]\n",
        "]"
      ]
    },
    {
      "cell_type": "code",
      "execution_count": null,
      "metadata": {
        "id": "oXdewypsQHN4"
      },
      "outputs": [],
      "source": [
        "grid7 = [\n",
        "    [0, 2, 0, 0, 0, 0, 0, 0, 0],\n",
        "    [0, 0, 0, 6, 0, 0, 0, 0, 3],\n",
        "    [0, 7, 4, 0, 8, 0, 0, 0, 0],\n",
        "    [0, 0, 0, 0, 0, 3, 0, 0, 2],\n",
        "    [0, 8, 0, 0, 4, 0, 0, 1, 0],\n",
        "    [6, 0, 0, 5, 0, 0, 0, 0, 0],\n",
        "    [0, 0, 0, 0, 1, 0, 7, 8, 0],\n",
        "    [5, 0, 0, 0, 0, 9, 0, 0, 0],\n",
        "    [0, 0, 0, 0, 0, 0, 0, 4, 0]\n",
        "]"
      ]
    },
    {
      "cell_type": "code",
      "execution_count": null,
      "metadata": {
        "id": "e6ul940YQHpA"
      },
      "outputs": [],
      "source": [
        "grid8 = [\n",
        "    [0, 0, 0, 0, 0, 0, 0, 0, 0],\n",
        "    [0, 0, 0, 0, 0, 3, 0, 8, 5],\n",
        "    [0, 0, 1, 0, 2, 0, 0, 0, 0],\n",
        "    [0, 0, 0, 5, 0, 7, 0, 0, 0],\n",
        "    [0, 0, 4, 0, 0, 0, 1, 0, 0],\n",
        "    [0, 9, 0, 0, 0, 0, 0, 0, 0],\n",
        "    [5, 0, 0, 0, 0, 0, 0, 7, 3],\n",
        "    [0, 0, 2, 0, 1, 0, 0, 0, 0],\n",
        "    [0, 0, 0, 0, 4, 0, 0, 0, 9]\n",
        "]"
      ]
    },
    {
      "cell_type": "code",
      "execution_count": null,
      "metadata": {
        "id": "hxw9qns3QIDD"
      },
      "outputs": [],
      "source": [
        "grid9 = [\n",
        "    [0, 0, 0, 2, 6, 0, 7, 0, 1],\n",
        "    [6, 8, 0, 0, 7, 0, 0, 9, 0],\n",
        "    [1, 9, 0, 0, 0, 4, 5, 0, 0],\n",
        "    [8, 2, 0, 1, 0, 0, 0, 4, 0],\n",
        "    [0, 0, 4, 6, 0, 2, 9, 0, 0],\n",
        "    [0, 5, 0, 0, 0, 3, 0, 2, 8],\n",
        "    [0, 0, 9, 3, 0, 0, 0, 7, 4],\n",
        "    [0, 4, 0, 0, 5, 0, 0, 3, 6],\n",
        "    [7, 0, 3, 0, 1, 8, 0, 0, 0]\n",
        "]"
      ]
    },
    {
      "cell_type": "code",
      "execution_count": null,
      "metadata": {
        "id": "u4unj3I2QIXH"
      },
      "outputs": [],
      "source": [
        "grid10 = [\n",
        "    [0, 2, 0, 0, 0, 0, 0, 0, 0],\n",
        "    [0, 0, 0, 6, 0, 0, 0, 0, 3],\n",
        "    [0, 7, 4, 0, 8, 0, 0, 0, 0],\n",
        "    [0, 0, 0, 0, 0, 3, 0, 0, 2],\n",
        "    [0, 8, 0, 0, 4, 0, 0, 1, 0],\n",
        "    [6, 0, 0, 5, 0, 0, 0, 0, 0],\n",
        "    [0, 0, 0, 0, 1, 0, 7, 8, 0],\n",
        "    [5, 0, 0, 0, 0, 9, 0, 0, 0],\n",
        "    [0, 0, 0, 0, 0, 0, 0, 4, 0]\n",
        "]"
      ]
    },
    {
      "cell_type": "markdown",
      "metadata": {
        "id": "DPRqZ5VtQUDQ"
      },
      "source": [
        "### **Exercice 6**\n",
        "\n",
        "Créez une fonction comparer_solveurs qui prend comme entrée une liste de grilles, résout tous les jeux avec les deux solveurs, enregistre le temps d'exécution à chaque fois, et retourne les résultats sous forme de DataFrame.\n",
        "\n",
        "Utilisez cette fonction pour résoudre tous les jeux et affichez ensuite les résultats."
      ]
    },
    {
      "cell_type": "code",
      "execution_count": null,
      "metadata": {
        "colab": {
          "base_uri": "https://localhost:8080/"
        },
        "id": "o3WyAsbvPUCJ",
        "outputId": "0edc02d5-e8d7-454e-836a-36f430bc18da"
      },
      "outputs": [
        {
          "name": "stdout",
          "output_type": "stream",
          "text": [
            "Solving Sudoku 1...\n",
            "CSP Solver\n",
            "SAT Solver\n",
            "Solving Sudoku 2...\n",
            "CSP Solver\n",
            "SAT Solver\n",
            "Solving Sudoku 3...\n",
            "CSP Solver\n",
            "SAT Solver\n",
            "Solving Sudoku 4...\n",
            "CSP Solver\n",
            "SAT Solver\n",
            "Solving Sudoku 5...\n",
            "CSP Solver\n",
            "SAT Solver\n",
            "Solving Sudoku 6...\n",
            "CSP Solver\n",
            "SAT Solver\n",
            "Solving Sudoku 7...\n",
            "CSP Solver\n",
            "SAT Solver\n",
            "Solving Sudoku 8...\n",
            "CSP Solver\n",
            "SAT Solver\n",
            "Solving Sudoku 9...\n",
            "CSP Solver\n",
            "SAT Solver\n",
            "Solving Sudoku 10...\n",
            "CSP Solver\n",
            "SAT Solver\n",
            "Finished !\n"
          ]
        }
      ],
      "source": [
        "import time\n",
        "import pandas as pd\n",
        "\n",
        "def comparer_solveurs(grids):\n",
        "    results = []\n",
        "    for l, grid in enumerate(grids):\n",
        "        print(f\"Solving Sudoku {l + 1}...\")\n",
        "        # CSP Solver\n",
        "        print(\"CSP Solver\")\n",
        "        start_time = time.time()\n",
        "        csp_solution = solve_sudoku_csp(grid)\n",
        "        csp_time = time.time() - start_time\n",
        "\n",
        "        # SAT Solver\n",
        "        print(\"SAT Solver\")\n",
        "        start_time = time.time()\n",
        "        sudoku_sat = Sudoku_SAT(grid)\n",
        "        solver = Glucose3()\n",
        "        solver.append_formula(sudoku_sat.cnf)\n",
        "        is_satisfiable = solver.solve()\n",
        "\n",
        "        if is_satisfiable:\n",
        "            sat_solution = solver.get_model()\n",
        "            sat_time = time.time() - start_time\n",
        "\n",
        "            # Process the solution to extract Sudoku values\n",
        "            sat_solution_grid = [[0 for _ in range(9)] for _ in range(9)]\n",
        "            var_count = 0\n",
        "            for i in range(9):\n",
        "                for j in range(9):\n",
        "                    for k in range(1, 10):\n",
        "                        if sat_solution[var_count] > 0:\n",
        "                            sat_solution_grid[i][j] = k\n",
        "                            break\n",
        "                        var_count += 1\n",
        "        else:\n",
        "            sat_solution_grid = None\n",
        "            sat_time = float('inf')\n",
        "\n",
        "        results.append([f\"Sudoku {l + 1}\", round(csp_time,3), round(sat_time,3)])\n",
        "\n",
        "    df = pd.DataFrame(results, columns=[\"Sudoku\", \"CSP Time (s)\", \"SAT Time (s)\"])\n",
        "    return df\n",
        "\n",
        "grids = [grid1, grid2, grid3, grid4, grid5, grid6, grid7, grid8, grid9, grid10]\n",
        "df_results = comparer_solveurs(grids)\n",
        "print('Finished !')"
      ]
    },
    {
      "cell_type": "code",
      "execution_count": null,
      "metadata": {
        "colab": {
          "base_uri": "https://localhost:8080/"
        },
        "id": "Q-B0Dt8sSOG5",
        "outputId": "d8155d08-02ef-403c-9a7a-f31e1344c3cd"
      },
      "outputs": [
        {
          "name": "stdout",
          "output_type": "stream",
          "text": [
            "+---+-----------+--------------+--------------+\n",
            "|   |  Sudoku   | CSP Time (s) | SAT Time (s) |\n",
            "+---+-----------+--------------+--------------+\n",
            "| 0 | Sudoku 1  |    0.008     |    0.024     |\n",
            "| 1 | Sudoku 2  |     0.01     |    0.016     |\n",
            "| 2 | Sudoku 3  |    0.219     |    0.092     |\n",
            "| 3 | Sudoku 4  |    0.102     |     0.45     |\n",
            "| 4 | Sudoku 5  |    1.249     |    0.787     |\n",
            "| 5 | Sudoku 6  |    0.703     |    0.435     |\n",
            "| 6 | Sudoku 7  |    0.951     |    0.429     |\n",
            "| 7 | Sudoku 8  |    5.983     |    0.531     |\n",
            "| 8 | Sudoku 9  |    0.011     |    0.012     |\n",
            "| 9 | Sudoku 10 |    0.958     |     0.45     |\n",
            "+---+-----------+--------------+--------------+\n"
          ]
        }
      ],
      "source": [
        "from tabulate import tabulate\n",
        "print(tabulate(df_results, headers = 'keys', tablefmt = 'pretty'))"
      ]
    }
  ],
  "metadata": {
    "colab": {
      "provenance": []
    },
    "kernelspec": {
      "display_name": "Python 3",
      "language": "python",
      "name": "python3"
    },
    "language_info": {
      "codemirror_mode": {
        "name": "ipython",
        "version": 3
      },
      "file_extension": ".py",
      "mimetype": "text/x-python",
      "name": "python",
      "nbconvert_exporter": "python",
      "pygments_lexer": "ipython3",
      "version": "3.7.1"
    }
  },
  "nbformat": 4,
  "nbformat_minor": 0
}