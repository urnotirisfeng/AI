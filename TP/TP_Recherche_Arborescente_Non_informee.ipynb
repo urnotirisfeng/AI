{
 "cells": [
  {
   "cell_type": "markdown",
   "metadata": {
    "id": "z1ZZO867DPns"
   },
   "source": [
    "# TP Intelligence Artificielle - Recherche Arborescente Non Informée"
   ]
  },
  {
   "cell_type": "markdown",
   "metadata": {
    "id": "e0U1iKP5iYhS"
   },
   "source": [
    "# **Partie 0 : Visualisation des états**\n",
    "\n",
    "## Voici une fonction pour visualiser les états. Nous l'utiliserons plus tard."
   ]
  },
  {
   "cell_type": "code",
   "execution_count": 1,
   "metadata": {
    "id": "0NOv3pIKKDjt"
   },
   "outputs": [],
   "source": [
    "from IPython.display import display, HTML\n",
    "\n",
    "def visualize_state(state):\n",
    "    \"\"\"Visualizes the given state of the Taquin using HTML.\"\"\"\n",
    "    html = \"<table>\"\n",
    "    for row in state:\n",
    "        html += \"<tr>\"\n",
    "        for tile in row:\n",
    "            if tile == 0:\n",
    "                html += \"<td style='background-color: lightgray; width: 30px; height: 30px; text-align: center; font-size: 20px;'> </td>\"  # Blank tile\n",
    "            else:\n",
    "                html += f\"<td style='background-color: lightblue; width: 30px; height: 30px; text-align: center; font-size: 20px;'>{tile}</td>\"\n",
    "        html += \"</tr>\"\n",
    "    html += \"</table>\"\n",
    "    display(HTML(html))"
   ]
  },
  {
   "cell_type": "markdown",
   "metadata": {
    "id": "1KZupDzfF_2a"
   },
   "source": [
    "# **Partie 1 : Modélisation**"
   ]
  },
  {
   "cell_type": "markdown",
   "metadata": {
    "id": "_lkQ2v3vDnOM"
   },
   "source": [
    "### Nous allons créer deux classes pour modeliser le taquin en espace d'états.\n",
    "\n",
    "1. **Taquin** : Cette classe représente le problème du jeu du Taquin. Elle contient :\n",
    "\n",
    "  * Attributs:\n",
    "\n",
    "      * initial_state : L'état initial du Taquin, représenté par une liste de listes. Chaque sous-liste représente une ligne du Taquin, et chaque élément de la sous-liste représente une tuile. La tuile vide est représentée par le chiffre 0.\n",
    "      * goal_state : L'état but du Taquin, représenté de la même manière que l'état initial.\n",
    "      * size : La taille du Taquin (par exemple, 3 pour un Taquin 3x3, 4 pour un Taquin 4x4).\n",
    "\n",
    "  * Méthodes:\n",
    "\n",
    "      * actions(state) : Cette méthode prend un état du Taquin en entrée et retourne une liste des actions possibles à partir de cet état. Les actions possibles sont \"haut\", \"bas\", \"gauche\" et \"droite\", représentant les mouvements possibles de la tuile vide.\n",
    "      * result(state, action) : Cette méthode prend un état et une action en entrée et retourne le nouvel état du Taquin après avoir appliqué l'action à l'état.\n",
    "      * is_goal(state) : Cette méthode prend un état en entrée et retourne True si cet état est l'état but, False sinon.\n",
    "      * cost(state, action) : Cette méthode retourne le coût de l'application d'une action à un état donné. Dans le cas du Taquin, le coût est généralement constant et égal à 1 pour chaque action.\n",
    "  \n",
    "2.   **Node** :  Cette classe représentera un nœud dans l'arbre de recherche. Ces attributs sont :\n",
    "\n",
    "  * state : L'état représenté par ce nœud.\n",
    "  * parent : Un pointeur vers le nœud parent (None pour le nœud racine).\n",
    "  * action : L'action qui a conduit à ce nœud à partir du nœud parent (None pour le nœud racine).\n",
    "  * path_cost : Le coût total du chemin depuis le nœud racine jusqu'à ce nœud (facultatif, pour les algorithmes avec des considérations de coût).\n",
    "  * depth : La profondeur de ce nœud dans l'arbre (facultatif, pour la recherche en profondeur limitée).\n",
    "\n"
   ]
  },
  {
   "cell_type": "markdown",
   "metadata": {
    "id": "JYNB0yoINLAl"
   },
   "source": [
    "--------------------------------------------------------------------------------\n",
    "## **1.1 Classe Taquin**\n",
    "--------------------------------------------------------------------------------"
   ]
  },
  {
   "cell_type": "code",
   "execution_count": 2,
   "metadata": {
    "id": "8X9f92xDIfcD"
   },
   "outputs": [],
   "source": [
    "class Taquin:\n",
    "    \"\"\"\n",
    "    A class representing the Taquin problem.\n",
    "    \"\"\"\n",
    "\n",
    "    def __init__(self, initial_state, goal_state, size):\n",
    "        self.initial_state = initial_state\n",
    "        self.goal_state = goal_state\n",
    "        self.size = size\n",
    "\n",
    "    def actions(self, state):\n",
    "        \"\"\"Returns the possible actions (moves) from the given state.\"\"\"\n",
    "        # Find the position of the blank tile (0)\n",
    "        row, col = next(\n",
    "            (r, c)\n",
    "            for r, row in enumerate(state)\n",
    "            for c, val in enumerate(row)\n",
    "            if val == 0\n",
    "        )\n",
    "\n",
    "        # Define possible moves (up, down, left, right)\n",
    "        possible_actions = []\n",
    "        if row > 0:\n",
    "            possible_actions.append(\"up\")\n",
    "        if row < self.size-1:\n",
    "            possible_actions.append(\"down\")\n",
    "        if col > 0:\n",
    "            possible_actions.append(\"left\")\n",
    "        if col < self.size-1:\n",
    "            possible_actions.append(\"right\")\n",
    "\n",
    "        return possible_actions\n",
    "\n",
    "    def result(self, state, action):\n",
    "        \"\"\"Returns the state that results from applying the given action.\"\"\"\n",
    "        # Create a copy of the state to avoid modifying the original\n",
    "        new_state = [list(row) for row in state]\n",
    "\n",
    "        # Find the position of the blank tile (0)\n",
    "        row, col = next(\n",
    "            (r, c)\n",
    "            for r, row in enumerate(state)\n",
    "            for c, val in enumerate(row)\n",
    "            if val == 0\n",
    "        )\n",
    "\n",
    "        # Apply the action to move the blank tile\n",
    "        if action == \"up\":\n",
    "            new_state[row][col], new_state[row - 1][col] = (\n",
    "                new_state[row - 1][col],\n",
    "                new_state[row][col],\n",
    "            )\n",
    "        elif action == \"down\":\n",
    "            new_state[row][col], new_state[row + 1][col] = (\n",
    "                new_state[row + 1][col],\n",
    "                new_state[row][col],\n",
    "            )\n",
    "        elif action == \"left\":\n",
    "            new_state[row][col], new_state[row][col - 1] = (\n",
    "                new_state[row][col - 1],\n",
    "                new_state[row][col],\n",
    "            )\n",
    "        elif action == \"right\":\n",
    "            new_state[row][col], new_state[row][col + 1] = (\n",
    "                new_state[row][col + 1],\n",
    "                new_state[row][col],\n",
    "            )\n",
    "\n",
    "        return new_state\n",
    "\n",
    "    def is_goal(self, state):\n",
    "        return state == self.goal_state  # Directly compare with goal_state\n",
    "\n",
    "    def cost(self, state, action):\n",
    "        return 1  # Default cost is 1"
   ]
  },
  {
   "cell_type": "markdown",
   "metadata": {
    "id": "t2kvjEw1LSRz"
   },
   "source": [
    "## **Exercise 1**\n",
    "1. Créez un jeu de taquin 4x4 avec un état initial et un état objectif, puis visualisez ces deux états.\n",
    "2. Identifiez les actions possibles à partir de l'état initial.\n",
    "3. Appliquez une des actions possibles et visualisez le nouvel état.\n"
   ]
  },
  {
   "cell_type": "code",
   "execution_count": null,
   "metadata": {},
   "outputs": [],
   "source": []
  },
  {
   "cell_type": "markdown",
   "metadata": {
    "id": "OnmTxCGBM6fJ"
   },
   "source": [
    "--------------------------------------------------------------------------------\n",
    "## **1.2 Classe Node**\n",
    "--------------------------------------------------------------------------------"
   ]
  },
  {
   "cell_type": "code",
   "execution_count": 3,
   "metadata": {
    "id": "dvreTxj-DMER"
   },
   "outputs": [],
   "source": [
    "class Node:\n",
    "    \"\"\"\n",
    "    A node in a search tree.\n",
    "    __init__: Initializes a node with its state, parent, action, path cost, and depth.\n",
    "    __repr__: Provides a string representation of the node.\n",
    "    __lt__: Defines a comparison operator for nodes based on their states.\n",
    "    expand: Generates child nodes by applying all possible actions.\n",
    "    child_node: Creates a single child node for a given action.\n",
    "    solution: Returns the sequence of actions that led to this node.\n",
    "    path: Returns the path from the root to this node as a list of nodes.\n",
    "    \"\"\"\n",
    "\n",
    "    def __init__(self, state, parent=None, action=None, path_cost = 0):\n",
    "        self.state = state\n",
    "        self.parent = parent\n",
    "        self.action = action\n",
    "        self.path_cost = path_cost\n",
    "        self.depth = 0 if parent is None else parent.depth + 1\n",
    "\n",
    "    def expand(self, problem):\n",
    "        \"\"\"List the nodes reachable in one step from this node.\"\"\"\n",
    "        return [\n",
    "            self.child_node(problem, action)\n",
    "            for action in problem.actions(self.state)\n",
    "        ]\n",
    "\n",
    "    def child_node(self, problem, action):\n",
    "        \"\"\"Create a child node by applying the given action.\"\"\"\n",
    "        next_state = problem.result(self.state, action)\n",
    "        next_node = Node(\n",
    "            next_state,\n",
    "            parent=self,\n",
    "            action=action,\n",
    "            path_cost = self.path_cost + problem.cost(self.state, action),\n",
    "        )\n",
    "        return next_node\n",
    "\n",
    "    def solution(self):\n",
    "        \"\"\"Return the sequence of actions to go from the root to this node.\"\"\"\n",
    "        return [node.action for node in self.path()[1:]]\n",
    "\n",
    "    def path(self):\n",
    "        \"\"\"Return a list of nodes forming the path from the root to this node.\"\"\"\n",
    "        node, path_back = self, []\n",
    "        while node:\n",
    "            path_back.append(node)\n",
    "            node = node.parent\n",
    "        return list(reversed(path_back))"
   ]
  },
  {
   "cell_type": "markdown",
   "metadata": {
    "id": "CBNnkXa0NeQT"
   },
   "source": [
    "## **Exercise 2** \n",
    "1. Créez un jeu de taquin 3x3 avec un état initial et un état objectif.\n",
    "2. Créez un nœud représentant l'état initial du jeu.\n",
    "3. Visualisez les enfants de l'état initial.\n",
    "4. Pour chaque enfant, imprimez :\n",
    "    * L'action à effectuer pour passer de l'état initial à cet enfant.\n",
    "    * Le coût associé à cette action.\n",
    "5. Répétez toutes les étapes pour un jeu de taquin 4x4.\n"
   ]
  },
  {
   "cell_type": "code",
   "execution_count": null,
   "metadata": {},
   "outputs": [],
   "source": []
  },
  {
   "cell_type": "markdown",
   "metadata": {
    "id": "6Nxo_uoOP1rw"
   },
   "source": [
    "# **Partie 2 : BFS et DFS**"
   ]
  },
  {
   "cell_type": "markdown",
   "metadata": {
    "id": "AoQqgz_QP-M1"
   },
   "source": [
    "Dans cette 2ème partie nous allons coder les algorithmes de recherche arborescente que nous avons étudiés en cours."
   ]
  },
  {
   "cell_type": "markdown",
   "metadata": {},
   "source": [
    "## **2.1 Breadth First Search**"
   ]
  },
  {
   "cell_type": "markdown",
   "metadata": {
    "id": "6xYzTxRLTrVk"
   },
   "source": [
    "### **Exercice 3** \n",
    "\n",
    "Créer une fonction BFS qui prend un objet problem comme entrée et exécute l'algorithme de recherche en profondeur. Votre fonction doit :\n",
    "\n",
    "1. Retourner le nœud objectif trouvé ainsi que le nombre de nœuds explorés.\n",
    "2. Retourner None si l'algorithme explore tout l'arbre sans trouver le nœud objectif.\n",
    "3. Prendre en compte un budget d'exploration pour arrêter l'algorithme si aucune solution n'est trouvée après plusieurs itérations (utile pour les grands problèmes). Le budget sera également une entrée de la fonction, avec float('inf') comme valeur par défaut.\n",
    "\n",
    "Pour la frontière et l'ensemble des nœuds déjà explorés :\n",
    "* La frontière doit être une liste de nœuds (objets créés par la classe Node).\n",
    "* L'ensemble des nœuds explorés peut être une liste d'états.\n",
    "* Pour sélectionner un élément de la frontière à explorer, utilisez la méthode *pop*. Assurez-vous de toujours prendre le premier élément de la liste.\n",
    "\n",
    "Pour ajouter un élément à une liste, utilisez *liste.append(element)*."
   ]
  },
  {
   "cell_type": "code",
   "execution_count": 4,
   "metadata": {
    "id": "lEKDdi3bTvi1"
   },
   "outputs": [],
   "source": []
  },
  {
   "cell_type": "markdown",
   "metadata": {
    "id": "9c827KIOkVjo"
   },
   "source": [
    "### **Exercice 4**\n",
    "1. Appliquez votre fonction BFS pour résoudre un Taquin 3x3 avec l'état initial\n",
    "   [[1, 2, 3], [4, 5, 6], [0, 7, 8]].\n",
    "   Imprimez :\n",
    "    * Le nombre de nœuds explorés par l'algorithme.\n",
    "    * Le chemin pour passer de l'état initial à l'état objectif (la liste des actions effectuées).\n",
    "    * Les états successifs du chemin (utilisez la fonction visualize_state).\n",
    "3. Répétez la même expérience pour l'état initial [[1, 2, 3], [4, 5, 0], [6, 7, 8]]."
   ]
  },
  {
   "cell_type": "code",
   "execution_count": null,
   "metadata": {
    "colab": {
     "base_uri": "https://localhost:8080/",
     "height": 1000
    },
    "executionInfo": {
     "elapsed": 757,
     "status": "ok",
     "timestamp": 1737577326108,
     "user": {
      "displayName": "Felipe Garrido",
      "userId": "09470540658044428770"
     },
     "user_tz": -60
    },
    "id": "kwf-e5WBT-hk",
    "outputId": "38f256e4-56ef-4a97-9a46-ffcc7ea6bb23",
    "scrolled": true
   },
   "outputs": [],
   "source": []
  },
  {
   "cell_type": "markdown",
   "metadata": {},
   "source": [
    "## **2.2 Depth First Search**"
   ]
  },
  {
   "cell_type": "markdown",
   "metadata": {
    "id": "_J6S1eHWQM6P"
   },
   "source": [
    "### **Exercice 5**\n",
    "Créer une fonction DFS qui prend un objet problem comme entrée et exécute l'algorithme de recherche en profondeur. Votre fonction doit :\n",
    "\n",
    "1. Retourner le nœud objectif trouvé ainsi que le nombre de nœuds explorés.\n",
    "2. Retourner None si l'algorithme explore tout l'arbre sans trouver le nœud objectif.\n",
    "3. Prendre en compte un budget d'exploration pour arrêter l'algorithme si aucune solution n'est trouvée après plusieurs itérations (utile pour les grands problèmes). Le budget sera également une entrée de la fonction, avec float('inf') comme valeur par défaut.\n",
    "\n",
    "Pour la frontière et l'ensemble des nœuds déjà explorés :\n",
    "* La frontière doit être une liste de nœuds (objets créés par la classe Node).\n",
    "* L'ensemble des nœuds explorés peut être une liste d'états.\n",
    "* Pour sélectionner un élément de la frontière à explorer, utilisez la méthode *pop*. Assurez-vous de toujours prendre le dernier élément de la liste.\n",
    "\n",
    "Pour ajouter un élément à une liste, utilisez *liste.append(element)*.\n",
    "\n"
   ]
  },
  {
   "cell_type": "code",
   "execution_count": 5,
   "metadata": {
    "id": "KQ-0P0VNQSwP"
   },
   "outputs": [],
   "source": []
  },
  {
   "cell_type": "markdown",
   "metadata": {
    "id": "_jUoeMzeku_w"
   },
   "source": [
    "### **Exercise 6**\n",
    "1. Appliquez votre fonction DFS pour résoudre un Taquin 3x3 avec l'état initial [[1, 2, 3], [4, 5, 6], [0, 7, 8]]. Imprimez :\n",
    "    * Le nombre de nœuds explorés par l'algorithme.\n",
    "    * Le chemin pour passer de l'état initial à l'état objectif (la liste des actions effectuées).\n",
    "    * Les états successifs du chemin (utilisez la fonction visualize_state).\n",
    "2. Répétez la même expérience pour l'état initial [[1, 2, 3], [4, 5, 0], [6, 7, 8]].\n",
    "3. Qu'observez-vous en comparant cet algorithme avec BFS ?"
   ]
  },
  {
   "cell_type": "code",
   "execution_count": null,
   "metadata": {
    "colab": {
     "base_uri": "https://localhost:8080/",
     "height": 1000,
     "output_embedded_package_id": "1OGuir87OHUqqeKu2Rji8mQtHS0Pc1YnD"
    },
    "executionInfo": {
     "elapsed": 886599,
     "status": "ok",
     "timestamp": 1737578326239,
     "user": {
      "displayName": "Felipe Garrido",
      "userId": "09470540658044428770"
     },
     "user_tz": -60
    },
    "id": "1gQfcOpdQqQv",
    "outputId": "42d4c9bf-ef1c-4e44-faa0-7a39007a1dd3"
   },
   "outputs": [],
   "source": []
  },
  {
   "cell_type": "markdown",
   "metadata": {},
   "source": [
    "## **2.3 Comparaison empirique de DFS et BFS**\n",
    "\n",
    "Nous allons comparer la performance des deux algorithmes dans plusieurs jeux de Taquin 3x3. "
   ]
  },
  {
   "cell_type": "markdown",
   "metadata": {
    "id": "xc24srbH2tQI"
   },
   "source": [
    "### **Exercice 7**\n",
    "1. Écrivez une fonction compare_algorithms qui prend en entrée :\n",
    "    * Une liste d’états initiaux.\n",
    "    * Un état objectif.\n",
    "    * Une liste d’algorithmes.\n",
    "2. La fonction doit résoudre chaque problème en exécutant chaque algorithme. Assurez-vous de fixer des budgets pour éviter que les algorithmes ne prennent trop de temps.\n",
    "3. Pour chaque paire (problème, algorithme), enregistrez :\n",
    "    * Le nombre de nœuds explorés.\n",
    "    * La longueur du chemin trouvé entre la racine et le nœud objectif.\n",
    "    * Le temps d'exécution. Pour mesurer le temps d'exécution, vous pouvez importer time et utiliser :\n",
    "        * *start_time = time.time()*\n",
    "        * *\\# résoudre le problème*\n",
    "        * *end_time = time.time()*\n",
    "        * *execution_time = end_time - start_time*\n",
    "4. Enregistrez les résultats dans un dictionaire.\n",
    "\n"
   ]
  },
  {
   "cell_type": "code",
   "execution_count": null,
   "metadata": {
    "id": "C1JshIqvSo4k"
   },
   "outputs": [],
   "source": []
  },
  {
   "cell_type": "markdown",
   "metadata": {
    "id": "69CS1zsJwNC9"
   },
   "source": [
    "### **Exercice 8**\n",
    "Comparez les algorithmes BFS et DFS dans les instances suivantes du jeu de Taquin 3x3.\n",
    "1. [[1, 2, 3], [4, 5, 0], [6, 7, 8]]\n",
    "2. [[1, 2, 3], [0, 5, 6], [4, 7, 8]]    \n",
    "3. [[1, 0, 3], [4, 2, 5], [7, 8, 6]]\n",
    "4. [[1, 0, 3], [4, 5, 2], [7, 6, 8]]\n",
    "5. [[1, 0, 3], [4, 2, 5], [6, 7, 8]]\n",
    "6. [[1, 2, 3], [4, 0, 6], [7, 5, 8]]\n",
    "7. [[1, 2, 3], [0, 4, 6], [7, 5, 8]]\n",
    "8. [[1, 2, 3], [4, 6, 0], [7, 5, 8]]\n",
    "9. [[1, 3, 6], [4, 2, 5], [7, 0, 8]]  \n",
    "10. [[1, 3, 6], [4, 2, 0], [7, 5, 8]]  \n",
    "11. [[1, 3, 6], [4, 0, 2], [7, 5, 8]]  \n",
    "12. [[3, 1, 2], [4, 6, 5], [7, 0, 8]]  \n",
    "13. [[8, 1, 2], [0, 4, 3], [7, 6, 5]]\n",
    "14. [[1, 4, 2], [7, 0, 6], [5, 3, 8]]\n",
    "15. [[2, 8, 3], [1, 6, 4], [7, 0, 5]]"
   ]
  },
  {
   "cell_type": "code",
   "execution_count": null,
   "metadata": {
    "colab": {
     "base_uri": "https://localhost:8080/",
     "height": 243
    },
    "id": "DoFT3VfRS5g6",
    "outputId": "3a5831e0-7467-4da3-8bdb-5bd3d4d44a69"
   },
   "outputs": [],
   "source": []
  },
  {
   "cell_type": "markdown",
   "metadata": {},
   "source": [
    "#### Utilisez le code ci-dessous pour visualiser vos résultats"
   ]
  },
  {
   "cell_type": "code",
   "execution_count": 3,
   "metadata": {},
   "outputs": [],
   "source": [
    "import pandas as pd\n",
    "import numpy as np\n",
    "from tabulate import tabulate ## La librairie Tabulate doit être installée. Si vous ne l'avez pas, vous pouvez simplement utiliser \"print(df)\" pour visualiser le tableau.\n",
    "\n",
    "Data = []\n",
    "for i in range(len(initial_states)):\n",
    "    Data.append([int(i+1),results_BFS[i]['num_explorations'], results_DFS[i]['num_explorations'],results_BFS[i]['path_length'],results_DFS[i]['path_length'],\n",
    "                 round(results_BFS[i]['execution_time'],2),round(results_DFS[i]['execution_time'],2)])\n",
    "\n",
    "df = pd.DataFrame(Data, columns=[\"State\", \"Nodes explored BFS\", \"Nodes explored DFS\", \"Path length BFS\", \"Path length DFS\", \"Execution Time BFS\", \"Execution Time DFS\"])\n",
    "print(tabulate(df, headers='keys', tablefmt='pretty'))"
   ]
  },
  {
   "cell_type": "markdown",
   "metadata": {},
   "source": [
    "# **Extra. Tous les jeux de taquin ont une solution ?**"
   ]
  },
  {
   "cell_type": "markdown",
   "metadata": {},
   "source": [
    "En cours, nous avons dit que l'espace d'état a une taille de 9!. En réalité, seulement la moitié des configurations sont résolvables. Regardez ce [**lien**](https://fr.wikipedia.org/wiki/Taquin#Configurations_solubles_et_insolubles) et la fonction suivante pour plus d'*insights*."
   ]
  },
  {
   "cell_type": "code",
   "execution_count": 4,
   "metadata": {},
   "outputs": [],
   "source": [
    "import random\n",
    "\n",
    "def is_solvable(puzzle):\n",
    "    \"\"\"Check if a 3x3 Taquin puzzle is solvable.\"\"\"\n",
    "    flattened = [tile for row in puzzle for tile in row if tile != 0]\n",
    "    inversions = sum(\n",
    "        1 for i in range(len(flattened)) for j in range(i + 1, len(flattened)) if flattened[i] > flattened[j]\n",
    "    )\n",
    "    return inversions % 2 == 0"
   ]
  }
 ],
 "metadata": {
  "colab": {
   "collapsed_sections": [
    "t2kvjEw1LSRz",
    "CBNnkXa0NeQT"
   ],
   "provenance": []
  },
  "kernelspec": {
   "display_name": "Python 3 (ipykernel)",
   "language": "python",
   "name": "python3"
  },
  "language_info": {
   "codemirror_mode": {
    "name": "ipython",
    "version": 3
   },
   "file_extension": ".py",
   "mimetype": "text/x-python",
   "name": "python",
   "nbconvert_exporter": "python",
   "pygments_lexer": "ipython3",
   "version": "3.11.9"
  }
 },
 "nbformat": 4,
 "nbformat_minor": 4
}
