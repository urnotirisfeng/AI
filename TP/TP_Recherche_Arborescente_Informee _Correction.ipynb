{
  "cells": [
    {
      "cell_type": "markdown",
      "metadata": {
        "id": "view-in-github",
        "colab_type": "text"
      },
      "source": [
        "<a href=\"https://colab.research.google.com/github/urnotirisfeng/AI/blob/main/TP/TP_Recherche_Arborescente_Informee%20_Correction.ipynb\" target=\"_parent\"><img src=\"https://colab.research.google.com/assets/colab-badge.svg\" alt=\"Open In Colab\"/></a>"
      ]
    },
    {
      "cell_type": "markdown",
      "metadata": {
        "id": "9fa46b3a-2748-44b5-91d3-bb4c26bdf2f0"
      },
      "source": [
        "# TP Intelligence Artificielle - Recherche Arborescente Informée"
      ],
      "id": "9fa46b3a-2748-44b5-91d3-bb4c26bdf2f0"
    },
    {
      "cell_type": "markdown",
      "metadata": {
        "id": "890fa479-1023-487c-a76c-ff6d76db2965"
      },
      "source": [
        "# **Partie 0 : Visualisation d'états, Classe Taquin et Classe Node**\n",
        "\n",
        "Nous récupérons les classes du TP précédent ainsi que la fonction visualise_state."
      ],
      "id": "890fa479-1023-487c-a76c-ff6d76db2965"
    },
    {
      "cell_type": "code",
      "execution_count": 3,
      "metadata": {
        "id": "13ff8544-2fb9-4e23-b67f-e4d392d09505"
      },
      "outputs": [],
      "source": [
        "from IPython.display import display, HTML\n",
        "\n",
        "def visualize_state(state):\n",
        "    \"\"\"\n",
        "    使用 HTML 可视化 Taquin 拼图的当前状态。\n",
        "    空白格（值为 0）显示为灰色，其它数字方块显示为浅蓝色。\n",
        "    \"\"\"\n",
        "    html = \"<table>\"\n",
        "    for row in state:\n",
        "        html += \"<tr>\"\n",
        "        for tile in row:\n",
        "            if tile == 0:\n",
        "                # 空白格（0）显示为灰色，无数字\n",
        "                html += \"<td style='background-color: lightgray; width: 30px; height: 30px; text-align: center; font-size: 20px;'> </td>\"\n",
        "            else:\n",
        "                # 有数字的格子显示为浅蓝色\n",
        "                html += f\"<td style='background-color: lightblue; width: 30px; height: 30px; text-align: center; font-size: 20px;'>{tile}</td>\"\n",
        "        html += \"</tr>\"\n",
        "    html += \"</table>\"\n",
        "    display(HTML(html))\n",
        "\n",
        "class Taquin:\n",
        "    \"\"\"\n",
        "    定义 Taquin 拼图问题。\n",
        "    包含初始状态、目标状态、拼图大小，以及问题的基本操作。\n",
        "    \"\"\"\n",
        "\n",
        "    def __init__(self, initial_state, goal_state, size):\n",
        "        self.initial_state = initial_state  # 初始拼图状态\n",
        "        self.goal_state = goal_state        # 目标拼图状态\n",
        "        self.size = size                    # 拼图维度（如 3 表示 3x3）\n",
        "\n",
        "    def actions(self, state):\n",
        "        \"\"\"\n",
        "        给定当前状态，返回可行的操作（上下左右移动空白格）。\n",
        "        \"\"\"\n",
        "        # 找到空白格（值为 0）的位置\n",
        "        row, col = next(\n",
        "            (r, c)\n",
        "            for r, row in enumerate(state)\n",
        "            for c, val in enumerate(row)\n",
        "            if val == 0\n",
        "        )\n",
        "\n",
        "        # 判断哪些方向可以移动\n",
        "        possible_actions = []\n",
        "        if row > 0:\n",
        "            possible_actions.append(\"up\")\n",
        "        if row < self.size - 1:\n",
        "            possible_actions.append(\"down\")\n",
        "        if col > 0:\n",
        "            possible_actions.append(\"left\")\n",
        "        if col < self.size - 1:\n",
        "            possible_actions.append(\"right\")\n",
        "\n",
        "        return possible_actions\n",
        "\n",
        "    def result(self, state, action):\n",
        "        \"\"\"\n",
        "        返回在当前状态下执行某个动作后的新状态（二维列表）。\n",
        "        不改变原始状态，而是返回其副本。\n",
        "        \"\"\"\n",
        "        # 创建状态的深拷贝\n",
        "        new_state = [list(row) for row in state]\n",
        "\n",
        "        # 找到空白格位置\n",
        "        row, col = next(\n",
        "            (r, c)\n",
        "            for r, row in enumerate(state)\n",
        "            for c, val in enumerate(row)\n",
        "            if val == 0\n",
        "        )\n",
        "\n",
        "        # 根据动作交换空白格与相邻方块\n",
        "        if action == \"up\":\n",
        "            new_state[row][col], new_state[row - 1][col] = new_state[row - 1][col], new_state[row][col]\n",
        "        elif action == \"down\":\n",
        "            new_state[row][col], new_state[row + 1][col] = new_state[row + 1][col], new_state[row][col]\n",
        "        elif action == \"left\":\n",
        "            new_state[row][col], new_state[row][col - 1] = new_state[row][col - 1], new_state[row][col]\n",
        "        elif action == \"right\":\n",
        "            new_state[row][col], new_state[row][col + 1] = new_state[row][col + 1], new_state[row][col]\n",
        "\n",
        "        return new_state\n",
        "\n",
        "    def is_goal(self, state):\n",
        "        \"\"\"判断当前状态是否是目标状态。\"\"\"\n",
        "        return state == self.goal_state\n",
        "\n",
        "    def cost(self, state, action):\n",
        "        \"\"\"定义执行某个动作的代价。这里默认每一步代价为1。\"\"\"\n",
        "        return 1\n",
        "\n",
        "class Node:\n",
        "    \"\"\"\n",
        "    搜索树中的节点。\n",
        "    每个节点记录当前状态、父节点、采取的动作、路径代价以及深度信息。\n",
        "    \"\"\"\n",
        "\n",
        "    def __init__(self, state, parent=None, action=None, path_cost=0):\n",
        "        self.state = state              # 当前状态\n",
        "        self.parent = parent            # 父节点（前一个状态）\n",
        "        self.action = action            # 从父节点到当前节点采取的动作\n",
        "        self.path_cost = path_cost      # 从初始状态到此节点的总代价\n",
        "        self.depth = 0 if parent is None else parent.depth + 1  # 深度\n",
        "\n",
        "    def expand(self, problem):\n",
        "        \"\"\"\n",
        "        生成所有可达的子节点（下一步状态）。\n",
        "        返回一个包含子节点的列表。\n",
        "        \"\"\"\n",
        "        return [\n",
        "            self.child_node(problem, action)\n",
        "            for action in problem.actions(self.state)\n",
        "        ]\n",
        "\n",
        "    def child_node(self, problem, action):\n",
        "        \"\"\"\n",
        "        对某个动作，生成并返回对应的子节点。\n",
        "        \"\"\"\n",
        "        next_state = problem.result(self.state, action)  # 应用动作后的状态\n",
        "        next_node = Node(\n",
        "            next_state,\n",
        "            parent=self,\n",
        "            action=action,\n",
        "            path_cost=self.path_cost + problem.cost(self.state, action)\n",
        "        )\n",
        "        return next_node\n",
        "\n",
        "    def solution(self):\n",
        "        \"\"\"\n",
        "        返回从初始节点到当前节点的动作序列。\n",
        "        \"\"\"\n",
        "        return [node.action for node in self.path()[1:]]  # 去掉根节点的 None 动作\n",
        "\n",
        "    def path(self):\n",
        "        \"\"\"\n",
        "        返回从根节点到当前节点的路径（节点列表）。\n",
        "        可用于重建解决方案路径。\n",
        "        \"\"\"\n",
        "        node, path_back = self, []\n",
        "        while node:\n",
        "            path_back.append(node)\n",
        "            node = node.parent\n",
        "        return list(reversed(path_back))  # 从根到当前节点"
      ],
      "id": "13ff8544-2fb9-4e23-b67f-e4d392d09505"
    },
    {
      "cell_type": "markdown",
      "metadata": {
        "id": "94781469-acae-4f4e-ab69-f22a85d932cb"
      },
      "source": [
        "# **Partie 1 : Heuristiques pour le jeu de Taquin**"
      ],
      "id": "94781469-acae-4f4e-ab69-f22a85d932cb"
    },
    {
      "cell_type": "markdown",
      "metadata": {
        "id": "49e74b6f-47fc-4bfb-b4d6-443014b7d202"
      },
      "source": [
        "## **1.1 H$_1$ : Nombre de tuiles mal placées**"
      ],
      "id": "49e74b6f-47fc-4bfb-b4d6-443014b7d202"
    },
    {
      "cell_type": "markdown",
      "metadata": {
        "id": "ec213ce5-9739-49e3-a68d-72a1c098c7aa"
      },
      "source": [
        "### **Exercice 1**\n",
        "\n",
        "Écrivez une fonction qui calcule le nombre de tuiles mal placées dans un état du jeu de Taquin"
      ],
      "id": "ec213ce5-9739-49e3-a68d-72a1c098c7aa"
    },
    {
      "cell_type": "code",
      "execution_count": 4,
      "metadata": {
        "id": "wigdHdTcV0zt"
      },
      "outputs": [],
      "source": [
        "def misplaced_tiles(state, goal_state):\n",
        "    \"\"\"\n",
        "    计算当前状态中有多少块拼图位置不正确（不在目标位置）。\n",
        "    常用于启发式搜索（如 A*）中的估价函数。\n",
        "\n",
        "    参数:\n",
        "        state: 当前拼图状态（二维列表）\n",
        "        goal_state: 目标拼图状态（二维列表）\n",
        "\n",
        "    返回:\n",
        "        int: 拼图中位置错误的方块数量（不包括空白块 0）\n",
        "    \"\"\"\n",
        "\n",
        "    misplaced_count = 0  # 初始化计数器，记录错位块的数量\n",
        "\n",
        "    # 遍历拼图中每个位置\n",
        "    for i in range(len(state)):           # 遍历行\n",
        "        for j in range(len(state[0])):    # 遍历列\n",
        "            # 如果当前方块不为空（0），且与目标状态不同，则视为错位\n",
        "            if state[i][j] != 0 and state[i][j] != goal_state[i][j]:\n",
        "                misplaced_count += 1\n",
        "\n",
        "    return misplaced_count  # 返回总的错位块数\n"
      ],
      "id": "wigdHdTcV0zt"
    },
    {
      "cell_type": "markdown",
      "metadata": {
        "id": "205ba5cd-8e9f-4939-8fd3-69ffa3ff3491"
      },
      "source": [
        "### **Exercice 2**\n",
        "\n",
        "Calculez le nombre de tuiles mal placées pour les états suivants :\n",
        "1. [[1, 2, 3], [4, 5, 0], [6, 7, 8]]\n",
        "2. [[1, 2, 3], [0, 5, 6], [4, 7, 8]]    \n",
        "3. [[1, 0, 3], [4, 2, 5], [7, 8, 6]]\n",
        "4. [[1, 0, 3], [4, 5, 2], [7, 6, 8]]\n",
        "5. [[1, 0, 3], [4, 2, 5], [6, 7, 8]]\n",
        "6. [[1, 2, 3], [4, 0, 6], [7, 5, 8]]\n",
        "7. [[1, 2, 3], [0, 4, 6], [7, 5, 8]]\n",
        "8. [[1, 2, 3], [4, 6, 0], [7, 5, 8]]\n",
        "9. [[1, 3, 6], [4, 2, 5], [7, 0, 8]]  \n",
        "10. [[1, 3, 6], [4, 2, 0], [7, 5, 8]]  \n",
        "11. [[1, 3, 6], [4, 0, 2], [7, 5, 8]]  \n",
        "12. [[3, 1, 2], [4, 6, 5], [7, 0, 8]]  \n",
        "13. [[8, 1, 2], [0, 4, 3], [7, 6, 5]]\n",
        "14. [[1, 4, 2], [7, 0, 6], [5, 3, 8]]\n",
        "15. [[2, 8, 3], [1, 6, 4], [7, 0, 5]]"
      ],
      "id": "205ba5cd-8e9f-4939-8fd3-69ffa3ff3491"
    },
    {
      "cell_type": "code",
      "execution_count": 5,
      "metadata": {
        "colab": {
          "base_uri": "https://localhost:8080/",
          "height": 1000
        },
        "id": "z9TjTq0jXFdT",
        "outputId": "af03fcca-ef18-45e2-af9c-58b80d9b63ba"
      },
      "outputs": [
        {
          "output_type": "stream",
          "name": "stdout",
          "text": [
            "Checking state\n"
          ]
        },
        {
          "output_type": "display_data",
          "data": {
            "text/plain": [
              "<IPython.core.display.HTML object>"
            ],
            "text/html": [
              "<table><tr><td style='background-color: lightblue; width: 30px; height: 30px; text-align: center; font-size: 20px;'>1</td><td style='background-color: lightblue; width: 30px; height: 30px; text-align: center; font-size: 20px;'>2</td><td style='background-color: lightblue; width: 30px; height: 30px; text-align: center; font-size: 20px;'>3</td></tr><tr><td style='background-color: lightblue; width: 30px; height: 30px; text-align: center; font-size: 20px;'>4</td><td style='background-color: lightblue; width: 30px; height: 30px; text-align: center; font-size: 20px;'>5</td><td style='background-color: lightgray; width: 30px; height: 30px; text-align: center; font-size: 20px;'> </td></tr><tr><td style='background-color: lightblue; width: 30px; height: 30px; text-align: center; font-size: 20px;'>6</td><td style='background-color: lightblue; width: 30px; height: 30px; text-align: center; font-size: 20px;'>7</td><td style='background-color: lightblue; width: 30px; height: 30px; text-align: center; font-size: 20px;'>8</td></tr></table>"
            ]
          },
          "metadata": {}
        },
        {
          "output_type": "stream",
          "name": "stdout",
          "text": [
            "The state has 3 misplaced tiles\n",
            "\n",
            "Checking state\n"
          ]
        },
        {
          "output_type": "display_data",
          "data": {
            "text/plain": [
              "<IPython.core.display.HTML object>"
            ],
            "text/html": [
              "<table><tr><td style='background-color: lightblue; width: 30px; height: 30px; text-align: center; font-size: 20px;'>1</td><td style='background-color: lightblue; width: 30px; height: 30px; text-align: center; font-size: 20px;'>2</td><td style='background-color: lightblue; width: 30px; height: 30px; text-align: center; font-size: 20px;'>3</td></tr><tr><td style='background-color: lightgray; width: 30px; height: 30px; text-align: center; font-size: 20px;'> </td><td style='background-color: lightblue; width: 30px; height: 30px; text-align: center; font-size: 20px;'>5</td><td style='background-color: lightblue; width: 30px; height: 30px; text-align: center; font-size: 20px;'>6</td></tr><tr><td style='background-color: lightblue; width: 30px; height: 30px; text-align: center; font-size: 20px;'>4</td><td style='background-color: lightblue; width: 30px; height: 30px; text-align: center; font-size: 20px;'>7</td><td style='background-color: lightblue; width: 30px; height: 30px; text-align: center; font-size: 20px;'>8</td></tr></table>"
            ]
          },
          "metadata": {}
        },
        {
          "output_type": "stream",
          "name": "stdout",
          "text": [
            "The state has 3 misplaced tiles\n",
            "\n",
            "Checking state\n"
          ]
        },
        {
          "output_type": "display_data",
          "data": {
            "text/plain": [
              "<IPython.core.display.HTML object>"
            ],
            "text/html": [
              "<table><tr><td style='background-color: lightblue; width: 30px; height: 30px; text-align: center; font-size: 20px;'>1</td><td style='background-color: lightgray; width: 30px; height: 30px; text-align: center; font-size: 20px;'> </td><td style='background-color: lightblue; width: 30px; height: 30px; text-align: center; font-size: 20px;'>3</td></tr><tr><td style='background-color: lightblue; width: 30px; height: 30px; text-align: center; font-size: 20px;'>4</td><td style='background-color: lightblue; width: 30px; height: 30px; text-align: center; font-size: 20px;'>2</td><td style='background-color: lightblue; width: 30px; height: 30px; text-align: center; font-size: 20px;'>5</td></tr><tr><td style='background-color: lightblue; width: 30px; height: 30px; text-align: center; font-size: 20px;'>7</td><td style='background-color: lightblue; width: 30px; height: 30px; text-align: center; font-size: 20px;'>8</td><td style='background-color: lightblue; width: 30px; height: 30px; text-align: center; font-size: 20px;'>6</td></tr></table>"
            ]
          },
          "metadata": {}
        },
        {
          "output_type": "stream",
          "name": "stdout",
          "text": [
            "The state has 3 misplaced tiles\n",
            "\n",
            "Checking state\n"
          ]
        },
        {
          "output_type": "display_data",
          "data": {
            "text/plain": [
              "<IPython.core.display.HTML object>"
            ],
            "text/html": [
              "<table><tr><td style='background-color: lightblue; width: 30px; height: 30px; text-align: center; font-size: 20px;'>1</td><td style='background-color: lightgray; width: 30px; height: 30px; text-align: center; font-size: 20px;'> </td><td style='background-color: lightblue; width: 30px; height: 30px; text-align: center; font-size: 20px;'>3</td></tr><tr><td style='background-color: lightblue; width: 30px; height: 30px; text-align: center; font-size: 20px;'>4</td><td style='background-color: lightblue; width: 30px; height: 30px; text-align: center; font-size: 20px;'>5</td><td style='background-color: lightblue; width: 30px; height: 30px; text-align: center; font-size: 20px;'>2</td></tr><tr><td style='background-color: lightblue; width: 30px; height: 30px; text-align: center; font-size: 20px;'>7</td><td style='background-color: lightblue; width: 30px; height: 30px; text-align: center; font-size: 20px;'>6</td><td style='background-color: lightblue; width: 30px; height: 30px; text-align: center; font-size: 20px;'>8</td></tr></table>"
            ]
          },
          "metadata": {}
        },
        {
          "output_type": "stream",
          "name": "stdout",
          "text": [
            "The state has 3 misplaced tiles\n",
            "\n",
            "Checking state\n"
          ]
        },
        {
          "output_type": "display_data",
          "data": {
            "text/plain": [
              "<IPython.core.display.HTML object>"
            ],
            "text/html": [
              "<table><tr><td style='background-color: lightblue; width: 30px; height: 30px; text-align: center; font-size: 20px;'>1</td><td style='background-color: lightgray; width: 30px; height: 30px; text-align: center; font-size: 20px;'> </td><td style='background-color: lightblue; width: 30px; height: 30px; text-align: center; font-size: 20px;'>3</td></tr><tr><td style='background-color: lightblue; width: 30px; height: 30px; text-align: center; font-size: 20px;'>4</td><td style='background-color: lightblue; width: 30px; height: 30px; text-align: center; font-size: 20px;'>2</td><td style='background-color: lightblue; width: 30px; height: 30px; text-align: center; font-size: 20px;'>5</td></tr><tr><td style='background-color: lightblue; width: 30px; height: 30px; text-align: center; font-size: 20px;'>6</td><td style='background-color: lightblue; width: 30px; height: 30px; text-align: center; font-size: 20px;'>7</td><td style='background-color: lightblue; width: 30px; height: 30px; text-align: center; font-size: 20px;'>8</td></tr></table>"
            ]
          },
          "metadata": {}
        },
        {
          "output_type": "stream",
          "name": "stdout",
          "text": [
            "The state has 5 misplaced tiles\n",
            "\n",
            "Checking state\n"
          ]
        },
        {
          "output_type": "display_data",
          "data": {
            "text/plain": [
              "<IPython.core.display.HTML object>"
            ],
            "text/html": [
              "<table><tr><td style='background-color: lightblue; width: 30px; height: 30px; text-align: center; font-size: 20px;'>1</td><td style='background-color: lightblue; width: 30px; height: 30px; text-align: center; font-size: 20px;'>2</td><td style='background-color: lightblue; width: 30px; height: 30px; text-align: center; font-size: 20px;'>3</td></tr><tr><td style='background-color: lightblue; width: 30px; height: 30px; text-align: center; font-size: 20px;'>4</td><td style='background-color: lightgray; width: 30px; height: 30px; text-align: center; font-size: 20px;'> </td><td style='background-color: lightblue; width: 30px; height: 30px; text-align: center; font-size: 20px;'>6</td></tr><tr><td style='background-color: lightblue; width: 30px; height: 30px; text-align: center; font-size: 20px;'>7</td><td style='background-color: lightblue; width: 30px; height: 30px; text-align: center; font-size: 20px;'>5</td><td style='background-color: lightblue; width: 30px; height: 30px; text-align: center; font-size: 20px;'>8</td></tr></table>"
            ]
          },
          "metadata": {}
        },
        {
          "output_type": "stream",
          "name": "stdout",
          "text": [
            "The state has 2 misplaced tiles\n",
            "\n",
            "Checking state\n"
          ]
        },
        {
          "output_type": "display_data",
          "data": {
            "text/plain": [
              "<IPython.core.display.HTML object>"
            ],
            "text/html": [
              "<table><tr><td style='background-color: lightblue; width: 30px; height: 30px; text-align: center; font-size: 20px;'>1</td><td style='background-color: lightblue; width: 30px; height: 30px; text-align: center; font-size: 20px;'>2</td><td style='background-color: lightblue; width: 30px; height: 30px; text-align: center; font-size: 20px;'>3</td></tr><tr><td style='background-color: lightgray; width: 30px; height: 30px; text-align: center; font-size: 20px;'> </td><td style='background-color: lightblue; width: 30px; height: 30px; text-align: center; font-size: 20px;'>4</td><td style='background-color: lightblue; width: 30px; height: 30px; text-align: center; font-size: 20px;'>6</td></tr><tr><td style='background-color: lightblue; width: 30px; height: 30px; text-align: center; font-size: 20px;'>7</td><td style='background-color: lightblue; width: 30px; height: 30px; text-align: center; font-size: 20px;'>5</td><td style='background-color: lightblue; width: 30px; height: 30px; text-align: center; font-size: 20px;'>8</td></tr></table>"
            ]
          },
          "metadata": {}
        },
        {
          "output_type": "stream",
          "name": "stdout",
          "text": [
            "The state has 3 misplaced tiles\n",
            "\n",
            "Checking state\n"
          ]
        },
        {
          "output_type": "display_data",
          "data": {
            "text/plain": [
              "<IPython.core.display.HTML object>"
            ],
            "text/html": [
              "<table><tr><td style='background-color: lightblue; width: 30px; height: 30px; text-align: center; font-size: 20px;'>1</td><td style='background-color: lightblue; width: 30px; height: 30px; text-align: center; font-size: 20px;'>2</td><td style='background-color: lightblue; width: 30px; height: 30px; text-align: center; font-size: 20px;'>3</td></tr><tr><td style='background-color: lightblue; width: 30px; height: 30px; text-align: center; font-size: 20px;'>4</td><td style='background-color: lightblue; width: 30px; height: 30px; text-align: center; font-size: 20px;'>6</td><td style='background-color: lightgray; width: 30px; height: 30px; text-align: center; font-size: 20px;'> </td></tr><tr><td style='background-color: lightblue; width: 30px; height: 30px; text-align: center; font-size: 20px;'>7</td><td style='background-color: lightblue; width: 30px; height: 30px; text-align: center; font-size: 20px;'>5</td><td style='background-color: lightblue; width: 30px; height: 30px; text-align: center; font-size: 20px;'>8</td></tr></table>"
            ]
          },
          "metadata": {}
        },
        {
          "output_type": "stream",
          "name": "stdout",
          "text": [
            "The state has 3 misplaced tiles\n",
            "\n",
            "Checking state\n"
          ]
        },
        {
          "output_type": "display_data",
          "data": {
            "text/plain": [
              "<IPython.core.display.HTML object>"
            ],
            "text/html": [
              "<table><tr><td style='background-color: lightblue; width: 30px; height: 30px; text-align: center; font-size: 20px;'>1</td><td style='background-color: lightblue; width: 30px; height: 30px; text-align: center; font-size: 20px;'>3</td><td style='background-color: lightblue; width: 30px; height: 30px; text-align: center; font-size: 20px;'>6</td></tr><tr><td style='background-color: lightblue; width: 30px; height: 30px; text-align: center; font-size: 20px;'>4</td><td style='background-color: lightblue; width: 30px; height: 30px; text-align: center; font-size: 20px;'>2</td><td style='background-color: lightblue; width: 30px; height: 30px; text-align: center; font-size: 20px;'>5</td></tr><tr><td style='background-color: lightblue; width: 30px; height: 30px; text-align: center; font-size: 20px;'>7</td><td style='background-color: lightgray; width: 30px; height: 30px; text-align: center; font-size: 20px;'> </td><td style='background-color: lightblue; width: 30px; height: 30px; text-align: center; font-size: 20px;'>8</td></tr></table>"
            ]
          },
          "metadata": {}
        },
        {
          "output_type": "stream",
          "name": "stdout",
          "text": [
            "The state has 5 misplaced tiles\n",
            "\n",
            "Checking state\n"
          ]
        },
        {
          "output_type": "display_data",
          "data": {
            "text/plain": [
              "<IPython.core.display.HTML object>"
            ],
            "text/html": [
              "<table><tr><td style='background-color: lightblue; width: 30px; height: 30px; text-align: center; font-size: 20px;'>1</td><td style='background-color: lightblue; width: 30px; height: 30px; text-align: center; font-size: 20px;'>3</td><td style='background-color: lightblue; width: 30px; height: 30px; text-align: center; font-size: 20px;'>6</td></tr><tr><td style='background-color: lightblue; width: 30px; height: 30px; text-align: center; font-size: 20px;'>4</td><td style='background-color: lightblue; width: 30px; height: 30px; text-align: center; font-size: 20px;'>2</td><td style='background-color: lightgray; width: 30px; height: 30px; text-align: center; font-size: 20px;'> </td></tr><tr><td style='background-color: lightblue; width: 30px; height: 30px; text-align: center; font-size: 20px;'>7</td><td style='background-color: lightblue; width: 30px; height: 30px; text-align: center; font-size: 20px;'>5</td><td style='background-color: lightblue; width: 30px; height: 30px; text-align: center; font-size: 20px;'>8</td></tr></table>"
            ]
          },
          "metadata": {}
        },
        {
          "output_type": "stream",
          "name": "stdout",
          "text": [
            "The state has 5 misplaced tiles\n",
            "\n",
            "Checking state\n"
          ]
        },
        {
          "output_type": "display_data",
          "data": {
            "text/plain": [
              "<IPython.core.display.HTML object>"
            ],
            "text/html": [
              "<table><tr><td style='background-color: lightblue; width: 30px; height: 30px; text-align: center; font-size: 20px;'>1</td><td style='background-color: lightblue; width: 30px; height: 30px; text-align: center; font-size: 20px;'>3</td><td style='background-color: lightblue; width: 30px; height: 30px; text-align: center; font-size: 20px;'>6</td></tr><tr><td style='background-color: lightblue; width: 30px; height: 30px; text-align: center; font-size: 20px;'>4</td><td style='background-color: lightgray; width: 30px; height: 30px; text-align: center; font-size: 20px;'> </td><td style='background-color: lightblue; width: 30px; height: 30px; text-align: center; font-size: 20px;'>2</td></tr><tr><td style='background-color: lightblue; width: 30px; height: 30px; text-align: center; font-size: 20px;'>7</td><td style='background-color: lightblue; width: 30px; height: 30px; text-align: center; font-size: 20px;'>5</td><td style='background-color: lightblue; width: 30px; height: 30px; text-align: center; font-size: 20px;'>8</td></tr></table>"
            ]
          },
          "metadata": {}
        },
        {
          "output_type": "stream",
          "name": "stdout",
          "text": [
            "The state has 5 misplaced tiles\n",
            "\n",
            "Checking state\n"
          ]
        },
        {
          "output_type": "display_data",
          "data": {
            "text/plain": [
              "<IPython.core.display.HTML object>"
            ],
            "text/html": [
              "<table><tr><td style='background-color: lightblue; width: 30px; height: 30px; text-align: center; font-size: 20px;'>3</td><td style='background-color: lightblue; width: 30px; height: 30px; text-align: center; font-size: 20px;'>1</td><td style='background-color: lightblue; width: 30px; height: 30px; text-align: center; font-size: 20px;'>2</td></tr><tr><td style='background-color: lightblue; width: 30px; height: 30px; text-align: center; font-size: 20px;'>4</td><td style='background-color: lightblue; width: 30px; height: 30px; text-align: center; font-size: 20px;'>6</td><td style='background-color: lightblue; width: 30px; height: 30px; text-align: center; font-size: 20px;'>5</td></tr><tr><td style='background-color: lightblue; width: 30px; height: 30px; text-align: center; font-size: 20px;'>7</td><td style='background-color: lightgray; width: 30px; height: 30px; text-align: center; font-size: 20px;'> </td><td style='background-color: lightblue; width: 30px; height: 30px; text-align: center; font-size: 20px;'>8</td></tr></table>"
            ]
          },
          "metadata": {}
        },
        {
          "output_type": "stream",
          "name": "stdout",
          "text": [
            "The state has 6 misplaced tiles\n",
            "\n",
            "Checking state\n"
          ]
        },
        {
          "output_type": "display_data",
          "data": {
            "text/plain": [
              "<IPython.core.display.HTML object>"
            ],
            "text/html": [
              "<table><tr><td style='background-color: lightblue; width: 30px; height: 30px; text-align: center; font-size: 20px;'>8</td><td style='background-color: lightblue; width: 30px; height: 30px; text-align: center; font-size: 20px;'>1</td><td style='background-color: lightblue; width: 30px; height: 30px; text-align: center; font-size: 20px;'>2</td></tr><tr><td style='background-color: lightgray; width: 30px; height: 30px; text-align: center; font-size: 20px;'> </td><td style='background-color: lightblue; width: 30px; height: 30px; text-align: center; font-size: 20px;'>4</td><td style='background-color: lightblue; width: 30px; height: 30px; text-align: center; font-size: 20px;'>3</td></tr><tr><td style='background-color: lightblue; width: 30px; height: 30px; text-align: center; font-size: 20px;'>7</td><td style='background-color: lightblue; width: 30px; height: 30px; text-align: center; font-size: 20px;'>6</td><td style='background-color: lightblue; width: 30px; height: 30px; text-align: center; font-size: 20px;'>5</td></tr></table>"
            ]
          },
          "metadata": {}
        },
        {
          "output_type": "stream",
          "name": "stdout",
          "text": [
            "The state has 7 misplaced tiles\n",
            "\n",
            "Checking state\n"
          ]
        },
        {
          "output_type": "display_data",
          "data": {
            "text/plain": [
              "<IPython.core.display.HTML object>"
            ],
            "text/html": [
              "<table><tr><td style='background-color: lightblue; width: 30px; height: 30px; text-align: center; font-size: 20px;'>1</td><td style='background-color: lightblue; width: 30px; height: 30px; text-align: center; font-size: 20px;'>4</td><td style='background-color: lightblue; width: 30px; height: 30px; text-align: center; font-size: 20px;'>2</td></tr><tr><td style='background-color: lightblue; width: 30px; height: 30px; text-align: center; font-size: 20px;'>7</td><td style='background-color: lightgray; width: 30px; height: 30px; text-align: center; font-size: 20px;'> </td><td style='background-color: lightblue; width: 30px; height: 30px; text-align: center; font-size: 20px;'>6</td></tr><tr><td style='background-color: lightblue; width: 30px; height: 30px; text-align: center; font-size: 20px;'>5</td><td style='background-color: lightblue; width: 30px; height: 30px; text-align: center; font-size: 20px;'>3</td><td style='background-color: lightblue; width: 30px; height: 30px; text-align: center; font-size: 20px;'>8</td></tr></table>"
            ]
          },
          "metadata": {}
        },
        {
          "output_type": "stream",
          "name": "stdout",
          "text": [
            "The state has 6 misplaced tiles\n",
            "\n",
            "Checking state\n"
          ]
        },
        {
          "output_type": "display_data",
          "data": {
            "text/plain": [
              "<IPython.core.display.HTML object>"
            ],
            "text/html": [
              "<table><tr><td style='background-color: lightblue; width: 30px; height: 30px; text-align: center; font-size: 20px;'>2</td><td style='background-color: lightblue; width: 30px; height: 30px; text-align: center; font-size: 20px;'>8</td><td style='background-color: lightblue; width: 30px; height: 30px; text-align: center; font-size: 20px;'>3</td></tr><tr><td style='background-color: lightblue; width: 30px; height: 30px; text-align: center; font-size: 20px;'>1</td><td style='background-color: lightblue; width: 30px; height: 30px; text-align: center; font-size: 20px;'>6</td><td style='background-color: lightblue; width: 30px; height: 30px; text-align: center; font-size: 20px;'>4</td></tr><tr><td style='background-color: lightblue; width: 30px; height: 30px; text-align: center; font-size: 20px;'>7</td><td style='background-color: lightgray; width: 30px; height: 30px; text-align: center; font-size: 20px;'> </td><td style='background-color: lightblue; width: 30px; height: 30px; text-align: center; font-size: 20px;'>5</td></tr></table>"
            ]
          },
          "metadata": {}
        },
        {
          "output_type": "stream",
          "name": "stdout",
          "text": [
            "The state has 6 misplaced tiles\n",
            "\n"
          ]
        }
      ],
      "source": [
        "# 定义一组初始状态（列表中的每个 3x3 二维数组表示一个拼图配置）\n",
        "initial_states = [\n",
        "    [[1, 2, 3], [4, 5, 0], [6, 7, 8]],\n",
        "    [[1, 2, 3], [0, 5, 6], [4, 7, 8]],\n",
        "    [[1, 0, 3], [4, 2, 5], [7, 8, 6]],\n",
        "    [[1, 0, 3], [4, 5, 2], [7, 6, 8]],\n",
        "    [[1, 0, 3], [4, 2, 5], [6, 7, 8]],\n",
        "    [[1, 2, 3], [4, 0, 6], [7, 5, 8]],\n",
        "    [[1, 2, 3], [0, 4, 6], [7, 5, 8]],\n",
        "    [[1, 2, 3], [4, 6, 0], [7, 5, 8]],\n",
        "    [[1, 3, 6], [4, 2, 5], [7, 0, 8]],\n",
        "    [[1, 3, 6], [4, 2, 0], [7, 5, 8]],\n",
        "    [[1, 3, 6], [4, 0, 2], [7, 5, 8]],\n",
        "    [[3, 1, 2], [4, 6, 5], [7, 0, 8]],\n",
        "    [[8, 1, 2], [0, 4, 3], [7, 6, 5]],\n",
        "    [[1, 4, 2], [7, 0, 6], [5, 3, 8]],\n",
        "    [[2, 8, 3], [1, 6, 4], [7, 0, 5]]\n",
        "]\n",
        "\n",
        "# 定义目标状态（拼图完成的状态）\n",
        "goal_state = [[1, 2, 3], [4, 5, 6], [7, 8, 0]]\n",
        "\n",
        "# 遍历每一个初始状态，逐个评估\n",
        "for state in initial_states:\n",
        "    print('Checking state')  # 打印提示信息\n",
        "\n",
        "    visualize_state(state)  # 使用 HTML 表格显示拼图当前状态（需要在 Jupyter 环境中运行）\n",
        "\n",
        "    # 使用前面定义的启发式函数计算当前状态的错位方块数\n",
        "    print('The state has', misplaced_tiles(state, goal_state), 'misplaced tiles')\n",
        "\n",
        "    print()  # 打印空行用于分隔每个输出块"
      ],
      "id": "z9TjTq0jXFdT"
    },
    {
      "cell_type": "markdown",
      "metadata": {
        "id": "07e016a4-130a-4c3d-a67d-be747d944d75"
      },
      "source": [
        "## **1.2 H$_2$ : Distance de Manhattan**"
      ],
      "id": "07e016a4-130a-4c3d-a67d-be747d944d75"
    },
    {
      "cell_type": "markdown",
      "metadata": {
        "id": "caef00d5-a121-41f8-b295-1fc3080ca4df"
      },
      "source": [
        "### **Exercice 3**\n",
        "Écrivez une fonction qui calcule la distance de Manhattan entre un état et l'état but. La fonction **next()** pourrait être utile pour trouver la position d'une tuile donnée dans l'état but."
      ],
      "id": "caef00d5-a121-41f8-b295-1fc3080ca4df"
    },
    {
      "cell_type": "code",
      "execution_count": 8,
      "metadata": {
        "id": "Py8rUVZvX7ji"
      },
      "outputs": [],
      "source": [
        "def manhattan_distance(state, goal_state):\n",
        "    \"\"\"\n",
        "    计算当前拼图状态到目标状态的曼哈顿距离。\n",
        "    对每个非空白块，计算它与目标位置之间的水平 + 垂直距离之和。\n",
        "\n",
        "    参数:\n",
        "        state: 当前状态（3x3 二维数组）\n",
        "        goal_state: 目标状态（3x3 二维数组）\n",
        "\n",
        "    返回:\n",
        "        int: 曼哈顿距离的总和，表示该状态离目标状态的“估计代价”\n",
        "    \"\"\"\n",
        "\n",
        "    distance = 0  # 初始化总曼哈顿距离\n",
        "\n",
        "    # 遍历拼图中的每个格子\n",
        "    for i in range(len(state)):          # 遍历每一行\n",
        "        for j in range(len(state[0])):   # 遍历每一列\n",
        "            if state[i][j] != 0:  # 忽略空白格（0）\n",
        "\n",
        "                # 查找当前 tile 在目标状态中的位置\n",
        "                goal_row, goal_col = next(\n",
        "                    (r, c)                         # r = 行号, c = 列号\n",
        "                    for r, row in enumerate(goal_state)      # 遍历目标状态每一行\n",
        "                    for c, val in enumerate(row)             # 遍历该行中的每个元素\n",
        "                    if val == state[i][j]        # 如果目标状态中找到相同 tile\n",
        "                )\n",
        "\n",
        "                # 计算当前位置 (i, j) 到目标位置 (goal_row, goal_col) 的曼哈顿距离\n",
        "                distance += abs(i - goal_row) + abs(j - goal_col)\n",
        "\n",
        "    return distance  # 返回总距离"
      ],
      "id": "Py8rUVZvX7ji"
    },
    {
      "cell_type": "markdown",
      "metadata": {
        "id": "a18973f9-d192-4202-9468-571fae0735f5"
      },
      "source": [
        "### **Exercice 4**\n",
        "1. Calculez la distance de Manhattan des états de l'exercice 2.\n",
        "2. Que pouvez-vous observer par rapport aux deux heuristiques ?"
      ],
      "id": "a18973f9-d192-4202-9468-571fae0735f5"
    },
    {
      "cell_type": "code",
      "execution_count": 9,
      "metadata": {
        "colab": {
          "base_uri": "https://localhost:8080/",
          "height": 1000
        },
        "id": "sR1UFPlRX_mK",
        "outputId": "02275aee-7ac4-4935-f39c-be9ed6945a26"
      },
      "outputs": [
        {
          "output_type": "stream",
          "name": "stdout",
          "text": [
            "Checking state\n"
          ]
        },
        {
          "output_type": "display_data",
          "data": {
            "text/plain": [
              "<IPython.core.display.HTML object>"
            ],
            "text/html": [
              "<table><tr><td style='background-color: lightblue; width: 30px; height: 30px; text-align: center; font-size: 20px;'>1</td><td style='background-color: lightblue; width: 30px; height: 30px; text-align: center; font-size: 20px;'>2</td><td style='background-color: lightblue; width: 30px; height: 30px; text-align: center; font-size: 20px;'>3</td></tr><tr><td style='background-color: lightblue; width: 30px; height: 30px; text-align: center; font-size: 20px;'>4</td><td style='background-color: lightblue; width: 30px; height: 30px; text-align: center; font-size: 20px;'>5</td><td style='background-color: lightgray; width: 30px; height: 30px; text-align: center; font-size: 20px;'> </td></tr><tr><td style='background-color: lightblue; width: 30px; height: 30px; text-align: center; font-size: 20px;'>6</td><td style='background-color: lightblue; width: 30px; height: 30px; text-align: center; font-size: 20px;'>7</td><td style='background-color: lightblue; width: 30px; height: 30px; text-align: center; font-size: 20px;'>8</td></tr></table>"
            ]
          },
          "metadata": {}
        },
        {
          "output_type": "stream",
          "name": "stdout",
          "text": [
            "The state has a Manhattan distance to the goal state of 5\n",
            "The state has 3 misplaced tiles\n",
            "\n",
            "Checking state\n"
          ]
        },
        {
          "output_type": "display_data",
          "data": {
            "text/plain": [
              "<IPython.core.display.HTML object>"
            ],
            "text/html": [
              "<table><tr><td style='background-color: lightblue; width: 30px; height: 30px; text-align: center; font-size: 20px;'>1</td><td style='background-color: lightblue; width: 30px; height: 30px; text-align: center; font-size: 20px;'>2</td><td style='background-color: lightblue; width: 30px; height: 30px; text-align: center; font-size: 20px;'>3</td></tr><tr><td style='background-color: lightgray; width: 30px; height: 30px; text-align: center; font-size: 20px;'> </td><td style='background-color: lightblue; width: 30px; height: 30px; text-align: center; font-size: 20px;'>5</td><td style='background-color: lightblue; width: 30px; height: 30px; text-align: center; font-size: 20px;'>6</td></tr><tr><td style='background-color: lightblue; width: 30px; height: 30px; text-align: center; font-size: 20px;'>4</td><td style='background-color: lightblue; width: 30px; height: 30px; text-align: center; font-size: 20px;'>7</td><td style='background-color: lightblue; width: 30px; height: 30px; text-align: center; font-size: 20px;'>8</td></tr></table>"
            ]
          },
          "metadata": {}
        },
        {
          "output_type": "stream",
          "name": "stdout",
          "text": [
            "The state has a Manhattan distance to the goal state of 3\n",
            "The state has 3 misplaced tiles\n",
            "\n",
            "Checking state\n"
          ]
        },
        {
          "output_type": "display_data",
          "data": {
            "text/plain": [
              "<IPython.core.display.HTML object>"
            ],
            "text/html": [
              "<table><tr><td style='background-color: lightblue; width: 30px; height: 30px; text-align: center; font-size: 20px;'>1</td><td style='background-color: lightgray; width: 30px; height: 30px; text-align: center; font-size: 20px;'> </td><td style='background-color: lightblue; width: 30px; height: 30px; text-align: center; font-size: 20px;'>3</td></tr><tr><td style='background-color: lightblue; width: 30px; height: 30px; text-align: center; font-size: 20px;'>4</td><td style='background-color: lightblue; width: 30px; height: 30px; text-align: center; font-size: 20px;'>2</td><td style='background-color: lightblue; width: 30px; height: 30px; text-align: center; font-size: 20px;'>5</td></tr><tr><td style='background-color: lightblue; width: 30px; height: 30px; text-align: center; font-size: 20px;'>7</td><td style='background-color: lightblue; width: 30px; height: 30px; text-align: center; font-size: 20px;'>8</td><td style='background-color: lightblue; width: 30px; height: 30px; text-align: center; font-size: 20px;'>6</td></tr></table>"
            ]
          },
          "metadata": {}
        },
        {
          "output_type": "stream",
          "name": "stdout",
          "text": [
            "The state has a Manhattan distance to the goal state of 3\n",
            "The state has 3 misplaced tiles\n",
            "\n",
            "Checking state\n"
          ]
        },
        {
          "output_type": "display_data",
          "data": {
            "text/plain": [
              "<IPython.core.display.HTML object>"
            ],
            "text/html": [
              "<table><tr><td style='background-color: lightblue; width: 30px; height: 30px; text-align: center; font-size: 20px;'>1</td><td style='background-color: lightgray; width: 30px; height: 30px; text-align: center; font-size: 20px;'> </td><td style='background-color: lightblue; width: 30px; height: 30px; text-align: center; font-size: 20px;'>3</td></tr><tr><td style='background-color: lightblue; width: 30px; height: 30px; text-align: center; font-size: 20px;'>4</td><td style='background-color: lightblue; width: 30px; height: 30px; text-align: center; font-size: 20px;'>5</td><td style='background-color: lightblue; width: 30px; height: 30px; text-align: center; font-size: 20px;'>2</td></tr><tr><td style='background-color: lightblue; width: 30px; height: 30px; text-align: center; font-size: 20px;'>7</td><td style='background-color: lightblue; width: 30px; height: 30px; text-align: center; font-size: 20px;'>6</td><td style='background-color: lightblue; width: 30px; height: 30px; text-align: center; font-size: 20px;'>8</td></tr></table>"
            ]
          },
          "metadata": {}
        },
        {
          "output_type": "stream",
          "name": "stdout",
          "text": [
            "The state has a Manhattan distance to the goal state of 5\n",
            "The state has 3 misplaced tiles\n",
            "\n",
            "Checking state\n"
          ]
        },
        {
          "output_type": "display_data",
          "data": {
            "text/plain": [
              "<IPython.core.display.HTML object>"
            ],
            "text/html": [
              "<table><tr><td style='background-color: lightblue; width: 30px; height: 30px; text-align: center; font-size: 20px;'>1</td><td style='background-color: lightgray; width: 30px; height: 30px; text-align: center; font-size: 20px;'> </td><td style='background-color: lightblue; width: 30px; height: 30px; text-align: center; font-size: 20px;'>3</td></tr><tr><td style='background-color: lightblue; width: 30px; height: 30px; text-align: center; font-size: 20px;'>4</td><td style='background-color: lightblue; width: 30px; height: 30px; text-align: center; font-size: 20px;'>2</td><td style='background-color: lightblue; width: 30px; height: 30px; text-align: center; font-size: 20px;'>5</td></tr><tr><td style='background-color: lightblue; width: 30px; height: 30px; text-align: center; font-size: 20px;'>6</td><td style='background-color: lightblue; width: 30px; height: 30px; text-align: center; font-size: 20px;'>7</td><td style='background-color: lightblue; width: 30px; height: 30px; text-align: center; font-size: 20px;'>8</td></tr></table>"
            ]
          },
          "metadata": {}
        },
        {
          "output_type": "stream",
          "name": "stdout",
          "text": [
            "The state has a Manhattan distance to the goal state of 7\n",
            "The state has 5 misplaced tiles\n",
            "\n",
            "Checking state\n"
          ]
        },
        {
          "output_type": "display_data",
          "data": {
            "text/plain": [
              "<IPython.core.display.HTML object>"
            ],
            "text/html": [
              "<table><tr><td style='background-color: lightblue; width: 30px; height: 30px; text-align: center; font-size: 20px;'>1</td><td style='background-color: lightblue; width: 30px; height: 30px; text-align: center; font-size: 20px;'>2</td><td style='background-color: lightblue; width: 30px; height: 30px; text-align: center; font-size: 20px;'>3</td></tr><tr><td style='background-color: lightblue; width: 30px; height: 30px; text-align: center; font-size: 20px;'>4</td><td style='background-color: lightgray; width: 30px; height: 30px; text-align: center; font-size: 20px;'> </td><td style='background-color: lightblue; width: 30px; height: 30px; text-align: center; font-size: 20px;'>6</td></tr><tr><td style='background-color: lightblue; width: 30px; height: 30px; text-align: center; font-size: 20px;'>7</td><td style='background-color: lightblue; width: 30px; height: 30px; text-align: center; font-size: 20px;'>5</td><td style='background-color: lightblue; width: 30px; height: 30px; text-align: center; font-size: 20px;'>8</td></tr></table>"
            ]
          },
          "metadata": {}
        },
        {
          "output_type": "stream",
          "name": "stdout",
          "text": [
            "The state has a Manhattan distance to the goal state of 2\n",
            "The state has 2 misplaced tiles\n",
            "\n",
            "Checking state\n"
          ]
        },
        {
          "output_type": "display_data",
          "data": {
            "text/plain": [
              "<IPython.core.display.HTML object>"
            ],
            "text/html": [
              "<table><tr><td style='background-color: lightblue; width: 30px; height: 30px; text-align: center; font-size: 20px;'>1</td><td style='background-color: lightblue; width: 30px; height: 30px; text-align: center; font-size: 20px;'>2</td><td style='background-color: lightblue; width: 30px; height: 30px; text-align: center; font-size: 20px;'>3</td></tr><tr><td style='background-color: lightgray; width: 30px; height: 30px; text-align: center; font-size: 20px;'> </td><td style='background-color: lightblue; width: 30px; height: 30px; text-align: center; font-size: 20px;'>4</td><td style='background-color: lightblue; width: 30px; height: 30px; text-align: center; font-size: 20px;'>6</td></tr><tr><td style='background-color: lightblue; width: 30px; height: 30px; text-align: center; font-size: 20px;'>7</td><td style='background-color: lightblue; width: 30px; height: 30px; text-align: center; font-size: 20px;'>5</td><td style='background-color: lightblue; width: 30px; height: 30px; text-align: center; font-size: 20px;'>8</td></tr></table>"
            ]
          },
          "metadata": {}
        },
        {
          "output_type": "stream",
          "name": "stdout",
          "text": [
            "The state has a Manhattan distance to the goal state of 3\n",
            "The state has 3 misplaced tiles\n",
            "\n",
            "Checking state\n"
          ]
        },
        {
          "output_type": "display_data",
          "data": {
            "text/plain": [
              "<IPython.core.display.HTML object>"
            ],
            "text/html": [
              "<table><tr><td style='background-color: lightblue; width: 30px; height: 30px; text-align: center; font-size: 20px;'>1</td><td style='background-color: lightblue; width: 30px; height: 30px; text-align: center; font-size: 20px;'>2</td><td style='background-color: lightblue; width: 30px; height: 30px; text-align: center; font-size: 20px;'>3</td></tr><tr><td style='background-color: lightblue; width: 30px; height: 30px; text-align: center; font-size: 20px;'>4</td><td style='background-color: lightblue; width: 30px; height: 30px; text-align: center; font-size: 20px;'>6</td><td style='background-color: lightgray; width: 30px; height: 30px; text-align: center; font-size: 20px;'> </td></tr><tr><td style='background-color: lightblue; width: 30px; height: 30px; text-align: center; font-size: 20px;'>7</td><td style='background-color: lightblue; width: 30px; height: 30px; text-align: center; font-size: 20px;'>5</td><td style='background-color: lightblue; width: 30px; height: 30px; text-align: center; font-size: 20px;'>8</td></tr></table>"
            ]
          },
          "metadata": {}
        },
        {
          "output_type": "stream",
          "name": "stdout",
          "text": [
            "The state has a Manhattan distance to the goal state of 3\n",
            "The state has 3 misplaced tiles\n",
            "\n",
            "Checking state\n"
          ]
        },
        {
          "output_type": "display_data",
          "data": {
            "text/plain": [
              "<IPython.core.display.HTML object>"
            ],
            "text/html": [
              "<table><tr><td style='background-color: lightblue; width: 30px; height: 30px; text-align: center; font-size: 20px;'>1</td><td style='background-color: lightblue; width: 30px; height: 30px; text-align: center; font-size: 20px;'>3</td><td style='background-color: lightblue; width: 30px; height: 30px; text-align: center; font-size: 20px;'>6</td></tr><tr><td style='background-color: lightblue; width: 30px; height: 30px; text-align: center; font-size: 20px;'>4</td><td style='background-color: lightblue; width: 30px; height: 30px; text-align: center; font-size: 20px;'>2</td><td style='background-color: lightblue; width: 30px; height: 30px; text-align: center; font-size: 20px;'>5</td></tr><tr><td style='background-color: lightblue; width: 30px; height: 30px; text-align: center; font-size: 20px;'>7</td><td style='background-color: lightgray; width: 30px; height: 30px; text-align: center; font-size: 20px;'> </td><td style='background-color: lightblue; width: 30px; height: 30px; text-align: center; font-size: 20px;'>8</td></tr></table>"
            ]
          },
          "metadata": {}
        },
        {
          "output_type": "stream",
          "name": "stdout",
          "text": [
            "The state has a Manhattan distance to the goal state of 5\n",
            "The state has 5 misplaced tiles\n",
            "\n",
            "Checking state\n"
          ]
        },
        {
          "output_type": "display_data",
          "data": {
            "text/plain": [
              "<IPython.core.display.HTML object>"
            ],
            "text/html": [
              "<table><tr><td style='background-color: lightblue; width: 30px; height: 30px; text-align: center; font-size: 20px;'>1</td><td style='background-color: lightblue; width: 30px; height: 30px; text-align: center; font-size: 20px;'>3</td><td style='background-color: lightblue; width: 30px; height: 30px; text-align: center; font-size: 20px;'>6</td></tr><tr><td style='background-color: lightblue; width: 30px; height: 30px; text-align: center; font-size: 20px;'>4</td><td style='background-color: lightblue; width: 30px; height: 30px; text-align: center; font-size: 20px;'>2</td><td style='background-color: lightgray; width: 30px; height: 30px; text-align: center; font-size: 20px;'> </td></tr><tr><td style='background-color: lightblue; width: 30px; height: 30px; text-align: center; font-size: 20px;'>7</td><td style='background-color: lightblue; width: 30px; height: 30px; text-align: center; font-size: 20px;'>5</td><td style='background-color: lightblue; width: 30px; height: 30px; text-align: center; font-size: 20px;'>8</td></tr></table>"
            ]
          },
          "metadata": {}
        },
        {
          "output_type": "stream",
          "name": "stdout",
          "text": [
            "The state has a Manhattan distance to the goal state of 5\n",
            "The state has 5 misplaced tiles\n",
            "\n",
            "Checking state\n"
          ]
        },
        {
          "output_type": "display_data",
          "data": {
            "text/plain": [
              "<IPython.core.display.HTML object>"
            ],
            "text/html": [
              "<table><tr><td style='background-color: lightblue; width: 30px; height: 30px; text-align: center; font-size: 20px;'>1</td><td style='background-color: lightblue; width: 30px; height: 30px; text-align: center; font-size: 20px;'>3</td><td style='background-color: lightblue; width: 30px; height: 30px; text-align: center; font-size: 20px;'>6</td></tr><tr><td style='background-color: lightblue; width: 30px; height: 30px; text-align: center; font-size: 20px;'>4</td><td style='background-color: lightgray; width: 30px; height: 30px; text-align: center; font-size: 20px;'> </td><td style='background-color: lightblue; width: 30px; height: 30px; text-align: center; font-size: 20px;'>2</td></tr><tr><td style='background-color: lightblue; width: 30px; height: 30px; text-align: center; font-size: 20px;'>7</td><td style='background-color: lightblue; width: 30px; height: 30px; text-align: center; font-size: 20px;'>5</td><td style='background-color: lightblue; width: 30px; height: 30px; text-align: center; font-size: 20px;'>8</td></tr></table>"
            ]
          },
          "metadata": {}
        },
        {
          "output_type": "stream",
          "name": "stdout",
          "text": [
            "The state has a Manhattan distance to the goal state of 6\n",
            "The state has 5 misplaced tiles\n",
            "\n",
            "Checking state\n"
          ]
        },
        {
          "output_type": "display_data",
          "data": {
            "text/plain": [
              "<IPython.core.display.HTML object>"
            ],
            "text/html": [
              "<table><tr><td style='background-color: lightblue; width: 30px; height: 30px; text-align: center; font-size: 20px;'>3</td><td style='background-color: lightblue; width: 30px; height: 30px; text-align: center; font-size: 20px;'>1</td><td style='background-color: lightblue; width: 30px; height: 30px; text-align: center; font-size: 20px;'>2</td></tr><tr><td style='background-color: lightblue; width: 30px; height: 30px; text-align: center; font-size: 20px;'>4</td><td style='background-color: lightblue; width: 30px; height: 30px; text-align: center; font-size: 20px;'>6</td><td style='background-color: lightblue; width: 30px; height: 30px; text-align: center; font-size: 20px;'>5</td></tr><tr><td style='background-color: lightblue; width: 30px; height: 30px; text-align: center; font-size: 20px;'>7</td><td style='background-color: lightgray; width: 30px; height: 30px; text-align: center; font-size: 20px;'> </td><td style='background-color: lightblue; width: 30px; height: 30px; text-align: center; font-size: 20px;'>8</td></tr></table>"
            ]
          },
          "metadata": {}
        },
        {
          "output_type": "stream",
          "name": "stdout",
          "text": [
            "The state has a Manhattan distance to the goal state of 7\n",
            "The state has 6 misplaced tiles\n",
            "\n",
            "Checking state\n"
          ]
        },
        {
          "output_type": "display_data",
          "data": {
            "text/plain": [
              "<IPython.core.display.HTML object>"
            ],
            "text/html": [
              "<table><tr><td style='background-color: lightblue; width: 30px; height: 30px; text-align: center; font-size: 20px;'>8</td><td style='background-color: lightblue; width: 30px; height: 30px; text-align: center; font-size: 20px;'>1</td><td style='background-color: lightblue; width: 30px; height: 30px; text-align: center; font-size: 20px;'>2</td></tr><tr><td style='background-color: lightgray; width: 30px; height: 30px; text-align: center; font-size: 20px;'> </td><td style='background-color: lightblue; width: 30px; height: 30px; text-align: center; font-size: 20px;'>4</td><td style='background-color: lightblue; width: 30px; height: 30px; text-align: center; font-size: 20px;'>3</td></tr><tr><td style='background-color: lightblue; width: 30px; height: 30px; text-align: center; font-size: 20px;'>7</td><td style='background-color: lightblue; width: 30px; height: 30px; text-align: center; font-size: 20px;'>6</td><td style='background-color: lightblue; width: 30px; height: 30px; text-align: center; font-size: 20px;'>5</td></tr></table>"
            ]
          },
          "metadata": {}
        },
        {
          "output_type": "stream",
          "name": "stdout",
          "text": [
            "The state has a Manhattan distance to the goal state of 11\n",
            "The state has 7 misplaced tiles\n",
            "\n",
            "Checking state\n"
          ]
        },
        {
          "output_type": "display_data",
          "data": {
            "text/plain": [
              "<IPython.core.display.HTML object>"
            ],
            "text/html": [
              "<table><tr><td style='background-color: lightblue; width: 30px; height: 30px; text-align: center; font-size: 20px;'>1</td><td style='background-color: lightblue; width: 30px; height: 30px; text-align: center; font-size: 20px;'>4</td><td style='background-color: lightblue; width: 30px; height: 30px; text-align: center; font-size: 20px;'>2</td></tr><tr><td style='background-color: lightblue; width: 30px; height: 30px; text-align: center; font-size: 20px;'>7</td><td style='background-color: lightgray; width: 30px; height: 30px; text-align: center; font-size: 20px;'> </td><td style='background-color: lightblue; width: 30px; height: 30px; text-align: center; font-size: 20px;'>6</td></tr><tr><td style='background-color: lightblue; width: 30px; height: 30px; text-align: center; font-size: 20px;'>5</td><td style='background-color: lightblue; width: 30px; height: 30px; text-align: center; font-size: 20px;'>3</td><td style='background-color: lightblue; width: 30px; height: 30px; text-align: center; font-size: 20px;'>8</td></tr></table>"
            ]
          },
          "metadata": {}
        },
        {
          "output_type": "stream",
          "name": "stdout",
          "text": [
            "The state has a Manhattan distance to the goal state of 10\n",
            "The state has 6 misplaced tiles\n",
            "\n",
            "Checking state\n"
          ]
        },
        {
          "output_type": "display_data",
          "data": {
            "text/plain": [
              "<IPython.core.display.HTML object>"
            ],
            "text/html": [
              "<table><tr><td style='background-color: lightblue; width: 30px; height: 30px; text-align: center; font-size: 20px;'>2</td><td style='background-color: lightblue; width: 30px; height: 30px; text-align: center; font-size: 20px;'>8</td><td style='background-color: lightblue; width: 30px; height: 30px; text-align: center; font-size: 20px;'>3</td></tr><tr><td style='background-color: lightblue; width: 30px; height: 30px; text-align: center; font-size: 20px;'>1</td><td style='background-color: lightblue; width: 30px; height: 30px; text-align: center; font-size: 20px;'>6</td><td style='background-color: lightblue; width: 30px; height: 30px; text-align: center; font-size: 20px;'>4</td></tr><tr><td style='background-color: lightblue; width: 30px; height: 30px; text-align: center; font-size: 20px;'>7</td><td style='background-color: lightgray; width: 30px; height: 30px; text-align: center; font-size: 20px;'> </td><td style='background-color: lightblue; width: 30px; height: 30px; text-align: center; font-size: 20px;'>5</td></tr></table>"
            ]
          },
          "metadata": {}
        },
        {
          "output_type": "stream",
          "name": "stdout",
          "text": [
            "The state has a Manhattan distance to the goal state of 9\n",
            "The state has 6 misplaced tiles\n",
            "\n"
          ]
        }
      ],
      "source": [
        "# 定义多个拼图初始状态（3x3 的拼图，每个列表代表一个状态）\n",
        "# 每个状态都是一个列表的列表（3 行，每行 3 列）\n",
        "initial_states = [\n",
        "    [[1, 2, 3], [4, 5, 0], [6, 7, 8]],   # 几乎完成，只差一个 tile\n",
        "    [[1, 2, 3], [0, 5, 6], [4, 7, 8]],\n",
        "    [[1, 0, 3], [4, 2, 5], [7, 8, 6]],\n",
        "    [[1, 0, 3], [4, 5, 2], [7, 6, 8]],\n",
        "    [[1, 0, 3], [4, 2, 5], [6, 7, 8]],\n",
        "    [[1, 2, 3], [4, 0, 6], [7, 5, 8]],\n",
        "    [[1, 2, 3], [0, 4, 6], [7, 5, 8]],\n",
        "    [[1, 2, 3], [4, 6, 0], [7, 5, 8]],\n",
        "    [[1, 3, 6], [4, 2, 5], [7, 0, 8]],\n",
        "    [[1, 3, 6], [4, 2, 0], [7, 5, 8]],\n",
        "    [[1, 3, 6], [4, 0, 2], [7, 5, 8]],\n",
        "    [[3, 1, 2], [4, 6, 5], [7, 0, 8]],\n",
        "    [[8, 1, 2], [0, 4, 3], [7, 6, 5]],\n",
        "    [[1, 4, 2], [7, 0, 6], [5, 3, 8]],\n",
        "    [[2, 8, 3], [1, 6, 4], [7, 0, 5]]\n",
        "]\n",
        "\n",
        "# 定义目标状态（完成拼图后的正确配置）\n",
        "goal_state = [[1, 2, 3], [4, 5, 6], [7, 8, 0]]\n",
        "\n",
        "\n",
        "# 遍历每一个初始状态，逐个进行评估和可视化\n",
        "for state in initial_states:\n",
        "    print('Checking state')  # 显示当前正在处理的状态\n",
        "\n",
        "    visualize_state(state)  # 使用 HTML 表格在 Jupyter Notebook 中直观显示当前拼图布局\n",
        "\n",
        "    # 计算当前状态与目标状态之间的曼哈顿距离（估计最少需要几步到达目标）\n",
        "    print('The state has a Manhattan distance to the goal state of',\n",
        "          manhattan_distance(state, goal_state))\n",
        "\n",
        "    # 计算当前状态中有多少块 tile 不在正确位置（不含空格）\n",
        "    print('The state has', misplaced_tiles(state, goal_state), 'misplaced tiles')\n",
        "\n",
        "    print()  # 打印空行用于分隔各个状态的结果输出"
      ],
      "id": "sR1UFPlRX_mK"
    },
    {
      "cell_type": "markdown",
      "metadata": {
        "id": "320f3448-3bfa-49a8-a384-c6015c248198"
      },
      "source": [
        "# **Partie 2 : Algorithme A étoile**"
      ],
      "id": "320f3448-3bfa-49a8-a384-c6015c248198"
    },
    {
      "cell_type": "markdown",
      "metadata": {
        "id": "h7rz7ucRYjOU"
      },
      "source": [
        "### **Exercice 5**\n",
        "\n",
        "Créer une fonction A_etoile qui prend un objet problem en entrée ainsi qu'une heuristique et exécute l'algorithme A.*\n",
        "\n",
        "Votre fonction doit :\n",
        "\n",
        "1. Retourner le nœud objectif trouvé ainsi que le nombre de nœuds explorés.\n",
        "2. Retourner None si l'algorithme explore tout l'arbre sans trouver le nœud objectif.\n",
        "3. Prendre en compte un budget d'exploration pour arrêter l'algorithme si aucune solution n'est trouvée après plusieurs itérations (utile pour les grands problèmes). Le budget sera également un paramètre d'entrée de la fonction, avec float('inf') comme valeur par défaut.\n",
        "\n",
        "Pour la **frontière** et l'ensemble des **nœuds déjà explorés**, vous pouvez utiliser des listes. Cependant, la frontière doit contenir les nœuds à explorer ainsi que leurs coûts (coût réel + heuristique). Pour trouver l'élément (nœud, coût) de coût minimal dans la frontière, effectuez une boucle **for** pour trouver l'indice, puis utilisez pop.\n",
        "\n",
        "Pour ajouter un élément à une liste, vous pouvez utiliser **liste.append(element)**.\n",
        "\n",
        "Rappelez-vous que la vérification **is_goal** doit être effectuée avant d'explorer les enfants."
      ],
      "id": "h7rz7ucRYjOU"
    },
    {
      "cell_type": "code",
      "execution_count": 10,
      "metadata": {
        "id": "j_YHqTghZCvJ"
      },
      "outputs": [],
      "source": [
        "def a_etoile(problem, heuristic, Max_it = float('inf')):\n",
        "    \"\"\"\n",
        "    A*搜索算法的实现，用于在拼图问题等图搜索问题中寻找从初始状态到目标状态的最优路径。\n",
        "\n",
        "    参数：\n",
        "        problem: 一个定义好的问题对象（例如 Taquin 类实例），提供初始状态、动作、目标检测、状态转换等方法。\n",
        "        heuristic: 启发式函数（例如 misplaced_tiles 或 manhattan_distance），用于估算当前状态到目标的距离。\n",
        "        Max_it: 最大迭代次数（可选，用于限制搜索深度，默认为无穷）\n",
        "\n",
        "    返回：\n",
        "        (solution_node, iteration_count) 元组\n",
        "            - solution_node: 到达目标状态的节点（包含路径、动作序列等）\n",
        "            - iteration_count: 实际迭代次数（用于评估搜索开销）\n",
        "        若未找到解决方案，则返回 (None, iteration_count)\n",
        "    \"\"\"\n",
        "\n",
        "    # 初始化 frontier：优先队列（列表），元素为 (f值, 节点)\n",
        "    frontier = [(0, Node(problem.initial_state))]\n",
        "\n",
        "    # explored：用于记录已经访问过的状态，避免重复扩展\n",
        "    explored = []\n",
        "\n",
        "    it = 0  # 用于计数迭代次数（诊断搜索效率）\n",
        "\n",
        "    # 主循环：只要还有待探索的节点，且未超过最大迭代次数\n",
        "    while frontier and it < Max_it:\n",
        "        it += 1  # 增加迭代计数器\n",
        "\n",
        "        # 手动搜索 frontier 中 f 值最小的节点（因为这里用的是普通列表）\n",
        "        min_f = float('inf')  # 当前最小的 f 值\n",
        "        min_index = -1        # 最小 f 值对应的索引\n",
        "        for i, (f, node) in enumerate(frontier):\n",
        "            if f < min_f:\n",
        "                min_f = f\n",
        "                min_index = i\n",
        "\n",
        "        # 将 f 值最小的节点从 frontier 中移除，作为当前要扩展的节点\n",
        "        _, node = frontier.pop(min_index)\n",
        "\n",
        "        # 如果该节点已经是目标状态，则返回结果\n",
        "        if problem.is_goal(node.state):\n",
        "            return node, it  # 成功找到解决方案，返回最终节点和迭代次数\n",
        "\n",
        "        # 否则将该节点的状态加入 explored 集合，表示已访问\n",
        "        explored.append(node.state)\n",
        "\n",
        "        # 对当前节点进行扩展（生成所有合法子节点）\n",
        "        for child in node.expand(problem):\n",
        "            if child.state not in explored:\n",
        "                # 计算代价函数 f(n) = g(n) + h(n)\n",
        "                g = child.path_cost  # 实际路径代价（从起点到当前节点）\n",
        "                h = heuristic(child.state, problem.goal_state)  # 启发式估值\n",
        "                f = g + h  # 总估价函数\n",
        "\n",
        "                # 将子节点加入 frontier 中等待后续探索\n",
        "                frontier.append((f, child))\n",
        "\n",
        "    # 如果退出循环，说明没有找到目标状态（或达到最大迭代次数）\n",
        "    return None, it\n"
      ],
      "id": "j_YHqTghZCvJ"
    },
    {
      "cell_type": "markdown",
      "metadata": {
        "id": "9ym6ZMySc5XV"
      },
      "source": [
        "### **Exercice 6**\n",
        "\n",
        "Appliquez votre fonction A_etoile pour résoudre un Taquin 3x3 avec l'état initial [[1, 2, 3], [4, 5, 6], [0, 7, 8]] et les deux heuristiques.\n",
        "\n",
        "Imprimez :\n",
        "1. Le nombre de nœuds explorés par l'algorithme.\n",
        "2. Le chemin permettant de passer de l'état initial à l'état objectif (la liste des actions effectuées).\n",
        "3. Que pouvez-vous observer entre les deux heuristiques ?"
      ],
      "id": "9ym6ZMySc5XV"
    },
    {
      "cell_type": "code",
      "execution_count": 14,
      "metadata": {
        "colab": {
          "base_uri": "https://localhost:8080/",
          "height": 209
        },
        "id": "E55HyWdpc5qU",
        "outputId": "fbc0529b-7c7e-4156-e1d6-d63364781ed2"
      },
      "outputs": [
        {
          "output_type": "stream",
          "name": "stdout",
          "text": [
            "Initial state\n"
          ]
        },
        {
          "output_type": "display_data",
          "data": {
            "text/plain": [
              "<IPython.core.display.HTML object>"
            ],
            "text/html": [
              "<table><tr><td style='background-color: lightblue; width: 30px; height: 30px; text-align: center; font-size: 20px;'>1</td><td style='background-color: lightblue; width: 30px; height: 30px; text-align: center; font-size: 20px;'>2</td><td style='background-color: lightblue; width: 30px; height: 30px; text-align: center; font-size: 20px;'>3</td></tr><tr><td style='background-color: lightblue; width: 30px; height: 30px; text-align: center; font-size: 20px;'>4</td><td style='background-color: lightblue; width: 30px; height: 30px; text-align: center; font-size: 20px;'>5</td><td style='background-color: lightgray; width: 30px; height: 30px; text-align: center; font-size: 20px;'> </td></tr><tr><td style='background-color: lightblue; width: 30px; height: 30px; text-align: center; font-size: 20px;'>6</td><td style='background-color: lightblue; width: 30px; height: 30px; text-align: center; font-size: 20px;'>7</td><td style='background-color: lightblue; width: 30px; height: 30px; text-align: center; font-size: 20px;'>8</td></tr></table>"
            ]
          },
          "metadata": {}
        },
        {
          "output_type": "stream",
          "name": "stdout",
          "text": [
            "✅ Solution with 1st heuristic (misplaced tiles) found in 196 iterations\n",
            "🔁 Actions: ['down', 'left', 'left', 'up', 'right', 'down', 'right', 'up', 'left', 'left', 'down', 'right', 'right']\n",
            "✅ Solution with 2nd heuristic (manhattan distance) found in 85 iterations\n",
            "🔁 Actions: ['down', 'left', 'left', 'up', 'right', 'down', 'right', 'up', 'left', 'left', 'down', 'right', 'right']\n"
          ]
        }
      ],
      "source": [
        "# 定义初始状态和目标状态\n",
        "initial_state = [[1, 2, 3], [4, 5, 0], [6, 7, 8]]\n",
        "goal_state = [[1, 2, 3], [4, 5, 6], [7, 8, 0]]\n",
        "\n",
        "# 打印并可视化初始状态（需在 Jupyter Notebook 中运行）\n",
        "print('Initial state')\n",
        "visualize_state(initial_state)\n",
        "\n",
        "# 创建 Taquin 问题实例（定义初始状态、目标状态和拼图大小）\n",
        "problem = Taquin(initial_state, goal_state, len(initial_state[0]))\n",
        "\n",
        "# 使用错位块（misplaced tiles）启发函数运行 A* 算法\n",
        "solution_node_misplaced, it_misplaced = a_etoile(\n",
        "    problem,\n",
        "    misplaced_tiles,\n",
        "    Max_it = 20000\n",
        ")\n",
        "\n",
        "# 使用曼哈顿距离（manhattan distance）启发函数运行 A* 算法\n",
        "solution_node_manhattan, it_manhattan = a_etoile(\n",
        "    problem,\n",
        "    manhattan_distance,\n",
        "    Max_it = 20000\n",
        ")\n",
        "\n",
        "# 打印使用第一个启发函数的结果（错位块数）\n",
        "if solution_node_misplaced:\n",
        "    print(\"✅ Solution with 1st heuristic (misplaced tiles) found in\", it_misplaced, \"iterations\")\n",
        "    print(\"🔁 Actions:\", solution_node_misplaced.solution())\n",
        "\n",
        "    # 如果需要，可取消注释以下代码来可视化整条路径\n",
        "    # t = 1\n",
        "    # for node in solution_node_misplaced.path():\n",
        "    #     print(t, \"-th element of the path\")\n",
        "    #     visualize_state(node.state)\n",
        "    #     t += 1\n",
        "else:\n",
        "    print(\"❌ A* with h1 (misplaced tiles) did not find a solution.\")\n",
        "\n",
        "# 打印使用第二个启发函数的结果（曼哈顿距离）\n",
        "if solution_node_manhattan:\n",
        "    print(\"✅ Solution with 2nd heuristic (manhattan distance) found in\", it_manhattan, \"iterations\")\n",
        "    print(\"🔁 Actions:\", solution_node_manhattan.solution())\n",
        "\n",
        "    # 如果需要，可取消注释以下代码来可视化整条路径\n",
        "    # t = 1\n",
        "    # for node in solution_node_manhattan.path():\n",
        "    #     print(t, \"-th element of the path\")\n",
        "    #     visualize_state(node.state)\n",
        "    #     t += 1\n",
        "else:\n",
        "    print(\"❌ A* with h2 (manhattan distance) did not find a solution.\")\n"
      ],
      "id": "E55HyWdpc5qU"
    },
    {
      "cell_type": "markdown",
      "metadata": {
        "id": "Yd86WvHB10aR"
      },
      "source": [
        "# **Partie 3 : Comparaison empirique de DFS, BFS, A etoile avec H1 et A etoile avec H2**"
      ],
      "id": "Yd86WvHB10aR"
    },
    {
      "cell_type": "markdown",
      "metadata": {
        "id": "OFK7Y0ms1-6H"
      },
      "source": [
        "Nous allons comparer les quatre algorithmes sur les 15 instances du jeu de Taquin de l'exercice 2. Pour cela, voici les résultats de BFS et DFS sur ces 15 instances. Attention au format des tableaux. Les noms des colonnes peuvent différer de ceux que vous avez utilisés. De plus, un path_length égal à -1 signifie que l'algorithme n'a pas trouvé la solution avant d'atteindre le budget d'exploration.\n",
        "我们将对练习 2 中的 15 个 Taquin 拼图实例使用四种算法进行比较。\n",
        "为此，这里是 BFS 和 DFS 在这 15 个实例上的结果。\n",
        "请注意表格的格式，列名可能与你所使用的不同。\n",
        "此外，若 path_length 的值为 -1，表示该算法在达到探索预算之前未能找到解决方案。"
      ],
      "id": "OFK7Y0ms1-6H"
    },
    {
      "cell_type": "code",
      "execution_count": null,
      "metadata": {
        "id": "Of9AZvcz8Irk"
      },
      "outputs": [],
      "source": [
        "results_BFS = [\n",
        "{'initial_state': [[1, 2, 3], [4, 5, 0], [6, 7, 8]],'algorithm': 'breadth_first_search', 'num_explorations': 1846, 'path_length': 13, 'execution_time': 0.2773609161376953},\n",
        "{'initial_state': [[1, 2, 3], [0, 5, 6], [4, 7, 8]], 'algorithm': 'breadth_first_search', 'num_explorations': 6, 'path_length': 3, 'execution_time': 0.0},\n",
        "{'initial_state': [[1, 0, 3], [4, 2, 5], [7, 8, 6]], 'algorithm': 'breadth_first_search', 'num_explorations': 7, 'path_length': 3, 'execution_time': 0.0},\n",
        "{'initial_state': [[1, 0, 3], [4, 5, 2], [7, 6, 8]], 'algorithm': 'breadth_first_search', 'num_explorations': 10911, 'path_length': 17, 'execution_time': 8.975327491760254},\n",
        "{'initial_state': [[1, 0, 3], [4, 2, 5], [6, 7, 8]], 'algorithm': 'breadth_first_search', 'num_explorations': 4960, 'path_length': 15, 'execution_time': 1.831636905670166},\n",
        "{'initial_state': [[1, 2, 3], [4, 0, 6], [7, 5, 8]], 'algorithm': 'breadth_first_search', 'num_explorations': 3, 'path_length': 2, 'execution_time': 0.0},\n",
        "{'initial_state': [[1, 2, 3], [0, 4, 6], [7, 5, 8]], 'algorithm': 'breadth_first_search', 'num_explorations': 8, 'path_length': 3, 'execution_time': 0.0},\n",
        "{'initial_state': [[1, 2, 3], [4, 6, 0], [7, 5, 8]], 'algorithm': 'breadth_first_search', 'num_explorations': 8, 'path_length': 3, 'execution_time': 0.0},\n",
        "{'initial_state': [[1, 3, 6], [4, 2, 5], [7, 0, 8]], 'algorithm': 'breadth_first_search', 'num_explorations': 20000, 'path_length': -1, 'execution_time': 36.05873966217041},\n",
        "{'initial_state': [[1, 3, 6], [4, 2, 0], [7, 5, 8]], 'algorithm': 'breadth_first_search', 'num_explorations': 20, 'path_length': 5, 'execution_time': 0.0},\n",
        "{'initial_state': [[1, 3, 6], [4, 0, 2], [7, 5, 8]], 'algorithm': 'breadth_first_search', 'num_explorations': 62, 'path_length': 6, 'execution_time': 0.0019948482513427734},\n",
        "{'initial_state': [[3, 1, 2], [4, 6, 5], [7, 0, 8]], 'algorithm': 'breadth_first_search', 'num_explorations': 20000, 'path_length': -1, 'execution_time': 40.92391228675842},\n",
        "{'initial_state': [[8, 1, 2], [0, 4, 3], [7, 6, 5]], 'algorithm': 'breadth_first_search', 'num_explorations': 20000, 'path_length': -1, 'execution_time': 40.67150044441223},\n",
        "{'initial_state': [[1, 4, 2], [7, 0, 6], [5, 3, 8]], 'algorithm': 'breadth_first_search', 'num_explorations': 3321, 'path_length': 14, 'execution_time': 0.8201050758361816},\n",
        "{'initial_state': [[2, 8, 3], [1, 6, 4], [7, 0, 5]], 'algorithm': 'breadth_first_search', 'num_explorations': 20000, 'path_length': -1, 'execution_time': 42.47766828536987}\n",
        "]\n",
        "results_DFS = [\n",
        "{'initial_state': [[1, 2, 3], [4, 5, 0], [6, 7, 8]], 'algorithm': 'depth_first_search', 'num_explorations': 20000, 'path_length': -1, 'execution_time': 69.51113247871399},\n",
        "{'initial_state': [[1, 2, 3], [0, 5, 6], [4, 7, 8]], 'algorithm': 'depth_first_search', 'num_explorations': 27, 'path_length': 27, 'execution_time': 0.0},\n",
        "{'initial_state': [[1, 0, 3], [4, 2, 5], [7, 8, 6]], 'algorithm': 'depth_first_search', 'num_explorations': 20000, 'path_length': -1, 'execution_time': 60.40420460700989},\n",
        "{'initial_state': [[1, 0, 3], [4, 5, 2], [7, 6, 8]], 'algorithm': 'depth_first_search', 'num_explorations': 20000, 'path_length': -1, 'execution_time': 62.47419261932373},\n",
        "{'initial_state': [[1, 0, 3], [4, 2, 5], [6, 7, 8]], 'algorithm': 'depth_first_search', 'num_explorations': 20000, 'path_length': -1, 'execution_time': 67.59605073928833},\n",
        "{'initial_state': [[1, 2, 3], [4, 0, 6], [7, 5, 8]], 'algorithm': 'depth_first_search', 'num_explorations': 412, 'path_length': 406, 'execution_time': 0.02211737632751465},\n",
        "{'initial_state': [[1, 2, 3], [0, 4, 6], [7, 5, 8]], 'algorithm': 'depth_first_search', 'num_explorations': 20000, 'path_length': -1, 'execution_time': 65.1717848777771},\n",
        "{'initial_state': [[1, 2, 3], [4, 6, 0], [7, 5, 8]], 'algorithm': 'depth_first_search', 'num_explorations': 886, 'path_length': 871, 'execution_time': 0.08270859718322754},\n",
        "{'initial_state': [[1, 3, 6], [4, 2, 5], [7, 0, 8]], 'algorithm': 'depth_first_search', 'num_explorations': 20000, 'path_length': -1, 'execution_time': 66.5749568939209},\n",
        "{'initial_state': [[1, 3, 6], [4, 2, 0], [7, 5, 8]], 'algorithm': 'depth_first_search', 'num_explorations': 20000, 'path_length': -1, 'execution_time': 65.61762142181396},\n",
        "{'initial_state': [[1, 3, 6], [4, 0, 2], [7, 5, 8]], 'algorithm': 'depth_first_search', 'num_explorations': 20000, 'path_length': -1, 'execution_time': 66.86844420433044},\n",
        "{'initial_state': [[3, 1, 2], [4, 6, 5], [7, 0, 8]], 'algorithm': 'depth_first_search', 'num_explorations': 20000, 'path_length': -1, 'execution_time': 80.54781603813171},\n",
        "{'initial_state': [[8, 1, 2], [0, 4, 3], [7, 6, 5]], 'algorithm': 'depth_first_search', 'num_explorations': 20000, 'path_length': -1, 'execution_time': 75.41818499565125},\n",
        "{'initial_state': [[1, 4, 2], [7, 0, 6], [5, 3, 8]], 'algorithm': 'depth_first_search', 'num_explorations': 20000, 'path_length': -1, 'execution_time': 69.51109766960144},\n",
        "{'initial_state': [[2, 8, 3], [1, 6, 4], [7, 0, 5]], 'algorithm': 'depth_first_search', 'num_explorations': 20000, 'path_length': -1, 'execution_time': 83.47795271873474}\n",
        "]"
      ],
      "id": "Of9AZvcz8Irk"
    },
    {
      "cell_type": "markdown",
      "metadata": {
        "id": "Au6p2iO57EXJ"
      },
      "source": [
        "### **Exercice 7**\n",
        "Utilisez (et adaptez si nécessaire) votre fonction compare_algorithms du premier TP pour résoudre tous les jeux avec les deux versions de l'algorithme A etoile.\n"
      ],
      "id": "Au6p2iO57EXJ"
    },
    {
      "cell_type": "code",
      "execution_count": 17,
      "metadata": {
        "id": "EqH6plKz1-SZ"
      },
      "outputs": [],
      "source": [
        "import time  # 用于测量执行时间\n",
        "\n",
        "def compare_algorithms(initial_states, goal_state, heuristics, max_it):\n",
        "    \"\"\"\n",
        "    比较不同启发式函数的 A* 算法在多个 Taquin 初始状态上的表现。\n",
        "\n",
        "    参数：\n",
        "        initial_states: 一个列表，包含多个拼图初始状态（3x3 的二维数组）\n",
        "        goal_state: 拼图目标状态（3x3）\n",
        "        heuristics: 启发式函数列表，例如 [misplaced_tiles, manhattan_distance]\n",
        "        max_it: A* 允许的最大迭代次数\n",
        "\n",
        "    返回：\n",
        "        results: 包含每个启发函数对应的结果列表，结构为 results[i][j] = 第i个启发函数在第j个状态下的结果\n",
        "    \"\"\"\n",
        "\n",
        "    results = [[] for _ in range(len(heuristics))]  # 为每个启发式函数创建一个结果列表\n",
        "\n",
        "    for initial_state in initial_states:\n",
        "        print('Solving state')\n",
        "        visualize_state(initial_state)  # 可视化当前拼图状态（需在 Jupyter 中运行）\n",
        "\n",
        "        # 构造问题实例\n",
        "        problem = Taquin(initial_state, goal_state, len(initial_state[0]))\n",
        "\n",
        "        # 对每个启发函数执行 A* 搜索\n",
        "        for k in range(len(heuristics)):\n",
        "            heuristic = heuristics[k]\n",
        "            print('Running A* with', heuristic.__name__)  # 打印当前使用的启发函数名\n",
        "\n",
        "            start_time = time.time()  # 记录开始时间\n",
        "            solution_node, num_explorations = a_etoile(problem, heuristic, max_it)  # 运行 A*\n",
        "            end_time = time.time()  # 记录结束时间\n",
        "\n",
        "            execution_time = end_time - start_time  # 计算执行时间\n",
        "\n",
        "            if solution_node:\n",
        "                path_length = len(solution_node.solution())  # 计算解决方案路径长度\n",
        "            else:\n",
        "                path_length = -1  # 如果未找到解，路径长度设为 -1\n",
        "\n",
        "            # 将结果记录到对应启发函数的结果列表中\n",
        "            results[k].append({\n",
        "                \"initial_state\": initial_state,\n",
        "                \"algorithm\": heuristic.__name__,     # 启发函数名\n",
        "                \"num_explorations\": num_explorations,  # 节点扩展次数\n",
        "                \"path_length\": path_length,          # 解路径长度\n",
        "                \"execution_time\": execution_time     # 执行时间（秒）\n",
        "            })\n",
        "\n",
        "    return results  # 返回所有启发函数的结果\n",
        "\n",
        "\n"
      ],
      "id": "EqH6plKz1-SZ"
    },
    {
      "cell_type": "code",
      "execution_count": null,
      "metadata": {
        "colab": {
          "base_uri": "https://localhost:8080/",
          "height": 1000
        },
        "id": "duK8CUMf42Z6",
        "outputId": "648cf16c-7615-49bb-bed7-aaaf5f1cd409"
      },
      "outputs": [
        {
          "output_type": "stream",
          "name": "stdout",
          "text": [
            "Solving state\n"
          ]
        },
        {
          "output_type": "display_data",
          "data": {
            "text/plain": [
              "<IPython.core.display.HTML object>"
            ],
            "text/html": [
              "<table><tr><td style='background-color: lightblue; width: 30px; height: 30px; text-align: center; font-size: 20px;'>1</td><td style='background-color: lightblue; width: 30px; height: 30px; text-align: center; font-size: 20px;'>2</td><td style='background-color: lightblue; width: 30px; height: 30px; text-align: center; font-size: 20px;'>3</td></tr><tr><td style='background-color: lightblue; width: 30px; height: 30px; text-align: center; font-size: 20px;'>4</td><td style='background-color: lightblue; width: 30px; height: 30px; text-align: center; font-size: 20px;'>5</td><td style='background-color: lightgray; width: 30px; height: 30px; text-align: center; font-size: 20px;'> </td></tr><tr><td style='background-color: lightblue; width: 30px; height: 30px; text-align: center; font-size: 20px;'>6</td><td style='background-color: lightblue; width: 30px; height: 30px; text-align: center; font-size: 20px;'>7</td><td style='background-color: lightblue; width: 30px; height: 30px; text-align: center; font-size: 20px;'>8</td></tr></table>"
            ]
          },
          "metadata": {}
        },
        {
          "output_type": "stream",
          "name": "stdout",
          "text": [
            "Running A* with misplaced_tiles\n",
            "Running A* with manhattan_distance\n",
            "Solving state\n"
          ]
        },
        {
          "output_type": "display_data",
          "data": {
            "text/plain": [
              "<IPython.core.display.HTML object>"
            ],
            "text/html": [
              "<table><tr><td style='background-color: lightblue; width: 30px; height: 30px; text-align: center; font-size: 20px;'>1</td><td style='background-color: lightblue; width: 30px; height: 30px; text-align: center; font-size: 20px;'>2</td><td style='background-color: lightblue; width: 30px; height: 30px; text-align: center; font-size: 20px;'>3</td></tr><tr><td style='background-color: lightgray; width: 30px; height: 30px; text-align: center; font-size: 20px;'> </td><td style='background-color: lightblue; width: 30px; height: 30px; text-align: center; font-size: 20px;'>5</td><td style='background-color: lightblue; width: 30px; height: 30px; text-align: center; font-size: 20px;'>6</td></tr><tr><td style='background-color: lightblue; width: 30px; height: 30px; text-align: center; font-size: 20px;'>4</td><td style='background-color: lightblue; width: 30px; height: 30px; text-align: center; font-size: 20px;'>7</td><td style='background-color: lightblue; width: 30px; height: 30px; text-align: center; font-size: 20px;'>8</td></tr></table>"
            ]
          },
          "metadata": {}
        },
        {
          "output_type": "stream",
          "name": "stdout",
          "text": [
            "Running A* with misplaced_tiles\n",
            "Running A* with manhattan_distance\n",
            "Solving state\n"
          ]
        },
        {
          "output_type": "display_data",
          "data": {
            "text/plain": [
              "<IPython.core.display.HTML object>"
            ],
            "text/html": [
              "<table><tr><td style='background-color: lightblue; width: 30px; height: 30px; text-align: center; font-size: 20px;'>1</td><td style='background-color: lightgray; width: 30px; height: 30px; text-align: center; font-size: 20px;'> </td><td style='background-color: lightblue; width: 30px; height: 30px; text-align: center; font-size: 20px;'>3</td></tr><tr><td style='background-color: lightblue; width: 30px; height: 30px; text-align: center; font-size: 20px;'>4</td><td style='background-color: lightblue; width: 30px; height: 30px; text-align: center; font-size: 20px;'>2</td><td style='background-color: lightblue; width: 30px; height: 30px; text-align: center; font-size: 20px;'>5</td></tr><tr><td style='background-color: lightblue; width: 30px; height: 30px; text-align: center; font-size: 20px;'>7</td><td style='background-color: lightblue; width: 30px; height: 30px; text-align: center; font-size: 20px;'>8</td><td style='background-color: lightblue; width: 30px; height: 30px; text-align: center; font-size: 20px;'>6</td></tr></table>"
            ]
          },
          "metadata": {}
        },
        {
          "output_type": "stream",
          "name": "stdout",
          "text": [
            "Running A* with misplaced_tiles\n",
            "Running A* with manhattan_distance\n",
            "Solving state\n"
          ]
        },
        {
          "output_type": "display_data",
          "data": {
            "text/plain": [
              "<IPython.core.display.HTML object>"
            ],
            "text/html": [
              "<table><tr><td style='background-color: lightblue; width: 30px; height: 30px; text-align: center; font-size: 20px;'>1</td><td style='background-color: lightgray; width: 30px; height: 30px; text-align: center; font-size: 20px;'> </td><td style='background-color: lightblue; width: 30px; height: 30px; text-align: center; font-size: 20px;'>3</td></tr><tr><td style='background-color: lightblue; width: 30px; height: 30px; text-align: center; font-size: 20px;'>4</td><td style='background-color: lightblue; width: 30px; height: 30px; text-align: center; font-size: 20px;'>5</td><td style='background-color: lightblue; width: 30px; height: 30px; text-align: center; font-size: 20px;'>2</td></tr><tr><td style='background-color: lightblue; width: 30px; height: 30px; text-align: center; font-size: 20px;'>7</td><td style='background-color: lightblue; width: 30px; height: 30px; text-align: center; font-size: 20px;'>6</td><td style='background-color: lightblue; width: 30px; height: 30px; text-align: center; font-size: 20px;'>8</td></tr></table>"
            ]
          },
          "metadata": {}
        },
        {
          "output_type": "stream",
          "name": "stdout",
          "text": [
            "Running A* with misplaced_tiles\n",
            "Running A* with manhattan_distance\n",
            "Solving state\n"
          ]
        },
        {
          "output_type": "display_data",
          "data": {
            "text/plain": [
              "<IPython.core.display.HTML object>"
            ],
            "text/html": [
              "<table><tr><td style='background-color: lightblue; width: 30px; height: 30px; text-align: center; font-size: 20px;'>1</td><td style='background-color: lightgray; width: 30px; height: 30px; text-align: center; font-size: 20px;'> </td><td style='background-color: lightblue; width: 30px; height: 30px; text-align: center; font-size: 20px;'>3</td></tr><tr><td style='background-color: lightblue; width: 30px; height: 30px; text-align: center; font-size: 20px;'>4</td><td style='background-color: lightblue; width: 30px; height: 30px; text-align: center; font-size: 20px;'>2</td><td style='background-color: lightblue; width: 30px; height: 30px; text-align: center; font-size: 20px;'>5</td></tr><tr><td style='background-color: lightblue; width: 30px; height: 30px; text-align: center; font-size: 20px;'>6</td><td style='background-color: lightblue; width: 30px; height: 30px; text-align: center; font-size: 20px;'>7</td><td style='background-color: lightblue; width: 30px; height: 30px; text-align: center; font-size: 20px;'>8</td></tr></table>"
            ]
          },
          "metadata": {}
        },
        {
          "output_type": "stream",
          "name": "stdout",
          "text": [
            "Running A* with misplaced_tiles\n",
            "Running A* with manhattan_distance\n",
            "Solving state\n"
          ]
        },
        {
          "output_type": "display_data",
          "data": {
            "text/plain": [
              "<IPython.core.display.HTML object>"
            ],
            "text/html": [
              "<table><tr><td style='background-color: lightblue; width: 30px; height: 30px; text-align: center; font-size: 20px;'>1</td><td style='background-color: lightblue; width: 30px; height: 30px; text-align: center; font-size: 20px;'>2</td><td style='background-color: lightblue; width: 30px; height: 30px; text-align: center; font-size: 20px;'>3</td></tr><tr><td style='background-color: lightblue; width: 30px; height: 30px; text-align: center; font-size: 20px;'>4</td><td style='background-color: lightgray; width: 30px; height: 30px; text-align: center; font-size: 20px;'> </td><td style='background-color: lightblue; width: 30px; height: 30px; text-align: center; font-size: 20px;'>6</td></tr><tr><td style='background-color: lightblue; width: 30px; height: 30px; text-align: center; font-size: 20px;'>7</td><td style='background-color: lightblue; width: 30px; height: 30px; text-align: center; font-size: 20px;'>5</td><td style='background-color: lightblue; width: 30px; height: 30px; text-align: center; font-size: 20px;'>8</td></tr></table>"
            ]
          },
          "metadata": {}
        },
        {
          "output_type": "stream",
          "name": "stdout",
          "text": [
            "Running A* with misplaced_tiles\n",
            "Running A* with manhattan_distance\n",
            "Solving state\n"
          ]
        },
        {
          "output_type": "display_data",
          "data": {
            "text/plain": [
              "<IPython.core.display.HTML object>"
            ],
            "text/html": [
              "<table><tr><td style='background-color: lightblue; width: 30px; height: 30px; text-align: center; font-size: 20px;'>1</td><td style='background-color: lightblue; width: 30px; height: 30px; text-align: center; font-size: 20px;'>2</td><td style='background-color: lightblue; width: 30px; height: 30px; text-align: center; font-size: 20px;'>3</td></tr><tr><td style='background-color: lightgray; width: 30px; height: 30px; text-align: center; font-size: 20px;'> </td><td style='background-color: lightblue; width: 30px; height: 30px; text-align: center; font-size: 20px;'>4</td><td style='background-color: lightblue; width: 30px; height: 30px; text-align: center; font-size: 20px;'>6</td></tr><tr><td style='background-color: lightblue; width: 30px; height: 30px; text-align: center; font-size: 20px;'>7</td><td style='background-color: lightblue; width: 30px; height: 30px; text-align: center; font-size: 20px;'>5</td><td style='background-color: lightblue; width: 30px; height: 30px; text-align: center; font-size: 20px;'>8</td></tr></table>"
            ]
          },
          "metadata": {}
        },
        {
          "output_type": "stream",
          "name": "stdout",
          "text": [
            "Running A* with misplaced_tiles\n",
            "Running A* with manhattan_distance\n",
            "Solving state\n"
          ]
        },
        {
          "output_type": "display_data",
          "data": {
            "text/plain": [
              "<IPython.core.display.HTML object>"
            ],
            "text/html": [
              "<table><tr><td style='background-color: lightblue; width: 30px; height: 30px; text-align: center; font-size: 20px;'>1</td><td style='background-color: lightblue; width: 30px; height: 30px; text-align: center; font-size: 20px;'>2</td><td style='background-color: lightblue; width: 30px; height: 30px; text-align: center; font-size: 20px;'>3</td></tr><tr><td style='background-color: lightblue; width: 30px; height: 30px; text-align: center; font-size: 20px;'>4</td><td style='background-color: lightblue; width: 30px; height: 30px; text-align: center; font-size: 20px;'>6</td><td style='background-color: lightgray; width: 30px; height: 30px; text-align: center; font-size: 20px;'> </td></tr><tr><td style='background-color: lightblue; width: 30px; height: 30px; text-align: center; font-size: 20px;'>7</td><td style='background-color: lightblue; width: 30px; height: 30px; text-align: center; font-size: 20px;'>5</td><td style='background-color: lightblue; width: 30px; height: 30px; text-align: center; font-size: 20px;'>8</td></tr></table>"
            ]
          },
          "metadata": {}
        },
        {
          "output_type": "stream",
          "name": "stdout",
          "text": [
            "Running A* with misplaced_tiles\n",
            "Running A* with manhattan_distance\n",
            "Solving state\n"
          ]
        },
        {
          "output_type": "display_data",
          "data": {
            "text/plain": [
              "<IPython.core.display.HTML object>"
            ],
            "text/html": [
              "<table><tr><td style='background-color: lightblue; width: 30px; height: 30px; text-align: center; font-size: 20px;'>1</td><td style='background-color: lightblue; width: 30px; height: 30px; text-align: center; font-size: 20px;'>3</td><td style='background-color: lightblue; width: 30px; height: 30px; text-align: center; font-size: 20px;'>6</td></tr><tr><td style='background-color: lightblue; width: 30px; height: 30px; text-align: center; font-size: 20px;'>4</td><td style='background-color: lightblue; width: 30px; height: 30px; text-align: center; font-size: 20px;'>2</td><td style='background-color: lightblue; width: 30px; height: 30px; text-align: center; font-size: 20px;'>5</td></tr><tr><td style='background-color: lightblue; width: 30px; height: 30px; text-align: center; font-size: 20px;'>7</td><td style='background-color: lightgray; width: 30px; height: 30px; text-align: center; font-size: 20px;'> </td><td style='background-color: lightblue; width: 30px; height: 30px; text-align: center; font-size: 20px;'>8</td></tr></table>"
            ]
          },
          "metadata": {}
        },
        {
          "output_type": "stream",
          "name": "stdout",
          "text": [
            "Running A* with misplaced_tiles\n",
            "Running A* with manhattan_distance\n"
          ]
        }
      ],
      "source": [
        "goal_state = [[1, 2, 3], [4, 5, 6], [7, 8, 0]]  # 目标状态\n",
        "heuristics = [misplaced_tiles, manhattan_distance]  # 两种启发式函数\n",
        "\n",
        "# 执行比较函数\n",
        "results = compare_algorithms(initial_states, goal_state, heuristics, max_it=20000)\n",
        "\n",
        "# 将结果分别提取出来（便于后续可视化或表格展示）\n",
        "results_misplace = results[0]\n",
        "results_manhattan = results[1]\n",
        "\n",
        "print('✅ Finished !!')"
      ],
      "id": "duK8CUMf42Z6"
    },
    {
      "cell_type": "markdown",
      "metadata": {
        "id": "lsdWEduU9URp"
      },
      "source": [
        "#### **Utilisez le code ci-dessous pour visualiser vos résultats et commentez**\n",
        "请使用下面的代码来可视化你的结果，并进行评论。"
      ],
      "id": "lsdWEduU9URp"
    },
    {
      "cell_type": "code",
      "execution_count": null,
      "metadata": {
        "id": "qLJbeGuJ9cJT"
      },
      "outputs": [],
      "source": [
        "import pandas as pd              # 用于构建和处理表格数据\n",
        "import numpy as np              # 常用数值计算库（本例中未使用）\n",
        "from tabulate import tabulate   # 将 pandas 表格漂亮地打印为文本表格（需先 pip install tabulate）\n",
        "\n",
        "# === 构建表格数据 ===\n",
        "Data = []\n",
        "\n",
        "# 遍历所有的初始状态（共15个 Taquin 拼图实例）\n",
        "for i in range(len(initial_states)):\n",
        "    # 将每个算法在当前状态下的结果提取出来组成一行\n",
        "    Data.append([\n",
        "        int(i+1),  # 状态编号（从1开始）\n",
        "\n",
        "        # 扩展节点数（越少越优）\n",
        "        results_BFS[i]['num_explorations'],\n",
        "        results_DFS[i]['num_explorations'],\n",
        "        results_misplace[i]['num_explorations'],\n",
        "        results_manhattan[i]['num_explorations'],\n",
        "\n",
        "        # 解路径长度（步数，越短越优；-1表示未找到）\n",
        "        results_BFS[i]['path_length'],\n",
        "        results_DFS[i]['path_length'],\n",
        "        results_misplace[i]['path_length'],\n",
        "        results_manhattan[i]['path_length'],\n",
        "\n",
        "        # 执行时间（秒，越小越优，四舍五入到小数点后2位）\n",
        "        round(results_BFS[i]['execution_time'], 2),\n",
        "        round(results_DFS[i]['execution_time'], 2),\n",
        "        round(results_misplace[i]['execution_time'], 2),\n",
        "        round(results_manhattan[i]['execution_time'], 2)\n",
        "    ])\n",
        "\n",
        "# 使用 Pandas 创建 DataFrame 表格\n",
        "df = pd.DataFrame(Data, columns=[\n",
        "    \"State\",                 # 状态编号\n",
        "    \"Nodes explored BFS\",   # BFS 扩展的节点数\n",
        "    \"Nodes explored DFS\",   # DFS 扩展的节点数\n",
        "    \"Nodes explored A*H1\",  # A* + 启发函数 H1（错位块）\n",
        "    \"Nodes explored A*H2\",  # A* + 启发函数 H2（曼哈顿距离）\n",
        "\n",
        "    \"Path length BFS\",      # BFS 路径长度\n",
        "    \"Path length DFS\",      # DFS 路径长度\n",
        "    \"Path length A*H1\",     # A* + H1 路径长度\n",
        "    \"Path length A*H2\",     # A* + H2 路径长度\n",
        "\n",
        "    \"Execution Time BFS\",   # BFS 执行时间（秒）\n",
        "    \"Execution Time DFS\",   # DFS 执行时间（秒）\n",
        "    \"Execution Time A*H1\",  # A* + H1 执行时间\n",
        "    \"Execution Time A*H2\"   # A* + H2 执行时间\n",
        "])\n",
        "\n",
        "# 使用 tabulate 美化输出表格（你也可以直接 print(df)）\n",
        "print(tabulate(df, headers='keys', tablefmt='pretty'))\n"
      ],
      "id": "qLJbeGuJ9cJT"
    }
  ],
  "metadata": {
    "colab": {
      "collapsed_sections": [
        "890fa479-1023-487c-a76c-ff6d76db2965",
        "07e016a4-130a-4c3d-a67d-be747d944d75",
        "h7rz7ucRYjOU",
        "9ym6ZMySc5XV"
      ],
      "provenance": [],
      "include_colab_link": true
    },
    "kernelspec": {
      "display_name": "Python 3",
      "language": "python",
      "name": "python3"
    },
    "language_info": {
      "codemirror_mode": {
        "name": "ipython",
        "version": 3
      },
      "file_extension": ".py",
      "mimetype": "text/x-python",
      "name": "python",
      "nbconvert_exporter": "python",
      "pygments_lexer": "ipython3",
      "version": "3.7.1"
    }
  },
  "nbformat": 4,
  "nbformat_minor": 5
}