{
  "cells": [
    {
      "cell_type": "markdown",
      "metadata": {
        "id": "z1ZZO867DPns"
      },
      "source": [
        "# TP Intelligence Artificielle - Recherche Arborescente Non Informée"
      ]
    },
    {
      "cell_type": "markdown",
      "metadata": {
        "id": "e0U1iKP5iYhS"
      },
      "source": [
        "# **Partie 0 : Visualisation des états**\n",
        "\n",
        "## Voici une fonction pour visualiser les états. Nous l'utiliserons plus tard."
      ]
    },
    {
      "cell_type": "code",
      "execution_count": 1,
      "metadata": {
        "id": "0NOv3pIKKDjt"
      },
      "outputs": [],
      "source": [
        "from IPython.display import display, HTML\n",
        "\n",
        "def visualize_state(state):\n",
        "    \"\"\"Visualizes the given state of the Taquin using HTML.\"\"\"\n",
        "    html = \"<table>\"\n",
        "    for row in state:\n",
        "        html += \"<tr>\"\n",
        "        for tile in row:\n",
        "            if tile == 0:\n",
        "                html += \"<td style='background-color: lightgray; width: 30px; height: 30px; text-align: center; font-size: 20px;'> </td>\"  # Blank tile\n",
        "            else:\n",
        "                html += f\"<td style='background-color: lightblue; width: 30px; height: 30px; text-align: center; font-size: 20px;'>{tile}</td>\"\n",
        "        html += \"</tr>\"\n",
        "    html += \"</table>\"\n",
        "    display(HTML(html))"
      ]
    },
    {
      "cell_type": "markdown",
      "metadata": {
        "id": "1KZupDzfF_2a"
      },
      "source": [
        "# **Partie 1 : Modélisation**"
      ]
    },
    {
      "cell_type": "markdown",
      "metadata": {
        "id": "_lkQ2v3vDnOM"
      },
      "source": [
        "### Nous allons créer deux classes pour modeliser le taquin en espace d'états.\n",
        "\n",
        "1. **Taquin** : Cette classe représente le problème du jeu du Taquin. Elle contient :\n",
        "\n",
        "  * Attributs:\n",
        "\n",
        "      * initial_state : L'état initial du Taquin, représenté par une liste de listes. Chaque sous-liste représente une ligne du Taquin, et chaque élément de la sous-liste représente une tuile. La tuile vide est représentée par le chiffre 0.\n",
        "      * goal_state : L'état but du Taquin, représenté de la même manière que l'état initial.\n",
        "      * size : La taille du Taquin (par exemple, 3 pour un Taquin 3x3, 4 pour un Taquin 4x4).\n",
        "\n",
        "  * Méthodes:\n",
        "\n",
        "      * actions(state) : Cette méthode prend un état du Taquin en entrée et retourne une liste des actions possibles à partir de cet état. Les actions possibles sont \"haut\", \"bas\", \"gauche\" et \"droite\", représentant les mouvements possibles de la tuile vide.\n",
        "      * result(state, action) : Cette méthode prend un état et une action en entrée et retourne le nouvel état du Taquin après avoir appliqué l'action à l'état.\n",
        "      * is_goal(state) : Cette méthode prend un état en entrée et retourne True si cet état est l'état but, False sinon.\n",
        "      * cost(state, action) : Cette méthode retourne le coût de l'application d'une action à un état donné. Dans le cas du Taquin, le coût est généralement constant et égal à 1 pour chaque action.\n",
        "  \n",
        "2.   **Node** :  Cette classe représentera un nœud dans l'arbre de recherche. Ces attributs sont :\n",
        "\n",
        "  * state : L'état représenté par ce nœud.\n",
        "  * parent : Un pointeur vers le nœud parent (None pour le nœud racine).\n",
        "  * action : L'action qui a conduit à ce nœud à partir du nœud parent (None pour le nœud racine).\n",
        "  * path_cost : Le coût total du chemin depuis le nœud racine jusqu'à ce nœud (facultatif, pour les algorithmes avec des considérations de coût).\n",
        "  * depth : La profondeur de ce nœud dans l'arbre (facultatif, pour la recherche en profondeur limitée).\n",
        "\n"
      ]
    },
    {
      "cell_type": "markdown",
      "metadata": {
        "id": "JYNB0yoINLAl"
      },
      "source": [
        "--------------------------------------------------------------------------------\n",
        "## **1.1 Classe Taquin**\n",
        "--------------------------------------------------------------------------------"
      ]
    },
    {
      "cell_type": "code",
      "execution_count": 4,
      "metadata": {
        "id": "8X9f92xDIfcD"
      },
      "outputs": [],
      "source": [
        "class Taquin:\n",
        "    \"\"\"\n",
        "    表示Taquin拼图问题的类。\n",
        "    Taquin问题是经典的滑动拼图问题，目标是通过移动拼图块达到给定的目标状态。\n",
        "    \"\"\"\n",
        "\n",
        "    def __init__(self, initial_state, goal_state, size):\n",
        "        \"\"\"\n",
        "        初始化Taquin问题实例。\n",
        "\n",
        "        参数：\n",
        "        initial_state: 初始状态，以二维列表表示拼图块的布局。\n",
        "        goal_state: 目标状态，同样以二维列表表示。\n",
        "        size: 拼图大小（例如：3表示3x3拼图）。\n",
        "        \"\"\"\n",
        "        self.initial_state = initial_state\n",
        "        self.goal_state = goal_state\n",
        "        self.size = size\n",
        "\n",
        "    def actions(self, state):\n",
        "        \"\"\"\n",
        "        根据给定状态返回所有可能的动作（即空白拼图块可以移动的方向）。\n",
        "\n",
        "        参数：\n",
        "        state: 当前的拼图状态，以二维列表表示。\n",
        "\n",
        "        返回：\n",
        "        一个列表，包含所有可行的动作（字符串形式：\"up\"、\"down\"、\"left\"、\"right\"）。\n",
        "        \"\"\"\n",
        "        # 首先找到空白块（用0表示）的坐标\n",
        "        row, col = next(\n",
        "            (r, c)\n",
        "            for r, row in enumerate(state)\n",
        "            for c, val in enumerate(row)\n",
        "            if val == 0\n",
        "        )\n",
        "\n",
        "        # 根据空白块位置，确定可能的移动方向\n",
        "        possible_actions = []\n",
        "\n",
        "        if row > 0:  # 空白块不在第一行，可以向上移动\n",
        "            possible_actions.append(\"up\")\n",
        "        if row < self.size - 1:  # 空白块不在最后一行，可以向下移动\n",
        "            possible_actions.append(\"down\")\n",
        "        if col > 0:  # 空白块不在第一列，可以向左移动\n",
        "            possible_actions.append(\"left\")\n",
        "        if col < self.size - 1:  # 空白块不在最后一列，可以向右移动\n",
        "            possible_actions.append(\"right\")\n",
        "\n",
        "        return possible_actions\n",
        "\n",
        "    def result(self, state, action):\n",
        "        \"\"\"\n",
        "        对给定状态执行动作后返回产生的新状态。\n",
        "\n",
        "        参数：\n",
        "        state: 当前的拼图状态，以二维列表表示。\n",
        "        action: 执行的动作（\"up\"、\"down\"、\"left\"、\"right\"）。\n",
        "\n",
        "        返回：\n",
        "        一个新状态（二维列表），表示执行该动作后的拼图布局。\n",
        "        \"\"\"\n",
        "        # 创建状态的副本，以避免直接修改原始状态\n",
        "        new_state = [list(row) for row in state]\n",
        "\n",
        "        # 找到当前空白块的坐标\n",
        "        row, col = next(\n",
        "            (r, c)\n",
        "            for r, row in enumerate(state)\n",
        "            for c, val in enumerate(row)\n",
        "            if val == 0\n",
        "        )\n",
        "\n",
        "        # 根据动作移动空白块，并与相邻块交换位置\n",
        "        if action == \"up\":\n",
        "            new_state[row][col], new_state[row - 1][col] = (\n",
        "                new_state[row - 1][col],\n",
        "                new_state[row][col],\n",
        "            )\n",
        "        elif action == \"down\":\n",
        "            new_state[row][col], new_state[row + 1][col] = (\n",
        "                new_state[row + 1][col],\n",
        "                new_state[row][col],\n",
        "            )\n",
        "        elif action == \"left\":\n",
        "            new_state[row][col], new_state[row][col - 1] = (\n",
        "                new_state[row][col - 1],\n",
        "                new_state[row][col],\n",
        "            )\n",
        "        elif action == \"right\":\n",
        "            new_state[row][col], new_state[row][col + 1] = (\n",
        "                new_state[row][col + 1],\n",
        "                new_state[row][col],\n",
        "            )\n",
        "\n",
        "        return new_state\n",
        "\n",
        "    def is_goal(self, state):\n",
        "        \"\"\"\n",
        "        检测给定状态是否为目标状态。\n",
        "\n",
        "        参数：\n",
        "        state: 待检测的拼图状态。\n",
        "\n",
        "        返回：\n",
        "        True（是目标状态）或False（不是目标状态）。\n",
        "        \"\"\"\n",
        "        return state == self.goal_state  # 直接比较当前状态和目标状态\n",
        "\n",
        "    def cost(self, state, action):\n",
        "        \"\"\"\n",
        "        返回执行某个动作的代价。\n",
        "        一般Taquin问题的代价都是统一为1（每个动作成本相同）。\n",
        "\n",
        "        参数：\n",
        "        state: 当前状态。\n",
        "        action: 将要执行的动作。\n",
        "\n",
        "        返回：\n",
        "        整数值1，表示移动拼图块的代价。\n",
        "        \"\"\"\n",
        "        return 1\n"
      ]
    },
    {
      "cell_type": "markdown",
      "metadata": {
        "id": "t2kvjEw1LSRz",
        "jp-MarkdownHeadingCollapsed": true
      },
      "source": [
        "## **Exercise 1**\n",
        "1. Créez un jeu de taquin 4x4 avec un état initial et un état objectif, puis visualisez ces deux états.\n",
        "2. Identifiez les actions possibles à partir de l'état initial.\n",
        "3. Appliquez une des actions possibles et visualisez le nouvel état.\n"
      ]
    },
    {
      "cell_type": "code",
      "execution_count": 3,
      "metadata": {
        "colab": {
          "base_uri": "https://localhost:8080/",
          "height": 495
        },
        "id": "v4mPdJXNJxG0",
        "outputId": "448649ec-6835-4421-cdbf-25e7e6141f7c"
      },
      "outputs": [
        {
          "output_type": "stream",
          "name": "stdout",
          "text": [
            "Initial state:\n"
          ]
        },
        {
          "output_type": "display_data",
          "data": {
            "text/plain": [
              "<IPython.core.display.HTML object>"
            ],
            "text/html": [
              "<table><tr><td style='background-color: lightblue; width: 30px; height: 30px; text-align: center; font-size: 20px;'>1</td><td style='background-color: lightblue; width: 30px; height: 30px; text-align: center; font-size: 20px;'>2</td><td style='background-color: lightblue; width: 30px; height: 30px; text-align: center; font-size: 20px;'>3</td><td style='background-color: lightblue; width: 30px; height: 30px; text-align: center; font-size: 20px;'>4</td></tr><tr><td style='background-color: lightblue; width: 30px; height: 30px; text-align: center; font-size: 20px;'>5</td><td style='background-color: lightblue; width: 30px; height: 30px; text-align: center; font-size: 20px;'>6</td><td style='background-color: lightblue; width: 30px; height: 30px; text-align: center; font-size: 20px;'>7</td><td style='background-color: lightblue; width: 30px; height: 30px; text-align: center; font-size: 20px;'>8</td></tr><tr><td style='background-color: lightblue; width: 30px; height: 30px; text-align: center; font-size: 20px;'>9</td><td style='background-color: lightblue; width: 30px; height: 30px; text-align: center; font-size: 20px;'>10</td><td style='background-color: lightblue; width: 30px; height: 30px; text-align: center; font-size: 20px;'>11</td><td style='background-color: lightblue; width: 30px; height: 30px; text-align: center; font-size: 20px;'>12</td></tr><tr><td style='background-color: lightblue; width: 30px; height: 30px; text-align: center; font-size: 20px;'>13</td><td style='background-color: lightblue; width: 30px; height: 30px; text-align: center; font-size: 20px;'>14</td><td style='background-color: lightgray; width: 30px; height: 30px; text-align: center; font-size: 20px;'> </td><td style='background-color: lightblue; width: 30px; height: 30px; text-align: center; font-size: 20px;'>15</td></tr></table>"
            ]
          },
          "metadata": {}
        },
        {
          "output_type": "stream",
          "name": "stdout",
          "text": [
            "Goal state:\n"
          ]
        },
        {
          "output_type": "display_data",
          "data": {
            "text/plain": [
              "<IPython.core.display.HTML object>"
            ],
            "text/html": [
              "<table><tr><td style='background-color: lightblue; width: 30px; height: 30px; text-align: center; font-size: 20px;'>1</td><td style='background-color: lightblue; width: 30px; height: 30px; text-align: center; font-size: 20px;'>2</td><td style='background-color: lightblue; width: 30px; height: 30px; text-align: center; font-size: 20px;'>3</td><td style='background-color: lightblue; width: 30px; height: 30px; text-align: center; font-size: 20px;'>4</td></tr><tr><td style='background-color: lightblue; width: 30px; height: 30px; text-align: center; font-size: 20px;'>5</td><td style='background-color: lightblue; width: 30px; height: 30px; text-align: center; font-size: 20px;'>6</td><td style='background-color: lightblue; width: 30px; height: 30px; text-align: center; font-size: 20px;'>7</td><td style='background-color: lightblue; width: 30px; height: 30px; text-align: center; font-size: 20px;'>8</td></tr><tr><td style='background-color: lightblue; width: 30px; height: 30px; text-align: center; font-size: 20px;'>9</td><td style='background-color: lightblue; width: 30px; height: 30px; text-align: center; font-size: 20px;'>10</td><td style='background-color: lightblue; width: 30px; height: 30px; text-align: center; font-size: 20px;'>11</td><td style='background-color: lightblue; width: 30px; height: 30px; text-align: center; font-size: 20px;'>12</td></tr><tr><td style='background-color: lightblue; width: 30px; height: 30px; text-align: center; font-size: 20px;'>13</td><td style='background-color: lightblue; width: 30px; height: 30px; text-align: center; font-size: 20px;'>14</td><td style='background-color: lightblue; width: 30px; height: 30px; text-align: center; font-size: 20px;'>15</td><td style='background-color: lightgray; width: 30px; height: 30px; text-align: center; font-size: 20px;'> </td></tr></table>"
            ]
          },
          "metadata": {}
        },
        {
          "output_type": "stream",
          "name": "stdout",
          "text": [
            "Possible actions: ['up', 'left', 'right']\n",
            "Applied action `up`. The new state is\n"
          ]
        },
        {
          "output_type": "display_data",
          "data": {
            "text/plain": [
              "<IPython.core.display.HTML object>"
            ],
            "text/html": [
              "<table><tr><td style='background-color: lightblue; width: 30px; height: 30px; text-align: center; font-size: 20px;'>1</td><td style='background-color: lightblue; width: 30px; height: 30px; text-align: center; font-size: 20px;'>2</td><td style='background-color: lightblue; width: 30px; height: 30px; text-align: center; font-size: 20px;'>3</td><td style='background-color: lightblue; width: 30px; height: 30px; text-align: center; font-size: 20px;'>4</td></tr><tr><td style='background-color: lightblue; width: 30px; height: 30px; text-align: center; font-size: 20px;'>5</td><td style='background-color: lightblue; width: 30px; height: 30px; text-align: center; font-size: 20px;'>6</td><td style='background-color: lightblue; width: 30px; height: 30px; text-align: center; font-size: 20px;'>7</td><td style='background-color: lightblue; width: 30px; height: 30px; text-align: center; font-size: 20px;'>8</td></tr><tr><td style='background-color: lightblue; width: 30px; height: 30px; text-align: center; font-size: 20px;'>9</td><td style='background-color: lightblue; width: 30px; height: 30px; text-align: center; font-size: 20px;'>10</td><td style='background-color: lightgray; width: 30px; height: 30px; text-align: center; font-size: 20px;'> </td><td style='background-color: lightblue; width: 30px; height: 30px; text-align: center; font-size: 20px;'>12</td></tr><tr><td style='background-color: lightblue; width: 30px; height: 30px; text-align: center; font-size: 20px;'>13</td><td style='background-color: lightblue; width: 30px; height: 30px; text-align: center; font-size: 20px;'>14</td><td style='background-color: lightblue; width: 30px; height: 30px; text-align: center; font-size: 20px;'>11</td><td style='background-color: lightblue; width: 30px; height: 30px; text-align: center; font-size: 20px;'>15</td></tr></table>"
            ]
          },
          "metadata": {}
        }
      ],
      "source": [
        "# 定义拼图问题的初始状态和目标状态：\n",
        "initial_state = [\n",
        "    [1, 2, 3, 4],\n",
        "    [5, 6, 7, 8],\n",
        "    [9, 10, 11, 12],\n",
        "    [13, 14, 0, 15]  # 0代表空白方块，当前位于第4行第3列\n",
        "]\n",
        "\n",
        "# 输出初始状态\n",
        "print(\"Initial state:\")\n",
        "visualize_state(initial_state)  # visualize_state()函数用来可视化显示拼图状态\n",
        "\n",
        "# 设定拼图目标状态（最终希望达到的状态）\n",
        "goal_state = [\n",
        "    [1, 2, 3, 4],\n",
        "    [5, 6, 7, 8],\n",
        "    [9, 10, 11, 12],\n",
        "    [13, 14, 15, 0]  # 目标中空白方块在右下角（第4行第4列）\n",
        "]\n",
        "\n",
        "# 输出目标状态\n",
        "print(\"Goal state:\")\n",
        "visualize_state(goal_state)  # 可视化目标状态\n",
        "\n",
        "# 根据定义好的初始状态和目标状态创建Taquin问题实例\n",
        "problem = Taquin(initial_state, goal_state, len(initial_state[0]))\n",
        "# len(initial_state[0]) = 4，即拼图为4x4的大小\n",
        "\n",
        "# 调用actions()方法，获得从初始状态能进行的所有可能动作\n",
        "actions = problem.actions(initial_state)\n",
        "print(\"Possible actions:\", actions)\n",
        "# 输出可能的动作列表，如[\"up\", \"down\", \"left\", \"right\"]\n",
        "\n",
        "# 尝试从当前初始状态执行其中一个动作，例如 'up'\n",
        "new_state = problem.result(initial_state, 'up')\n",
        "print(\"Applied action `up`. The new state is\")\n",
        "visualize_state(new_state)  # 可视化执行动作后的新状态"
      ]
    },
    {
      "cell_type": "markdown",
      "metadata": {
        "id": "OnmTxCGBM6fJ"
      },
      "source": [
        "--------------------------------------------------------------------------------\n",
        "## **1.2 Classe Node**\n",
        "--------------------------------------------------------------------------------"
      ]
    },
    {
      "cell_type": "code",
      "execution_count": 9,
      "metadata": {
        "id": "dvreTxj-DMER"
      },
      "outputs": [],
      "source": [
        "class Node:\n",
        "    \"\"\"\n",
        "    表示搜索树（search tree）中的一个节点（Node）。\n",
        "\n",
        "    Node类用于记录当前的状态、父节点、执行的动作、到达当前节点的路径代价、以及当前节点的深度。\n",
        "    在搜索问题（如拼图Taquin问题）中，节点结构帮助我们追踪状态之间的转移过程，最终重建从初始状态到目标状态的路径。\n",
        "\n",
        "    关键方法说明:\n",
        "    - __init__: 初始化节点\n",
        "    - __repr__: 返回节点的字符串表示（注释掉）\n",
        "    - __lt__: 定义节点间的比较规则（注释掉）\n",
        "    - expand: 从当前节点扩展，生成所有可能的子节点\n",
        "    - child_node: 为指定动作生成子节点\n",
        "    - solution: 提供从初始节点到当前节点所需执行的动作序列\n",
        "    - path: 返回从根节点到当前节点的完整路径\n",
        "    \"\"\"\n",
        "\n",
        "    def __init__(self, state, parent=None, action=None, path_cost=0):\n",
        "        \"\"\"\n",
        "        初始化节点实例：\n",
        "\n",
        "        参数：\n",
        "        - state: 节点所代表的当前状态\n",
        "        - parent: 父节点（默认为None，若为根节点则无父节点）\n",
        "        - action: 从父节点到当前节点执行的动作\n",
        "        - path_cost: 从初始节点到达当前节点的路径总代价（默认为0）\n",
        "\n",
        "        属性：\n",
        "        - depth: 节点在搜索树中的深度（根节点深度为0）\n",
        "        \"\"\"\n",
        "        self.state = state\n",
        "        self.parent = parent\n",
        "        self.action = action\n",
        "        self.path_cost = path_cost\n",
        "        self.depth = 0 if parent is None else parent.depth + 1\n",
        "\n",
        "    # 注释掉的__repr__方法，可以根据需求重新打开，用于调试时输出节点信息\n",
        "    # def __repr__(self):\n",
        "    #     return \"<Node {}>\".format(self.state)\n",
        "\n",
        "    # 注释掉的__lt__方法，定义节点之间的比较方式（例如用于优先队列排序）\n",
        "    # def __lt__(self, other):\n",
        "    #     return self.state < other.state\n",
        "\n",
        "    def expand(self, problem):\n",
        "        \"\"\"\n",
        "        从当前节点扩展，生成所有可达的子节点。\n",
        "\n",
        "        参数：\n",
        "        - problem: 表示问题的实例，包含actions()、result()、cost()方法。\n",
        "\n",
        "        返回：\n",
        "        - 一个节点列表，每个节点代表从当前节点执行一个合法动作后的新状态。\n",
        "        \"\"\"\n",
        "        return [\n",
        "            self.child_node(problem, action)  # 针对每个可能动作，创建子节点\n",
        "            for action in problem.actions(self.state)  # 获取所有可能的动作\n",
        "        ]\n",
        "\n",
        "    def child_node(self, problem, action):\n",
        "        \"\"\"\n",
        "        创建并返回通过执行特定动作而得到的子节点。\n",
        "\n",
        "        参数：\n",
        "        - problem: 问题实例，提供result()和cost()方法\n",
        "        - action: 要执行的具体动作\n",
        "\n",
        "        返回：\n",
        "        - 执行动作后的新节点（子节点）\n",
        "        \"\"\"\n",
        "        next_state = problem.result(self.state, action)  # 根据action获取新状态\n",
        "        next_node = Node(\n",
        "            state=next_state,            # 新状态\n",
        "            parent=self,                 # 当前节点为父节点\n",
        "            action=action,               # 执行的动作\n",
        "            path_cost=self.path_cost + problem.cost(self.state, action)  # 累计路径成本\n",
        "        )\n",
        "        return next_node\n",
        "\n",
        "    def solution(self):\n",
        "        \"\"\"\n",
        "        提供从根节点（初始状态）到当前节点所需执行的动作序列。\n",
        "\n",
        "        返回：\n",
        "        - 一个动作列表，从初始状态到当前节点的具体动作（不含初始节点动作为None）\n",
        "        \"\"\"\n",
        "        return [node.action for node in self.path()[1:]]  # 跳过根节点（action=None）\n",
        "\n",
        "    def path(self):\n",
        "        \"\"\"\n",
        "        返回从根节点到当前节点的完整节点路径列表。\n",
        "\n",
        "        返回：\n",
        "        - 节点列表，顺序为从初始状态节点到当前节点。\n",
        "        \"\"\"\n",
        "        node, path_back = self, []  # 从当前节点开始向上回溯\n",
        "        while node:\n",
        "            path_back.append(node)  # 逐个向上添加节点至列表\n",
        "            node = node.parent      # 回溯至父节点\n",
        "        return list(reversed(path_back))  # 将列表反转为初始节点到当前节点的顺序\n"
      ]
    },
    {
      "cell_type": "markdown",
      "metadata": {
        "id": "CBNnkXa0NeQT",
        "jp-MarkdownHeadingCollapsed": true
      },
      "source": [
        "## **Exercise 2**\n",
        "1. Créez un jeu de taquin 3x3 avec un état initial et un état objectif.\n",
        "2. Créez un nœud représentant l'état initial du jeu.\n",
        "3. Visualisez les enfants de l'état initial.\n",
        "4. Pour chaque enfant, imprimez :\n",
        "    * L'action à effectuer pour passer de l'état initial à cet enfant.\n",
        "    * Le coût associé à cette action.\n",
        "5. Répétez toutes les étapes pour un jeu de taquin 4x4.\n"
      ]
    },
    {
      "cell_type": "code",
      "execution_count": 10,
      "metadata": {
        "colab": {
          "base_uri": "https://localhost:8080/",
          "height": 816
        },
        "id": "6MqrA6y5Oe1A",
        "outputId": "1d12509d-9907-4a74-e4d6-044235de9fef"
      },
      "outputs": [
        {
          "output_type": "stream",
          "name": "stdout",
          "text": [
            "------------- Taquin 3x3 -------------\n",
            "Initial state:\n"
          ]
        },
        {
          "output_type": "display_data",
          "data": {
            "text/plain": [
              "<IPython.core.display.HTML object>"
            ],
            "text/html": [
              "<table><tr><td style='background-color: lightblue; width: 30px; height: 30px; text-align: center; font-size: 20px;'>1</td><td style='background-color: lightblue; width: 30px; height: 30px; text-align: center; font-size: 20px;'>2</td><td style='background-color: lightblue; width: 30px; height: 30px; text-align: center; font-size: 20px;'>3</td></tr><tr><td style='background-color: lightblue; width: 30px; height: 30px; text-align: center; font-size: 20px;'>4</td><td style='background-color: lightgray; width: 30px; height: 30px; text-align: center; font-size: 20px;'> </td><td style='background-color: lightblue; width: 30px; height: 30px; text-align: center; font-size: 20px;'>5</td></tr><tr><td style='background-color: lightblue; width: 30px; height: 30px; text-align: center; font-size: 20px;'>7</td><td style='background-color: lightblue; width: 30px; height: 30px; text-align: center; font-size: 20px;'>8</td><td style='background-color: lightblue; width: 30px; height: 30px; text-align: center; font-size: 20px;'>6</td></tr></table>"
            ]
          },
          "metadata": {}
        },
        {
          "output_type": "stream",
          "name": "stdout",
          "text": [
            "\n",
            "Children nodes:\n",
            " \n"
          ]
        },
        {
          "output_type": "display_data",
          "data": {
            "text/plain": [
              "<IPython.core.display.HTML object>"
            ],
            "text/html": [
              "<table><tr><td style='background-color: lightblue; width: 30px; height: 30px; text-align: center; font-size: 20px;'>1</td><td style='background-color: lightgray; width: 30px; height: 30px; text-align: center; font-size: 20px;'> </td><td style='background-color: lightblue; width: 30px; height: 30px; text-align: center; font-size: 20px;'>3</td></tr><tr><td style='background-color: lightblue; width: 30px; height: 30px; text-align: center; font-size: 20px;'>4</td><td style='background-color: lightblue; width: 30px; height: 30px; text-align: center; font-size: 20px;'>2</td><td style='background-color: lightblue; width: 30px; height: 30px; text-align: center; font-size: 20px;'>5</td></tr><tr><td style='background-color: lightblue; width: 30px; height: 30px; text-align: center; font-size: 20px;'>7</td><td style='background-color: lightblue; width: 30px; height: 30px; text-align: center; font-size: 20px;'>8</td><td style='background-color: lightblue; width: 30px; height: 30px; text-align: center; font-size: 20px;'>6</td></tr></table>"
            ]
          },
          "metadata": {}
        },
        {
          "output_type": "stream",
          "name": "stdout",
          "text": [
            "Action to arrive to that node : up\n",
            "Path cost: 1\n",
            " \n"
          ]
        },
        {
          "output_type": "display_data",
          "data": {
            "text/plain": [
              "<IPython.core.display.HTML object>"
            ],
            "text/html": [
              "<table><tr><td style='background-color: lightblue; width: 30px; height: 30px; text-align: center; font-size: 20px;'>1</td><td style='background-color: lightblue; width: 30px; height: 30px; text-align: center; font-size: 20px;'>2</td><td style='background-color: lightblue; width: 30px; height: 30px; text-align: center; font-size: 20px;'>3</td></tr><tr><td style='background-color: lightblue; width: 30px; height: 30px; text-align: center; font-size: 20px;'>4</td><td style='background-color: lightblue; width: 30px; height: 30px; text-align: center; font-size: 20px;'>8</td><td style='background-color: lightblue; width: 30px; height: 30px; text-align: center; font-size: 20px;'>5</td></tr><tr><td style='background-color: lightblue; width: 30px; height: 30px; text-align: center; font-size: 20px;'>7</td><td style='background-color: lightgray; width: 30px; height: 30px; text-align: center; font-size: 20px;'> </td><td style='background-color: lightblue; width: 30px; height: 30px; text-align: center; font-size: 20px;'>6</td></tr></table>"
            ]
          },
          "metadata": {}
        },
        {
          "output_type": "stream",
          "name": "stdout",
          "text": [
            "Action to arrive to that node : down\n",
            "Path cost: 1\n",
            " \n"
          ]
        },
        {
          "output_type": "display_data",
          "data": {
            "text/plain": [
              "<IPython.core.display.HTML object>"
            ],
            "text/html": [
              "<table><tr><td style='background-color: lightblue; width: 30px; height: 30px; text-align: center; font-size: 20px;'>1</td><td style='background-color: lightblue; width: 30px; height: 30px; text-align: center; font-size: 20px;'>2</td><td style='background-color: lightblue; width: 30px; height: 30px; text-align: center; font-size: 20px;'>3</td></tr><tr><td style='background-color: lightgray; width: 30px; height: 30px; text-align: center; font-size: 20px;'> </td><td style='background-color: lightblue; width: 30px; height: 30px; text-align: center; font-size: 20px;'>4</td><td style='background-color: lightblue; width: 30px; height: 30px; text-align: center; font-size: 20px;'>5</td></tr><tr><td style='background-color: lightblue; width: 30px; height: 30px; text-align: center; font-size: 20px;'>7</td><td style='background-color: lightblue; width: 30px; height: 30px; text-align: center; font-size: 20px;'>8</td><td style='background-color: lightblue; width: 30px; height: 30px; text-align: center; font-size: 20px;'>6</td></tr></table>"
            ]
          },
          "metadata": {}
        },
        {
          "output_type": "stream",
          "name": "stdout",
          "text": [
            "Action to arrive to that node : left\n",
            "Path cost: 1\n",
            " \n"
          ]
        },
        {
          "output_type": "display_data",
          "data": {
            "text/plain": [
              "<IPython.core.display.HTML object>"
            ],
            "text/html": [
              "<table><tr><td style='background-color: lightblue; width: 30px; height: 30px; text-align: center; font-size: 20px;'>1</td><td style='background-color: lightblue; width: 30px; height: 30px; text-align: center; font-size: 20px;'>2</td><td style='background-color: lightblue; width: 30px; height: 30px; text-align: center; font-size: 20px;'>3</td></tr><tr><td style='background-color: lightblue; width: 30px; height: 30px; text-align: center; font-size: 20px;'>4</td><td style='background-color: lightblue; width: 30px; height: 30px; text-align: center; font-size: 20px;'>5</td><td style='background-color: lightgray; width: 30px; height: 30px; text-align: center; font-size: 20px;'> </td></tr><tr><td style='background-color: lightblue; width: 30px; height: 30px; text-align: center; font-size: 20px;'>7</td><td style='background-color: lightblue; width: 30px; height: 30px; text-align: center; font-size: 20px;'>8</td><td style='background-color: lightblue; width: 30px; height: 30px; text-align: center; font-size: 20px;'>6</td></tr></table>"
            ]
          },
          "metadata": {}
        },
        {
          "output_type": "stream",
          "name": "stdout",
          "text": [
            "Action to arrive to that node : right\n",
            "Path cost: 1\n"
          ]
        }
      ],
      "source": [
        "print('------------- Taquin 3x3 -------------')\n",
        "\n",
        "# 定义初始状态和目标状态 (3x3拼图)\n",
        "initial_state = [[1, 2, 3],\n",
        "                 [4, 0, 5],   # 空白方块(0)位于中间位置\n",
        "                 [7, 8, 6]]\n",
        "\n",
        "goal_state = [[1, 2, 3],\n",
        "              [4, 5, 6],\n",
        "              [7, 8, 0]]     # 空白方块(0)最终位置为右下角\n",
        "\n",
        "# 创建Taquin实例对象\n",
        "problem = Taquin(initial_state, goal_state, len(initial_state[0]))  # 拼图尺寸为3x3\n",
        "\n",
        "# 使用初始状态创建搜索树的根节点\n",
        "initial_node = Node(initial_state)\n",
        "\n",
        "# 可视化输出初始状态\n",
        "print(\"Initial state:\")\n",
        "visualize_state(initial_node.state)\n",
        "\n",
        "# 从根节点扩展得到所有子节点（即当前状态下所有可移动到的新状态）\n",
        "children = initial_node.expand(problem)\n",
        "\n",
        "# 显示所有子节点状态及相关信息\n",
        "print(\"\\nChildren nodes:\")\n",
        "for child in children:\n",
        "    print(\" \")\n",
        "    visualize_state(child.state)                    # 可视化每个子节点的拼图状态\n",
        "    print(\"Action to arrive to that node :\", child.action)  # 显示为达到该状态采取的动作\n",
        "    print(\"Path cost:\", child.path_cost)            # 显示从初始状态到该状态的路径代价\n"
      ]
    },
    {
      "cell_type": "code",
      "source": [
        "print('------------- Taquin 4x4 -------------')\n",
        "\n",
        "# 定义初始状态和目标状态 (4x4拼图)\n",
        "initial_state = [[1, 2, 3, 4],\n",
        "                 [5, 6, 7, 8],\n",
        "                 [9, 10, 0, 11],   # 空白方块(0)位于第三行第三列\n",
        "                 [13, 14, 15, 12]]\n",
        "\n",
        "goal_state = [[1, 2, 3, 4],\n",
        "              [5, 6, 7, 8],\n",
        "              [9, 10, 11, 12],\n",
        "              [13, 14, 15, 0]]     # 空白方块(0)最终位于右下角\n",
        "\n",
        "# 创建Taquin实例对象\n",
        "problem = Taquin(initial_state, goal_state, len(initial_state[0]))  # 拼图尺寸为4x4\n",
        "\n",
        "# 使用初始状态创建搜索树的根节点\n",
        "initial_node = Node(initial_state)\n",
        "\n",
        "# 可视化输出初始状态\n",
        "print(\"Initial state:\")\n",
        "visualize_state(initial_node.state)\n",
        "\n",
        "# 从根节点扩展得到所有子节点\n",
        "children = initial_node.expand(problem)\n",
        "\n",
        "# 显示所有子节点状态及相关信息\n",
        "print(\"\\nChildren nodes:\")\n",
        "for child in children:\n",
        "    print(\" \")\n",
        "    visualize_state(child.state)                     # 可视化每个子节点的拼图状态\n",
        "    print(\"Action to arrive to that node :\", child.action)  # 为达到此状态所采取的动作\n",
        "    print(\"Path cost:\", child.path_cost)             # 从初始状态到该状态的路径代价\n"
      ],
      "metadata": {
        "id": "QSIJImAIVbGZ",
        "outputId": "9cd19aed-51fe-4187-c122-9ec9d88ba9b9",
        "colab": {
          "base_uri": "https://localhost:8080/",
          "height": 983
        }
      },
      "execution_count": 11,
      "outputs": [
        {
          "output_type": "stream",
          "name": "stdout",
          "text": [
            "------------- Taquin 4x4 -------------\n",
            "Initial state:\n"
          ]
        },
        {
          "output_type": "display_data",
          "data": {
            "text/plain": [
              "<IPython.core.display.HTML object>"
            ],
            "text/html": [
              "<table><tr><td style='background-color: lightblue; width: 30px; height: 30px; text-align: center; font-size: 20px;'>1</td><td style='background-color: lightblue; width: 30px; height: 30px; text-align: center; font-size: 20px;'>2</td><td style='background-color: lightblue; width: 30px; height: 30px; text-align: center; font-size: 20px;'>3</td><td style='background-color: lightblue; width: 30px; height: 30px; text-align: center; font-size: 20px;'>4</td></tr><tr><td style='background-color: lightblue; width: 30px; height: 30px; text-align: center; font-size: 20px;'>5</td><td style='background-color: lightblue; width: 30px; height: 30px; text-align: center; font-size: 20px;'>6</td><td style='background-color: lightblue; width: 30px; height: 30px; text-align: center; font-size: 20px;'>7</td><td style='background-color: lightblue; width: 30px; height: 30px; text-align: center; font-size: 20px;'>8</td></tr><tr><td style='background-color: lightblue; width: 30px; height: 30px; text-align: center; font-size: 20px;'>9</td><td style='background-color: lightblue; width: 30px; height: 30px; text-align: center; font-size: 20px;'>10</td><td style='background-color: lightgray; width: 30px; height: 30px; text-align: center; font-size: 20px;'> </td><td style='background-color: lightblue; width: 30px; height: 30px; text-align: center; font-size: 20px;'>11</td></tr><tr><td style='background-color: lightblue; width: 30px; height: 30px; text-align: center; font-size: 20px;'>13</td><td style='background-color: lightblue; width: 30px; height: 30px; text-align: center; font-size: 20px;'>14</td><td style='background-color: lightblue; width: 30px; height: 30px; text-align: center; font-size: 20px;'>15</td><td style='background-color: lightblue; width: 30px; height: 30px; text-align: center; font-size: 20px;'>12</td></tr></table>"
            ]
          },
          "metadata": {}
        },
        {
          "output_type": "stream",
          "name": "stdout",
          "text": [
            "\n",
            "Children nodes:\n",
            " \n"
          ]
        },
        {
          "output_type": "display_data",
          "data": {
            "text/plain": [
              "<IPython.core.display.HTML object>"
            ],
            "text/html": [
              "<table><tr><td style='background-color: lightblue; width: 30px; height: 30px; text-align: center; font-size: 20px;'>1</td><td style='background-color: lightblue; width: 30px; height: 30px; text-align: center; font-size: 20px;'>2</td><td style='background-color: lightblue; width: 30px; height: 30px; text-align: center; font-size: 20px;'>3</td><td style='background-color: lightblue; width: 30px; height: 30px; text-align: center; font-size: 20px;'>4</td></tr><tr><td style='background-color: lightblue; width: 30px; height: 30px; text-align: center; font-size: 20px;'>5</td><td style='background-color: lightblue; width: 30px; height: 30px; text-align: center; font-size: 20px;'>6</td><td style='background-color: lightgray; width: 30px; height: 30px; text-align: center; font-size: 20px;'> </td><td style='background-color: lightblue; width: 30px; height: 30px; text-align: center; font-size: 20px;'>8</td></tr><tr><td style='background-color: lightblue; width: 30px; height: 30px; text-align: center; font-size: 20px;'>9</td><td style='background-color: lightblue; width: 30px; height: 30px; text-align: center; font-size: 20px;'>10</td><td style='background-color: lightblue; width: 30px; height: 30px; text-align: center; font-size: 20px;'>7</td><td style='background-color: lightblue; width: 30px; height: 30px; text-align: center; font-size: 20px;'>11</td></tr><tr><td style='background-color: lightblue; width: 30px; height: 30px; text-align: center; font-size: 20px;'>13</td><td style='background-color: lightblue; width: 30px; height: 30px; text-align: center; font-size: 20px;'>14</td><td style='background-color: lightblue; width: 30px; height: 30px; text-align: center; font-size: 20px;'>15</td><td style='background-color: lightblue; width: 30px; height: 30px; text-align: center; font-size: 20px;'>12</td></tr></table>"
            ]
          },
          "metadata": {}
        },
        {
          "output_type": "stream",
          "name": "stdout",
          "text": [
            "Action to arrive to that node : up\n",
            "Path cost: 1\n",
            " \n"
          ]
        },
        {
          "output_type": "display_data",
          "data": {
            "text/plain": [
              "<IPython.core.display.HTML object>"
            ],
            "text/html": [
              "<table><tr><td style='background-color: lightblue; width: 30px; height: 30px; text-align: center; font-size: 20px;'>1</td><td style='background-color: lightblue; width: 30px; height: 30px; text-align: center; font-size: 20px;'>2</td><td style='background-color: lightblue; width: 30px; height: 30px; text-align: center; font-size: 20px;'>3</td><td style='background-color: lightblue; width: 30px; height: 30px; text-align: center; font-size: 20px;'>4</td></tr><tr><td style='background-color: lightblue; width: 30px; height: 30px; text-align: center; font-size: 20px;'>5</td><td style='background-color: lightblue; width: 30px; height: 30px; text-align: center; font-size: 20px;'>6</td><td style='background-color: lightblue; width: 30px; height: 30px; text-align: center; font-size: 20px;'>7</td><td style='background-color: lightblue; width: 30px; height: 30px; text-align: center; font-size: 20px;'>8</td></tr><tr><td style='background-color: lightblue; width: 30px; height: 30px; text-align: center; font-size: 20px;'>9</td><td style='background-color: lightblue; width: 30px; height: 30px; text-align: center; font-size: 20px;'>10</td><td style='background-color: lightblue; width: 30px; height: 30px; text-align: center; font-size: 20px;'>15</td><td style='background-color: lightblue; width: 30px; height: 30px; text-align: center; font-size: 20px;'>11</td></tr><tr><td style='background-color: lightblue; width: 30px; height: 30px; text-align: center; font-size: 20px;'>13</td><td style='background-color: lightblue; width: 30px; height: 30px; text-align: center; font-size: 20px;'>14</td><td style='background-color: lightgray; width: 30px; height: 30px; text-align: center; font-size: 20px;'> </td><td style='background-color: lightblue; width: 30px; height: 30px; text-align: center; font-size: 20px;'>12</td></tr></table>"
            ]
          },
          "metadata": {}
        },
        {
          "output_type": "stream",
          "name": "stdout",
          "text": [
            "Action to arrive to that node : down\n",
            "Path cost: 1\n",
            " \n"
          ]
        },
        {
          "output_type": "display_data",
          "data": {
            "text/plain": [
              "<IPython.core.display.HTML object>"
            ],
            "text/html": [
              "<table><tr><td style='background-color: lightblue; width: 30px; height: 30px; text-align: center; font-size: 20px;'>1</td><td style='background-color: lightblue; width: 30px; height: 30px; text-align: center; font-size: 20px;'>2</td><td style='background-color: lightblue; width: 30px; height: 30px; text-align: center; font-size: 20px;'>3</td><td style='background-color: lightblue; width: 30px; height: 30px; text-align: center; font-size: 20px;'>4</td></tr><tr><td style='background-color: lightblue; width: 30px; height: 30px; text-align: center; font-size: 20px;'>5</td><td style='background-color: lightblue; width: 30px; height: 30px; text-align: center; font-size: 20px;'>6</td><td style='background-color: lightblue; width: 30px; height: 30px; text-align: center; font-size: 20px;'>7</td><td style='background-color: lightblue; width: 30px; height: 30px; text-align: center; font-size: 20px;'>8</td></tr><tr><td style='background-color: lightblue; width: 30px; height: 30px; text-align: center; font-size: 20px;'>9</td><td style='background-color: lightgray; width: 30px; height: 30px; text-align: center; font-size: 20px;'> </td><td style='background-color: lightblue; width: 30px; height: 30px; text-align: center; font-size: 20px;'>10</td><td style='background-color: lightblue; width: 30px; height: 30px; text-align: center; font-size: 20px;'>11</td></tr><tr><td style='background-color: lightblue; width: 30px; height: 30px; text-align: center; font-size: 20px;'>13</td><td style='background-color: lightblue; width: 30px; height: 30px; text-align: center; font-size: 20px;'>14</td><td style='background-color: lightblue; width: 30px; height: 30px; text-align: center; font-size: 20px;'>15</td><td style='background-color: lightblue; width: 30px; height: 30px; text-align: center; font-size: 20px;'>12</td></tr></table>"
            ]
          },
          "metadata": {}
        },
        {
          "output_type": "stream",
          "name": "stdout",
          "text": [
            "Action to arrive to that node : left\n",
            "Path cost: 1\n",
            " \n"
          ]
        },
        {
          "output_type": "display_data",
          "data": {
            "text/plain": [
              "<IPython.core.display.HTML object>"
            ],
            "text/html": [
              "<table><tr><td style='background-color: lightblue; width: 30px; height: 30px; text-align: center; font-size: 20px;'>1</td><td style='background-color: lightblue; width: 30px; height: 30px; text-align: center; font-size: 20px;'>2</td><td style='background-color: lightblue; width: 30px; height: 30px; text-align: center; font-size: 20px;'>3</td><td style='background-color: lightblue; width: 30px; height: 30px; text-align: center; font-size: 20px;'>4</td></tr><tr><td style='background-color: lightblue; width: 30px; height: 30px; text-align: center; font-size: 20px;'>5</td><td style='background-color: lightblue; width: 30px; height: 30px; text-align: center; font-size: 20px;'>6</td><td style='background-color: lightblue; width: 30px; height: 30px; text-align: center; font-size: 20px;'>7</td><td style='background-color: lightblue; width: 30px; height: 30px; text-align: center; font-size: 20px;'>8</td></tr><tr><td style='background-color: lightblue; width: 30px; height: 30px; text-align: center; font-size: 20px;'>9</td><td style='background-color: lightblue; width: 30px; height: 30px; text-align: center; font-size: 20px;'>10</td><td style='background-color: lightblue; width: 30px; height: 30px; text-align: center; font-size: 20px;'>11</td><td style='background-color: lightgray; width: 30px; height: 30px; text-align: center; font-size: 20px;'> </td></tr><tr><td style='background-color: lightblue; width: 30px; height: 30px; text-align: center; font-size: 20px;'>13</td><td style='background-color: lightblue; width: 30px; height: 30px; text-align: center; font-size: 20px;'>14</td><td style='background-color: lightblue; width: 30px; height: 30px; text-align: center; font-size: 20px;'>15</td><td style='background-color: lightblue; width: 30px; height: 30px; text-align: center; font-size: 20px;'>12</td></tr></table>"
            ]
          },
          "metadata": {}
        },
        {
          "output_type": "stream",
          "name": "stdout",
          "text": [
            "Action to arrive to that node : right\n",
            "Path cost: 1\n"
          ]
        }
      ]
    },
    {
      "cell_type": "markdown",
      "metadata": {
        "id": "6Nxo_uoOP1rw"
      },
      "source": [
        "# **Partie 2 : BFS et DFS**"
      ]
    },
    {
      "cell_type": "markdown",
      "metadata": {
        "id": "AoQqgz_QP-M1"
      },
      "source": [
        "Dans cette 2ème partie nous allons coder les algorithmes de recherche arborescente que nous avons étudiés en cours."
      ]
    },
    {
      "cell_type": "markdown",
      "metadata": {
        "id": "zQf4igRI9WQ0"
      },
      "source": [
        "## **2.1 Breadth First Search**"
      ]
    },
    {
      "cell_type": "markdown",
      "metadata": {
        "id": "6xYzTxRLTrVk"
      },
      "source": [
        "### **Exercice 3**\n",
        "\n",
        "Créer une fonction BFS qui prend un objet problem comme entrée et exécute l'algorithme de recherche en profondeur. Votre fonction doit :\n",
        "\n",
        "1. Retourner le nœud objectif trouvé ainsi que le nombre de nœuds explorés.\n",
        "2. Retourner None si l'algorithme explore tout l'arbre sans trouver le nœud objectif.\n",
        "3. Prendre en compte un budget d'exploration pour arrêter l'algorithme si aucune solution n'est trouvée après plusieurs itérations (utile pour les grands problèmes). Le budget sera également une entrée de la fonction, avec float('inf') comme valeur par défaut.\n",
        "\n",
        "Pour la frontière et l'ensemble des nœuds déjà explorés :\n",
        "* La frontière doit être une liste de nœuds (objets créés par la classe Node).\n",
        "* L'ensemble des nœuds explorés peut être une liste d'états.\n",
        "* Pour sélectionner un élément de la frontière à explorer, utilisez la méthode *pop*. Assurez-vous de toujours prendre le premier élément de la liste.\n",
        "\n",
        "Pour ajouter un élément à une liste, utilisez *liste.append(element)*."
      ]
    },
    {
      "cell_type": "code",
      "execution_count": 19,
      "metadata": {
        "id": "lEKDdi3bTvi1"
      },
      "outputs": [],
      "source": [
        "def breadth_first_search(problem, max_it=float('inf')):\n",
        "    \"\"\"\n",
        "    广度优先搜索算法（Breadth-First Search，BFS）：\n",
        "    从初始状态逐层展开，依次探索所有状态，直至找到目标状态或超过迭代限制。\n",
        "\n",
        "    参数：\n",
        "    - problem: 要解决的搜索问题实例，需提供initial_state, actions(), result(), is_goal()方法。\n",
        "    - max_it: 最大迭代次数（默认无穷大，若设定则超过该次数停止搜索）。\n",
        "\n",
        "    返回值：\n",
        "    - 如果找到目标状态，则返回(goal_node, 迭代次数)；\n",
        "    - 若未找到目标状态，则返回(None, 迭代次数)。\n",
        "    \"\"\"\n",
        "\n",
        "    # 创建根节点，以初始状态初始化\n",
        "    initial_node = Node(problem.initial_state)\n",
        "\n",
        "    # 初始化frontier（待扩展节点列表），初始包含根节点\n",
        "    frontier = [initial_node]\n",
        "\n",
        "    # 已探索状态列表，防止重复探索\n",
        "    explored = []\n",
        "\n",
        "    # 迭代计数器\n",
        "    it = 0\n",
        "\n",
        "    # 开始搜索循环，直至frontier为空或达到最大迭代次数\n",
        "    while frontier and it < max_it:\n",
        "        it += 1\n",
        "\n",
        "        # 从frontier取出第一个节点（队列先进先出原则，BFS核心）\n",
        "        node = frontier.pop(0)\n",
        "\n",
        "        # 将该节点状态标记为已探索\n",
        "        explored.append(node.state)\n",
        "\n",
        "        # 遍历当前节点所有可能动作\n",
        "        for action in problem.actions(node.state):\n",
        "\n",
        "            # 执行动作，获得子状态\n",
        "            child_state = problem.result(node.state, action)\n",
        "\n",
        "            # 如果子状态未被探索过\n",
        "            if child_state not in explored:\n",
        "\n",
        "                # 创建子节点，记录路径、动作和父节点\n",
        "                child_node = Node(child_state, parent=node, action=action)\n",
        "\n",
        "                # 检查子状态是否为目标状态\n",
        "                if problem.is_goal(child_node.state):\n",
        "                    # 若是目标状态，立即返回子节点及迭代次数\n",
        "                    return child_node, it\n",
        "\n",
        "                # 若子节点不在frontier中，则加入frontier等待后续扩展\n",
        "                if child_node not in frontier:\n",
        "                    frontier.append(child_node)\n",
        "\n",
        "    # 若搜索结束未找到目标状态，返回None表示失败及迭代次数\n",
        "    return None, it\n"
      ]
    },
    {
      "cell_type": "markdown",
      "metadata": {
        "id": "9c827KIOkVjo"
      },
      "source": [
        "### **Exercice 4**\n",
        "1. Appliquez votre fonction BFS pour résoudre un Taquin 3x3 avec l'état initial\n",
        "   [[1, 2, 3], [4, 5, 6], [0, 7, 8]].\n",
        "   Imprimez :\n",
        "    * Le nombre de nœuds explorés par l'algorithme.\n",
        "    * Le chemin pour passer de l'état initial à l'état objectif (la liste des actions effectuées).\n",
        "    * Les états successifs du chemin (utilisez la fonction visualize_state).\n",
        "3. Répétez la même expérience pour l'état initial [[1, 2, 3], [4, 5, 0], [6, 7, 8]]."
      ]
    },
    {
      "cell_type": "code",
      "execution_count": 20,
      "metadata": {
        "colab": {
          "base_uri": "https://localhost:8080/",
          "height": 1000
        },
        "id": "kwf-e5WBT-hk",
        "outputId": "4baa156a-bdee-4d80-fa35-df1a2c37a433",
        "scrolled": true
      },
      "outputs": [
        {
          "output_type": "stream",
          "name": "stdout",
          "text": [
            "Solution found in 1846 iterations\n",
            "Actions: ['down', 'left', 'left', 'up', 'right', 'down', 'right', 'up', 'left', 'left', 'down', 'right', 'right']\n",
            "1-th element of the path:\n"
          ]
        },
        {
          "output_type": "display_data",
          "data": {
            "text/plain": [
              "<IPython.core.display.HTML object>"
            ],
            "text/html": [
              "<table><tr><td style='background-color: lightblue; width: 30px; height: 30px; text-align: center; font-size: 20px;'>1</td><td style='background-color: lightblue; width: 30px; height: 30px; text-align: center; font-size: 20px;'>2</td><td style='background-color: lightblue; width: 30px; height: 30px; text-align: center; font-size: 20px;'>3</td></tr><tr><td style='background-color: lightblue; width: 30px; height: 30px; text-align: center; font-size: 20px;'>4</td><td style='background-color: lightblue; width: 30px; height: 30px; text-align: center; font-size: 20px;'>5</td><td style='background-color: lightgray; width: 30px; height: 30px; text-align: center; font-size: 20px;'> </td></tr><tr><td style='background-color: lightblue; width: 30px; height: 30px; text-align: center; font-size: 20px;'>6</td><td style='background-color: lightblue; width: 30px; height: 30px; text-align: center; font-size: 20px;'>7</td><td style='background-color: lightblue; width: 30px; height: 30px; text-align: center; font-size: 20px;'>8</td></tr></table>"
            ]
          },
          "metadata": {}
        },
        {
          "output_type": "stream",
          "name": "stdout",
          "text": [
            "2-th element of the path:\n"
          ]
        },
        {
          "output_type": "display_data",
          "data": {
            "text/plain": [
              "<IPython.core.display.HTML object>"
            ],
            "text/html": [
              "<table><tr><td style='background-color: lightblue; width: 30px; height: 30px; text-align: center; font-size: 20px;'>1</td><td style='background-color: lightblue; width: 30px; height: 30px; text-align: center; font-size: 20px;'>2</td><td style='background-color: lightblue; width: 30px; height: 30px; text-align: center; font-size: 20px;'>3</td></tr><tr><td style='background-color: lightblue; width: 30px; height: 30px; text-align: center; font-size: 20px;'>4</td><td style='background-color: lightblue; width: 30px; height: 30px; text-align: center; font-size: 20px;'>5</td><td style='background-color: lightblue; width: 30px; height: 30px; text-align: center; font-size: 20px;'>8</td></tr><tr><td style='background-color: lightblue; width: 30px; height: 30px; text-align: center; font-size: 20px;'>6</td><td style='background-color: lightblue; width: 30px; height: 30px; text-align: center; font-size: 20px;'>7</td><td style='background-color: lightgray; width: 30px; height: 30px; text-align: center; font-size: 20px;'> </td></tr></table>"
            ]
          },
          "metadata": {}
        },
        {
          "output_type": "stream",
          "name": "stdout",
          "text": [
            "3-th element of the path:\n"
          ]
        },
        {
          "output_type": "display_data",
          "data": {
            "text/plain": [
              "<IPython.core.display.HTML object>"
            ],
            "text/html": [
              "<table><tr><td style='background-color: lightblue; width: 30px; height: 30px; text-align: center; font-size: 20px;'>1</td><td style='background-color: lightblue; width: 30px; height: 30px; text-align: center; font-size: 20px;'>2</td><td style='background-color: lightblue; width: 30px; height: 30px; text-align: center; font-size: 20px;'>3</td></tr><tr><td style='background-color: lightblue; width: 30px; height: 30px; text-align: center; font-size: 20px;'>4</td><td style='background-color: lightblue; width: 30px; height: 30px; text-align: center; font-size: 20px;'>5</td><td style='background-color: lightblue; width: 30px; height: 30px; text-align: center; font-size: 20px;'>8</td></tr><tr><td style='background-color: lightblue; width: 30px; height: 30px; text-align: center; font-size: 20px;'>6</td><td style='background-color: lightgray; width: 30px; height: 30px; text-align: center; font-size: 20px;'> </td><td style='background-color: lightblue; width: 30px; height: 30px; text-align: center; font-size: 20px;'>7</td></tr></table>"
            ]
          },
          "metadata": {}
        },
        {
          "output_type": "stream",
          "name": "stdout",
          "text": [
            "4-th element of the path:\n"
          ]
        },
        {
          "output_type": "display_data",
          "data": {
            "text/plain": [
              "<IPython.core.display.HTML object>"
            ],
            "text/html": [
              "<table><tr><td style='background-color: lightblue; width: 30px; height: 30px; text-align: center; font-size: 20px;'>1</td><td style='background-color: lightblue; width: 30px; height: 30px; text-align: center; font-size: 20px;'>2</td><td style='background-color: lightblue; width: 30px; height: 30px; text-align: center; font-size: 20px;'>3</td></tr><tr><td style='background-color: lightblue; width: 30px; height: 30px; text-align: center; font-size: 20px;'>4</td><td style='background-color: lightblue; width: 30px; height: 30px; text-align: center; font-size: 20px;'>5</td><td style='background-color: lightblue; width: 30px; height: 30px; text-align: center; font-size: 20px;'>8</td></tr><tr><td style='background-color: lightgray; width: 30px; height: 30px; text-align: center; font-size: 20px;'> </td><td style='background-color: lightblue; width: 30px; height: 30px; text-align: center; font-size: 20px;'>6</td><td style='background-color: lightblue; width: 30px; height: 30px; text-align: center; font-size: 20px;'>7</td></tr></table>"
            ]
          },
          "metadata": {}
        },
        {
          "output_type": "stream",
          "name": "stdout",
          "text": [
            "5-th element of the path:\n"
          ]
        },
        {
          "output_type": "display_data",
          "data": {
            "text/plain": [
              "<IPython.core.display.HTML object>"
            ],
            "text/html": [
              "<table><tr><td style='background-color: lightblue; width: 30px; height: 30px; text-align: center; font-size: 20px;'>1</td><td style='background-color: lightblue; width: 30px; height: 30px; text-align: center; font-size: 20px;'>2</td><td style='background-color: lightblue; width: 30px; height: 30px; text-align: center; font-size: 20px;'>3</td></tr><tr><td style='background-color: lightgray; width: 30px; height: 30px; text-align: center; font-size: 20px;'> </td><td style='background-color: lightblue; width: 30px; height: 30px; text-align: center; font-size: 20px;'>5</td><td style='background-color: lightblue; width: 30px; height: 30px; text-align: center; font-size: 20px;'>8</td></tr><tr><td style='background-color: lightblue; width: 30px; height: 30px; text-align: center; font-size: 20px;'>4</td><td style='background-color: lightblue; width: 30px; height: 30px; text-align: center; font-size: 20px;'>6</td><td style='background-color: lightblue; width: 30px; height: 30px; text-align: center; font-size: 20px;'>7</td></tr></table>"
            ]
          },
          "metadata": {}
        },
        {
          "output_type": "stream",
          "name": "stdout",
          "text": [
            "6-th element of the path:\n"
          ]
        },
        {
          "output_type": "display_data",
          "data": {
            "text/plain": [
              "<IPython.core.display.HTML object>"
            ],
            "text/html": [
              "<table><tr><td style='background-color: lightblue; width: 30px; height: 30px; text-align: center; font-size: 20px;'>1</td><td style='background-color: lightblue; width: 30px; height: 30px; text-align: center; font-size: 20px;'>2</td><td style='background-color: lightblue; width: 30px; height: 30px; text-align: center; font-size: 20px;'>3</td></tr><tr><td style='background-color: lightblue; width: 30px; height: 30px; text-align: center; font-size: 20px;'>5</td><td style='background-color: lightgray; width: 30px; height: 30px; text-align: center; font-size: 20px;'> </td><td style='background-color: lightblue; width: 30px; height: 30px; text-align: center; font-size: 20px;'>8</td></tr><tr><td style='background-color: lightblue; width: 30px; height: 30px; text-align: center; font-size: 20px;'>4</td><td style='background-color: lightblue; width: 30px; height: 30px; text-align: center; font-size: 20px;'>6</td><td style='background-color: lightblue; width: 30px; height: 30px; text-align: center; font-size: 20px;'>7</td></tr></table>"
            ]
          },
          "metadata": {}
        },
        {
          "output_type": "stream",
          "name": "stdout",
          "text": [
            "7-th element of the path:\n"
          ]
        },
        {
          "output_type": "display_data",
          "data": {
            "text/plain": [
              "<IPython.core.display.HTML object>"
            ],
            "text/html": [
              "<table><tr><td style='background-color: lightblue; width: 30px; height: 30px; text-align: center; font-size: 20px;'>1</td><td style='background-color: lightblue; width: 30px; height: 30px; text-align: center; font-size: 20px;'>2</td><td style='background-color: lightblue; width: 30px; height: 30px; text-align: center; font-size: 20px;'>3</td></tr><tr><td style='background-color: lightblue; width: 30px; height: 30px; text-align: center; font-size: 20px;'>5</td><td style='background-color: lightblue; width: 30px; height: 30px; text-align: center; font-size: 20px;'>6</td><td style='background-color: lightblue; width: 30px; height: 30px; text-align: center; font-size: 20px;'>8</td></tr><tr><td style='background-color: lightblue; width: 30px; height: 30px; text-align: center; font-size: 20px;'>4</td><td style='background-color: lightgray; width: 30px; height: 30px; text-align: center; font-size: 20px;'> </td><td style='background-color: lightblue; width: 30px; height: 30px; text-align: center; font-size: 20px;'>7</td></tr></table>"
            ]
          },
          "metadata": {}
        },
        {
          "output_type": "stream",
          "name": "stdout",
          "text": [
            "8-th element of the path:\n"
          ]
        },
        {
          "output_type": "display_data",
          "data": {
            "text/plain": [
              "<IPython.core.display.HTML object>"
            ],
            "text/html": [
              "<table><tr><td style='background-color: lightblue; width: 30px; height: 30px; text-align: center; font-size: 20px;'>1</td><td style='background-color: lightblue; width: 30px; height: 30px; text-align: center; font-size: 20px;'>2</td><td style='background-color: lightblue; width: 30px; height: 30px; text-align: center; font-size: 20px;'>3</td></tr><tr><td style='background-color: lightblue; width: 30px; height: 30px; text-align: center; font-size: 20px;'>5</td><td style='background-color: lightblue; width: 30px; height: 30px; text-align: center; font-size: 20px;'>6</td><td style='background-color: lightblue; width: 30px; height: 30px; text-align: center; font-size: 20px;'>8</td></tr><tr><td style='background-color: lightblue; width: 30px; height: 30px; text-align: center; font-size: 20px;'>4</td><td style='background-color: lightblue; width: 30px; height: 30px; text-align: center; font-size: 20px;'>7</td><td style='background-color: lightgray; width: 30px; height: 30px; text-align: center; font-size: 20px;'> </td></tr></table>"
            ]
          },
          "metadata": {}
        },
        {
          "output_type": "stream",
          "name": "stdout",
          "text": [
            "9-th element of the path:\n"
          ]
        },
        {
          "output_type": "display_data",
          "data": {
            "text/plain": [
              "<IPython.core.display.HTML object>"
            ],
            "text/html": [
              "<table><tr><td style='background-color: lightblue; width: 30px; height: 30px; text-align: center; font-size: 20px;'>1</td><td style='background-color: lightblue; width: 30px; height: 30px; text-align: center; font-size: 20px;'>2</td><td style='background-color: lightblue; width: 30px; height: 30px; text-align: center; font-size: 20px;'>3</td></tr><tr><td style='background-color: lightblue; width: 30px; height: 30px; text-align: center; font-size: 20px;'>5</td><td style='background-color: lightblue; width: 30px; height: 30px; text-align: center; font-size: 20px;'>6</td><td style='background-color: lightgray; width: 30px; height: 30px; text-align: center; font-size: 20px;'> </td></tr><tr><td style='background-color: lightblue; width: 30px; height: 30px; text-align: center; font-size: 20px;'>4</td><td style='background-color: lightblue; width: 30px; height: 30px; text-align: center; font-size: 20px;'>7</td><td style='background-color: lightblue; width: 30px; height: 30px; text-align: center; font-size: 20px;'>8</td></tr></table>"
            ]
          },
          "metadata": {}
        },
        {
          "output_type": "stream",
          "name": "stdout",
          "text": [
            "10-th element of the path:\n"
          ]
        },
        {
          "output_type": "display_data",
          "data": {
            "text/plain": [
              "<IPython.core.display.HTML object>"
            ],
            "text/html": [
              "<table><tr><td style='background-color: lightblue; width: 30px; height: 30px; text-align: center; font-size: 20px;'>1</td><td style='background-color: lightblue; width: 30px; height: 30px; text-align: center; font-size: 20px;'>2</td><td style='background-color: lightblue; width: 30px; height: 30px; text-align: center; font-size: 20px;'>3</td></tr><tr><td style='background-color: lightblue; width: 30px; height: 30px; text-align: center; font-size: 20px;'>5</td><td style='background-color: lightgray; width: 30px; height: 30px; text-align: center; font-size: 20px;'> </td><td style='background-color: lightblue; width: 30px; height: 30px; text-align: center; font-size: 20px;'>6</td></tr><tr><td style='background-color: lightblue; width: 30px; height: 30px; text-align: center; font-size: 20px;'>4</td><td style='background-color: lightblue; width: 30px; height: 30px; text-align: center; font-size: 20px;'>7</td><td style='background-color: lightblue; width: 30px; height: 30px; text-align: center; font-size: 20px;'>8</td></tr></table>"
            ]
          },
          "metadata": {}
        },
        {
          "output_type": "stream",
          "name": "stdout",
          "text": [
            "11-th element of the path:\n"
          ]
        },
        {
          "output_type": "display_data",
          "data": {
            "text/plain": [
              "<IPython.core.display.HTML object>"
            ],
            "text/html": [
              "<table><tr><td style='background-color: lightblue; width: 30px; height: 30px; text-align: center; font-size: 20px;'>1</td><td style='background-color: lightblue; width: 30px; height: 30px; text-align: center; font-size: 20px;'>2</td><td style='background-color: lightblue; width: 30px; height: 30px; text-align: center; font-size: 20px;'>3</td></tr><tr><td style='background-color: lightgray; width: 30px; height: 30px; text-align: center; font-size: 20px;'> </td><td style='background-color: lightblue; width: 30px; height: 30px; text-align: center; font-size: 20px;'>5</td><td style='background-color: lightblue; width: 30px; height: 30px; text-align: center; font-size: 20px;'>6</td></tr><tr><td style='background-color: lightblue; width: 30px; height: 30px; text-align: center; font-size: 20px;'>4</td><td style='background-color: lightblue; width: 30px; height: 30px; text-align: center; font-size: 20px;'>7</td><td style='background-color: lightblue; width: 30px; height: 30px; text-align: center; font-size: 20px;'>8</td></tr></table>"
            ]
          },
          "metadata": {}
        },
        {
          "output_type": "stream",
          "name": "stdout",
          "text": [
            "12-th element of the path:\n"
          ]
        },
        {
          "output_type": "display_data",
          "data": {
            "text/plain": [
              "<IPython.core.display.HTML object>"
            ],
            "text/html": [
              "<table><tr><td style='background-color: lightblue; width: 30px; height: 30px; text-align: center; font-size: 20px;'>1</td><td style='background-color: lightblue; width: 30px; height: 30px; text-align: center; font-size: 20px;'>2</td><td style='background-color: lightblue; width: 30px; height: 30px; text-align: center; font-size: 20px;'>3</td></tr><tr><td style='background-color: lightblue; width: 30px; height: 30px; text-align: center; font-size: 20px;'>4</td><td style='background-color: lightblue; width: 30px; height: 30px; text-align: center; font-size: 20px;'>5</td><td style='background-color: lightblue; width: 30px; height: 30px; text-align: center; font-size: 20px;'>6</td></tr><tr><td style='background-color: lightgray; width: 30px; height: 30px; text-align: center; font-size: 20px;'> </td><td style='background-color: lightblue; width: 30px; height: 30px; text-align: center; font-size: 20px;'>7</td><td style='background-color: lightblue; width: 30px; height: 30px; text-align: center; font-size: 20px;'>8</td></tr></table>"
            ]
          },
          "metadata": {}
        },
        {
          "output_type": "stream",
          "name": "stdout",
          "text": [
            "13-th element of the path:\n"
          ]
        },
        {
          "output_type": "display_data",
          "data": {
            "text/plain": [
              "<IPython.core.display.HTML object>"
            ],
            "text/html": [
              "<table><tr><td style='background-color: lightblue; width: 30px; height: 30px; text-align: center; font-size: 20px;'>1</td><td style='background-color: lightblue; width: 30px; height: 30px; text-align: center; font-size: 20px;'>2</td><td style='background-color: lightblue; width: 30px; height: 30px; text-align: center; font-size: 20px;'>3</td></tr><tr><td style='background-color: lightblue; width: 30px; height: 30px; text-align: center; font-size: 20px;'>4</td><td style='background-color: lightblue; width: 30px; height: 30px; text-align: center; font-size: 20px;'>5</td><td style='background-color: lightblue; width: 30px; height: 30px; text-align: center; font-size: 20px;'>6</td></tr><tr><td style='background-color: lightblue; width: 30px; height: 30px; text-align: center; font-size: 20px;'>7</td><td style='background-color: lightgray; width: 30px; height: 30px; text-align: center; font-size: 20px;'> </td><td style='background-color: lightblue; width: 30px; height: 30px; text-align: center; font-size: 20px;'>8</td></tr></table>"
            ]
          },
          "metadata": {}
        },
        {
          "output_type": "stream",
          "name": "stdout",
          "text": [
            "14-th element of the path:\n"
          ]
        },
        {
          "output_type": "display_data",
          "data": {
            "text/plain": [
              "<IPython.core.display.HTML object>"
            ],
            "text/html": [
              "<table><tr><td style='background-color: lightblue; width: 30px; height: 30px; text-align: center; font-size: 20px;'>1</td><td style='background-color: lightblue; width: 30px; height: 30px; text-align: center; font-size: 20px;'>2</td><td style='background-color: lightblue; width: 30px; height: 30px; text-align: center; font-size: 20px;'>3</td></tr><tr><td style='background-color: lightblue; width: 30px; height: 30px; text-align: center; font-size: 20px;'>4</td><td style='background-color: lightblue; width: 30px; height: 30px; text-align: center; font-size: 20px;'>5</td><td style='background-color: lightblue; width: 30px; height: 30px; text-align: center; font-size: 20px;'>6</td></tr><tr><td style='background-color: lightblue; width: 30px; height: 30px; text-align: center; font-size: 20px;'>7</td><td style='background-color: lightblue; width: 30px; height: 30px; text-align: center; font-size: 20px;'>8</td><td style='background-color: lightgray; width: 30px; height: 30px; text-align: center; font-size: 20px;'> </td></tr></table>"
            ]
          },
          "metadata": {}
        }
      ],
      "source": [
        "# 定义拼图的初始状态和目标状态 (3x3的拼图)\n",
        "initial_state = [\n",
        "    [1, 2, 3],\n",
        "    [4, 5, 0],  # 空白方块(0)初始在第二行第三列\n",
        "    [6, 7, 8]\n",
        "]\n",
        "\n",
        "goal_state = [\n",
        "    [1, 2, 3],\n",
        "    [4, 5, 6],\n",
        "    [7, 8, 0]   # 空白方块(0)目标位置在右下角\n",
        "]\n",
        "\n",
        "# 创建Taquin拼图问题实例\n",
        "problem = Taquin(initial_state, goal_state, len(initial_state[0]))  # 拼图尺寸为3x3\n",
        "\n",
        "# 使用广度优先搜索(BFS)算法尝试寻找拼图解法\n",
        "solution_node, it = breadth_first_search(problem)\n",
        "\n",
        "# 检测是否找到解决方案，并进行结果展示\n",
        "if solution_node:\n",
        "    print(\"Solution found in\", it, \"iterations\")   # 显示找到解法所用的迭代次数\n",
        "    print(\"Actions:\", solution_node.solution())    # 显示解法所需的动作序列\n",
        "\n",
        "    # 可视化并打印从初始状态到目标状态的完整路径（包括每一步）\n",
        "    t = 1  # 用于标记路径上每个状态的序号\n",
        "    for node in solution_node.path():\n",
        "        print(f\"{t}-th element of the path:\")\n",
        "        visualize_state(node.state)  # 可视化当前状态的拼图布局\n",
        "        t += 1  # 递增状态序号\n",
        "else:\n",
        "    # 若未找到解决方案，输出提示信息\n",
        "    print(\"No solution found.\")\n"
      ]
    },
    {
      "cell_type": "markdown",
      "metadata": {
        "id": "ry0eKGZY9WQ1"
      },
      "source": [
        "## **2.2 Depth First Search**"
      ]
    },
    {
      "cell_type": "markdown",
      "metadata": {
        "id": "_J6S1eHWQM6P"
      },
      "source": [
        "### **Exercice 5**\n",
        "Créer une fonction DFS qui prend un objet problem comme entrée et exécute l'algorithme de recherche en profondeur. Votre fonction doit :\n",
        "\n",
        "1. Retourner le nœud objectif trouvé ainsi que le nombre de nœuds explorés.\n",
        "2. Retourner None si l'algorithme explore tout l'arbre sans trouver le nœud objectif.\n",
        "3. Prendre en compte un budget d'exploration pour arrêter l'algorithme si aucune solution n'est trouvée après plusieurs itérations (utile pour les grands problèmes). Le budget sera également une entrée de la fonction, avec float('inf') comme valeur par défaut.\n",
        "\n",
        "Pour la frontière et l'ensemble des nœuds déjà explorés :\n",
        "* La frontière doit être une liste de nœuds (objets créés par la classe Node).\n",
        "* L'ensemble des nœuds explorés peut être une liste d'états.\n",
        "* Pour sélectionner un élément de la frontière à explorer, utilisez la méthode *pop*. Assurez-vous de toujours prendre le dernier élément de la liste.\n",
        "\n",
        "Pour ajouter un élément à une liste, utilisez *liste.append(element)*.\n",
        "\n"
      ]
    },
    {
      "cell_type": "code",
      "execution_count": 22,
      "metadata": {
        "id": "KQ-0P0VNQSwP"
      },
      "outputs": [],
      "source": [
        "def depth_first_search(problem, max_it=float('inf')):\n",
        "    \"\"\"\n",
        "    深度优先搜索算法（Depth-First Search, DFS）:\n",
        "    沿一条路径深入搜索，直到无法继续前进或达到目标，再回溯搜索其他路径。\n",
        "\n",
        "    参数:\n",
        "    - problem: 待解决的搜索问题实例（提供initial_state、actions()、result()、is_goal()方法）\n",
        "    - max_it: 最大允许的迭代次数，防止无限搜索（默认无穷大）\n",
        "\n",
        "    返回值:\n",
        "    - 若找到目标状态，返回(goal_node, 迭代次数)\n",
        "    - 若未找到目标状态，返回(None, 迭代次数)\n",
        "    \"\"\"\n",
        "\n",
        "    # 从初始状态创建根节点\n",
        "    initial_node = Node(problem.initial_state)\n",
        "\n",
        "    # frontier用于记录待扩展节点（使用列表模拟栈，DFS核心特点为后进先出(LIFO)）\n",
        "    frontier = [initial_node]\n",
        "\n",
        "    # explored列表用于记录已经探索过的状态，避免重复探索\n",
        "    explored = []\n",
        "\n",
        "    # 迭代次数计数器\n",
        "    it = 0\n",
        "\n",
        "    # 搜索循环，持续到frontier为空或达到最大迭代次数\n",
        "    while frontier and it < max_it:\n",
        "        # 每次迭代增加计数器\n",
        "        it += 1\n",
        "\n",
        "        # 从frontier取出最后一个节点（DFS采用后进先出原则）\n",
        "        node = frontier.pop(-1)\n",
        "\n",
        "        # 将当前节点的状态标记为已探索\n",
        "        explored.append(node.state)\n",
        "\n",
        "        # 遍历当前节点所有可能的动作（下一步可以走的路径）\n",
        "        for action in problem.actions(node.state):\n",
        "\n",
        "            # 执行动作获得新的子状态\n",
        "            child_state = problem.result(node.state, action)\n",
        "\n",
        "            # 若子状态未被探索过（避免循环）\n",
        "            if child_state not in explored:\n",
        "\n",
        "                # 创建新的子节点\n",
        "                child_node = Node(child_state, parent=node, action=action)\n",
        "\n",
        "                # 若子节点状态即为目标状态，搜索成功，返回结果\n",
        "                if problem.is_goal(child_node.state):\n",
        "                    return child_node, it  # 返回找到的目标节点及当前迭代次数\n",
        "\n",
        "                # 如果子节点尚未在frontier中，添加进frontier等待扩展\n",
        "                if child_node not in frontier:\n",
        "                    frontier.append(child_node)\n",
        "\n",
        "    # 若搜索结束仍未找到目标，返回None以及迭代次数\n",
        "    return None, it\n"
      ]
    },
    {
      "cell_type": "markdown",
      "metadata": {
        "id": "_jUoeMzeku_w"
      },
      "source": [
        "### **Exercise 6**\n",
        "1. Appliquez votre fonction DFS pour résoudre un Taquin 3x3 avec l'état initial [[1, 2, 3], [4, 5, 6], [0, 7, 8]]. Imprimez :\n",
        "    * Le nombre de nœuds explorés par l'algorithme.\n",
        "    * Le chemin pour passer de l'état initial à l'état objectif (la liste des actions effectuées).\n",
        "    * Les états successifs du chemin (utilisez la fonction visualize_state).\n",
        "2. Répétez la même expérience pour l'état initial [[1, 2, 3], [4, 5, 0], [6, 7, 8]].\n",
        "3. Qu'observez-vous en comparant cet algorithme avec BFS ?"
      ]
    },
    {
      "cell_type": "code",
      "execution_count": 23,
      "metadata": {
        "colab": {
          "base_uri": "https://localhost:8080/"
        },
        "id": "1gQfcOpdQqQv",
        "outputId": "acf1675c-e808-4d17-ea17-b7ef1f54553a"
      },
      "outputs": [
        {
          "output_type": "stream",
          "name": "stdout",
          "text": [
            "No solution found.\n"
          ]
        }
      ],
      "source": [
        "# 定义拼图的初始状态（3x3拼图）\n",
        "initial_state = [\n",
        "    [1, 2, 3],\n",
        "    [4, 5, 0],   # 空白方块(0)初始位于第2行第3列\n",
        "    [6, 7, 8]\n",
        "]\n",
        "\n",
        "# 定义拼图的目标状态（拼图完成时的状态）\n",
        "goal_state = [\n",
        "    [1, 2, 3],\n",
        "    [4, 5, 6],\n",
        "    [7, 8, 0]    # 空白方块(0)目标位于第3行第3列（右下角）\n",
        "]\n",
        "\n",
        "# 根据初始与目标状态创建一个拼图问题实例\n",
        "problem = Taquin(initial_state, goal_state, len(initial_state[0]))  # 拼图尺寸为3x3\n",
        "\n",
        "# 定义DFS算法允许的最大搜索迭代次数（防止无限循环）\n",
        "max_it = 10000\n",
        "\n",
        "# 执行深度优先搜索（DFS），尝试找到拼图从初始状态到目标状态的解法\n",
        "solution_node, it = depth_first_search(problem, max_it)\n",
        "\n",
        "# 检查DFS算法是否成功找到解法\n",
        "if solution_node:\n",
        "    print(\"Solution found in\", it, 'iterations')  # 显示找到解所需的迭代次数\n",
        "    print(\"Actions:\", solution_node.solution())   # 显示解法对应的动作序列\n",
        "\n",
        "    # 逐步显示从初始状态到目标状态的所有状态变化过程\n",
        "    t = 1  # 用于记录路径中的步骤序号\n",
        "    for node in solution_node.path():\n",
        "        print(t, '-th element of the path')\n",
        "        visualize_state(node.state)   # 可视化打印拼图当前的状态\n",
        "        t = t + 1  # 增加步骤计数器\n",
        "else:\n",
        "    # 如果没有找到解法，则打印提示信息\n",
        "    print(\"No solution found.\")\n"
      ]
    },
    {
      "cell_type": "markdown",
      "metadata": {
        "id": "NVQOyZQ49WQ1"
      },
      "source": [
        "## **2.3 Comparaison empirique de DFS et BFS**\n",
        "\n",
        "Nous allons comparer la performance des deux algorithmes dans plusieurs jeux de Taquin 3x3."
      ]
    },
    {
      "cell_type": "markdown",
      "metadata": {
        "id": "xc24srbH2tQI"
      },
      "source": [
        "### **Exercice 7**\n",
        "1. Écrivez une fonction compare_algorithms qui prend en entrée :\n",
        "    * Une liste d’états initiaux.\n",
        "    * Un état objectif.\n",
        "    * Une liste d’algorithmes.\n",
        "2. La fonction doit résoudre chaque problème en exécutant chaque algorithme. Assurez-vous de fixer des budgets pour éviter que les algorithmes ne prennent trop de temps.\n",
        "3. Pour chaque paire (problème, algorithme), enregistrez :\n",
        "    * Le nombre de nœuds explorés.\n",
        "    * La longueur du chemin trouvé entre la racine et le nœud objectif.\n",
        "    * Le temps d'exécution. Pour mesurer le temps d'exécution, vous pouvez importer time et utiliser :\n",
        "        * *start_time = time.time()*\n",
        "        * *\\# résoudre le problème*\n",
        "        * *end_time = time.time()*\n",
        "        * *execution_time = end_time - start_time*\n",
        "4. Enregistrez les résultats dans un dictionaire.\n",
        "\n"
      ]
    },
    {
      "cell_type": "code",
      "execution_count": 24,
      "metadata": {
        "id": "C1JshIqvSo4k"
      },
      "outputs": [],
      "source": [
        "import time\n",
        "\n",
        "def compare_algorithms(initial_states, goal_state, algorithms, max_it):\n",
        "    \"\"\"\n",
        "    对比多个搜索算法在不同初始状态下的性能表现。\n",
        "\n",
        "    参数说明：\n",
        "    - initial_states: 初始状态列表（每个状态都是拼图的二维列表）。\n",
        "    - goal_state: 目标状态（二维列表）。\n",
        "    - algorithms: 要测试的算法列表（例如：[breadth_first_search, depth_first_search]）。\n",
        "    - max_it: 每个算法允许的最大迭代次数（用于限制搜索的规模）。\n",
        "\n",
        "    返回值：\n",
        "    - 一个列表results，其中每个元素对应一个算法的所有测试结果。\n",
        "    \"\"\"\n",
        "\n",
        "    # 初始化一个空结果列表，每个算法对应一个子列表\n",
        "    results = [[] for _ in range(len(algorithms))]\n",
        "\n",
        "    # 对每个提供的初始状态进行测试\n",
        "    for initial_state in initial_states:\n",
        "        print('Solving state')\n",
        "        visualize_state(initial_state)  # 可视化初始状态，便于直观理解\n",
        "\n",
        "        # 根据当前初始状态创建拼图问题实例\n",
        "        problem = Taquin(initial_state, goal_state, len(initial_state[0]))\n",
        "\n",
        "        # 依次执行所有待测试的搜索算法\n",
        "        for k in range(len(algorithms)):\n",
        "            algorithm = algorithms[k]  # 获取当前要运行的算法\n",
        "            print('Running', algorithm.__name__)  # 打印当前执行的算法名称\n",
        "\n",
        "            # 记录算法执行前的时间\n",
        "            start_time = time.time()\n",
        "\n",
        "            # 执行搜索算法，返回解决方案节点及探索次数\n",
        "            solution_node, num_explorations = algorithm(problem, max_it)\n",
        "\n",
        "            # 算法执行后的结束时间\n",
        "            end_time = time.time()\n",
        "\n",
        "            # 计算算法执行的总时间（秒）\n",
        "            execution_time = end_time - start_time\n",
        "\n",
        "            # 若找到解决方案，记录路径长度（动作数）；若未找到则标记为-1\n",
        "            if solution_node:\n",
        "                path_length = len(solution_node.solution())\n",
        "            else:\n",
        "                path_length = -1  # 表示未找到解法\n",
        "\n",
        "            # 记录该算法对当前初始状态的性能结果\n",
        "            results[k].append({\n",
        "                \"initial_state\": initial_state,      # 当前测试的初始状态\n",
        "                \"algorithm\": algorithm.__name__,     # 算法名称（如 'breadth_first_search'）\n",
        "                \"num_explorations\": num_explorations,# 搜索过程中探索的节点数\n",
        "                \"path_length\": path_length,          # 解法路径长度（若无解则为-1）\n",
        "                \"execution_time\": execution_time     # 算法执行所需时间\n",
        "            })\n",
        "\n",
        "    # 返回所有算法在所有初始状态下的性能结果\n",
        "    return results\n"
      ]
    },
    {
      "cell_type": "markdown",
      "metadata": {
        "id": "69CS1zsJwNC9"
      },
      "source": [
        "### **Exercice 8**\n",
        "Comparez les algorithmes BFS et DFS dans les instances suivantes du jeu de Taquin 3x3.\n",
        "1. [[1, 2, 3], [4, 5, 0], [6, 7, 8]]\n",
        "2. [[1, 2, 3], [0, 5, 6], [4, 7, 8]]    \n",
        "3. [[1, 0, 3], [4, 2, 5], [7, 8, 6]]\n",
        "4. [[1, 0, 3], [4, 5, 2], [7, 6, 8]]\n",
        "5. [[1, 0, 3], [4, 2, 5], [6, 7, 8]]\n",
        "6. [[1, 2, 3], [4, 0, 6], [7, 5, 8]]\n",
        "7. [[1, 2, 3], [0, 4, 6], [7, 5, 8]]\n",
        "8. [[1, 2, 3], [4, 6, 0], [7, 5, 8]]\n",
        "9. [[1, 3, 6], [4, 2, 5], [7, 0, 8]]  \n",
        "10. [[1, 3, 6], [4, 2, 0], [7, 5, 8]]  \n",
        "11. [[1, 3, 6], [4, 0, 2], [7, 5, 8]]  \n",
        "12. [[3, 1, 2], [4, 6, 5], [7, 0, 8]]  \n",
        "13. [[8, 1, 2], [0, 4, 3], [7, 6, 5]]\n",
        "14. [[1, 4, 2], [7, 0, 6], [5, 3, 8]]\n",
        "15. [[2, 8, 3], [1, 6, 4], [7, 0, 5]]"
      ]
    },
    {
      "cell_type": "code",
      "execution_count": null,
      "metadata": {
        "colab": {
          "base_uri": "https://localhost:8080/",
          "height": 173
        },
        "id": "DoFT3VfRS5g6",
        "outputId": "a1382faf-c347-4a28-da60-cb5abdc15697"
      },
      "outputs": [
        {
          "output_type": "stream",
          "name": "stdout",
          "text": [
            "Solving state\n"
          ]
        },
        {
          "output_type": "display_data",
          "data": {
            "text/plain": [
              "<IPython.core.display.HTML object>"
            ],
            "text/html": [
              "<table><tr><td style='background-color: lightblue; width: 30px; height: 30px; text-align: center; font-size: 20px;'>1</td><td style='background-color: lightblue; width: 30px; height: 30px; text-align: center; font-size: 20px;'>2</td><td style='background-color: lightblue; width: 30px; height: 30px; text-align: center; font-size: 20px;'>3</td></tr><tr><td style='background-color: lightblue; width: 30px; height: 30px; text-align: center; font-size: 20px;'>4</td><td style='background-color: lightblue; width: 30px; height: 30px; text-align: center; font-size: 20px;'>5</td><td style='background-color: lightgray; width: 30px; height: 30px; text-align: center; font-size: 20px;'> </td></tr><tr><td style='background-color: lightblue; width: 30px; height: 30px; text-align: center; font-size: 20px;'>6</td><td style='background-color: lightblue; width: 30px; height: 30px; text-align: center; font-size: 20px;'>7</td><td style='background-color: lightblue; width: 30px; height: 30px; text-align: center; font-size: 20px;'>8</td></tr></table>"
            ]
          },
          "metadata": {}
        },
        {
          "output_type": "stream",
          "name": "stdout",
          "text": [
            "Running breadth_first_search\n",
            "Running depth_first_search\n"
          ]
        }
      ],
      "source": [
        "# 定义一系列不同难度的初始拼图状态（用于评估搜索算法的性能）\n",
        "initial_states = [\n",
        "    [[1, 2, 3], [4, 5, 0], [6, 7, 8]],  # 空白方块位于中间位置，较简单\n",
        "    [[1, 2, 3], [0, 5, 6], [4, 7, 8]],  # 空白左侧偏下，略复杂\n",
        "    [[1, 0, 3], [4, 2, 5], [7, 8, 6]],  # 空白靠上且位置混乱，更复杂\n",
        "    [[1, 0, 3], [4, 5, 2], [7, 6, 8]],\n",
        "    [[1, 0, 3], [4, 2, 5], [6, 7, 8]],\n",
        "    [[1, 2, 3], [4, 0, 6], [7, 5, 8]],\n",
        "    [[1, 2, 3], [0, 4, 6], [7, 5, 8]],\n",
        "    [[1, 2, 3], [4, 6, 0], [7, 5, 8]],\n",
        "    [[1, 3, 6], [4, 2, 5], [7, 0, 8]],\n",
        "    [[1, 3, 6], [4, 2, 0], [7, 5, 8]],\n",
        "    [[1, 3, 6], [4, 0, 2], [7, 5, 8]],\n",
        "    [[3, 1, 2], [4, 6, 5], [7, 0, 8]],\n",
        "    [[8, 1, 2], [0, 4, 3], [7, 6, 5]],  # 非常复杂的状态，可能难解\n",
        "    [[1, 4, 2], [7, 0, 6], [5, 3, 8]],\n",
        "    [[2, 8, 3], [1, 6, 4], [7, 0, 5]]   # 复杂度较高状态\n",
        "]\n",
        "\n",
        "# 定义拼图的目标状态（3x3拼图的标准完成状态）\n",
        "goal_state = [[1, 2, 3],\n",
        "              [4, 5, 6],\n",
        "              [7, 8, 0]]  # 空白方块最终在右下角位置\n",
        "\n",
        "# 定义需要比较的搜索算法列表\n",
        "algorithms = [breadth_first_search, depth_first_search]\n",
        "\n",
        "# 调用之前定义好的 compare_algorithms 函数进行性能对比：\n",
        "# - 对于每个初始状态，用BFS与DFS进行搜索\n",
        "# - 最大搜索次数（max_it）设定为20000，以防止无限循环\n",
        "results = compare_algorithms(initial_states, goal_state, algorithms, max_it=20000)\n",
        "\n",
        "# 分别提取并保存BFS和DFS的结果，以便后续分析或展示\n",
        "results_BFS = results[0]  # 广度优先搜索（BFS）的所有测试结果\n",
        "results_DFS = results[1]  # 深度优先搜索（DFS）的所有测试结果\n",
        "\n",
        "# 程序运行完毕后的提示，表明所有测试均已完成\n",
        "print('Finished')\n"
      ]
    },
    {
      "cell_type": "markdown",
      "metadata": {
        "id": "D4BgMmq29WQ1"
      },
      "source": [
        "#### Utilisez le code ci-dessous pour visualiser vos résultats"
      ]
    },
    {
      "cell_type": "code",
      "execution_count": null,
      "metadata": {
        "id": "haUlWE1A9WQ1"
      },
      "outputs": [],
      "source": [
        "import pandas as pd\n",
        "import numpy as np\n",
        "from tabulate import tabulate\n",
        "# 注意: 需要提前安装tabulate库 (pip install tabulate)\n",
        "# 如果未安装，可用简单的 print(df) 替代\n",
        "\n",
        "# 初始化一个空列表，用于存放算法性能数据\n",
        "Data = []\n",
        "\n",
        "# 对所有测试过的初始状态，依次提取每个算法的性能数据\n",
        "for i in range(len(initial_states)):\n",
        "\n",
        "    # 每个初始状态对应的数据：\n",
        "    # - State编号（从1开始）\n",
        "    # - BFS算法探索节点数\n",
        "    # - DFS算法探索节点数\n",
        "    # - BFS找到的路径长度（解法步数，-1表示未找到解法）\n",
        "    # - DFS找到的路径长度（同上）\n",
        "    # - BFS执行时间（秒，保留2位小数）\n",
        "    # - DFS执行时间（秒，同上）\n",
        "    Data.append([\n",
        "        int(i+1),\n",
        "        results_BFS[i]['num_explorations'],\n",
        "        results_DFS[i]['num_explorations'],\n",
        "        results_BFS[i]['path_length'],\n",
        "        results_DFS[i]['path_length'],\n",
        "        round(results_BFS[i]['execution_time'], 2),\n",
        "        round(results_DFS[i]['execution_time'], 2)\n",
        "    ])\n",
        "\n",
        "# 将列表Data转换为pandas数据框（DataFrame），并添加清晰的列标题\n",
        "df = pd.DataFrame(Data, columns=[\n",
        "    \"State\",                  # 状态序号\n",
        "    \"Nodes explored BFS\",     # BFS算法探索的节点总数\n",
        "    \"Nodes explored DFS\",     # DFS算法探索的节点总数\n",
        "    \"Path length BFS\",        # BFS解法路径长度（若未找到解则为-1）\n",
        "    \"Path length DFS\",        # DFS解法路径长度（同上）\n",
        "    \"Execution Time BFS\",     # BFS执行所花时间（秒）\n",
        "    \"Execution Time DFS\"      # DFS执行所花时间（秒）\n",
        "])\n",
        "\n",
        "# 使用tabulate库，以美观易读的表格形式输出数据框df\n",
        "print(tabulate(df, headers='keys', tablefmt='pretty'))\n",
        "\n",
        "# 若tabulate未安装，可以用 print(df) 简单替代：\n",
        "# print(df)\n"
      ]
    },
    {
      "cell_type": "markdown",
      "metadata": {
        "id": "V1sMuoer9WQ1"
      },
      "source": [
        "# **Extra. Tous les jeux de taquin ont-ils une solution ?**"
      ]
    },
    {
      "cell_type": "markdown",
      "metadata": {
        "id": "PU9WtqEp9WQ1"
      },
      "source": [
        "En cours, nous avons dit que l'espace d'état a une taille de 9!. En réalité, seulement la moitié des configurations sont résolvables. Consultez ce [**lien**](https://fr.wikipedia.org/wiki/Taquin#Configurations_solubles_et_insolubles) ainsi que la fonction suivante pour pour davantage d'*insights*."
      ]
    },
    {
      "cell_type": "code",
      "execution_count": null,
      "metadata": {
        "id": "lnD5VB7l9WQ2"
      },
      "outputs": [],
      "source": [
        "import random\n",
        "\n",
        "def is_solvable(puzzle):\n",
        "    \"\"\"\n",
        "    检查一个3x3的Taquin拼图状态是否有解（solvable）。\n",
        "\n",
        "    参数:\n",
        "    puzzle: 一个3x3二维列表，代表拼图状态。其中0表示空白方块。\n",
        "\n",
        "    返回值:\n",
        "    True - 表示该拼图状态有解；\n",
        "    False - 表示该拼图状态无解。\n",
        "    \"\"\"\n",
        "\n",
        "    # 将拼图的二维状态展平成一维列表（跳过空白方块0）\n",
        "    flattened = [tile for row in puzzle for tile in row if tile != 0]\n",
        "\n",
        "    # 计算拼图状态的逆序数（inversions）\n",
        "    inversions = sum(\n",
        "        1\n",
        "        for i in range(len(flattened))              # 对于列表中每个元素tile[i]\n",
        "        for j in range(i + 1, len(flattened))       # 检查tile[i]右侧的每个元素tile[j]\n",
        "        if flattened[i] > flattened[j]              # 如果出现tile[i] > tile[j]，即为一个逆序对\n",
        "    )\n",
        "\n",
        "    # 根据Taquin拼图规则，若逆序数为偶数，则有解；否则无解。\n",
        "    return inversions % 2 == 0\n"
      ]
    }
  ],
  "metadata": {
    "colab": {
      "collapsed_sections": [
        "t2kvjEw1LSRz",
        "CBNnkXa0NeQT"
      ],
      "provenance": []
    },
    "kernelspec": {
      "display_name": "Python 3 (ipykernel)",
      "language": "python",
      "name": "python3"
    },
    "language_info": {
      "codemirror_mode": {
        "name": "ipython",
        "version": 3
      },
      "file_extension": ".py",
      "mimetype": "text/x-python",
      "name": "python",
      "nbconvert_exporter": "python",
      "pygments_lexer": "ipython3",
      "version": "3.11.9"
    }
  },
  "nbformat": 4,
  "nbformat_minor": 0
}