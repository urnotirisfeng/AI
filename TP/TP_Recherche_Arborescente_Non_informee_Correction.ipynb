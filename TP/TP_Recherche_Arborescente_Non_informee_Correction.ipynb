{
 "cells": [
  {
   "cell_type": "markdown",
   "metadata": {
    "id": "z1ZZO867DPns"
   },
   "source": [
    "# TP Intelligence Artificielle - Recherche Arborescente Non Informée"
   ]
  },
  {
   "cell_type": "markdown",
   "metadata": {
    "id": "e0U1iKP5iYhS"
   },
   "source": [
    "# **Partie 0 : Visualisation des états**\n",
    "\n",
    "## Voici une fonction pour visualiser les états. Nous l'utiliserons plus tard."
   ]
  },
  {
   "cell_type": "code",
   "execution_count": 1,
   "metadata": {
    "id": "0NOv3pIKKDjt"
   },
   "outputs": [],
   "source": [
    "from IPython.display import display, HTML\n",
    "\n",
    "def visualize_state(state):\n",
    "    \"\"\"Visualizes the given state of the Taquin using HTML.\"\"\"\n",
    "    html = \"<table>\"\n",
    "    for row in state:\n",
    "        html += \"<tr>\"\n",
    "        for tile in row:\n",
    "            if tile == 0:\n",
    "                html += \"<td style='background-color: lightgray; width: 30px; height: 30px; text-align: center; font-size: 20px;'> </td>\"  # Blank tile\n",
    "            else:\n",
    "                html += f\"<td style='background-color: lightblue; width: 30px; height: 30px; text-align: center; font-size: 20px;'>{tile}</td>\"\n",
    "        html += \"</tr>\"\n",
    "    html += \"</table>\"\n",
    "    display(HTML(html))"
   ]
  },
  {
   "cell_type": "markdown",
   "metadata": {
    "id": "1KZupDzfF_2a"
   },
   "source": [
    "# **Partie 1 : Modélisation**"
   ]
  },
  {
   "cell_type": "markdown",
   "metadata": {
    "id": "_lkQ2v3vDnOM"
   },
   "source": [
    "### Nous allons créer deux classes pour modeliser le taquin en espace d'états.\n",
    "\n",
    "1. **Taquin** : Cette classe représente le problème du jeu du Taquin. Elle contient :\n",
    "\n",
    "  * Attributs:\n",
    "\n",
    "      * initial_state : L'état initial du Taquin, représenté par une liste de listes. Chaque sous-liste représente une ligne du Taquin, et chaque élément de la sous-liste représente une tuile. La tuile vide est représentée par le chiffre 0.\n",
    "      * goal_state : L'état but du Taquin, représenté de la même manière que l'état initial.\n",
    "      * size : La taille du Taquin (par exemple, 3 pour un Taquin 3x3, 4 pour un Taquin 4x4).\n",
    "\n",
    "  * Méthodes:\n",
    "\n",
    "      * actions(state) : Cette méthode prend un état du Taquin en entrée et retourne une liste des actions possibles à partir de cet état. Les actions possibles sont \"haut\", \"bas\", \"gauche\" et \"droite\", représentant les mouvements possibles de la tuile vide.\n",
    "      * result(state, action) : Cette méthode prend un état et une action en entrée et retourne le nouvel état du Taquin après avoir appliqué l'action à l'état.\n",
    "      * is_goal(state) : Cette méthode prend un état en entrée et retourne True si cet état est l'état but, False sinon.\n",
    "      * cost(state, action) : Cette méthode retourne le coût de l'application d'une action à un état donné. Dans le cas du Taquin, le coût est généralement constant et égal à 1 pour chaque action.\n",
    "  \n",
    "2.   **Node** :  Cette classe représentera un nœud dans l'arbre de recherche. Ces attributs sont :\n",
    "\n",
    "  * state : L'état représenté par ce nœud.\n",
    "  * parent : Un pointeur vers le nœud parent (None pour le nœud racine).\n",
    "  * action : L'action qui a conduit à ce nœud à partir du nœud parent (None pour le nœud racine).\n",
    "  * path_cost : Le coût total du chemin depuis le nœud racine jusqu'à ce nœud (facultatif, pour les algorithmes avec des considérations de coût).\n",
    "  * depth : La profondeur de ce nœud dans l'arbre (facultatif, pour la recherche en profondeur limitée).\n",
    "\n"
   ]
  },
  {
   "cell_type": "markdown",
   "metadata": {
    "id": "JYNB0yoINLAl"
   },
   "source": [
    "--------------------------------------------------------------------------------\n",
    "## **1.1 Classe Taquin**\n",
    "--------------------------------------------------------------------------------"
   ]
  },
  {
   "cell_type": "code",
   "execution_count": 2,
   "metadata": {
    "id": "8X9f92xDIfcD"
   },
   "outputs": [],
   "source": [
    "class Taquin:\n",
    "    \"\"\"\n",
    "    A class representing the Taquin problem.\n",
    "    \"\"\"\n",
    "\n",
    "    def __init__(self, initial_state, goal_state, size):\n",
    "        self.initial_state = initial_state\n",
    "        self.goal_state = goal_state\n",
    "        self.size = size\n",
    "\n",
    "    def actions(self, state):\n",
    "        \"\"\"Returns the possible actions (moves) from the given state.\"\"\"\n",
    "        # Find the position of the blank tile (0)\n",
    "        row, col = next(\n",
    "            (r, c)\n",
    "            for r, row in enumerate(state)\n",
    "            for c, val in enumerate(row)\n",
    "            if val == 0\n",
    "        )\n",
    "\n",
    "        # Define possible moves (up, down, left, right)\n",
    "        possible_actions = []\n",
    "        if row > 0:\n",
    "            possible_actions.append(\"up\")\n",
    "        if row < self.size-1:\n",
    "            possible_actions.append(\"down\")\n",
    "        if col > 0:\n",
    "            possible_actions.append(\"left\")\n",
    "        if col < self.size-1:\n",
    "            possible_actions.append(\"right\")\n",
    "\n",
    "        return possible_actions\n",
    "\n",
    "    def result(self, state, action):\n",
    "        \"\"\"Returns the state that results from applying the given action.\"\"\"\n",
    "        # Create a copy of the state to avoid modifying the original\n",
    "        new_state = [list(row) for row in state]\n",
    "\n",
    "        # Find the position of the blank tile (0)\n",
    "        row, col = next(\n",
    "            (r, c)\n",
    "            for r, row in enumerate(state)\n",
    "            for c, val in enumerate(row)\n",
    "            if val == 0\n",
    "        )\n",
    "\n",
    "        # Apply the action to move the blank tile\n",
    "        if action == \"up\":\n",
    "            new_state[row][col], new_state[row - 1][col] = (\n",
    "                new_state[row - 1][col],\n",
    "                new_state[row][col],\n",
    "            )\n",
    "        elif action == \"down\":\n",
    "            new_state[row][col], new_state[row + 1][col] = (\n",
    "                new_state[row + 1][col],\n",
    "                new_state[row][col],\n",
    "            )\n",
    "        elif action == \"left\":\n",
    "            new_state[row][col], new_state[row][col - 1] = (\n",
    "                new_state[row][col - 1],\n",
    "                new_state[row][col],\n",
    "            )\n",
    "        elif action == \"right\":\n",
    "            new_state[row][col], new_state[row][col + 1] = (\n",
    "                new_state[row][col + 1],\n",
    "                new_state[row][col],\n",
    "            )\n",
    "\n",
    "        return new_state\n",
    "\n",
    "    def is_goal(self, state):\n",
    "        return state == self.goal_state  # Directly compare with goal_state\n",
    "\n",
    "    def cost(self, state, action):\n",
    "        return 1  # Default cost is 1"
   ]
  },
  {
   "cell_type": "markdown",
   "metadata": {
    "id": "t2kvjEw1LSRz",
    "jp-MarkdownHeadingCollapsed": true
   },
   "source": [
    "## **Exercise 1**\n",
    "1. Créez un jeu de taquin 4x4 avec un état initial et un état objectif, puis visualisez ces deux états.\n",
    "2. Identifiez les actions possibles à partir de l'état initial.\n",
    "3. Appliquez une des actions possibles et visualisez le nouvel état.\n"
   ]
  },
  {
   "cell_type": "code",
   "execution_count": 6,
   "metadata": {
    "colab": {
     "base_uri": "https://localhost:8080/",
     "height": 238
    },
    "executionInfo": {
     "elapsed": 837,
     "status": "error",
     "timestamp": 1737576097938,
     "user": {
      "displayName": "Felipe Garrido",
      "userId": "09470540658044428770"
     },
     "user_tz": -60
    },
    "id": "v4mPdJXNJxG0",
    "outputId": "9000f127-dba5-482b-8b90-6a99fcd19268"
   },
   "outputs": [
    {
     "name": "stdout",
     "output_type": "stream",
     "text": [
      "Initial state:\n"
     ]
    },
    {
     "data": {
      "text/html": [
       "<table><tr><td style='background-color: lightblue; width: 30px; height: 30px; text-align: center; font-size: 20px;'>1</td><td style='background-color: lightblue; width: 30px; height: 30px; text-align: center; font-size: 20px;'>2</td><td style='background-color: lightblue; width: 30px; height: 30px; text-align: center; font-size: 20px;'>3</td><td style='background-color: lightblue; width: 30px; height: 30px; text-align: center; font-size: 20px;'>4</td></tr><tr><td style='background-color: lightblue; width: 30px; height: 30px; text-align: center; font-size: 20px;'>5</td><td style='background-color: lightblue; width: 30px; height: 30px; text-align: center; font-size: 20px;'>6</td><td style='background-color: lightblue; width: 30px; height: 30px; text-align: center; font-size: 20px;'>7</td><td style='background-color: lightblue; width: 30px; height: 30px; text-align: center; font-size: 20px;'>8</td></tr><tr><td style='background-color: lightblue; width: 30px; height: 30px; text-align: center; font-size: 20px;'>9</td><td style='background-color: lightblue; width: 30px; height: 30px; text-align: center; font-size: 20px;'>10</td><td style='background-color: lightblue; width: 30px; height: 30px; text-align: center; font-size: 20px;'>11</td><td style='background-color: lightblue; width: 30px; height: 30px; text-align: center; font-size: 20px;'>12</td></tr><tr><td style='background-color: lightblue; width: 30px; height: 30px; text-align: center; font-size: 20px;'>13</td><td style='background-color: lightblue; width: 30px; height: 30px; text-align: center; font-size: 20px;'>14</td><td style='background-color: lightgray; width: 30px; height: 30px; text-align: center; font-size: 20px;'> </td><td style='background-color: lightblue; width: 30px; height: 30px; text-align: center; font-size: 20px;'>15</td></tr></table>"
      ],
      "text/plain": [
       "<IPython.core.display.HTML object>"
      ]
     },
     "metadata": {},
     "output_type": "display_data"
    },
    {
     "name": "stdout",
     "output_type": "stream",
     "text": [
      "Goal state:\n"
     ]
    },
    {
     "data": {
      "text/html": [
       "<table><tr><td style='background-color: lightblue; width: 30px; height: 30px; text-align: center; font-size: 20px;'>1</td><td style='background-color: lightblue; width: 30px; height: 30px; text-align: center; font-size: 20px;'>2</td><td style='background-color: lightblue; width: 30px; height: 30px; text-align: center; font-size: 20px;'>3</td><td style='background-color: lightblue; width: 30px; height: 30px; text-align: center; font-size: 20px;'>4</td></tr><tr><td style='background-color: lightblue; width: 30px; height: 30px; text-align: center; font-size: 20px;'>5</td><td style='background-color: lightblue; width: 30px; height: 30px; text-align: center; font-size: 20px;'>6</td><td style='background-color: lightblue; width: 30px; height: 30px; text-align: center; font-size: 20px;'>7</td><td style='background-color: lightblue; width: 30px; height: 30px; text-align: center; font-size: 20px;'>8</td></tr><tr><td style='background-color: lightblue; width: 30px; height: 30px; text-align: center; font-size: 20px;'>9</td><td style='background-color: lightblue; width: 30px; height: 30px; text-align: center; font-size: 20px;'>10</td><td style='background-color: lightblue; width: 30px; height: 30px; text-align: center; font-size: 20px;'>11</td><td style='background-color: lightblue; width: 30px; height: 30px; text-align: center; font-size: 20px;'>12</td></tr><tr><td style='background-color: lightblue; width: 30px; height: 30px; text-align: center; font-size: 20px;'>13</td><td style='background-color: lightblue; width: 30px; height: 30px; text-align: center; font-size: 20px;'>14</td><td style='background-color: lightblue; width: 30px; height: 30px; text-align: center; font-size: 20px;'>15</td><td style='background-color: lightgray; width: 30px; height: 30px; text-align: center; font-size: 20px;'> </td></tr></table>"
      ],
      "text/plain": [
       "<IPython.core.display.HTML object>"
      ]
     },
     "metadata": {},
     "output_type": "display_data"
    },
    {
     "name": "stdout",
     "output_type": "stream",
     "text": [
      "Possible actions: ['up', 'left', 'right']\n",
      "Applied action `up`. The new state is\n"
     ]
    },
    {
     "data": {
      "text/html": [
       "<table><tr><td style='background-color: lightblue; width: 30px; height: 30px; text-align: center; font-size: 20px;'>1</td><td style='background-color: lightblue; width: 30px; height: 30px; text-align: center; font-size: 20px;'>2</td><td style='background-color: lightblue; width: 30px; height: 30px; text-align: center; font-size: 20px;'>3</td><td style='background-color: lightblue; width: 30px; height: 30px; text-align: center; font-size: 20px;'>4</td></tr><tr><td style='background-color: lightblue; width: 30px; height: 30px; text-align: center; font-size: 20px;'>5</td><td style='background-color: lightblue; width: 30px; height: 30px; text-align: center; font-size: 20px;'>6</td><td style='background-color: lightblue; width: 30px; height: 30px; text-align: center; font-size: 20px;'>7</td><td style='background-color: lightblue; width: 30px; height: 30px; text-align: center; font-size: 20px;'>8</td></tr><tr><td style='background-color: lightblue; width: 30px; height: 30px; text-align: center; font-size: 20px;'>9</td><td style='background-color: lightblue; width: 30px; height: 30px; text-align: center; font-size: 20px;'>10</td><td style='background-color: lightgray; width: 30px; height: 30px; text-align: center; font-size: 20px;'> </td><td style='background-color: lightblue; width: 30px; height: 30px; text-align: center; font-size: 20px;'>12</td></tr><tr><td style='background-color: lightblue; width: 30px; height: 30px; text-align: center; font-size: 20px;'>13</td><td style='background-color: lightblue; width: 30px; height: 30px; text-align: center; font-size: 20px;'>14</td><td style='background-color: lightblue; width: 30px; height: 30px; text-align: center; font-size: 20px;'>11</td><td style='background-color: lightblue; width: 30px; height: 30px; text-align: center; font-size: 20px;'>15</td></tr></table>"
      ],
      "text/plain": [
       "<IPython.core.display.HTML object>"
      ]
     },
     "metadata": {},
     "output_type": "display_data"
    }
   ],
   "source": [
    "# Define the initial and goal states\n",
    "initial_state = [[1, 2, 3, 4], [5, 6, 7, 8], [9, 10, 11, 12], [13, 14, 0, 15]]\n",
    "print(\"Initial state:\")\n",
    "visualize_state(initial_state)\n",
    "\n",
    "goal_state = [[1, 2, 3, 4], [5, 6, 7, 8], [9, 10, 11, 12], [13, 14, 15, 0]]\n",
    "print(\"Goal state:\")\n",
    "visualize_state(goal_state)\n",
    "\n",
    "# Create a Taquin instance\n",
    "problem = Taquin(initial_state, goal_state, len(initial_state[0]))\n",
    "\n",
    "# Get possible actions from the initial state\n",
    "actions = problem.actions(initial_state)\n",
    "print(\"Possible actions:\", actions)\n",
    "\n",
    "# Apply an action to get the resulting state\n",
    "new_state = problem.result(initial_state, 'up')\n",
    "print(\"Applied action `up`. The new state is\")\n",
    "visualize_state(new_state)"
   ]
  },
  {
   "cell_type": "markdown",
   "metadata": {
    "id": "OnmTxCGBM6fJ"
   },
   "source": [
    "--------------------------------------------------------------------------------\n",
    "## **1.2 Classe Node**\n",
    "--------------------------------------------------------------------------------"
   ]
  },
  {
   "cell_type": "code",
   "execution_count": 3,
   "metadata": {
    "id": "dvreTxj-DMER"
   },
   "outputs": [],
   "source": [
    "class Node:\n",
    "    \"\"\"\n",
    "    A node in a search tree.\n",
    "    __init__: Initializes a node with its state, parent, action, path cost, and depth.\n",
    "    __repr__: Provides a string representation of the node.\n",
    "    __lt__: Defines a comparison operator for nodes based on their states.\n",
    "    expand: Generates child nodes by applying all possible actions.\n",
    "    child_node: Creates a single child node for a given action.\n",
    "    solution: Returns the sequence of actions that led to this node.\n",
    "    path: Returns the path from the root to this node as a list of nodes.\n",
    "    \"\"\"\n",
    "\n",
    "    def __init__(self, state, parent=None, action=None, path_cost = 0):\n",
    "        self.state = state\n",
    "        self.parent = parent\n",
    "        self.action = action\n",
    "        self.path_cost = path_cost\n",
    "        self.depth = 0 if parent is None else parent.depth + 1\n",
    "\n",
    "    # def __repr__(self):\n",
    "    #     return \"<Node {}>\".format(self.state)\n",
    "\n",
    "    # def __lt__(self, other):\n",
    "    #     return self.state < other.state\n",
    "\n",
    "    def expand(self, problem):\n",
    "        \"\"\"List the nodes reachable in one step from this node.\"\"\"\n",
    "        return [\n",
    "            self.child_node(problem, action)\n",
    "            for action in problem.actions(self.state)\n",
    "        ]\n",
    "\n",
    "    def child_node(self, problem, action):\n",
    "        \"\"\"Create a child node by applying the given action.\"\"\"\n",
    "        next_state = problem.result(self.state, action)\n",
    "        next_node = Node(\n",
    "            next_state,\n",
    "            parent=self,\n",
    "            action=action,\n",
    "            path_cost = self.path_cost + problem.cost(self.state, action),\n",
    "        )\n",
    "        return next_node\n",
    "\n",
    "    def solution(self):\n",
    "        \"\"\"Return the sequence of actions to go from the root to this node.\"\"\"\n",
    "        return [node.action for node in self.path()[1:]]\n",
    "\n",
    "    def path(self):\n",
    "        \"\"\"Return a list of nodes forming the path from the root to this node.\"\"\"\n",
    "        node, path_back = self, []\n",
    "        while node:\n",
    "            path_back.append(node)\n",
    "            node = node.parent\n",
    "        return list(reversed(path_back))"
   ]
  },
  {
   "cell_type": "markdown",
   "metadata": {
    "id": "CBNnkXa0NeQT",
    "jp-MarkdownHeadingCollapsed": true
   },
   "source": [
    "## **Exercise 2** \n",
    "1. Créez un jeu de taquin 3x3 avec un état initial et un état objectif.\n",
    "2. Créez un nœud représentant l'état initial du jeu.\n",
    "3. Visualisez les enfants de l'état initial.\n",
    "4. Pour chaque enfant, imprimez :\n",
    "    * L'action à effectuer pour passer de l'état initial à cet enfant.\n",
    "    * Le coût associé à cette action.\n",
    "5. Répétez toutes les étapes pour un jeu de taquin 4x4.\n"
   ]
  },
  {
   "cell_type": "code",
   "execution_count": 9,
   "metadata": {
    "colab": {
     "base_uri": "https://localhost:8080/",
     "height": 1000
    },
    "id": "6MqrA6y5Oe1A",
    "outputId": "92c031b8-2f0a-494a-8b94-c67ca4bccb66"
   },
   "outputs": [
    {
     "name": "stdout",
     "output_type": "stream",
     "text": [
      "------------- Taquin 3x3 -------------\n",
      "Initial state:\n"
     ]
    },
    {
     "data": {
      "text/html": [
       "<table><tr><td style='background-color: lightblue; width: 30px; height: 30px; text-align: center; font-size: 20px;'>1</td><td style='background-color: lightblue; width: 30px; height: 30px; text-align: center; font-size: 20px;'>2</td><td style='background-color: lightblue; width: 30px; height: 30px; text-align: center; font-size: 20px;'>3</td></tr><tr><td style='background-color: lightblue; width: 30px; height: 30px; text-align: center; font-size: 20px;'>4</td><td style='background-color: lightgray; width: 30px; height: 30px; text-align: center; font-size: 20px;'> </td><td style='background-color: lightblue; width: 30px; height: 30px; text-align: center; font-size: 20px;'>5</td></tr><tr><td style='background-color: lightblue; width: 30px; height: 30px; text-align: center; font-size: 20px;'>7</td><td style='background-color: lightblue; width: 30px; height: 30px; text-align: center; font-size: 20px;'>8</td><td style='background-color: lightblue; width: 30px; height: 30px; text-align: center; font-size: 20px;'>6</td></tr></table>"
      ],
      "text/plain": [
       "<IPython.core.display.HTML object>"
      ]
     },
     "metadata": {},
     "output_type": "display_data"
    },
    {
     "name": "stdout",
     "output_type": "stream",
     "text": [
      "\n",
      "Children nodes:\n",
      " \n"
     ]
    },
    {
     "data": {
      "text/html": [
       "<table><tr><td style='background-color: lightblue; width: 30px; height: 30px; text-align: center; font-size: 20px;'>1</td><td style='background-color: lightgray; width: 30px; height: 30px; text-align: center; font-size: 20px;'> </td><td style='background-color: lightblue; width: 30px; height: 30px; text-align: center; font-size: 20px;'>3</td></tr><tr><td style='background-color: lightblue; width: 30px; height: 30px; text-align: center; font-size: 20px;'>4</td><td style='background-color: lightblue; width: 30px; height: 30px; text-align: center; font-size: 20px;'>2</td><td style='background-color: lightblue; width: 30px; height: 30px; text-align: center; font-size: 20px;'>5</td></tr><tr><td style='background-color: lightblue; width: 30px; height: 30px; text-align: center; font-size: 20px;'>7</td><td style='background-color: lightblue; width: 30px; height: 30px; text-align: center; font-size: 20px;'>8</td><td style='background-color: lightblue; width: 30px; height: 30px; text-align: center; font-size: 20px;'>6</td></tr></table>"
      ],
      "text/plain": [
       "<IPython.core.display.HTML object>"
      ]
     },
     "metadata": {},
     "output_type": "display_data"
    },
    {
     "name": "stdout",
     "output_type": "stream",
     "text": [
      "Action to arrive to that node : up\n",
      "Path cost: 1\n",
      " \n"
     ]
    },
    {
     "data": {
      "text/html": [
       "<table><tr><td style='background-color: lightblue; width: 30px; height: 30px; text-align: center; font-size: 20px;'>1</td><td style='background-color: lightblue; width: 30px; height: 30px; text-align: center; font-size: 20px;'>2</td><td style='background-color: lightblue; width: 30px; height: 30px; text-align: center; font-size: 20px;'>3</td></tr><tr><td style='background-color: lightblue; width: 30px; height: 30px; text-align: center; font-size: 20px;'>4</td><td style='background-color: lightblue; width: 30px; height: 30px; text-align: center; font-size: 20px;'>8</td><td style='background-color: lightblue; width: 30px; height: 30px; text-align: center; font-size: 20px;'>5</td></tr><tr><td style='background-color: lightblue; width: 30px; height: 30px; text-align: center; font-size: 20px;'>7</td><td style='background-color: lightgray; width: 30px; height: 30px; text-align: center; font-size: 20px;'> </td><td style='background-color: lightblue; width: 30px; height: 30px; text-align: center; font-size: 20px;'>6</td></tr></table>"
      ],
      "text/plain": [
       "<IPython.core.display.HTML object>"
      ]
     },
     "metadata": {},
     "output_type": "display_data"
    },
    {
     "name": "stdout",
     "output_type": "stream",
     "text": [
      "Action to arrive to that node : down\n",
      "Path cost: 1\n",
      " \n"
     ]
    },
    {
     "data": {
      "text/html": [
       "<table><tr><td style='background-color: lightblue; width: 30px; height: 30px; text-align: center; font-size: 20px;'>1</td><td style='background-color: lightblue; width: 30px; height: 30px; text-align: center; font-size: 20px;'>2</td><td style='background-color: lightblue; width: 30px; height: 30px; text-align: center; font-size: 20px;'>3</td></tr><tr><td style='background-color: lightgray; width: 30px; height: 30px; text-align: center; font-size: 20px;'> </td><td style='background-color: lightblue; width: 30px; height: 30px; text-align: center; font-size: 20px;'>4</td><td style='background-color: lightblue; width: 30px; height: 30px; text-align: center; font-size: 20px;'>5</td></tr><tr><td style='background-color: lightblue; width: 30px; height: 30px; text-align: center; font-size: 20px;'>7</td><td style='background-color: lightblue; width: 30px; height: 30px; text-align: center; font-size: 20px;'>8</td><td style='background-color: lightblue; width: 30px; height: 30px; text-align: center; font-size: 20px;'>6</td></tr></table>"
      ],
      "text/plain": [
       "<IPython.core.display.HTML object>"
      ]
     },
     "metadata": {},
     "output_type": "display_data"
    },
    {
     "name": "stdout",
     "output_type": "stream",
     "text": [
      "Action to arrive to that node : left\n",
      "Path cost: 1\n",
      " \n"
     ]
    },
    {
     "data": {
      "text/html": [
       "<table><tr><td style='background-color: lightblue; width: 30px; height: 30px; text-align: center; font-size: 20px;'>1</td><td style='background-color: lightblue; width: 30px; height: 30px; text-align: center; font-size: 20px;'>2</td><td style='background-color: lightblue; width: 30px; height: 30px; text-align: center; font-size: 20px;'>3</td></tr><tr><td style='background-color: lightblue; width: 30px; height: 30px; text-align: center; font-size: 20px;'>4</td><td style='background-color: lightblue; width: 30px; height: 30px; text-align: center; font-size: 20px;'>5</td><td style='background-color: lightgray; width: 30px; height: 30px; text-align: center; font-size: 20px;'> </td></tr><tr><td style='background-color: lightblue; width: 30px; height: 30px; text-align: center; font-size: 20px;'>7</td><td style='background-color: lightblue; width: 30px; height: 30px; text-align: center; font-size: 20px;'>8</td><td style='background-color: lightblue; width: 30px; height: 30px; text-align: center; font-size: 20px;'>6</td></tr></table>"
      ],
      "text/plain": [
       "<IPython.core.display.HTML object>"
      ]
     },
     "metadata": {},
     "output_type": "display_data"
    },
    {
     "name": "stdout",
     "output_type": "stream",
     "text": [
      "Action to arrive to that node : right\n",
      "Path cost: 1\n",
      "------------- Taquin 4x4 -------------\n",
      "Initial state:\n"
     ]
    },
    {
     "data": {
      "text/html": [
       "<table><tr><td style='background-color: lightblue; width: 30px; height: 30px; text-align: center; font-size: 20px;'>1</td><td style='background-color: lightblue; width: 30px; height: 30px; text-align: center; font-size: 20px;'>2</td><td style='background-color: lightblue; width: 30px; height: 30px; text-align: center; font-size: 20px;'>3</td><td style='background-color: lightblue; width: 30px; height: 30px; text-align: center; font-size: 20px;'>4</td></tr><tr><td style='background-color: lightblue; width: 30px; height: 30px; text-align: center; font-size: 20px;'>5</td><td style='background-color: lightblue; width: 30px; height: 30px; text-align: center; font-size: 20px;'>6</td><td style='background-color: lightblue; width: 30px; height: 30px; text-align: center; font-size: 20px;'>7</td><td style='background-color: lightblue; width: 30px; height: 30px; text-align: center; font-size: 20px;'>8</td></tr><tr><td style='background-color: lightblue; width: 30px; height: 30px; text-align: center; font-size: 20px;'>9</td><td style='background-color: lightblue; width: 30px; height: 30px; text-align: center; font-size: 20px;'>10</td><td style='background-color: lightgray; width: 30px; height: 30px; text-align: center; font-size: 20px;'> </td><td style='background-color: lightblue; width: 30px; height: 30px; text-align: center; font-size: 20px;'>11</td></tr><tr><td style='background-color: lightblue; width: 30px; height: 30px; text-align: center; font-size: 20px;'>13</td><td style='background-color: lightblue; width: 30px; height: 30px; text-align: center; font-size: 20px;'>14</td><td style='background-color: lightblue; width: 30px; height: 30px; text-align: center; font-size: 20px;'>15</td><td style='background-color: lightblue; width: 30px; height: 30px; text-align: center; font-size: 20px;'>12</td></tr></table>"
      ],
      "text/plain": [
       "<IPython.core.display.HTML object>"
      ]
     },
     "metadata": {},
     "output_type": "display_data"
    },
    {
     "name": "stdout",
     "output_type": "stream",
     "text": [
      "\n",
      "Children nodes:\n",
      " \n"
     ]
    },
    {
     "data": {
      "text/html": [
       "<table><tr><td style='background-color: lightblue; width: 30px; height: 30px; text-align: center; font-size: 20px;'>1</td><td style='background-color: lightblue; width: 30px; height: 30px; text-align: center; font-size: 20px;'>2</td><td style='background-color: lightblue; width: 30px; height: 30px; text-align: center; font-size: 20px;'>3</td><td style='background-color: lightblue; width: 30px; height: 30px; text-align: center; font-size: 20px;'>4</td></tr><tr><td style='background-color: lightblue; width: 30px; height: 30px; text-align: center; font-size: 20px;'>5</td><td style='background-color: lightblue; width: 30px; height: 30px; text-align: center; font-size: 20px;'>6</td><td style='background-color: lightgray; width: 30px; height: 30px; text-align: center; font-size: 20px;'> </td><td style='background-color: lightblue; width: 30px; height: 30px; text-align: center; font-size: 20px;'>8</td></tr><tr><td style='background-color: lightblue; width: 30px; height: 30px; text-align: center; font-size: 20px;'>9</td><td style='background-color: lightblue; width: 30px; height: 30px; text-align: center; font-size: 20px;'>10</td><td style='background-color: lightblue; width: 30px; height: 30px; text-align: center; font-size: 20px;'>7</td><td style='background-color: lightblue; width: 30px; height: 30px; text-align: center; font-size: 20px;'>11</td></tr><tr><td style='background-color: lightblue; width: 30px; height: 30px; text-align: center; font-size: 20px;'>13</td><td style='background-color: lightblue; width: 30px; height: 30px; text-align: center; font-size: 20px;'>14</td><td style='background-color: lightblue; width: 30px; height: 30px; text-align: center; font-size: 20px;'>15</td><td style='background-color: lightblue; width: 30px; height: 30px; text-align: center; font-size: 20px;'>12</td></tr></table>"
      ],
      "text/plain": [
       "<IPython.core.display.HTML object>"
      ]
     },
     "metadata": {},
     "output_type": "display_data"
    },
    {
     "name": "stdout",
     "output_type": "stream",
     "text": [
      "Action to arrive to that node : up\n",
      "Path cost: 1\n",
      " \n"
     ]
    },
    {
     "data": {
      "text/html": [
       "<table><tr><td style='background-color: lightblue; width: 30px; height: 30px; text-align: center; font-size: 20px;'>1</td><td style='background-color: lightblue; width: 30px; height: 30px; text-align: center; font-size: 20px;'>2</td><td style='background-color: lightblue; width: 30px; height: 30px; text-align: center; font-size: 20px;'>3</td><td style='background-color: lightblue; width: 30px; height: 30px; text-align: center; font-size: 20px;'>4</td></tr><tr><td style='background-color: lightblue; width: 30px; height: 30px; text-align: center; font-size: 20px;'>5</td><td style='background-color: lightblue; width: 30px; height: 30px; text-align: center; font-size: 20px;'>6</td><td style='background-color: lightblue; width: 30px; height: 30px; text-align: center; font-size: 20px;'>7</td><td style='background-color: lightblue; width: 30px; height: 30px; text-align: center; font-size: 20px;'>8</td></tr><tr><td style='background-color: lightblue; width: 30px; height: 30px; text-align: center; font-size: 20px;'>9</td><td style='background-color: lightblue; width: 30px; height: 30px; text-align: center; font-size: 20px;'>10</td><td style='background-color: lightblue; width: 30px; height: 30px; text-align: center; font-size: 20px;'>15</td><td style='background-color: lightblue; width: 30px; height: 30px; text-align: center; font-size: 20px;'>11</td></tr><tr><td style='background-color: lightblue; width: 30px; height: 30px; text-align: center; font-size: 20px;'>13</td><td style='background-color: lightblue; width: 30px; height: 30px; text-align: center; font-size: 20px;'>14</td><td style='background-color: lightgray; width: 30px; height: 30px; text-align: center; font-size: 20px;'> </td><td style='background-color: lightblue; width: 30px; height: 30px; text-align: center; font-size: 20px;'>12</td></tr></table>"
      ],
      "text/plain": [
       "<IPython.core.display.HTML object>"
      ]
     },
     "metadata": {},
     "output_type": "display_data"
    },
    {
     "name": "stdout",
     "output_type": "stream",
     "text": [
      "Action to arrive to that node : down\n",
      "Path cost: 1\n",
      " \n"
     ]
    },
    {
     "data": {
      "text/html": [
       "<table><tr><td style='background-color: lightblue; width: 30px; height: 30px; text-align: center; font-size: 20px;'>1</td><td style='background-color: lightblue; width: 30px; height: 30px; text-align: center; font-size: 20px;'>2</td><td style='background-color: lightblue; width: 30px; height: 30px; text-align: center; font-size: 20px;'>3</td><td style='background-color: lightblue; width: 30px; height: 30px; text-align: center; font-size: 20px;'>4</td></tr><tr><td style='background-color: lightblue; width: 30px; height: 30px; text-align: center; font-size: 20px;'>5</td><td style='background-color: lightblue; width: 30px; height: 30px; text-align: center; font-size: 20px;'>6</td><td style='background-color: lightblue; width: 30px; height: 30px; text-align: center; font-size: 20px;'>7</td><td style='background-color: lightblue; width: 30px; height: 30px; text-align: center; font-size: 20px;'>8</td></tr><tr><td style='background-color: lightblue; width: 30px; height: 30px; text-align: center; font-size: 20px;'>9</td><td style='background-color: lightgray; width: 30px; height: 30px; text-align: center; font-size: 20px;'> </td><td style='background-color: lightblue; width: 30px; height: 30px; text-align: center; font-size: 20px;'>10</td><td style='background-color: lightblue; width: 30px; height: 30px; text-align: center; font-size: 20px;'>11</td></tr><tr><td style='background-color: lightblue; width: 30px; height: 30px; text-align: center; font-size: 20px;'>13</td><td style='background-color: lightblue; width: 30px; height: 30px; text-align: center; font-size: 20px;'>14</td><td style='background-color: lightblue; width: 30px; height: 30px; text-align: center; font-size: 20px;'>15</td><td style='background-color: lightblue; width: 30px; height: 30px; text-align: center; font-size: 20px;'>12</td></tr></table>"
      ],
      "text/plain": [
       "<IPython.core.display.HTML object>"
      ]
     },
     "metadata": {},
     "output_type": "display_data"
    },
    {
     "name": "stdout",
     "output_type": "stream",
     "text": [
      "Action to arrive to that node : left\n",
      "Path cost: 1\n",
      " \n"
     ]
    },
    {
     "data": {
      "text/html": [
       "<table><tr><td style='background-color: lightblue; width: 30px; height: 30px; text-align: center; font-size: 20px;'>1</td><td style='background-color: lightblue; width: 30px; height: 30px; text-align: center; font-size: 20px;'>2</td><td style='background-color: lightblue; width: 30px; height: 30px; text-align: center; font-size: 20px;'>3</td><td style='background-color: lightblue; width: 30px; height: 30px; text-align: center; font-size: 20px;'>4</td></tr><tr><td style='background-color: lightblue; width: 30px; height: 30px; text-align: center; font-size: 20px;'>5</td><td style='background-color: lightblue; width: 30px; height: 30px; text-align: center; font-size: 20px;'>6</td><td style='background-color: lightblue; width: 30px; height: 30px; text-align: center; font-size: 20px;'>7</td><td style='background-color: lightblue; width: 30px; height: 30px; text-align: center; font-size: 20px;'>8</td></tr><tr><td style='background-color: lightblue; width: 30px; height: 30px; text-align: center; font-size: 20px;'>9</td><td style='background-color: lightblue; width: 30px; height: 30px; text-align: center; font-size: 20px;'>10</td><td style='background-color: lightblue; width: 30px; height: 30px; text-align: center; font-size: 20px;'>11</td><td style='background-color: lightgray; width: 30px; height: 30px; text-align: center; font-size: 20px;'> </td></tr><tr><td style='background-color: lightblue; width: 30px; height: 30px; text-align: center; font-size: 20px;'>13</td><td style='background-color: lightblue; width: 30px; height: 30px; text-align: center; font-size: 20px;'>14</td><td style='background-color: lightblue; width: 30px; height: 30px; text-align: center; font-size: 20px;'>15</td><td style='background-color: lightblue; width: 30px; height: 30px; text-align: center; font-size: 20px;'>12</td></tr></table>"
      ],
      "text/plain": [
       "<IPython.core.display.HTML object>"
      ]
     },
     "metadata": {},
     "output_type": "display_data"
    },
    {
     "name": "stdout",
     "output_type": "stream",
     "text": [
      "Action to arrive to that node : right\n",
      "Path cost: 1\n"
     ]
    }
   ],
   "source": [
    "print('------------- Taquin 3x3 -------------')\n",
    "# Define the initial and goal states\n",
    "initial_state = [[1, 2, 3], [4, 0, 5], [7, 8, 6]]\n",
    "goal_state = [[1, 2, 3], [4, 5, 6], [7, 8, 0]]\n",
    "\n",
    "# Create a Taquin instance\n",
    "problem = Taquin(initial_state, goal_state, len(initial_state[0]))\n",
    "\n",
    "# Create the initial node\n",
    "initial_node = Node(initial_state)\n",
    "\n",
    "# Visualize the initial state\n",
    "print(\"Initial state:\")\n",
    "visualize_state(initial_node.state)\n",
    "\n",
    "# Expand the initial node to get its children\n",
    "children = initial_node.expand(problem)\n",
    "print(\"\\nChildren nodes:\")\n",
    "for child in children:\n",
    "    print(\" \")\n",
    "    visualize_state(child.state)\n",
    "    print(\"Action to arrive to that node :\",child.action)\n",
    "    print(\"Path cost:\", child.path_cost)\n",
    "\n",
    "\n",
    "print('------------- Taquin 4x4 -------------')\n",
    "# Define the initial and goal states\n",
    "initial_state = [[1, 2, 3, 4], [5, 6, 7, 8], [9, 10, 0, 11], [13, 14, 15, 12]]\n",
    "goal_state = [[1, 2, 3, 4], [5, 6, 7, 8], [9, 10, 11, 12], [13, 14, 15, 0]]\n",
    "\n",
    "# Create a Taquin instance\n",
    "problem = Taquin(initial_state, goal_state, len(initial_state[0]))\n",
    "\n",
    "# Create the initial node\n",
    "initial_node = Node(initial_state)\n",
    "\n",
    "# Visualize the initial state\n",
    "print(\"Initial state:\")\n",
    "visualize_state(initial_node.state)\n",
    "\n",
    "# Expand the initial node to get its children\n",
    "children = initial_node.expand(problem)\n",
    "print(\"\\nChildren nodes:\")\n",
    "for child in children:\n",
    "    print(\" \")\n",
    "    visualize_state(child.state)\n",
    "    print(\"Action to arrive to that node :\",child.action)\n",
    "    print(\"Path cost:\", child.path_cost)\n"
   ]
  },
  {
   "cell_type": "markdown",
   "metadata": {
    "id": "6Nxo_uoOP1rw"
   },
   "source": [
    "# **Partie 2 : BFS et DFS**"
   ]
  },
  {
   "cell_type": "markdown",
   "metadata": {
    "id": "AoQqgz_QP-M1"
   },
   "source": [
    "Dans cette 2ème partie nous allons coder les algorithmes de recherche arborescente que nous avons étudiés en cours."
   ]
  },
  {
   "cell_type": "markdown",
   "metadata": {},
   "source": [
    "## **2.1 Breadth First Search**"
   ]
  },
  {
   "cell_type": "markdown",
   "metadata": {
    "id": "6xYzTxRLTrVk"
   },
   "source": [
    "### **Exercice 3** \n",
    "\n",
    "Créer une fonction BFS qui prend un objet problem comme entrée et exécute l'algorithme de recherche en profondeur. Votre fonction doit :\n",
    "\n",
    "1. Retourner le nœud objectif trouvé ainsi que le nombre de nœuds explorés.\n",
    "2. Retourner None si l'algorithme explore tout l'arbre sans trouver le nœud objectif.\n",
    "3. Prendre en compte un budget d'exploration pour arrêter l'algorithme si aucune solution n'est trouvée après plusieurs itérations (utile pour les grands problèmes). Le budget sera également une entrée de la fonction, avec float('inf') comme valeur par défaut.\n",
    "\n",
    "Pour la frontière et l'ensemble des nœuds déjà explorés :\n",
    "* La frontière doit être une liste de nœuds (objets créés par la classe Node).\n",
    "* L'ensemble des nœuds explorés peut être une liste d'états.\n",
    "* Pour sélectionner un élément de la frontière à explorer, utilisez la méthode *pop*. Assurez-vous de toujours prendre le premier élément de la liste.\n",
    "\n",
    "Pour ajouter un élément à une liste, utilisez *liste.append(element)*."
   ]
  },
  {
   "cell_type": "code",
   "execution_count": 4,
   "metadata": {
    "id": "lEKDdi3bTvi1"
   },
   "outputs": [],
   "source": [
    "def breadth_first_search(problem, max_it = float('inf')):\n",
    "    initial_node = Node(problem.initial_state)\n",
    "    frontier = [initial_node]  # Use a regular list for the frontier\n",
    "    explored = []  # List to keep track of explored states\n",
    "    it = 0\n",
    "    while frontier and it < max_it:\n",
    "        it = it + 1\n",
    "        node = frontier.pop(0)  # Pop the first element (index 0)\n",
    "        explored.append(node.state)\n",
    "\n",
    "        for action in problem.actions(node.state):\n",
    "            child_state = problem.result(node.state, action)\n",
    "            if child_state not in explored :\n",
    "                child_node = Node(child_state, parent=node, action=action)\n",
    "                if problem.is_goal(child_node.state):\n",
    "                      return child_node, it  # Goal found\n",
    "                if child_node not in frontier:\n",
    "                      frontier.append(child_node)\n",
    "\n",
    "    return None, it  # No solution found"
   ]
  },
  {
   "cell_type": "markdown",
   "metadata": {
    "id": "9c827KIOkVjo"
   },
   "source": [
    "### **Exercice 4**\n",
    "1. Appliquez votre fonction BFS pour résoudre un Taquin 3x3 avec l'état initial\n",
    "   [[1, 2, 3], [4, 5, 6], [0, 7, 8]].\n",
    "   Imprimez :\n",
    "    * Le nombre de nœuds explorés par l'algorithme.\n",
    "    * Le chemin pour passer de l'état initial à l'état objectif (la liste des actions effectuées).\n",
    "    * Les états successifs du chemin (utilisez la fonction visualize_state).\n",
    "3. Répétez la même expérience pour l'état initial [[1, 2, 3], [4, 5, 0], [6, 7, 8]]."
   ]
  },
  {
   "cell_type": "code",
   "execution_count": 18,
   "metadata": {
    "colab": {
     "base_uri": "https://localhost:8080/",
     "height": 1000
    },
    "executionInfo": {
     "elapsed": 757,
     "status": "ok",
     "timestamp": 1737577326108,
     "user": {
      "displayName": "Felipe Garrido",
      "userId": "09470540658044428770"
     },
     "user_tz": -60
    },
    "id": "kwf-e5WBT-hk",
    "outputId": "38f256e4-56ef-4a97-9a46-ffcc7ea6bb23",
    "scrolled": true
   },
   "outputs": [
    {
     "name": "stdout",
     "output_type": "stream",
     "text": [
      "Solution found in 1846 iterations\n",
      "Actions: ['down', 'left', 'left', 'up', 'right', 'down', 'right', 'up', 'left', 'left', 'down', 'right', 'right']\n",
      "1 -th element of the path\n"
     ]
    },
    {
     "data": {
      "text/html": [
       "<table><tr><td style='background-color: lightblue; width: 30px; height: 30px; text-align: center; font-size: 20px;'>1</td><td style='background-color: lightblue; width: 30px; height: 30px; text-align: center; font-size: 20px;'>2</td><td style='background-color: lightblue; width: 30px; height: 30px; text-align: center; font-size: 20px;'>3</td></tr><tr><td style='background-color: lightblue; width: 30px; height: 30px; text-align: center; font-size: 20px;'>4</td><td style='background-color: lightblue; width: 30px; height: 30px; text-align: center; font-size: 20px;'>5</td><td style='background-color: lightgray; width: 30px; height: 30px; text-align: center; font-size: 20px;'> </td></tr><tr><td style='background-color: lightblue; width: 30px; height: 30px; text-align: center; font-size: 20px;'>6</td><td style='background-color: lightblue; width: 30px; height: 30px; text-align: center; font-size: 20px;'>7</td><td style='background-color: lightblue; width: 30px; height: 30px; text-align: center; font-size: 20px;'>8</td></tr></table>"
      ],
      "text/plain": [
       "<IPython.core.display.HTML object>"
      ]
     },
     "metadata": {},
     "output_type": "display_data"
    },
    {
     "name": "stdout",
     "output_type": "stream",
     "text": [
      "2 -th element of the path\n"
     ]
    },
    {
     "data": {
      "text/html": [
       "<table><tr><td style='background-color: lightblue; width: 30px; height: 30px; text-align: center; font-size: 20px;'>1</td><td style='background-color: lightblue; width: 30px; height: 30px; text-align: center; font-size: 20px;'>2</td><td style='background-color: lightblue; width: 30px; height: 30px; text-align: center; font-size: 20px;'>3</td></tr><tr><td style='background-color: lightblue; width: 30px; height: 30px; text-align: center; font-size: 20px;'>4</td><td style='background-color: lightblue; width: 30px; height: 30px; text-align: center; font-size: 20px;'>5</td><td style='background-color: lightblue; width: 30px; height: 30px; text-align: center; font-size: 20px;'>8</td></tr><tr><td style='background-color: lightblue; width: 30px; height: 30px; text-align: center; font-size: 20px;'>6</td><td style='background-color: lightblue; width: 30px; height: 30px; text-align: center; font-size: 20px;'>7</td><td style='background-color: lightgray; width: 30px; height: 30px; text-align: center; font-size: 20px;'> </td></tr></table>"
      ],
      "text/plain": [
       "<IPython.core.display.HTML object>"
      ]
     },
     "metadata": {},
     "output_type": "display_data"
    },
    {
     "name": "stdout",
     "output_type": "stream",
     "text": [
      "3 -th element of the path\n"
     ]
    },
    {
     "data": {
      "text/html": [
       "<table><tr><td style='background-color: lightblue; width: 30px; height: 30px; text-align: center; font-size: 20px;'>1</td><td style='background-color: lightblue; width: 30px; height: 30px; text-align: center; font-size: 20px;'>2</td><td style='background-color: lightblue; width: 30px; height: 30px; text-align: center; font-size: 20px;'>3</td></tr><tr><td style='background-color: lightblue; width: 30px; height: 30px; text-align: center; font-size: 20px;'>4</td><td style='background-color: lightblue; width: 30px; height: 30px; text-align: center; font-size: 20px;'>5</td><td style='background-color: lightblue; width: 30px; height: 30px; text-align: center; font-size: 20px;'>8</td></tr><tr><td style='background-color: lightblue; width: 30px; height: 30px; text-align: center; font-size: 20px;'>6</td><td style='background-color: lightgray; width: 30px; height: 30px; text-align: center; font-size: 20px;'> </td><td style='background-color: lightblue; width: 30px; height: 30px; text-align: center; font-size: 20px;'>7</td></tr></table>"
      ],
      "text/plain": [
       "<IPython.core.display.HTML object>"
      ]
     },
     "metadata": {},
     "output_type": "display_data"
    },
    {
     "name": "stdout",
     "output_type": "stream",
     "text": [
      "4 -th element of the path\n"
     ]
    },
    {
     "data": {
      "text/html": [
       "<table><tr><td style='background-color: lightblue; width: 30px; height: 30px; text-align: center; font-size: 20px;'>1</td><td style='background-color: lightblue; width: 30px; height: 30px; text-align: center; font-size: 20px;'>2</td><td style='background-color: lightblue; width: 30px; height: 30px; text-align: center; font-size: 20px;'>3</td></tr><tr><td style='background-color: lightblue; width: 30px; height: 30px; text-align: center; font-size: 20px;'>4</td><td style='background-color: lightblue; width: 30px; height: 30px; text-align: center; font-size: 20px;'>5</td><td style='background-color: lightblue; width: 30px; height: 30px; text-align: center; font-size: 20px;'>8</td></tr><tr><td style='background-color: lightgray; width: 30px; height: 30px; text-align: center; font-size: 20px;'> </td><td style='background-color: lightblue; width: 30px; height: 30px; text-align: center; font-size: 20px;'>6</td><td style='background-color: lightblue; width: 30px; height: 30px; text-align: center; font-size: 20px;'>7</td></tr></table>"
      ],
      "text/plain": [
       "<IPython.core.display.HTML object>"
      ]
     },
     "metadata": {},
     "output_type": "display_data"
    },
    {
     "name": "stdout",
     "output_type": "stream",
     "text": [
      "5 -th element of the path\n"
     ]
    },
    {
     "data": {
      "text/html": [
       "<table><tr><td style='background-color: lightblue; width: 30px; height: 30px; text-align: center; font-size: 20px;'>1</td><td style='background-color: lightblue; width: 30px; height: 30px; text-align: center; font-size: 20px;'>2</td><td style='background-color: lightblue; width: 30px; height: 30px; text-align: center; font-size: 20px;'>3</td></tr><tr><td style='background-color: lightgray; width: 30px; height: 30px; text-align: center; font-size: 20px;'> </td><td style='background-color: lightblue; width: 30px; height: 30px; text-align: center; font-size: 20px;'>5</td><td style='background-color: lightblue; width: 30px; height: 30px; text-align: center; font-size: 20px;'>8</td></tr><tr><td style='background-color: lightblue; width: 30px; height: 30px; text-align: center; font-size: 20px;'>4</td><td style='background-color: lightblue; width: 30px; height: 30px; text-align: center; font-size: 20px;'>6</td><td style='background-color: lightblue; width: 30px; height: 30px; text-align: center; font-size: 20px;'>7</td></tr></table>"
      ],
      "text/plain": [
       "<IPython.core.display.HTML object>"
      ]
     },
     "metadata": {},
     "output_type": "display_data"
    },
    {
     "name": "stdout",
     "output_type": "stream",
     "text": [
      "6 -th element of the path\n"
     ]
    },
    {
     "data": {
      "text/html": [
       "<table><tr><td style='background-color: lightblue; width: 30px; height: 30px; text-align: center; font-size: 20px;'>1</td><td style='background-color: lightblue; width: 30px; height: 30px; text-align: center; font-size: 20px;'>2</td><td style='background-color: lightblue; width: 30px; height: 30px; text-align: center; font-size: 20px;'>3</td></tr><tr><td style='background-color: lightblue; width: 30px; height: 30px; text-align: center; font-size: 20px;'>5</td><td style='background-color: lightgray; width: 30px; height: 30px; text-align: center; font-size: 20px;'> </td><td style='background-color: lightblue; width: 30px; height: 30px; text-align: center; font-size: 20px;'>8</td></tr><tr><td style='background-color: lightblue; width: 30px; height: 30px; text-align: center; font-size: 20px;'>4</td><td style='background-color: lightblue; width: 30px; height: 30px; text-align: center; font-size: 20px;'>6</td><td style='background-color: lightblue; width: 30px; height: 30px; text-align: center; font-size: 20px;'>7</td></tr></table>"
      ],
      "text/plain": [
       "<IPython.core.display.HTML object>"
      ]
     },
     "metadata": {},
     "output_type": "display_data"
    },
    {
     "name": "stdout",
     "output_type": "stream",
     "text": [
      "7 -th element of the path\n"
     ]
    },
    {
     "data": {
      "text/html": [
       "<table><tr><td style='background-color: lightblue; width: 30px; height: 30px; text-align: center; font-size: 20px;'>1</td><td style='background-color: lightblue; width: 30px; height: 30px; text-align: center; font-size: 20px;'>2</td><td style='background-color: lightblue; width: 30px; height: 30px; text-align: center; font-size: 20px;'>3</td></tr><tr><td style='background-color: lightblue; width: 30px; height: 30px; text-align: center; font-size: 20px;'>5</td><td style='background-color: lightblue; width: 30px; height: 30px; text-align: center; font-size: 20px;'>6</td><td style='background-color: lightblue; width: 30px; height: 30px; text-align: center; font-size: 20px;'>8</td></tr><tr><td style='background-color: lightblue; width: 30px; height: 30px; text-align: center; font-size: 20px;'>4</td><td style='background-color: lightgray; width: 30px; height: 30px; text-align: center; font-size: 20px;'> </td><td style='background-color: lightblue; width: 30px; height: 30px; text-align: center; font-size: 20px;'>7</td></tr></table>"
      ],
      "text/plain": [
       "<IPython.core.display.HTML object>"
      ]
     },
     "metadata": {},
     "output_type": "display_data"
    },
    {
     "name": "stdout",
     "output_type": "stream",
     "text": [
      "8 -th element of the path\n"
     ]
    },
    {
     "data": {
      "text/html": [
       "<table><tr><td style='background-color: lightblue; width: 30px; height: 30px; text-align: center; font-size: 20px;'>1</td><td style='background-color: lightblue; width: 30px; height: 30px; text-align: center; font-size: 20px;'>2</td><td style='background-color: lightblue; width: 30px; height: 30px; text-align: center; font-size: 20px;'>3</td></tr><tr><td style='background-color: lightblue; width: 30px; height: 30px; text-align: center; font-size: 20px;'>5</td><td style='background-color: lightblue; width: 30px; height: 30px; text-align: center; font-size: 20px;'>6</td><td style='background-color: lightblue; width: 30px; height: 30px; text-align: center; font-size: 20px;'>8</td></tr><tr><td style='background-color: lightblue; width: 30px; height: 30px; text-align: center; font-size: 20px;'>4</td><td style='background-color: lightblue; width: 30px; height: 30px; text-align: center; font-size: 20px;'>7</td><td style='background-color: lightgray; width: 30px; height: 30px; text-align: center; font-size: 20px;'> </td></tr></table>"
      ],
      "text/plain": [
       "<IPython.core.display.HTML object>"
      ]
     },
     "metadata": {},
     "output_type": "display_data"
    },
    {
     "name": "stdout",
     "output_type": "stream",
     "text": [
      "9 -th element of the path\n"
     ]
    },
    {
     "data": {
      "text/html": [
       "<table><tr><td style='background-color: lightblue; width: 30px; height: 30px; text-align: center; font-size: 20px;'>1</td><td style='background-color: lightblue; width: 30px; height: 30px; text-align: center; font-size: 20px;'>2</td><td style='background-color: lightblue; width: 30px; height: 30px; text-align: center; font-size: 20px;'>3</td></tr><tr><td style='background-color: lightblue; width: 30px; height: 30px; text-align: center; font-size: 20px;'>5</td><td style='background-color: lightblue; width: 30px; height: 30px; text-align: center; font-size: 20px;'>6</td><td style='background-color: lightgray; width: 30px; height: 30px; text-align: center; font-size: 20px;'> </td></tr><tr><td style='background-color: lightblue; width: 30px; height: 30px; text-align: center; font-size: 20px;'>4</td><td style='background-color: lightblue; width: 30px; height: 30px; text-align: center; font-size: 20px;'>7</td><td style='background-color: lightblue; width: 30px; height: 30px; text-align: center; font-size: 20px;'>8</td></tr></table>"
      ],
      "text/plain": [
       "<IPython.core.display.HTML object>"
      ]
     },
     "metadata": {},
     "output_type": "display_data"
    },
    {
     "name": "stdout",
     "output_type": "stream",
     "text": [
      "10 -th element of the path\n"
     ]
    },
    {
     "data": {
      "text/html": [
       "<table><tr><td style='background-color: lightblue; width: 30px; height: 30px; text-align: center; font-size: 20px;'>1</td><td style='background-color: lightblue; width: 30px; height: 30px; text-align: center; font-size: 20px;'>2</td><td style='background-color: lightblue; width: 30px; height: 30px; text-align: center; font-size: 20px;'>3</td></tr><tr><td style='background-color: lightblue; width: 30px; height: 30px; text-align: center; font-size: 20px;'>5</td><td style='background-color: lightgray; width: 30px; height: 30px; text-align: center; font-size: 20px;'> </td><td style='background-color: lightblue; width: 30px; height: 30px; text-align: center; font-size: 20px;'>6</td></tr><tr><td style='background-color: lightblue; width: 30px; height: 30px; text-align: center; font-size: 20px;'>4</td><td style='background-color: lightblue; width: 30px; height: 30px; text-align: center; font-size: 20px;'>7</td><td style='background-color: lightblue; width: 30px; height: 30px; text-align: center; font-size: 20px;'>8</td></tr></table>"
      ],
      "text/plain": [
       "<IPython.core.display.HTML object>"
      ]
     },
     "metadata": {},
     "output_type": "display_data"
    },
    {
     "name": "stdout",
     "output_type": "stream",
     "text": [
      "11 -th element of the path\n"
     ]
    },
    {
     "data": {
      "text/html": [
       "<table><tr><td style='background-color: lightblue; width: 30px; height: 30px; text-align: center; font-size: 20px;'>1</td><td style='background-color: lightblue; width: 30px; height: 30px; text-align: center; font-size: 20px;'>2</td><td style='background-color: lightblue; width: 30px; height: 30px; text-align: center; font-size: 20px;'>3</td></tr><tr><td style='background-color: lightgray; width: 30px; height: 30px; text-align: center; font-size: 20px;'> </td><td style='background-color: lightblue; width: 30px; height: 30px; text-align: center; font-size: 20px;'>5</td><td style='background-color: lightblue; width: 30px; height: 30px; text-align: center; font-size: 20px;'>6</td></tr><tr><td style='background-color: lightblue; width: 30px; height: 30px; text-align: center; font-size: 20px;'>4</td><td style='background-color: lightblue; width: 30px; height: 30px; text-align: center; font-size: 20px;'>7</td><td style='background-color: lightblue; width: 30px; height: 30px; text-align: center; font-size: 20px;'>8</td></tr></table>"
      ],
      "text/plain": [
       "<IPython.core.display.HTML object>"
      ]
     },
     "metadata": {},
     "output_type": "display_data"
    },
    {
     "name": "stdout",
     "output_type": "stream",
     "text": [
      "12 -th element of the path\n"
     ]
    },
    {
     "data": {
      "text/html": [
       "<table><tr><td style='background-color: lightblue; width: 30px; height: 30px; text-align: center; font-size: 20px;'>1</td><td style='background-color: lightblue; width: 30px; height: 30px; text-align: center; font-size: 20px;'>2</td><td style='background-color: lightblue; width: 30px; height: 30px; text-align: center; font-size: 20px;'>3</td></tr><tr><td style='background-color: lightblue; width: 30px; height: 30px; text-align: center; font-size: 20px;'>4</td><td style='background-color: lightblue; width: 30px; height: 30px; text-align: center; font-size: 20px;'>5</td><td style='background-color: lightblue; width: 30px; height: 30px; text-align: center; font-size: 20px;'>6</td></tr><tr><td style='background-color: lightgray; width: 30px; height: 30px; text-align: center; font-size: 20px;'> </td><td style='background-color: lightblue; width: 30px; height: 30px; text-align: center; font-size: 20px;'>7</td><td style='background-color: lightblue; width: 30px; height: 30px; text-align: center; font-size: 20px;'>8</td></tr></table>"
      ],
      "text/plain": [
       "<IPython.core.display.HTML object>"
      ]
     },
     "metadata": {},
     "output_type": "display_data"
    },
    {
     "name": "stdout",
     "output_type": "stream",
     "text": [
      "13 -th element of the path\n"
     ]
    },
    {
     "data": {
      "text/html": [
       "<table><tr><td style='background-color: lightblue; width: 30px; height: 30px; text-align: center; font-size: 20px;'>1</td><td style='background-color: lightblue; width: 30px; height: 30px; text-align: center; font-size: 20px;'>2</td><td style='background-color: lightblue; width: 30px; height: 30px; text-align: center; font-size: 20px;'>3</td></tr><tr><td style='background-color: lightblue; width: 30px; height: 30px; text-align: center; font-size: 20px;'>4</td><td style='background-color: lightblue; width: 30px; height: 30px; text-align: center; font-size: 20px;'>5</td><td style='background-color: lightblue; width: 30px; height: 30px; text-align: center; font-size: 20px;'>6</td></tr><tr><td style='background-color: lightblue; width: 30px; height: 30px; text-align: center; font-size: 20px;'>7</td><td style='background-color: lightgray; width: 30px; height: 30px; text-align: center; font-size: 20px;'> </td><td style='background-color: lightblue; width: 30px; height: 30px; text-align: center; font-size: 20px;'>8</td></tr></table>"
      ],
      "text/plain": [
       "<IPython.core.display.HTML object>"
      ]
     },
     "metadata": {},
     "output_type": "display_data"
    },
    {
     "name": "stdout",
     "output_type": "stream",
     "text": [
      "14 -th element of the path\n"
     ]
    },
    {
     "data": {
      "text/html": [
       "<table><tr><td style='background-color: lightblue; width: 30px; height: 30px; text-align: center; font-size: 20px;'>1</td><td style='background-color: lightblue; width: 30px; height: 30px; text-align: center; font-size: 20px;'>2</td><td style='background-color: lightblue; width: 30px; height: 30px; text-align: center; font-size: 20px;'>3</td></tr><tr><td style='background-color: lightblue; width: 30px; height: 30px; text-align: center; font-size: 20px;'>4</td><td style='background-color: lightblue; width: 30px; height: 30px; text-align: center; font-size: 20px;'>5</td><td style='background-color: lightblue; width: 30px; height: 30px; text-align: center; font-size: 20px;'>6</td></tr><tr><td style='background-color: lightblue; width: 30px; height: 30px; text-align: center; font-size: 20px;'>7</td><td style='background-color: lightblue; width: 30px; height: 30px; text-align: center; font-size: 20px;'>8</td><td style='background-color: lightgray; width: 30px; height: 30px; text-align: center; font-size: 20px;'> </td></tr></table>"
      ],
      "text/plain": [
       "<IPython.core.display.HTML object>"
      ]
     },
     "metadata": {},
     "output_type": "display_data"
    }
   ],
   "source": [
    "# Define the initial and goal states\n",
    "initial_state = [[1, 2, 3], [4, 5, 0], [6, 7, 8]]\n",
    "goal_state = [[1, 2, 3], [4, 5, 6], [7, 8, 0]]\n",
    "\n",
    "# Create a Taquin instance\n",
    "problem = Taquin(initial_state, goal_state, len(initial_state[0]))\n",
    "\n",
    "# Run BFS to find a solution\n",
    "solution_node, it = breadth_first_search(problem)\n",
    "\n",
    "# Print the solution (if found)\n",
    "if solution_node:\n",
    "    print(\"Solution found in\",it,\"iterations\")\n",
    "    print(\"Actions:\", solution_node.solution())\n",
    "    # Visualize the solution path (optional)\n",
    "    t = 1\n",
    "    for node in solution_node.path():\n",
    "        print(t,'-th element of the path')\n",
    "        visualize_state(node.state)\n",
    "        t = t + 1\n",
    "else:\n",
    "    print(\"No solution found.\")"
   ]
  },
  {
   "cell_type": "markdown",
   "metadata": {},
   "source": [
    "## **2.2 Depth First Search**"
   ]
  },
  {
   "cell_type": "markdown",
   "metadata": {
    "id": "_J6S1eHWQM6P"
   },
   "source": [
    "### **Exercice 5**\n",
    "Créer une fonction DFS qui prend un objet problem comme entrée et exécute l'algorithme de recherche en profondeur. Votre fonction doit :\n",
    "\n",
    "1. Retourner le nœud objectif trouvé ainsi que le nombre de nœuds explorés.\n",
    "2. Retourner None si l'algorithme explore tout l'arbre sans trouver le nœud objectif.\n",
    "3. Prendre en compte un budget d'exploration pour arrêter l'algorithme si aucune solution n'est trouvée après plusieurs itérations (utile pour les grands problèmes). Le budget sera également une entrée de la fonction, avec float('inf') comme valeur par défaut.\n",
    "\n",
    "Pour la frontière et l'ensemble des nœuds déjà explorés :\n",
    "* La frontière doit être une liste de nœuds (objets créés par la classe Node).\n",
    "* L'ensemble des nœuds explorés peut être une liste d'états.\n",
    "* Pour sélectionner un élément de la frontière à explorer, utilisez la méthode *pop*. Assurez-vous de toujours prendre le dernier élément de la liste.\n",
    "\n",
    "Pour ajouter un élément à une liste, utilisez *liste.append(element)*.\n",
    "\n"
   ]
  },
  {
   "cell_type": "code",
   "execution_count": 5,
   "metadata": {
    "id": "KQ-0P0VNQSwP"
   },
   "outputs": [],
   "source": [
    "def depth_first_search(problem, max_it = float('inf')):\n",
    "    \"\"\"Performs depth-first search with a list for explored states.\"\"\"\n",
    "    initial_node = Node(problem.initial_state)\n",
    "    frontier = [initial_node]  # Stack to represent the frontier\n",
    "    explored = []  # List to keep track of explored states\n",
    "    it = 0\n",
    "    while frontier and it < max_it:\n",
    "        it = it + 1\n",
    "\n",
    "        node = frontier.pop(-1)\n",
    "        explored.append(node.state)\n",
    "\n",
    "        for action in problem.actions(node.state):\n",
    "            child_state = problem.result(node.state, action)\n",
    "            if child_state not in explored:  # Check if child_state is in explored list\n",
    "                child_node = Node(child_state, parent=node, action=action)\n",
    "                if problem.is_goal(child_node.state):\n",
    "                    return child_node , it  # Goal found\n",
    "                if child_node not in frontier:\n",
    "                    frontier.append(child_node)\n",
    "\n",
    "    return None, it  # No solution found"
   ]
  },
  {
   "cell_type": "markdown",
   "metadata": {
    "id": "_jUoeMzeku_w"
   },
   "source": [
    "### **Exercise 6**\n",
    "1. Appliquez votre fonction DFS pour résoudre un Taquin 3x3 avec l'état initial [[1, 2, 3], [4, 5, 6], [0, 7, 8]]. Imprimez :\n",
    "    * Le nombre de nœuds explorés par l'algorithme.\n",
    "    * Le chemin pour passer de l'état initial à l'état objectif (la liste des actions effectuées).\n",
    "    * Les états successifs du chemin (utilisez la fonction visualize_state).\n",
    "2. Répétez la même expérience pour l'état initial [[1, 2, 3], [4, 5, 0], [6, 7, 8]].\n",
    "3. Qu'observez-vous en comparant cet algorithme avec BFS ?"
   ]
  },
  {
   "cell_type": "code",
   "execution_count": 20,
   "metadata": {
    "colab": {
     "base_uri": "https://localhost:8080/",
     "height": 1000,
     "output_embedded_package_id": "1OGuir87OHUqqeKu2Rji8mQtHS0Pc1YnD"
    },
    "executionInfo": {
     "elapsed": 886599,
     "status": "ok",
     "timestamp": 1737578326239,
     "user": {
      "displayName": "Felipe Garrido",
      "userId": "09470540658044428770"
     },
     "user_tz": -60
    },
    "id": "1gQfcOpdQqQv",
    "outputId": "42d4c9bf-ef1c-4e44-faa0-7a39007a1dd3"
   },
   "outputs": [
    {
     "name": "stdout",
     "output_type": "stream",
     "text": [
      "No solution found.\n"
     ]
    }
   ],
   "source": [
    "# Define the initial and goal states\n",
    "initial_state = [[1, 2, 3], [4, 5, 0], [6, 7, 8]]\n",
    "goal_state = [[1, 2, 3], [4, 5, 6], [7, 8, 0]]\n",
    "\n",
    "# Create a Taquin instance\n",
    "problem = Taquin(initial_state, goal_state, len(initial_state[0]))\n",
    "\n",
    "max_it = 10000\n",
    "\n",
    "# Run DFS to find a solution\n",
    "solution_node, it = depth_first_search(problem, max_it)\n",
    "\n",
    "# Print the solution (if found)\n",
    "if solution_node:\n",
    "    print(\"Solution found in\",it,'iterations')\n",
    "    print(\"Actions:\", solution_node.solution())\n",
    "    # Visualize the solution path (optional)\n",
    "    t = 1\n",
    "    for node in solution_node.path():\n",
    "        print(t,'-th element of the path')\n",
    "        visualize_state(node.state)\n",
    "        t = t + 1\n",
    "else:\n",
    "    print(\"No solution found.\")"
   ]
  },
  {
   "cell_type": "markdown",
   "metadata": {},
   "source": [
    "## **2.3 Comparaison empirique de DFS et BFS**\n",
    "\n",
    "Nous allons comparer la performance des deux algorithmes dans plusieurs jeux de Taquin 3x3. "
   ]
  },
  {
   "cell_type": "markdown",
   "metadata": {
    "id": "xc24srbH2tQI"
   },
   "source": [
    "### **Exercice 7**\n",
    "1. Écrivez une fonction compare_algorithms qui prend en entrée :\n",
    "    * Une liste d’états initiaux.\n",
    "    * Un état objectif.\n",
    "    * Une liste d’algorithmes.\n",
    "2. La fonction doit résoudre chaque problème en exécutant chaque algorithme. Assurez-vous de fixer des budgets pour éviter que les algorithmes ne prennent trop de temps.\n",
    "3. Pour chaque paire (problème, algorithme), enregistrez :\n",
    "    * Le nombre de nœuds explorés.\n",
    "    * La longueur du chemin trouvé entre la racine et le nœud objectif.\n",
    "    * Le temps d'exécution. Pour mesurer le temps d'exécution, vous pouvez importer time et utiliser :\n",
    "        * *start_time = time.time()*\n",
    "        * *\\# résoudre le problème*\n",
    "        * *end_time = time.time()*\n",
    "        * *execution_time = end_time - start_time*\n",
    "4. Enregistrez les résultats dans un dictionaire.\n",
    "\n"
   ]
  },
  {
   "cell_type": "code",
   "execution_count": 6,
   "metadata": {
    "id": "C1JshIqvSo4k"
   },
   "outputs": [],
   "source": [
    "import time\n",
    "\n",
    "def compare_algorithms(initial_states, goal_state, algorithms, max_it):\n",
    "    results = [[] for _ in range(len(algorithms))]\n",
    "    for initial_state in initial_states:\n",
    "        print('Solving state')\n",
    "        visualize_state(initial_state)\n",
    "        problem = Taquin(initial_state, goal_state, len(initial_state[0]))\n",
    "        for k in range(len(algorithms)):\n",
    "            algorithm = algorithms[k]\n",
    "            print('Running', algorithm.__name__)\n",
    "            start_time = time.time()\n",
    "            solution_node, num_explorations = algorithm(problem, max_it)\n",
    "            end_time = time.time()\n",
    "            execution_time = end_time - start_time\n",
    "\n",
    "            if solution_node:\n",
    "                path_length = len(solution_node.solution())\n",
    "            else:\n",
    "                path_length = -1  # Indicate no solution found\n",
    "\n",
    "            results[k].append({\n",
    "                \"initial_state\": initial_state,\n",
    "                \"algorithm\": algorithm.__name__,  # Get the name of the function\n",
    "                \"num_explorations\": num_explorations,\n",
    "                \"path_length\": path_length,\n",
    "                \"execution_time\": execution_time\n",
    "            })\n",
    "    return results"
   ]
  },
  {
   "cell_type": "markdown",
   "metadata": {
    "id": "69CS1zsJwNC9"
   },
   "source": [
    "### **Exercice 8**\n",
    "Comparez les algorithmes BFS et DFS dans les instances suivantes du jeu de Taquin 3x3.\n",
    "1. [[1, 2, 3], [4, 5, 0], [6, 7, 8]]\n",
    "2. [[1, 2, 3], [0, 5, 6], [4, 7, 8]]    \n",
    "3. [[1, 0, 3], [4, 2, 5], [7, 8, 6]]\n",
    "4. [[1, 0, 3], [4, 5, 2], [7, 6, 8]]\n",
    "5. [[1, 0, 3], [4, 2, 5], [6, 7, 8]]\n",
    "6. [[1, 2, 3], [4, 0, 6], [7, 5, 8]]\n",
    "7. [[1, 2, 3], [0, 4, 6], [7, 5, 8]]\n",
    "8. [[1, 2, 3], [4, 6, 0], [7, 5, 8]]\n",
    "9. [[1, 3, 6], [4, 2, 5], [7, 0, 8]]  \n",
    "10. [[1, 3, 6], [4, 2, 0], [7, 5, 8]]  \n",
    "11. [[1, 3, 6], [4, 0, 2], [7, 5, 8]]  \n",
    "12. [[3, 1, 2], [4, 6, 5], [7, 0, 8]]  \n",
    "13. [[8, 1, 2], [0, 4, 3], [7, 6, 5]]\n",
    "14. [[1, 4, 2], [7, 0, 6], [5, 3, 8]]\n",
    "15. [[2, 8, 3], [1, 6, 4], [7, 0, 5]]"
   ]
  },
  {
   "cell_type": "code",
   "execution_count": 22,
   "metadata": {
    "colab": {
     "base_uri": "https://localhost:8080/",
     "height": 243
    },
    "id": "DoFT3VfRS5g6",
    "outputId": "3a5831e0-7467-4da3-8bdb-5bd3d4d44a69"
   },
   "outputs": [
    {
     "name": "stdout",
     "output_type": "stream",
     "text": [
      "Finished\n"
     ]
    }
   ],
   "source": [
    "initial_states = [\n",
    "    [[1, 2, 3], [4, 5, 0], [6, 7, 8]],\n",
    "    [[1, 2, 3], [0, 5, 6], [4, 7, 8]],\n",
    "    [[1, 0, 3], [4, 2, 5], [7, 8, 6]],\n",
    "    [[1, 0, 3], [4, 5, 2], [7, 6, 8]],\n",
    "    [[1, 0, 3], [4, 2, 5], [6, 7, 8]],\n",
    "    [[1, 2, 3], [4, 0, 6], [7, 5, 8]],  \n",
    "    [[1, 2, 3], [0, 4, 6], [7, 5, 8]],\n",
    "    [[1, 2, 3], [4, 6, 0], [7, 5, 8]],  \n",
    "    [[1, 3, 6], [4, 2, 5], [7, 0, 8]],  \n",
    "    [[1, 3, 6], [4, 2, 0], [7, 5, 8]],  \n",
    "    [[1, 3, 6], [4, 0, 2], [7, 5, 8]],  \n",
    "    [[3, 1, 2], [4, 6, 5], [7, 0, 8]],  \n",
    "    [[8, 1, 2], [0, 4, 3], [7, 6, 5]],\n",
    "    [[1, 4, 2], [7, 0, 6], [5, 3, 8]],\n",
    "    [[2, 8, 3], [1, 6, 4], [7, 0, 5]]\n",
    "]\n",
    "goal_state = [[1, 2, 3], [4, 5, 6], [7, 8, 0]]\n",
    "algorithms = [breadth_first_search, depth_first_search]\n",
    "\n",
    "results = compare_algorithms(initial_states, goal_state, algorithms,max_it = 20000)\n",
    "results_BFS = results[0]\n",
    "results_DFS = results[1]\n",
    "\n",
    "print('Finished')"
   ]
  },
  {
   "cell_type": "markdown",
   "metadata": {},
   "source": [
    "#### Utilisez le code ci-dessous pour visualiser vos résultats"
   ]
  },
  {
   "cell_type": "code",
   "execution_count": 46,
   "metadata": {},
   "outputs": [
    {
     "name": "stdout",
     "output_type": "stream",
     "text": [
      "+----+-------+--------------------+--------------------+-----------------+-----------------+--------------------+--------------------+\n",
      "|    | State | Nodes explored BFS | Nodes explored DFS | Path length BFS | Path length DFS | Execution Time BFS | Execution Time DFS |\n",
      "+----+-------+--------------------+--------------------+-----------------+-----------------+--------------------+--------------------+\n",
      "| 0  |  1.0  |       1846.0       |      20000.0       |      13.0       |      -1.0       |        0.16        |       28.78        |\n",
      "| 1  |  2.0  |        6.0         |        27.0        |       3.0       |      27.0       |        0.0         |        0.0         |\n",
      "| 2  |  3.0  |        7.0         |      20000.0       |       3.0       |      -1.0       |        0.0         |       36.77        |\n",
      "| 3  |  4.0  |      10911.0       |      20000.0       |      17.0       |      -1.0       |        4.13        |       41.24        |\n",
      "| 4  |  5.0  |       4960.0       |      20000.0       |      15.0       |      -1.0       |        0.79        |       42.29        |\n",
      "| 5  |  6.0  |        3.0         |       412.0        |       2.0       |      406.0      |        0.0         |        0.02        |\n",
      "| 6  |  7.0  |        8.0         |      20000.0       |       3.0       |      -1.0       |        0.0         |        45.4        |\n",
      "| 7  |  8.0  |        8.0         |       886.0        |       3.0       |      871.0      |        0.0         |        0.05        |\n",
      "| 8  |  9.0  |      20000.0       |      20000.0       |      -1.0       |      -1.0       |       18.44        |       41.22        |\n",
      "| 9  | 10.0  |        20.0        |      20000.0       |       5.0       |      -1.0       |        0.0         |       31.54        |\n",
      "| 10 | 11.0  |        62.0        |      20000.0       |       6.0       |      -1.0       |        0.0         |       30.44        |\n",
      "| 11 | 12.0  |      20000.0       |      20000.0       |      -1.0       |      -1.0       |       16.75        |       28.84        |\n",
      "| 12 | 13.0  |      20000.0       |      20000.0       |      -1.0       |      -1.0       |        16.2        |       37.37        |\n",
      "| 13 | 14.0  |       3321.0       |      20000.0       |      14.0       |      -1.0       |        0.32        |        31.4        |\n",
      "| 14 | 15.0  |      20000.0       |      20000.0       |      -1.0       |      -1.0       |        20.1        |       30.24        |\n",
      "+----+-------+--------------------+--------------------+-----------------+-----------------+--------------------+--------------------+\n"
     ]
    }
   ],
   "source": [
    "import pandas as pd\n",
    "import numpy as np\n",
    "from tabulate import tabulate ## La librairie Tabulate doit être installée. Si vous ne l'avez pas, vous pouvez simplement utiliser \"print(df)\" pour visualiser le tableau.\n",
    "\n",
    "Data = []\n",
    "for i in range(len(initial_states)):\n",
    "    Data.append([int(i+1),results_BFS[i]['num_explorations'], results_DFS[i]['num_explorations'],results_BFS[i]['path_length'],results_DFS[i]['path_length'],\n",
    "                 round(results_BFS[i]['execution_time'],2),round(results_DFS[i]['execution_time'],2)])\n",
    "\n",
    "df = pd.DataFrame(Data, columns=[\"State\", \"Nodes explored BFS\", \"Nodes explored DFS\", \"Path length BFS\", \"Path length DFS\", \"Execution Time BFS\", \"Execution Time DFS\"])\n",
    "print(tabulate(df, headers='keys', tablefmt='pretty'))"
   ]
  },
  {
   "cell_type": "markdown",
   "metadata": {},
   "source": [
    "# **Extra. Tous les jeux de taquin ont-ils une solution ?**"
   ]
  },
  {
   "cell_type": "markdown",
   "metadata": {},
   "source": [
    "En cours, nous avons dit que l'espace d'état a une taille de 9!. En réalité, seulement la moitié des configurations sont résolvables. Consultez ce [**lien**](https://fr.wikipedia.org/wiki/Taquin#Configurations_solubles_et_insolubles) ainsi que la fonction suivante pour pour davantage d'*insights*."
   ]
  },
  {
   "cell_type": "code",
   "execution_count": 18,
   "metadata": {},
   "outputs": [],
   "source": [
    "import random\n",
    "\n",
    "def is_solvable(puzzle):\n",
    "    \"\"\"Check if a 3x3 Taquin puzzle is solvable.\"\"\"\n",
    "    flattened = [tile for row in puzzle for tile in row if tile != 0]\n",
    "    inversions = sum(\n",
    "        1 for i in range(len(flattened)) for j in range(i + 1, len(flattened)) if flattened[i] > flattened[j]\n",
    "    )\n",
    "    return inversions % 2 == 0"
   ]
  }
 ],
 "metadata": {
  "colab": {
   "collapsed_sections": [
    "t2kvjEw1LSRz",
    "CBNnkXa0NeQT"
   ],
   "provenance": []
  },
  "kernelspec": {
   "display_name": "Python 3 (ipykernel)",
   "language": "python",
   "name": "python3"
  },
  "language_info": {
   "codemirror_mode": {
    "name": "ipython",
    "version": 3
   },
   "file_extension": ".py",
   "mimetype": "text/x-python",
   "name": "python",
   "nbconvert_exporter": "python",
   "pygments_lexer": "ipython3",
   "version": "3.11.9"
  }
 },
 "nbformat": 4,
 "nbformat_minor": 4
}
