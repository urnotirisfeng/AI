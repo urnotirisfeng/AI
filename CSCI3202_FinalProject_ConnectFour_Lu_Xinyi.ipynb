{
 "cells": [
  {
   "cell_type": "markdown",
   "metadata": {},
   "source": [
    "---\n",
    "\n",
    "# CSCI 3202, Fall 2022\n",
    "# Final Project\n",
    "# Project Due: Thursday December 8, 2022 at 6:00 PM\n",
    "## Proposals Due: Friday November 18, 2022 at 6:00 PM\n"
   ]
  },
  {
   "cell_type": "markdown",
   "metadata": {},
   "source": [
    "You have two options for completing your final project for this course. \n",
    "\n",
    "#### Option 1 ####\n",
    "The first option is presented in this notebook and involves implementing a Connect Four game with AB pruning and A* as player strategies. \n",
    "\n",
    "#### Option 2 ####\n",
    "The second option is to design your own project that includes any of the algorithms we've discussed throughout the semester, or an algorithm that you're interested in learning that we haven't discussed in class. Your project also needs to include some kind of analysis of how it performed on a specific problem. If you're interested in the design your own project option, you need to discuss your idea with one of the course instructors to get approval. If you do a project without getting approval, you will receive a 0 regardless of the quality of the project. \n",
    "\n",
    "**The rules:**\n",
    "\n",
    "1. Choose EITHER the given problem to submit OR choose your own project topic. \n",
    "\n",
    "2. If you choose your own project topic, please adhere to the following guidelines:\n",
    "- Send an email to the course instructors before Friday, November 18 at 6pm, with a paragraph description of your project. We will respond within 24 hours with feedback.\n",
    "- The project can include an algorithm we've discussed throughout the semester or an algorithm that you're been curious to learn. Please don't recycle a project that you did in another class. \n",
    "- If you do your own project without prior approval, you will receive a 0 for this project.\n",
    "- Your project code, explanation, and results must all be contained in a Jupyter notebook. \n",
    "\n",
    "3. All work, code and analysis must be **your own**.\n",
    "4. You may use your course notes, posted lecture slides, textbook, in-class notebooks and homework solutions as resources.  You may also search online for answers to general knowledge questions, like the form of a probability distribution function, or how to perform a particular operation in Python. You may not use entire segments of code as solutions to any part of this project, e.g. if you find a Python implementation of policy iteration online, you can't use it.\n",
    "5. You may **not** post to message boards or other online resources asking for help.\n",
    "6. **You may not collaborate with classmates or anyone else.**\n",
    "7. This is meant to be like a coding portion of an exam. So, we will be much less helpful than we typically are with homework. For example, we will not check answers, help debug your code, and so on.\n",
    "8. If you have a question, post it first as a **private** Piazza message. If we decide that it is appropriate for the entire class, then we will make it a public post (and anonymous).\n",
    "9. If any part of the given project or your personal project is left open-ended, it is because we intend for you to code it up however you want. Our primary concern is with the plots/analysis that your code produces. Feel free to ask clarifying questions though.\n",
    "\n",
    "Violation of these rules will result in an **F** and a trip to the Honor Code council.\n",
    "\n",
    "---\n",
    "**By writing your name below, you agree to abide by these rules:**\n",
    "\n",
    "**Your name:** Xinyi Lu\n",
    "\n",
    "---\n"
   ]
  },
  {
   "cell_type": "markdown",
   "metadata": {},
   "source": [
    "---\n",
    "\n",
    "Some useful packages and libraries:\n",
    "\n"
   ]
  },
  {
   "cell_type": "code",
   "execution_count": 1,
   "metadata": {},
   "outputs": [],
   "source": [
    "import numpy as np\n",
    "import pandas as pd\n",
    "import matplotlib.pyplot as plt\n",
    "from matplotlib import colors\n",
    "from collections import deque\n",
    "import heapq\n",
    "import unittest\n",
    "from scipy import stats\n",
    "import copy as cp\n",
    "from time import time"
   ]
  },
  {
   "cell_type": "markdown",
   "metadata": {},
   "source": [
    "---\n",
    "\n",
    "## Problem 1: Game Theory - Playing \"intelligent\" Connect Four"
   ]
  },
  {
   "cell_type": "markdown",
   "metadata": {},
   "source": [
    "Connect Four is a two-player game where the objective is to get four pieces in a row - horizontally, vertically, or diagonally. Check out this video if you're unfamiliar with the game: https://www.youtube.com/watch?v=utXzIFEVPjA.\n",
    "\n",
    "### (1a)   Defining the Connect Four class structure\n",
    "\n",
    "We've provided the humble beginnings of a Connect Four game. You need to fill in this class structure for Connect Four using what we did during class as a guide, and then implement min-max search with AB pruning, and A* search with at least one heuristic function. The class structure includes the following:\n",
    "\n",
    "* `moves` is a list of columns to represent which moves are available. Recall that we are using matrix notation for this, where the upper-left corner of the board, for example, is represented at (1,1).\n",
    "* `result(self, move, state)` returns a ***hypothetical*** resulting `State` object if `move` is made when the game is in the current `state`. Note that when a 'move' is made, the column must have an open slot and the piece must drop to the lowest row. \n",
    "* `compute_utility(self, move, state)` calculates the utility of `state` that would result if `move` is made when the game is in the current `state`. This is where you want to check to see if anyone has gotten `nwin` in a row\n",
    "* `game_over(self, state)` returns `True` if the game in the given `state` has reached a terminal state, and `False` otherwise.\n",
    "* `utility(self, state, player)` returns the utility of the current state if the player is Red and $-1 \\cdot$ utility if the player is Black.\n",
    "* `display(self)` is a method to display the current game `state`. You get it for free because this would be super frustrating without it.\n",
    "* `play_game(self, player1, player2)` returns an integer that is the utility of the outcome of the game (+1 if Red wins, 0 if draw, -1 if Black wins). `player1` and `player2` are functional arguments that we will deal with in parts **1b** and **1d**.\n",
    "\n",
    "Some notes:\n",
    "* Assume Red always goes first.\n",
    "* Do **not** hard-code for 6x7 boards.\n",
    "* You may add attributes and methods to these classes as needed for this problem."
   ]
  },
  {
   "cell_type": "code",
   "execution_count": 84,
   "metadata": {},
   "outputs": [],
   "source": [
    "import itertools\n",
    "\n",
    "class State:\n",
    "    def __init__(self, moves):\n",
    "        self.to_move = 'R'\n",
    "        self.utility = 0\n",
    "        self.board = {}\n",
    "        self.moves = moves\n",
    "\n",
    "class ConnectFour:\n",
    "    def __init__(self, nrow=6, ncol=7, nwin=4):\n",
    "        self.nrow = nrow\n",
    "        self.ncol = ncol\n",
    "        self.nwin = nwin #how many needed in a row to win\n",
    "        moves = [(row,col) for row in range(1, nrow + 1) for col in range(1, ncol + 1)]\n",
    "        self.state = State(moves)\n",
    "        self.win = nwin #rule of the game: no. of moves by a player; fixed value\n",
    "        \n",
    "    def check_row(self, lst, n, move): #check for moves in the same row\n",
    "        #lst: list of occ pieces incl. current move\n",
    "        #n: no. of consecutive pieces\n",
    "        sorted(lst, key=lambda x: x[1])\n",
    "        #check if consecutive cols in same row\n",
    "        for i in range(0, len(lst)):\n",
    "            curr_lst = lst[i:i+n-1]\n",
    "            if len(curr_lst) == n-1:\n",
    "                curr_lst.append(move)\n",
    "                col_no = list(map(lambda x: x[1], curr_lst))\n",
    "                cols = self.check_consecutive(col_no)\n",
    "                if cols:\n",
    "                    return True\n",
    "        return False\n",
    "        \n",
    "    def check_col(self, lst, n, move): #check for moves in the same col\n",
    "        #lst: list of occ pieces\n",
    "        #n: no. of consecutive pieces\n",
    "        sorted(lst, key = lambda x: x[0]) #sort by row no.\n",
    "        #check if consecutive rows in same col\n",
    "        for i in range(0, len(lst)):\n",
    "            curr_lst = lst[i:i+n-1]\n",
    "            if len(curr_lst) == n-1:\n",
    "                curr_lst.append(move)\n",
    "                row_no = list(map(lambda x: x[0], curr_lst))\n",
    "                rows = self.check_consecutive(row_no)\n",
    "                if rows:\n",
    "                    return True\n",
    "        return False\n",
    "            \n",
    "    def check_diag(self, lst, n, move):\n",
    "        diag_combi = list(itertools.combinations(lst, n-1)) \n",
    "        diag_combi = list(map(lambda x: list(x), diag_combi)) #convert list of tuples to list of lists\n",
    "            \n",
    "        for each in diag_combi:\n",
    "            each.append(move)\n",
    "            #check if rows and column numbers are consecutive\n",
    "            diag_row = list(map(lambda x: x[0], each))\n",
    "            diag_cols = list(map(lambda x: x[1], each))\n",
    "                \n",
    "            rows = self.check_consecutive(diag_row)\n",
    "            cols = self.check_consecutive(diag_cols)\n",
    "            if rows and cols:\n",
    "                return True\n",
    "        return False\n",
    "        \n",
    "    def check_consecutive(self, l):\n",
    "        return sorted(l) == list(range(min(l), max(l)+1))\n",
    "        \n",
    "    def result(self, move, state):\n",
    "        '''\n",
    "        What is the hypothetical result of move `move` in state `state` ?\n",
    "        move  = (row, col) tuple where player will put their mark (R or B)\n",
    "        state = a `State` object, to represent whose turn it is and form\n",
    "                the basis for generating a **hypothetical** updated state\n",
    "                that will result from making the given `move`\n",
    "        '''\n",
    "        # if already occupied, return current state\n",
    "        if move in state.board:\n",
    "            return state\n",
    "            \n",
    "        new_utility = self.compute_utility(move, state)\n",
    "        new_moves = state.moves\n",
    "        new_moves.remove(move)\n",
    "        new_state = State(new_moves)\n",
    "        new_state.utility = new_utility\n",
    "        new_state.board = state.board\n",
    "        new_state.board[move] = state.to_move\n",
    "        if state.to_move == 'R':\n",
    "            new_state.to_move = 'B'\n",
    "        else:\n",
    "            new_state.to_move = 'R'\n",
    "        \n",
    "        ## need to change nwin too\n",
    "        if self.nwin == self.win:\n",
    "            self.nwin -= 1\n",
    "        elif self.nwin != 1: #check for a few consecutive pieces in a row as long as not last move\n",
    "            curr_moves = [move for move in new_state.board if new_state.board[move] == state.to_move]\n",
    "            same_row = self.check_row(curr_moves, self.win-self.nwin+1, move)\n",
    "            same_col = self.check_col(curr_moves, self.win-self.nwin+1, move)\n",
    "            same_diag = self.check_diag(curr_moves, self.win-self.nwin+1, move)\n",
    "            if same_row or same_col or same_diag: #there are a few consecutive moves in a row\n",
    "                self.nwin -= 1\n",
    "\n",
    "        return new_state\n",
    "\n",
    "    def compute_utility(self, move, state):\n",
    "        '''\n",
    "        What is the utility of making move `move` in state `state`?\n",
    "        If 'R' wins with this move, return 1;\n",
    "        if 'B' wins return -1;\n",
    "        else return 0.\n",
    "        '''\n",
    "        if self.nwin != 1: #if there are >=2 moves needed to win the game\n",
    "            return 0\n",
    "        #get all the pieces for current state\n",
    "        player = state.to_move\n",
    "        lst = []\n",
    "        for piece in state.board:\n",
    "            occ_player = state.board[piece]\n",
    "            if occ_player == player:\n",
    "                lst.append(piece)\n",
    "                \n",
    "        #check for same column pieces\n",
    "        same_col = list(filter(lambda x: x[1] == move[1], lst))\n",
    "        if len(same_col) >= 3:  \n",
    "            output = self.check_col(same_col, 4, move)\n",
    "            if output and player == 'R':\n",
    "                self.nwin = 0\n",
    "                return 1\n",
    "            elif output and player == 'B':\n",
    "                self.nwin = 0\n",
    "                return -1\n",
    "            \n",
    "        #check for same row pieces\n",
    "        same_row = list(filter(lambda x: x[0] == move[0], lst))\n",
    "        if len(same_row) >= 3:\n",
    "            output = self.check_row(same_row, 4, move)\n",
    "            if output and player == 'R':\n",
    "                self.nwin = 0\n",
    "                return 1\n",
    "            elif output and player == 'B':\n",
    "                self.nwin = 0\n",
    "                return -1\n",
    "            \n",
    "        #check for diagonal row pieces\n",
    "        #add pieces whose row/col number are <=3 from current move\n",
    "        diag = list(filter(lambda x: (abs(x[0] - move[0])<=3) and (abs(x[1] - move[1])<=3), lst))\n",
    "        if len(diag) >= 3: #if there are more than 3 pieces that are within 3 steps away from move\n",
    "            output = self.check_diag(diag, 4, move)\n",
    "            if output and player == 'R':\n",
    "                self.nwin = 0\n",
    "                return 1\n",
    "            elif output and player == 'B':\n",
    "                self.nwin = 0\n",
    "                return -1\n",
    "        return 0        \n",
    "\n",
    "    def game_over(self, state):\n",
    "        '''game is over if someone has won (utility!=0) or there\n",
    "        are no more moves left'''\n",
    "        \n",
    "        return (state.utility!=0) or (len(state.moves)==0)\n",
    "\n",
    "    def utility(self, state, player):\n",
    "        '''Return the value to player; 1 for win, -1 for loss, 0 otherwise.'''\n",
    "        \n",
    "        # your code goes here...\n",
    "        if player == 'R': #if player is Red\n",
    "            return self.state.utility\n",
    "        return -1*self.state.utility\n",
    "\n",
    "    def display(self):\n",
    "        board = self.state.board\n",
    "        for row in range(1, self.nrow + 1):\n",
    "            for col in range(1, self.ncol + 1):\n",
    "                print(board.get((row, col), '.'), end=' ')\n",
    "            print()\n",
    "\n",
    "    def play_game(self, player1, player2):\n",
    "        '''Play a game of Connect Four!'''\n",
    "        \n",
    "        # your code goes here...\n",
    "        #player1 & player2 are moves\n",
    "        #let player1 be move by 'R'\n",
    "        #let player2 be move by 'B'\n",
    "        \n",
    "        limit = self.nrow * self.ncol\n",
    "        turn = 0\n",
    "        while turn <= limit:\n",
    "            for player in (player1, player2):\n",
    "                turn += 1\n",
    "                move = player(self)\n",
    "                if move is None: \n",
    "                    return self.state.utility\n",
    "                self.state = self.result(move, self.state)\n",
    "                if self.game_over(self.state):\n",
    "                    return self.state.utility\n",
    "        return self.state.utility"
   ]
  },
  {
   "cell_type": "markdown",
   "metadata": {},
   "source": [
    "### (1b) Define a random player\n",
    "\n",
    "Define a function `random_player` that takes a single argument of the `ConnectFour` class and returns a random move out of the available legal moves in the `state` of the `ConnectFour` game.\n",
    "\n",
    "In your code for the `play_game` method above, make sure that `random_player` could be a viable input for the `player1` and/or `player2` arguments."
   ]
  },
  {
   "cell_type": "code",
   "execution_count": 85,
   "metadata": {},
   "outputs": [],
   "source": [
    "import random\n",
    "\n",
    "def random_player(game):\n",
    "    '''A player that chooses a legal move at random out of all\n",
    "    available legal moves in ConnectFour state argument'''\n",
    "    \n",
    "    # your code goes here...\n",
    "    state = game.state\n",
    "    if len(state.board) == 0: #first move of the game\n",
    "        #choose a move that is from the last row of the board\n",
    "        pos_moves = list(filter(lambda x: x[0] == game.nrow, state.moves))\n",
    "        return random.choice(pos_moves)\n",
    "    \n",
    "    #other moves of the game\n",
    "    max_row = max(state.moves, key=lambda x: x[0])[0] #find max row number\n",
    "    pos_moves = list(filter(lambda x: x[0] == max_row, state.moves)) #all available pieces in lowest non fully occupied row in the board\n",
    "    # add moves from 1 row above occupied pieces\n",
    "    occ = list(state.board.keys())\n",
    "    for move in occ:\n",
    "        new_row = move[0] - 1\n",
    "        if new_row >= 1:\n",
    "            pos_moves.append((new_row, move[1]))\n",
    "    \n",
    "    return random.choice(pos_moves)"
   ]
  },
  {
   "cell_type": "markdown",
   "metadata": {},
   "source": [
    "We know from experience and/or because I'm telling you right now that if two `random_player`s play many games of ConnectFour against one another, whoever goes first will win about 55% of the time.  Verify that this is the case by playing at least 1,000 games between two random players. Report the proportion of the games that the first player has won.**(Chris: is this true for TicTacToe, or Connect Four)**\n",
    "\n",
    "**\"Unit tests\":** If you are wondering how close is close enough to 55%, I simulated 100 tournaments of 1,000 games each. The min-max range of win percentage by the first player was 52-59%."
   ]
  },
  {
   "cell_type": "code",
   "execution_count": 86,
   "metadata": {},
   "outputs": [
    {
     "name": "stdout",
     "output_type": "stream",
     "text": [
      "0\n"
     ]
    }
   ],
   "source": [
    "game = ConnectFour()\n",
    "output = game.play_game(random_player, random_player)\n",
    "print(output)"
   ]
  },
  {
   "cell_type": "code",
   "execution_count": 64,
   "metadata": {},
   "outputs": [
    {
     "name": "stdout",
     "output_type": "stream",
     "text": [
      "0.522\n",
      "0.102\n",
      "0.376\n"
     ]
    }
   ],
   "source": [
    "# 1000 games between two random players\n",
    "results = []\n",
    "\n",
    "for i in range(1000):\n",
    "    game = ConnectFour()\n",
    "    output = game.play_game(random_player, random_player)\n",
    "    results.append(output)\n",
    "\n",
    "print(results.count(1)/1000) #proportion of games that first player has won\n",
    "print(results.count(0)/1000) #proportion of games that it is a draw\n",
    "print(results.count(-1)/1000) #proportion of games that first player has lost"
   ]
  },
  {
   "cell_type": "markdown",
   "metadata": {},
   "source": [
    "### (1c) What about playing randomly on different-sized boards?\n",
    "\n",
    "What does the long-term win percentage appear to be for the first player in a 10x10 ConnectFour tournament, where 4 marks must be connected for a win?  Support your answer using a simulation and printed output, similar to **1b**.\n",
    "\n",
    "**Also:** The win percentage should have changed substantially. Did the decrease in wins turn into more losses for the first player or more draws? Write a few sentences explaining the behavior you observed.  *Hint: think about how the size of the state space has changed.*"
   ]
  },
  {
   "cell_type": "code",
   "execution_count": 58,
   "metadata": {},
   "outputs": [
    {
     "name": "stdout",
     "output_type": "stream",
     "text": [
      "0.494\n",
      "0.019\n",
      "0.487\n"
     ]
    }
   ],
   "source": [
    "# 1000 games between two random players\n",
    "results = []\n",
    "\n",
    "for i in range(1000):\n",
    "    game = ConnectFour(10, 10, 6)\n",
    "    output = game.play_game(random_player, random_player)\n",
    "    results.append(output)\n",
    "\n",
    "print(results.count(1)/1000) #proportion of games that first player has won\n",
    "print(results.count(0)/1000)\n",
    "print(results.count(-1)/1000)"
   ]
  },
  {
   "cell_type": "markdown",
   "metadata": {},
   "source": [
    "The decrease in wins turned into more losses for the first player and fewer draws.\n",
    "This is because the state space has increased by a substantial amount, which makes it impossible to end the game in a draw."
   ]
  },
  {
   "cell_type": "markdown",
   "metadata": {},
   "source": [
    "### (1d) Define an alpha-beta player\n",
    "\n",
    "Alright. Let's finally get serious about our Connect Four game.  No more fooling around!\n",
    "\n",
    "Craft a function called `alphabeta_player` that takes a single argument of a `ConnectFour` class object and returns the minimax move in the `state` of the `ConnectFour` game. As the name implies, this player should be implementing alpha-beta pruning as described in the textbook and lecture.\n",
    "\n",
    "Note that your alpha-beta search for the minimax move should include function definitions for `max_value` and `min_value` (see the aggressively realistic pseudocode from the lecture slides).\n",
    "\n",
    "In your code for the `play_game` method above, make sure that `alphabeta_player` could be a viable input for the `player1` and/or `player2` arguments."
   ]
  },
  {
   "cell_type": "code",
   "execution_count": 79,
   "metadata": {},
   "outputs": [],
   "source": [
    "# Your code here\n",
    "def max_value(game, state, alpha, beta):\n",
    "    player = state.to_move\n",
    "    if game.game_over(state):\n",
    "        return game.utility(state, player)\n",
    "    value = -1*float(\"inf\")\n",
    "    for move in state.moves:\n",
    "        value = max(value, min_value(game, game.result(move, state), alpha, beta))\n",
    "        if value >= beta: \n",
    "            return value\n",
    "        alpha = max(value, alpha)\n",
    "    return value\n",
    "\n",
    "def min_value(game, state, alpha, beta):\n",
    "    player = state.to_move\n",
    "    if game.game_over(state):\n",
    "        return game.utility(state, player)\n",
    "    value = float(\"inf\")\n",
    "    for move in state.moves:\n",
    "        value = min(value, max_value(game, game.result(move, state), alpha, beta))\n",
    "        if value <= alpha: \n",
    "            return value\n",
    "        beta = min(value, beta)\n",
    "    return value\n",
    "\n",
    "def alphabeta_player(game):\n",
    "    alpha = -1*float(\"inf\")\n",
    "    beta = float(\"inf\")\n",
    "    value = max_value(game, game.state, alpha, beta)\n",
    "    for move in game.state.moves:\n",
    "        if game.compute_utility(move, curr_state) == value:\n",
    "            return move\n",
    "    return\n",
    "    #returns the minimax move"
   ]
  },
  {
   "cell_type": "markdown",
   "metadata": {},
   "source": [
    "Verify that your alpha-beta player code is working appropriately through the following tests, using a standard 6x7 ConnectFour board. Run **10 games for each test**, and track the number of wins, draws and losses. Report these results for each case.\n",
    "\n",
    "1. An alpha-beta player who plays first should never lose to a random player who plays second.\n",
    "2. Two alpha-beta players should always draw. One player is the max player and the other player is the min player.\n",
    "\n",
    "**Nota bene:** Test your code with fewer games between the players to start, because the alpha-beta player will require substantially more compute time than the random player.  This is why I only ask for 10 games, which still might take a minute or two. You are welcome to run more than 10 tests if you'd like. "
   ]
  },
  {
   "cell_type": "code",
   "execution_count": 67,
   "metadata": {},
   "outputs": [
    {
     "name": "stdout",
     "output_type": "stream",
     "text": [
      "0.3\n",
      "0.2\n",
      "0.5\n"
     ]
    }
   ],
   "source": [
    "# Your code here\n",
    "#using random\n",
    "results_1 = []\n",
    "\n",
    "for i in range(10):\n",
    "    game = ConnectFour()\n",
    "    output = game.play_game(random_player, random_player)\n",
    "    results_1.append(output)\n",
    "\n",
    "print(results_1.count(1)/10) #proportion of games that first player has won\n",
    "print(results_1.count(0)/10) #draw\n",
    "print(results_1.count(-1)/10) #lost"
   ]
  },
  {
   "cell_type": "code",
   "execution_count": 83,
   "metadata": {},
   "outputs": [
    {
     "name": "stdout",
     "output_type": "stream",
     "text": [
      "0\n",
      "R B R B R B R \n",
      "B R B R B R B \n",
      "R B R B R B R \n",
      "B R B B R B R \n",
      "B R B R B R B \n",
      "R B R B R B R \n"
     ]
    }
   ],
   "source": [
    "game = ConnectFour()\n",
    "output = game.play_game(alphabeta_player, alphabeta_player)\n",
    "print(output)\n",
    "game.display()"
   ]
  },
  {
   "cell_type": "code",
   "execution_count": 87,
   "metadata": {},
   "outputs": [
    {
     "name": "stdout",
     "output_type": "stream",
     "text": [
      "0.0\n",
      "1.0\n",
      "0.0\n"
     ]
    }
   ],
   "source": [
    "#using ab pruning\n",
    "results_2 = []\n",
    "\n",
    "for i in range(10):\n",
    "    game = ConnectFour()\n",
    "    output = game.play_game(alphabeta_player, alphabeta_player)\n",
    "    results_2.append(output)\n",
    "\n",
    "print(results_2.count(1)/10) #proportion of games that first player has won\n",
    "print(results_2.count(0)/10) #draw\n",
    "print(results_2.count(-1)/10) #lost"
   ]
  },
  {
   "cell_type": "markdown",
   "metadata": {},
   "source": [
    "### (1e) What has pruning ever done for us?\n",
    "\n",
    "Calculate the number of number of states expanded by the minimax algorithm, **with and without pruning**, to determine the minimax decision from the initial 6x7 ConnectFour board state.  This can be done in many ways, but writing out all the states by hand is **not** one of them (as you will find out!).\n",
    "\n",
    "Then compute the percent savings that you get by using alpha-beta pruning. i.e. Compute $\\frac{\\text{Number of nodes expanded with pruning}}{\\text{Number of nodes expanded with minimax}} $\n",
    "\n",
    "Write a sentence or two, commenting on the difference in number of nodes expanded by each search."
   ]
  },
  {
   "cell_type": "code",
   "execution_count": null,
   "metadata": {},
   "outputs": [],
   "source": [
    "# Your code here."
   ]
  },
  {
   "cell_type": "markdown",
   "metadata": {},
   "source": [
    "### (2) A* Search\n",
    "\n",
    "In Part II of this project, you need to implement a player strategy to employ A* Search in order to win at ConnectFour. To test your A* player, play 10 games against the random player and 10 games against the AB pruning player. \n",
    "\n",
    "Write an explanation of this strategy's implementation and performance in comparison to the random player and the AB Pruning player from **1d**.\n",
    "\n",
    "A lot of the code that you wrote for the minimax player and the Connect Four game structure can be reused for the A* player. However, you will need to write a new utility function for A* that considers the path cost and heuristic cost.\n"
   ]
  },
  {
   "cell_type": "markdown",
   "metadata": {},
   "source": [
    "### (2a) Define a heuristic function\n",
    "Your A* player will need to use a heuristic function. You have two options for heurstics: research an existing heuristic for Connect Four, or games similar to Connect Four, and use that. Or, design your own heuristic. Write a one-paragraph description of the heuristic you're using, including a citation if you used an existing heuristic."
   ]
  },
  {
   "cell_type": "markdown",
   "metadata": {},
   "source": []
  },
  {
   "cell_type": "markdown",
   "metadata": {},
   "source": [
    "### (2b) Compare A* to other algorithms\n",
    "Next, play 10 games of Connect Four using your A* player and a random player and 10 games against the AB pruning player. In four or five paragraphs, report on the outcome. Did one player win more than the other? How often was the game a draw? How many moves did each player make? Were there situations where one player appeared to do better than the other? Given the outcome, are there other heuristics you would like to implement?"
   ]
  },
  {
   "cell_type": "code",
   "execution_count": null,
   "metadata": {},
   "outputs": [],
   "source": [
    "# Your code here."
   ]
  }
 ],
 "metadata": {
  "kernelspec": {
   "display_name": "Python 3",
   "language": "python",
   "name": "python3"
  },
  "language_info": {
   "codemirror_mode": {
    "name": "ipython",
    "version": 3
   },
   "file_extension": ".py",
   "mimetype": "text/x-python",
   "name": "python",
   "nbconvert_exporter": "python",
   "pygments_lexer": "ipython3",
   "version": "3.8.3"
  }
 },
 "nbformat": 4,
 "nbformat_minor": 4
}
