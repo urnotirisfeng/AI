{
 "cells": [
  {
   "cell_type": "markdown",
   "metadata": {},
   "source": [
    "---\n",
    "\n",
    "# CSCI 3202, Fall 2022\n",
    "# Homework 3\n",
    "# Due: Friday September 16, 2022 at 6:00 PM\n",
    "\n",
    "### Note: There will be an extra-credit portion to this assigment posted on Tuesday that will cover Q-Learning. \n",
    "<br> \n",
    "\n",
    "### Your name: Xinyi Lu\n",
    "\n",
    "<br> "
   ]
  },
  {
   "cell_type": "markdown",
   "metadata": {},
   "source": [
    "---\n",
    "\n",
    "There is no coding in this assignment. Type your answers in a Markdown cell using Latex formatting commands. If you're unfamiliar with Latex, it's used for formatting equations and other mathematical content. Here are a few examples that you might find useful.\n",
    "### Displaying an equation:\n",
    "$$P(a | b ) = 0.5$$\n",
    "### Displaying a fraction:\n",
    "$$ \\frac{a}{b}$$\n",
    "### Nested fractions:\n",
    "$$ \\frac{a}{\\frac{c}{b}}$$\n",
    "### Adding fractions:\n",
    "$$ \\frac{a}{b} + \\frac{d}{c}$$\n",
    "\n",
    "When you type your answers for each of the questions in this assignment, we need to see that you know how to set up the problem, including values assigned to individual components of the problem. We don't need to see every step of your calculations, just your final computed answer.\n",
    "\n",
    "For more information about how to use Latex, here is a great reference: https://ashki23.github.io/markdown-latex.html"
   ]
  },
  {
   "cell_type": "markdown",
   "metadata": {},
   "source": [
    "### 1. Playing Card Probabilities\n",
    "\n",
    "Consider a standard deck of playing cards and answer the following questions:"
   ]
  },
  {
   "cell_type": "markdown",
   "metadata": {},
   "source": [
    "### a. What is the probability of drawing a Jack of any suit?"
   ]
  },
  {
   "cell_type": "markdown",
   "metadata": {},
   "source": [
    "There are 4 Jack cards in a deck and 52 cards in total. \n",
    "$$\\frac{1}{13}$$"
   ]
  },
  {
   "cell_type": "markdown",
   "metadata": {},
   "source": [
    "### b. What is the probability of drawing a card that is of a black suit?"
   ]
  },
  {
   "cell_type": "markdown",
   "metadata": {},
   "source": [
    "There are 13 * 2 cards from a black suit and 52 cards in total\n",
    "\n",
    "$$\\frac{1}{2}$$"
   ]
  },
  {
   "cell_type": "markdown",
   "metadata": {},
   "source": [
    "### c. What is the probability of drawing a Jack OR a card of a black suit?"
   ]
  },
  {
   "cell_type": "markdown",
   "metadata": {},
   "source": [
    "It is the probability of drawing a Jack **union** card of a black suit. \n",
    "Therefore, by using the probability formula, \n",
    "\n",
    "$$Probability = \\frac{1}{13} + \\frac{1}{2} - \\frac{2}{52} = \\frac{7}{13}$$"
   ]
  },
  {
   "cell_type": "markdown",
   "metadata": {},
   "source": [
    "### d. Describe in your own words what a joint probability is."
   ]
  },
  {
   "cell_type": "markdown",
   "metadata": {},
   "source": [
    "Joint probability is the probability that 2 events occur at the same time. "
   ]
  },
  {
   "cell_type": "markdown",
   "metadata": {},
   "source": [
    "### 2. Rolling Dice\n",
    "\n",
    "Consider two die with 6 equally weighted sides."
   ]
  },
  {
   "cell_type": "markdown",
   "metadata": {},
   "source": [
    "### a. What is the probability of a dice roll summing to 7?"
   ]
  },
  {
   "cell_type": "markdown",
   "metadata": {},
   "source": [
    "There are 6 cases of dice roll summing to 7. \n",
    "\n",
    "Cases:\n",
    "1. D1 = 1, D2 = 6\n",
    "2. D1 = 2, D2 = 5\n",
    "3. D1 = 3, D2 = 4\n",
    "4. D1 = 4, D2 = 3\n",
    "5. D1 = 5, D2 = 2\n",
    "6. D1 = 6, D2 = 1\n",
    "<br>\n",
    "Since the dice is equally weighted, each case has the same probability of occurrence. \n",
    "\n",
    "$$Probability = \\frac{1}{6} * \\frac{1}{6} * 6 = \\frac{1}{6}$$"
   ]
  },
  {
   "cell_type": "markdown",
   "metadata": {},
   "source": [
    "### b. What is the probability of a dice roll summing to an even number 10 times in a row?"
   ]
  },
  {
   "cell_type": "markdown",
   "metadata": {},
   "source": [
    "The probability of a dice roll summing to an even number is 0.5\n",
    "\n",
    "$$P = 0.5^{10} = 9.77 * 10^{-4}$$"
   ]
  },
  {
   "cell_type": "markdown",
   "metadata": {},
   "source": [
    "### c. Let's say that you roll one dice at a time. Your first die comes up as an even number. What is the probability that your dice will sum to 7 after you roll the second die?"
   ]
  },
  {
   "cell_type": "markdown",
   "metadata": {},
   "source": [
    "There are 3 cases of 1st die coming up as even number and dice sum to 7. \n",
    "<br>\n",
    "Cases:\n",
    "1. D1 = 2, D2 = 5\n",
    "2. D1 = 4, D2 = 3\n",
    "3. D1 = 6, D2 = 1\n",
    "\n",
    "P(1st die is even, dice sum to 7)\n",
    "$$= 3*\\frac{1}{6}*\\frac{1}{6} = \\frac{1}{12}$$\n",
    "\n",
    "$$Final probability = \\frac{\\frac{1}{12}}{\\frac{1}{2}} = \\frac{1}{6}$$"
   ]
  },
  {
   "cell_type": "markdown",
   "metadata": {},
   "source": [
    "### 3. Conditional Probability\n",
    "\n",
    "A team of data scientists have been working on the very important task of training a classification model to predict whether an item of clothing is fashionable. They are collaborating with a team of fashion experts who provide the ground truth label for the training data set: they tell the scientists which clothing is fashionable. There are a total of 1822 photos of clothing in the data set, of which 309 are fashionable. The machine learning system correctly predicted 197 items of clothing as fashionable and 1491 items of clothing as unfashionable. Unfortunately, the system was imperfect, and incorrectly classified 22 items of unfashionable clothing as fashionable, and 112 items fashionable items as unfashionable. \n",
    "\n",
    "\n",
    "|                       | True_Fashion | True_Unfashion |\n",
    "| -----------           | -----------  | -----------    |\n",
    "| <b>Pred_Fashion</b>   | 197          | 22             |\n",
    "| <b>Pred_Unfashion</b> | 112          | 1491           |\n",
    "| <b>Total</b>          | 309          | 1513           |"
   ]
  },
  {
   "cell_type": "markdown",
   "metadata": {
    "tags": []
   },
   "source": [
    "#### (a)\n",
    "If a photo is actually fashionable, what is the chance the ML classifier correctly identified the photo as being fashionable?"
   ]
  },
  {
   "cell_type": "markdown",
   "metadata": {},
   "source": [
    "$$Probability = \\frac{197}{309}$$"
   ]
  },
  {
   "cell_type": "markdown",
   "metadata": {},
   "source": [
    "#### (b)\n",
    "We sample a photo from the data set and learn the ML algorithm predicted this photo was not fashionable. What is the probability that it was incorrect and the photo is actually fashionable?"
   ]
  },
  {
   "cell_type": "markdown",
   "metadata": {},
   "source": [
    "$$Probability = \\frac{112}{112+1491} = \\frac{16}{229}$$"
   ]
  },
  {
   "cell_type": "markdown",
   "metadata": {},
   "source": [
    "#### (c)\n",
    "What is the difference between a <i>joint probability</i> and a <i>marginal probability</i>?"
   ]
  },
  {
   "cell_type": "markdown",
   "metadata": {},
   "source": [
    "A joint probability is the probability that 2 events occur at the same time, while a marginal probability is the probability of an event occurring regardless of other events."
   ]
  },
  {
   "cell_type": "markdown",
   "metadata": {},
   "source": [
    "#### (d)\n",
    "What is the probability that the machine learning system predicted that an item of clothing was fashionable? Is this a joint or a marginal probability?"
   ]
  },
  {
   "cell_type": "markdown",
   "metadata": {},
   "source": [
    "$$Probability = \\frac{197+22}{1822} = \\frac{219}{1822}$$\n",
    "\n",
    "This is a marginal probability."
   ]
  },
  {
   "cell_type": "markdown",
   "metadata": {},
   "source": [
    "### 4. Bayes' Rule"
   ]
  },
  {
   "cell_type": "markdown",
   "metadata": {},
   "source": [
    "### (a). \n",
    "There are two boxes. Box 1 contains three red and five white balls. Box 2 contains two red and five white balls. A box is chosen at random: P(box=1) = P(box=2) = 0.5 and a ball chosen from this box turns out to be red. What is the probability that the red ball came from box 1? (i.e., P(box=1 | ball=red)=???)"
   ]
  },
  {
   "cell_type": "markdown",
   "metadata": {},
   "source": [
    "$$P(ball=red) = \\frac{1}{2}*\\frac{3}{8} + \\frac{1}{2}*\\frac{2}{7} = \\frac{37}{112}$$\n",
    "$$P(box=1|ball=red) = \\frac{P(box=1,ball=red)}{P(ball=red)} = \\frac{\\frac{3}{16}}{\\frac{37}{112}} = \\frac{21}{37}$$"
   ]
  },
  {
   "cell_type": "markdown",
   "metadata": {},
   "source": [
    "### (b).\n",
    "\n",
    "Two balls are placed in a box as follows: A fair coin is tossed and a white ball is placed in the box if a heads occurs, otherwise a red ball is placed in the box. The coin is tossed again and a red ball is placed in the box if a tails occurs, otherwise a white ball is placed in the box. Balls are drawn from the box three times in succession (always replacing the drawn ball back in the box). It is found that on all three occasions a red ball is drawn. What is the probability that both balls in the box are red?"
   ]
  },
  {
   "cell_type": "markdown",
   "metadata": {},
   "source": [
    "P(2 red balls in box) = P(2 tails) = 0.25\n",
    "<br>\n",
    "P(1 red, 1 white ball in box) = P(1 tail, 1 head) = 0.5\n",
    "\n",
    "P(all 3 occasions red ball is drawn) = $$0.25*1 + 0.5*(0.5)^{3} = \\frac{5}{16}$$\n",
    "\n",
    "$$Final probability = \\frac{0.25*1}{\\frac{5}{16}} = 0.8$$"
   ]
  },
  {
   "cell_type": "markdown",
   "metadata": {},
   "source": [
    "### (c).\n",
    "A secret government agency has developed a scanner that determines whether a person is an alien imposter. The scanner detects alien imposters with 95% reliability. However, 1% of the time the test returns a false positive for an upstanding citizen. The alien imposters are very dangerous, but also quite rare, with a prevalence in the population of only 0.1%. Upon a tip from an informant, the agency has administered the scanner to a suspicious person. \n",
    "\n",
    "#### i. \n",
    "Use the *Law of Total Probability* to calculate the probability that the suspicious person will test positive.\n",
    "\n",
    "#### ii.\n",
    "What is the probability that the person is actually an alien imposter given that they do test positive?"
   ]
  },
  {
   "cell_type": "markdown",
   "metadata": {},
   "source": [
    "**i.**\n",
    "\n",
    "Let + be the event that the test is positive.\n",
    "Let A be the event that the person is an alien imposter.\n",
    "$$P(+|A) = 0.95$$\n",
    "$$P(+|A') = 0.01$$\n",
    "$$P(A) = 0.001$$\n",
    "\n",
    "$$P(+) = P(+|A')P(A') + P(+|A)P(A) = 0.01 * (1-0.001) + 0.95*0.001 = 0.01094$$\n",
    "\n",
    "**ii.**\n",
    "$$P(A|+) = \\frac{P(+|A)P(A)}{P(+)} = \\frac{0.95*0.001}{0.01094} = 0.0868$$"
   ]
  },
  {
   "cell_type": "code",
   "execution_count": null,
   "metadata": {},
   "outputs": [],
   "source": []
  }
 ],
 "metadata": {
  "kernelspec": {
   "display_name": "Python 3",
   "language": "python",
   "name": "python3"
  },
  "language_info": {
   "codemirror_mode": {
    "name": "ipython",
    "version": 3
   },
   "file_extension": ".py",
   "mimetype": "text/x-python",
   "name": "python",
   "nbconvert_exporter": "python",
   "pygments_lexer": "ipython3",
   "version": "3.8.3"
  }
 },
 "nbformat": 4,
 "nbformat_minor": 4
}
